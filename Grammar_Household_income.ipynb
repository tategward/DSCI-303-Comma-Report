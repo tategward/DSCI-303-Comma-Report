{
  "nbformat": 4,
  "nbformat_minor": 0,
  "metadata": {
    "colab": {
      "provenance": [],
      "collapsed_sections": [
        "tS8yiOAov_1e",
        "rB-Nb3DH0ZSc",
        "zOvaKhJs4Qbl",
        "F2WAHFLs_tYt",
        "9AI7oLZ8El6S",
        "RY5TB5q5FHWl",
        "2eZEMyM3faw-"
      ]
    },
    "kernelspec": {
      "name": "python3",
      "display_name": "Python 3"
    },
    "language_info": {
      "name": "python"
    }
  },
  "cells": [
    {
      "cell_type": "markdown",
      "source": [
        "##EDA\n",
        "\n"
      ],
      "metadata": {
        "id": "QyfdqKlTnoBY"
      }
    },
    {
      "cell_type": "markdown",
      "source": [
        "#### Data\n",
        "The first step of understanding the problem in data science world is to understand our data. We'll look at each variable and do a philosophical analysis about their meaning and importance for this problem."
      ],
      "metadata": {
        "id": "F-IJSF9ZrALf"
      }
    },
    {
      "cell_type": "code",
      "execution_count": null,
      "metadata": {
        "id": "XxNfHyc7mpPs"
      },
      "outputs": [],
      "source": [
        "import pandas as pd\n",
        "import numpy as np\n",
        "import seaborn as sns\n",
        "import matplotlib.pyplot as plt\n",
        "import math"
      ]
    },
    {
      "cell_type": "code",
      "source": [
        "from google.colab import drive\n",
        "drive.mount('/content/drive')\n",
        "\n",
        "# if you followed the instructions above exactly, CVA.csv should be\n",
        "# in DSCI 303/; if your files are in a different directory\n",
        "# on your Google Drive, you will need to change the path below accordingly\n",
        "DATADIR = '/content/drive/My Drive/DSCI 303/Final Project/'"
      ],
      "metadata": {
        "colab": {
          "base_uri": "https://localhost:8080/"
        },
        "id": "sMFO8OonmvsS",
        "outputId": "58ae1487-3431-4b84-bc48-72be7fd9d1fd"
      },
      "execution_count": null,
      "outputs": [
        {
          "output_type": "stream",
          "name": "stdout",
          "text": [
            "Mounted at /content/drive\n"
          ]
        }
      ]
    },
    {
      "cell_type": "code",
      "source": [
        "# Load comma.csv and display the data head\n",
        "df = pd.read_csv(DATADIR + \"comma.csv\")\n",
        "df.head()"
      ],
      "metadata": {
        "colab": {
          "base_uri": "https://localhost:8080/",
          "height": 528
        },
        "id": "ANtN7iqNmycs",
        "outputId": "9952e30c-60bb-47d7-c91f-f403aaae642d"
      },
      "execution_count": null,
      "outputs": [
        {
          "output_type": "execute_result",
          "data": {
            "text/plain": [
              "   RespondentID In your opinion, which sentence is more gramatically correct?  \\\n",
              "0    3292953864  It's important for a person to be honest, kind...              \n",
              "1    3292950324  It's important for a person to be honest, kind...              \n",
              "2    3292942669  It's important for a person to be honest, kind...              \n",
              "3    3292932796  It's important for a person to be honest, kind...              \n",
              "4    3292932522  It's important for a person to be honest, kind...              \n",
              "\n",
              "  Prior to reading about it above, had you heard of the serial (or Oxford) comma?  \\\n",
              "0                                                Yes                                \n",
              "1                                                 No                                \n",
              "2                                                Yes                                \n",
              "3                                                Yes                                \n",
              "4                                                 No                                \n",
              "\n",
              "  How much, if at all, do you care about the use (or lack thereof) of the serial (or Oxford) comma in grammar?  \\\n",
              "0                                               Some                                                             \n",
              "1                                           Not much                                                             \n",
              "2                                               Some                                                             \n",
              "3                                               Some                                                             \n",
              "4                                           Not much                                                             \n",
              "\n",
              "         How would you write the following sentence?  \\\n",
              "0  Some experts say it's important to drink milk,...   \n",
              "1  Some experts say it's important to drink milk,...   \n",
              "2  Some experts say it's important to drink milk,...   \n",
              "3  Some experts say it's important to drink milk,...   \n",
              "4  Some experts say it's important to drink milk,...   \n",
              "\n",
              "  When faced with using the word \"data\", have you ever spent time considering if the word was a singular or plural noun?  \\\n",
              "0                                                 No                                                                       \n",
              "1                                                 No                                                                       \n",
              "2                                                Yes                                                                       \n",
              "3                                                 No                                                                       \n",
              "4                                                 No                                                                       \n",
              "\n",
              "  How much, if at all, do you care about the debate over the use of the word \"data\" as a singluar or plural noun?  \\\n",
              "0                                           Not much                                                                \n",
              "1                                           Not much                                                                \n",
              "2                                         Not at all                                                                \n",
              "3                                               Some                                                                \n",
              "4                                           Not much                                                                \n",
              "\n",
              "  In your opinion, how important or unimportant is proper use of grammar?  \\\n",
              "0                                 Somewhat important                        \n",
              "1                               Somewhat unimportant                        \n",
              "2                                     Very important                        \n",
              "3                                 Somewhat important                        \n",
              "4                                                NaN                        \n",
              "\n",
              "  Gender    Age   Household Income                     Education  \\\n",
              "0   Male  30-44  $50,000 - $99,999               Bachelor degree   \n",
              "1   Male  30-44  $50,000 - $99,999               Graduate degree   \n",
              "2   Male  30-44                NaN                           NaN   \n",
              "3   Male  18-29                NaN  Less than high school degree   \n",
              "4    NaN    NaN                NaN                           NaN   \n",
              "\n",
              "  Location (Census Region)  \n",
              "0           South Atlantic  \n",
              "1                 Mountain  \n",
              "2       East North Central  \n",
              "3          Middle Atlantic  \n",
              "4                      NaN  "
            ],
            "text/html": [
              "\n",
              "  <div id=\"df-8ff2eba4-1c58-4caa-928f-0c056c85a6d0\">\n",
              "    <div class=\"colab-df-container\">\n",
              "      <div>\n",
              "<style scoped>\n",
              "    .dataframe tbody tr th:only-of-type {\n",
              "        vertical-align: middle;\n",
              "    }\n",
              "\n",
              "    .dataframe tbody tr th {\n",
              "        vertical-align: top;\n",
              "    }\n",
              "\n",
              "    .dataframe thead th {\n",
              "        text-align: right;\n",
              "    }\n",
              "</style>\n",
              "<table border=\"1\" class=\"dataframe\">\n",
              "  <thead>\n",
              "    <tr style=\"text-align: right;\">\n",
              "      <th></th>\n",
              "      <th>RespondentID</th>\n",
              "      <th>In your opinion, which sentence is more gramatically correct?</th>\n",
              "      <th>Prior to reading about it above, had you heard of the serial (or Oxford) comma?</th>\n",
              "      <th>How much, if at all, do you care about the use (or lack thereof) of the serial (or Oxford) comma in grammar?</th>\n",
              "      <th>How would you write the following sentence?</th>\n",
              "      <th>When faced with using the word \"data\", have you ever spent time considering if the word was a singular or plural noun?</th>\n",
              "      <th>How much, if at all, do you care about the debate over the use of the word \"data\" as a singluar or plural noun?</th>\n",
              "      <th>In your opinion, how important or unimportant is proper use of grammar?</th>\n",
              "      <th>Gender</th>\n",
              "      <th>Age</th>\n",
              "      <th>Household Income</th>\n",
              "      <th>Education</th>\n",
              "      <th>Location (Census Region)</th>\n",
              "    </tr>\n",
              "  </thead>\n",
              "  <tbody>\n",
              "    <tr>\n",
              "      <th>0</th>\n",
              "      <td>3292953864</td>\n",
              "      <td>It's important for a person to be honest, kind...</td>\n",
              "      <td>Yes</td>\n",
              "      <td>Some</td>\n",
              "      <td>Some experts say it's important to drink milk,...</td>\n",
              "      <td>No</td>\n",
              "      <td>Not much</td>\n",
              "      <td>Somewhat important</td>\n",
              "      <td>Male</td>\n",
              "      <td>30-44</td>\n",
              "      <td>$50,000 - $99,999</td>\n",
              "      <td>Bachelor degree</td>\n",
              "      <td>South Atlantic</td>\n",
              "    </tr>\n",
              "    <tr>\n",
              "      <th>1</th>\n",
              "      <td>3292950324</td>\n",
              "      <td>It's important for a person to be honest, kind...</td>\n",
              "      <td>No</td>\n",
              "      <td>Not much</td>\n",
              "      <td>Some experts say it's important to drink milk,...</td>\n",
              "      <td>No</td>\n",
              "      <td>Not much</td>\n",
              "      <td>Somewhat unimportant</td>\n",
              "      <td>Male</td>\n",
              "      <td>30-44</td>\n",
              "      <td>$50,000 - $99,999</td>\n",
              "      <td>Graduate degree</td>\n",
              "      <td>Mountain</td>\n",
              "    </tr>\n",
              "    <tr>\n",
              "      <th>2</th>\n",
              "      <td>3292942669</td>\n",
              "      <td>It's important for a person to be honest, kind...</td>\n",
              "      <td>Yes</td>\n",
              "      <td>Some</td>\n",
              "      <td>Some experts say it's important to drink milk,...</td>\n",
              "      <td>Yes</td>\n",
              "      <td>Not at all</td>\n",
              "      <td>Very important</td>\n",
              "      <td>Male</td>\n",
              "      <td>30-44</td>\n",
              "      <td>NaN</td>\n",
              "      <td>NaN</td>\n",
              "      <td>East North Central</td>\n",
              "    </tr>\n",
              "    <tr>\n",
              "      <th>3</th>\n",
              "      <td>3292932796</td>\n",
              "      <td>It's important for a person to be honest, kind...</td>\n",
              "      <td>Yes</td>\n",
              "      <td>Some</td>\n",
              "      <td>Some experts say it's important to drink milk,...</td>\n",
              "      <td>No</td>\n",
              "      <td>Some</td>\n",
              "      <td>Somewhat important</td>\n",
              "      <td>Male</td>\n",
              "      <td>18-29</td>\n",
              "      <td>NaN</td>\n",
              "      <td>Less than high school degree</td>\n",
              "      <td>Middle Atlantic</td>\n",
              "    </tr>\n",
              "    <tr>\n",
              "      <th>4</th>\n",
              "      <td>3292932522</td>\n",
              "      <td>It's important for a person to be honest, kind...</td>\n",
              "      <td>No</td>\n",
              "      <td>Not much</td>\n",
              "      <td>Some experts say it's important to drink milk,...</td>\n",
              "      <td>No</td>\n",
              "      <td>Not much</td>\n",
              "      <td>NaN</td>\n",
              "      <td>NaN</td>\n",
              "      <td>NaN</td>\n",
              "      <td>NaN</td>\n",
              "      <td>NaN</td>\n",
              "      <td>NaN</td>\n",
              "    </tr>\n",
              "  </tbody>\n",
              "</table>\n",
              "</div>\n",
              "      <button class=\"colab-df-convert\" onclick=\"convertToInteractive('df-8ff2eba4-1c58-4caa-928f-0c056c85a6d0')\"\n",
              "              title=\"Convert this dataframe to an interactive table.\"\n",
              "              style=\"display:none;\">\n",
              "        \n",
              "  <svg xmlns=\"http://www.w3.org/2000/svg\" height=\"24px\"viewBox=\"0 0 24 24\"\n",
              "       width=\"24px\">\n",
              "    <path d=\"M0 0h24v24H0V0z\" fill=\"none\"/>\n",
              "    <path d=\"M18.56 5.44l.94 2.06.94-2.06 2.06-.94-2.06-.94-.94-2.06-.94 2.06-2.06.94zm-11 1L8.5 8.5l.94-2.06 2.06-.94-2.06-.94L8.5 2.5l-.94 2.06-2.06.94zm10 10l.94 2.06.94-2.06 2.06-.94-2.06-.94-.94-2.06-.94 2.06-2.06.94z\"/><path d=\"M17.41 7.96l-1.37-1.37c-.4-.4-.92-.59-1.43-.59-.52 0-1.04.2-1.43.59L10.3 9.45l-7.72 7.72c-.78.78-.78 2.05 0 2.83L4 21.41c.39.39.9.59 1.41.59.51 0 1.02-.2 1.41-.59l7.78-7.78 2.81-2.81c.8-.78.8-2.07 0-2.86zM5.41 20L4 18.59l7.72-7.72 1.47 1.35L5.41 20z\"/>\n",
              "  </svg>\n",
              "      </button>\n",
              "      \n",
              "  <style>\n",
              "    .colab-df-container {\n",
              "      display:flex;\n",
              "      flex-wrap:wrap;\n",
              "      gap: 12px;\n",
              "    }\n",
              "\n",
              "    .colab-df-convert {\n",
              "      background-color: #E8F0FE;\n",
              "      border: none;\n",
              "      border-radius: 50%;\n",
              "      cursor: pointer;\n",
              "      display: none;\n",
              "      fill: #1967D2;\n",
              "      height: 32px;\n",
              "      padding: 0 0 0 0;\n",
              "      width: 32px;\n",
              "    }\n",
              "\n",
              "    .colab-df-convert:hover {\n",
              "      background-color: #E2EBFA;\n",
              "      box-shadow: 0px 1px 2px rgba(60, 64, 67, 0.3), 0px 1px 3px 1px rgba(60, 64, 67, 0.15);\n",
              "      fill: #174EA6;\n",
              "    }\n",
              "\n",
              "    [theme=dark] .colab-df-convert {\n",
              "      background-color: #3B4455;\n",
              "      fill: #D2E3FC;\n",
              "    }\n",
              "\n",
              "    [theme=dark] .colab-df-convert:hover {\n",
              "      background-color: #434B5C;\n",
              "      box-shadow: 0px 1px 3px 1px rgba(0, 0, 0, 0.15);\n",
              "      filter: drop-shadow(0px 1px 2px rgba(0, 0, 0, 0.3));\n",
              "      fill: #FFFFFF;\n",
              "    }\n",
              "  </style>\n",
              "\n",
              "      <script>\n",
              "        const buttonEl =\n",
              "          document.querySelector('#df-8ff2eba4-1c58-4caa-928f-0c056c85a6d0 button.colab-df-convert');\n",
              "        buttonEl.style.display =\n",
              "          google.colab.kernel.accessAllowed ? 'block' : 'none';\n",
              "\n",
              "        async function convertToInteractive(key) {\n",
              "          const element = document.querySelector('#df-8ff2eba4-1c58-4caa-928f-0c056c85a6d0');\n",
              "          const dataTable =\n",
              "            await google.colab.kernel.invokeFunction('convertToInteractive',\n",
              "                                                     [key], {});\n",
              "          if (!dataTable) return;\n",
              "\n",
              "          const docLinkHtml = 'Like what you see? Visit the ' +\n",
              "            '<a target=\"_blank\" href=https://colab.research.google.com/notebooks/data_table.ipynb>data table notebook</a>'\n",
              "            + ' to learn more about interactive tables.';\n",
              "          element.innerHTML = '';\n",
              "          dataTable['output_type'] = 'display_data';\n",
              "          await google.colab.output.renderOutput(dataTable, element);\n",
              "          const docLink = document.createElement('div');\n",
              "          docLink.innerHTML = docLinkHtml;\n",
              "          element.appendChild(docLink);\n",
              "        }\n",
              "      </script>\n",
              "    </div>\n",
              "  </div>\n",
              "  "
            ]
          },
          "metadata": {},
          "execution_count": 3
        }
      ]
    },
    {
      "cell_type": "code",
      "source": [
        "# rename columns\n",
        "df.columns = ['respondent_id', 'use_oxford_comma', 'heard_of_comma', \n",
        "'care_for_comma', 'use_data_plural', 'considered_data_plural', \n",
        "'care_data_plural', 'care_grammar', 'gender', 'age', 'household_income', \n",
        "'education', 'location']\n",
        "\n",
        "# change feature values to be more convenient\n",
        "df.loc[df['use_oxford_comma'] == \n",
        "\"It's important for a person to be honest, kind, and loyal.\", \n",
        "'use_oxford_comma'] = 'Yes'\n",
        "\n",
        "df.loc[df['use_oxford_comma'] == \n",
        "\"It's important for a person to be honest, kind and loyal.\", \n",
        "'use_oxford_comma'] = 'No'\n",
        "\n",
        "df.loc[df['use_data_plural'] == \n",
        "\"Some experts say it's important to drink milk, but the data is inconclusive.\", \n",
        "'use_data_plural'] = 'No'\n",
        "\n",
        "df.loc[df['use_data_plural'] == \n",
        "\"Some experts say it's important to drink milk, but the data are inconclusive.\",\n",
        "'use_data_plural'] = 'Yes'\n",
        "\n",
        "df.loc[df['care_grammar'] == \n",
        "\"Neither important nor unimportant (neutral)\", 'care_grammar'] = 'Neutral'\n",
        "\n",
        "df['use_data_plural'].value_counts() # No: 865, Yes: 228\n",
        "display(df)"
      ],
      "metadata": {
        "colab": {
          "base_uri": "https://localhost:8080/",
          "height": 624
        },
        "id": "_cwxwoI3m6pH",
        "outputId": "9959dbab-65d5-43f7-ddef-4899bc73931f"
      },
      "execution_count": null,
      "outputs": [
        {
          "output_type": "display_data",
          "data": {
            "text/plain": [
              "      respondent_id use_oxford_comma heard_of_comma care_for_comma  \\\n",
              "0        3292953864               No            Yes           Some   \n",
              "1        3292950324              Yes             No       Not much   \n",
              "2        3292942669              Yes            Yes           Some   \n",
              "3        3292932796              Yes            Yes           Some   \n",
              "4        3292932522               No             No       Not much   \n",
              "...             ...              ...            ...            ...   \n",
              "1124     3288387618              Yes            Yes          A lot   \n",
              "1125     3288387379               No             No           Some   \n",
              "1126     3288382543              Yes            Yes           Some   \n",
              "1127     3288379152               No            Yes          A lot   \n",
              "1128     3288375700               No            Yes          A lot   \n",
              "\n",
              "     use_data_plural considered_data_plural care_data_plural  \\\n",
              "0                 No                     No         Not much   \n",
              "1                 No                     No         Not much   \n",
              "2                 No                    Yes       Not at all   \n",
              "3                 No                     No             Some   \n",
              "4                 No                     No         Not much   \n",
              "...              ...                    ...              ...   \n",
              "1124              No                     No            A lot   \n",
              "1125              No                     No             Some   \n",
              "1126              No                     No         Not much   \n",
              "1127              No                    Yes         Not much   \n",
              "1128              No                    Yes             Some   \n",
              "\n",
              "              care_grammar  gender    age     household_income  \\\n",
              "0       Somewhat important    Male  30-44    $50,000 - $99,999   \n",
              "1     Somewhat unimportant    Male  30-44    $50,000 - $99,999   \n",
              "2           Very important    Male  30-44                  NaN   \n",
              "3       Somewhat important    Male  18-29                  NaN   \n",
              "4                      NaN     NaN    NaN                  NaN   \n",
              "...                    ...     ...    ...                  ...   \n",
              "1124        Very important  Female  18-29  $100,000 - $149,999   \n",
              "1125        Very important  Female  30-44    $50,000 - $99,999   \n",
              "1126    Somewhat important  Female  30-44    $50,000 - $99,999   \n",
              "1127        Very important  Female  45-60    $50,000 - $99,999   \n",
              "1128    Somewhat important    Male  18-29    $25,000 - $49,999   \n",
              "\n",
              "                             education            location  \n",
              "0                      Bachelor degree      South Atlantic  \n",
              "1                      Graduate degree            Mountain  \n",
              "2                                  NaN  East North Central  \n",
              "3         Less than high school degree     Middle Atlantic  \n",
              "4                                  NaN                 NaN  \n",
              "...                                ...                 ...  \n",
              "1124  Some college or Associate degree      South Atlantic  \n",
              "1125  Some college or Associate degree             Pacific  \n",
              "1126                   Graduate degree     Middle Atlantic  \n",
              "1127                   Graduate degree  East South Central  \n",
              "1128                   Bachelor degree            Mountain  \n",
              "\n",
              "[1129 rows x 13 columns]"
            ],
            "text/html": [
              "\n",
              "  <div id=\"df-b1898281-7d7a-461e-bae7-96a1b9bdb825\">\n",
              "    <div class=\"colab-df-container\">\n",
              "      <div>\n",
              "<style scoped>\n",
              "    .dataframe tbody tr th:only-of-type {\n",
              "        vertical-align: middle;\n",
              "    }\n",
              "\n",
              "    .dataframe tbody tr th {\n",
              "        vertical-align: top;\n",
              "    }\n",
              "\n",
              "    .dataframe thead th {\n",
              "        text-align: right;\n",
              "    }\n",
              "</style>\n",
              "<table border=\"1\" class=\"dataframe\">\n",
              "  <thead>\n",
              "    <tr style=\"text-align: right;\">\n",
              "      <th></th>\n",
              "      <th>respondent_id</th>\n",
              "      <th>use_oxford_comma</th>\n",
              "      <th>heard_of_comma</th>\n",
              "      <th>care_for_comma</th>\n",
              "      <th>use_data_plural</th>\n",
              "      <th>considered_data_plural</th>\n",
              "      <th>care_data_plural</th>\n",
              "      <th>care_grammar</th>\n",
              "      <th>gender</th>\n",
              "      <th>age</th>\n",
              "      <th>household_income</th>\n",
              "      <th>education</th>\n",
              "      <th>location</th>\n",
              "    </tr>\n",
              "  </thead>\n",
              "  <tbody>\n",
              "    <tr>\n",
              "      <th>0</th>\n",
              "      <td>3292953864</td>\n",
              "      <td>No</td>\n",
              "      <td>Yes</td>\n",
              "      <td>Some</td>\n",
              "      <td>No</td>\n",
              "      <td>No</td>\n",
              "      <td>Not much</td>\n",
              "      <td>Somewhat important</td>\n",
              "      <td>Male</td>\n",
              "      <td>30-44</td>\n",
              "      <td>$50,000 - $99,999</td>\n",
              "      <td>Bachelor degree</td>\n",
              "      <td>South Atlantic</td>\n",
              "    </tr>\n",
              "    <tr>\n",
              "      <th>1</th>\n",
              "      <td>3292950324</td>\n",
              "      <td>Yes</td>\n",
              "      <td>No</td>\n",
              "      <td>Not much</td>\n",
              "      <td>No</td>\n",
              "      <td>No</td>\n",
              "      <td>Not much</td>\n",
              "      <td>Somewhat unimportant</td>\n",
              "      <td>Male</td>\n",
              "      <td>30-44</td>\n",
              "      <td>$50,000 - $99,999</td>\n",
              "      <td>Graduate degree</td>\n",
              "      <td>Mountain</td>\n",
              "    </tr>\n",
              "    <tr>\n",
              "      <th>2</th>\n",
              "      <td>3292942669</td>\n",
              "      <td>Yes</td>\n",
              "      <td>Yes</td>\n",
              "      <td>Some</td>\n",
              "      <td>No</td>\n",
              "      <td>Yes</td>\n",
              "      <td>Not at all</td>\n",
              "      <td>Very important</td>\n",
              "      <td>Male</td>\n",
              "      <td>30-44</td>\n",
              "      <td>NaN</td>\n",
              "      <td>NaN</td>\n",
              "      <td>East North Central</td>\n",
              "    </tr>\n",
              "    <tr>\n",
              "      <th>3</th>\n",
              "      <td>3292932796</td>\n",
              "      <td>Yes</td>\n",
              "      <td>Yes</td>\n",
              "      <td>Some</td>\n",
              "      <td>No</td>\n",
              "      <td>No</td>\n",
              "      <td>Some</td>\n",
              "      <td>Somewhat important</td>\n",
              "      <td>Male</td>\n",
              "      <td>18-29</td>\n",
              "      <td>NaN</td>\n",
              "      <td>Less than high school degree</td>\n",
              "      <td>Middle Atlantic</td>\n",
              "    </tr>\n",
              "    <tr>\n",
              "      <th>4</th>\n",
              "      <td>3292932522</td>\n",
              "      <td>No</td>\n",
              "      <td>No</td>\n",
              "      <td>Not much</td>\n",
              "      <td>No</td>\n",
              "      <td>No</td>\n",
              "      <td>Not much</td>\n",
              "      <td>NaN</td>\n",
              "      <td>NaN</td>\n",
              "      <td>NaN</td>\n",
              "      <td>NaN</td>\n",
              "      <td>NaN</td>\n",
              "      <td>NaN</td>\n",
              "    </tr>\n",
              "    <tr>\n",
              "      <th>...</th>\n",
              "      <td>...</td>\n",
              "      <td>...</td>\n",
              "      <td>...</td>\n",
              "      <td>...</td>\n",
              "      <td>...</td>\n",
              "      <td>...</td>\n",
              "      <td>...</td>\n",
              "      <td>...</td>\n",
              "      <td>...</td>\n",
              "      <td>...</td>\n",
              "      <td>...</td>\n",
              "      <td>...</td>\n",
              "      <td>...</td>\n",
              "    </tr>\n",
              "    <tr>\n",
              "      <th>1124</th>\n",
              "      <td>3288387618</td>\n",
              "      <td>Yes</td>\n",
              "      <td>Yes</td>\n",
              "      <td>A lot</td>\n",
              "      <td>No</td>\n",
              "      <td>No</td>\n",
              "      <td>A lot</td>\n",
              "      <td>Very important</td>\n",
              "      <td>Female</td>\n",
              "      <td>18-29</td>\n",
              "      <td>$100,000 - $149,999</td>\n",
              "      <td>Some college or Associate degree</td>\n",
              "      <td>South Atlantic</td>\n",
              "    </tr>\n",
              "    <tr>\n",
              "      <th>1125</th>\n",
              "      <td>3288387379</td>\n",
              "      <td>No</td>\n",
              "      <td>No</td>\n",
              "      <td>Some</td>\n",
              "      <td>No</td>\n",
              "      <td>No</td>\n",
              "      <td>Some</td>\n",
              "      <td>Very important</td>\n",
              "      <td>Female</td>\n",
              "      <td>30-44</td>\n",
              "      <td>$50,000 - $99,999</td>\n",
              "      <td>Some college or Associate degree</td>\n",
              "      <td>Pacific</td>\n",
              "    </tr>\n",
              "    <tr>\n",
              "      <th>1126</th>\n",
              "      <td>3288382543</td>\n",
              "      <td>Yes</td>\n",
              "      <td>Yes</td>\n",
              "      <td>Some</td>\n",
              "      <td>No</td>\n",
              "      <td>No</td>\n",
              "      <td>Not much</td>\n",
              "      <td>Somewhat important</td>\n",
              "      <td>Female</td>\n",
              "      <td>30-44</td>\n",
              "      <td>$50,000 - $99,999</td>\n",
              "      <td>Graduate degree</td>\n",
              "      <td>Middle Atlantic</td>\n",
              "    </tr>\n",
              "    <tr>\n",
              "      <th>1127</th>\n",
              "      <td>3288379152</td>\n",
              "      <td>No</td>\n",
              "      <td>Yes</td>\n",
              "      <td>A lot</td>\n",
              "      <td>No</td>\n",
              "      <td>Yes</td>\n",
              "      <td>Not much</td>\n",
              "      <td>Very important</td>\n",
              "      <td>Female</td>\n",
              "      <td>45-60</td>\n",
              "      <td>$50,000 - $99,999</td>\n",
              "      <td>Graduate degree</td>\n",
              "      <td>East South Central</td>\n",
              "    </tr>\n",
              "    <tr>\n",
              "      <th>1128</th>\n",
              "      <td>3288375700</td>\n",
              "      <td>No</td>\n",
              "      <td>Yes</td>\n",
              "      <td>A lot</td>\n",
              "      <td>No</td>\n",
              "      <td>Yes</td>\n",
              "      <td>Some</td>\n",
              "      <td>Somewhat important</td>\n",
              "      <td>Male</td>\n",
              "      <td>18-29</td>\n",
              "      <td>$25,000 - $49,999</td>\n",
              "      <td>Bachelor degree</td>\n",
              "      <td>Mountain</td>\n",
              "    </tr>\n",
              "  </tbody>\n",
              "</table>\n",
              "<p>1129 rows × 13 columns</p>\n",
              "</div>\n",
              "      <button class=\"colab-df-convert\" onclick=\"convertToInteractive('df-b1898281-7d7a-461e-bae7-96a1b9bdb825')\"\n",
              "              title=\"Convert this dataframe to an interactive table.\"\n",
              "              style=\"display:none;\">\n",
              "        \n",
              "  <svg xmlns=\"http://www.w3.org/2000/svg\" height=\"24px\"viewBox=\"0 0 24 24\"\n",
              "       width=\"24px\">\n",
              "    <path d=\"M0 0h24v24H0V0z\" fill=\"none\"/>\n",
              "    <path d=\"M18.56 5.44l.94 2.06.94-2.06 2.06-.94-2.06-.94-.94-2.06-.94 2.06-2.06.94zm-11 1L8.5 8.5l.94-2.06 2.06-.94-2.06-.94L8.5 2.5l-.94 2.06-2.06.94zm10 10l.94 2.06.94-2.06 2.06-.94-2.06-.94-.94-2.06-.94 2.06-2.06.94z\"/><path d=\"M17.41 7.96l-1.37-1.37c-.4-.4-.92-.59-1.43-.59-.52 0-1.04.2-1.43.59L10.3 9.45l-7.72 7.72c-.78.78-.78 2.05 0 2.83L4 21.41c.39.39.9.59 1.41.59.51 0 1.02-.2 1.41-.59l7.78-7.78 2.81-2.81c.8-.78.8-2.07 0-2.86zM5.41 20L4 18.59l7.72-7.72 1.47 1.35L5.41 20z\"/>\n",
              "  </svg>\n",
              "      </button>\n",
              "      \n",
              "  <style>\n",
              "    .colab-df-container {\n",
              "      display:flex;\n",
              "      flex-wrap:wrap;\n",
              "      gap: 12px;\n",
              "    }\n",
              "\n",
              "    .colab-df-convert {\n",
              "      background-color: #E8F0FE;\n",
              "      border: none;\n",
              "      border-radius: 50%;\n",
              "      cursor: pointer;\n",
              "      display: none;\n",
              "      fill: #1967D2;\n",
              "      height: 32px;\n",
              "      padding: 0 0 0 0;\n",
              "      width: 32px;\n",
              "    }\n",
              "\n",
              "    .colab-df-convert:hover {\n",
              "      background-color: #E2EBFA;\n",
              "      box-shadow: 0px 1px 2px rgba(60, 64, 67, 0.3), 0px 1px 3px 1px rgba(60, 64, 67, 0.15);\n",
              "      fill: #174EA6;\n",
              "    }\n",
              "\n",
              "    [theme=dark] .colab-df-convert {\n",
              "      background-color: #3B4455;\n",
              "      fill: #D2E3FC;\n",
              "    }\n",
              "\n",
              "    [theme=dark] .colab-df-convert:hover {\n",
              "      background-color: #434B5C;\n",
              "      box-shadow: 0px 1px 3px 1px rgba(0, 0, 0, 0.15);\n",
              "      filter: drop-shadow(0px 1px 2px rgba(0, 0, 0, 0.3));\n",
              "      fill: #FFFFFF;\n",
              "    }\n",
              "  </style>\n",
              "\n",
              "      <script>\n",
              "        const buttonEl =\n",
              "          document.querySelector('#df-b1898281-7d7a-461e-bae7-96a1b9bdb825 button.colab-df-convert');\n",
              "        buttonEl.style.display =\n",
              "          google.colab.kernel.accessAllowed ? 'block' : 'none';\n",
              "\n",
              "        async function convertToInteractive(key) {\n",
              "          const element = document.querySelector('#df-b1898281-7d7a-461e-bae7-96a1b9bdb825');\n",
              "          const dataTable =\n",
              "            await google.colab.kernel.invokeFunction('convertToInteractive',\n",
              "                                                     [key], {});\n",
              "          if (!dataTable) return;\n",
              "\n",
              "          const docLinkHtml = 'Like what you see? Visit the ' +\n",
              "            '<a target=\"_blank\" href=https://colab.research.google.com/notebooks/data_table.ipynb>data table notebook</a>'\n",
              "            + ' to learn more about interactive tables.';\n",
              "          element.innerHTML = '';\n",
              "          dataTable['output_type'] = 'display_data';\n",
              "          await google.colab.output.renderOutput(dataTable, element);\n",
              "          const docLink = document.createElement('div');\n",
              "          docLink.innerHTML = docLinkHtml;\n",
              "          element.appendChild(docLink);\n",
              "        }\n",
              "      </script>\n",
              "    </div>\n",
              "  </div>\n",
              "  "
            ]
          },
          "metadata": {}
        }
      ]
    },
    {
      "cell_type": "code",
      "source": [
        "# Print the high-level information\n",
        "df.info()"
      ],
      "metadata": {
        "colab": {
          "base_uri": "https://localhost:8080/"
        },
        "id": "PJ9k37Xxm7Ye",
        "outputId": "a0450de0-fc72-42fc-e127-f6ea18749ebc"
      },
      "execution_count": null,
      "outputs": [
        {
          "output_type": "stream",
          "name": "stdout",
          "text": [
            "<class 'pandas.core.frame.DataFrame'>\n",
            "RangeIndex: 1129 entries, 0 to 1128\n",
            "Data columns (total 13 columns):\n",
            " #   Column                  Non-Null Count  Dtype \n",
            "---  ------                  --------------  ----- \n",
            " 0   respondent_id           1129 non-null   int64 \n",
            " 1   use_oxford_comma        1129 non-null   object\n",
            " 2   heard_of_comma          1099 non-null   object\n",
            " 3   care_for_comma          1099 non-null   object\n",
            " 4   use_data_plural         1093 non-null   object\n",
            " 5   considered_data_plural  1091 non-null   object\n",
            " 6   care_data_plural        1091 non-null   object\n",
            " 7   care_grammar            1059 non-null   object\n",
            " 8   gender                  1037 non-null   object\n",
            " 9   age                     1037 non-null   object\n",
            " 10  household_income        836 non-null    object\n",
            " 11  education               1026 non-null   object\n",
            " 12  location                1027 non-null   object\n",
            "dtypes: int64(1), object(12)\n",
            "memory usage: 114.8+ KB\n"
          ]
        }
      ]
    },
    {
      "cell_type": "code",
      "source": [
        "df_na = (df.isnull().sum() / len(df)) * 100\n",
        "# The column \"use_oxford_comma\" is dropped from missing_data because it has 0 \n",
        "# missing data.\n",
        "df_na = df_na.drop(df_na[df_na == 0].index).sort_values(ascending=False)[:30]\n",
        "\n",
        "# Visualize the missing ratios\n",
        "f, ax = plt.subplots(figsize=(12, 10))\n",
        "plt.xticks(rotation='90')\n",
        "sns.barplot(x=df_na.index, y=df_na)\n",
        "plt.xlabel('Features', fontsize=15)\n",
        "plt.ylabel('Percent of missing values', fontsize=15)\n",
        "plt.title('Percent missing data by feature', fontsize=15)"
      ],
      "metadata": {
        "colab": {
          "base_uri": "https://localhost:8080/",
          "height": 753
        },
        "id": "Snax8IS1TTaM",
        "outputId": "42f9b067-872a-4e7a-e8a1-d3a6f883eb60"
      },
      "execution_count": null,
      "outputs": [
        {
          "output_type": "execute_result",
          "data": {
            "text/plain": [
              "Text(0.5, 1.0, 'Percent missing data by feature')"
            ]
          },
          "metadata": {},
          "execution_count": 7
        },
        {
          "output_type": "display_data",
          "data": {
            "text/plain": [
              "<Figure size 864x720 with 1 Axes>"
            ],
            "image/png": "[encoded data removed]"
          },
          "metadata": {
            "needs_background": "light"
          }
        }
      ]
    },
    {
      "cell_type": "markdown",
      "source": [
        "We can see in this data, not every features column has complete entries, which means: we have MISSING DATA!\n",
        "\n",
        "Let's just remove Id and the features with 30% or less NaN values."
      ],
      "metadata": {
        "id": "wr50rUOen7L1"
      }
    },
    {
      "cell_type": "code",
      "source": [
        "# Remove columns with too many missing values\n",
        "\n",
        "# Not going to remove any other than respondent_id since the feature \n",
        "# (\"household_income\") that has the most number of missing values has less \n",
        "# than 30% NaN values\n",
        "\n",
        "df2 = df[[column for column in df if df[column].count() / len(df) >= 0.7]]\n",
        "\n",
        "print(\"List of dropped columns:\", end=\" \")\n",
        "for c in df.columns:\n",
        "    if c not in df2.columns:\n",
        "        print(c, end=\", \")\n",
        "\n",
        "if df.shape == df2.shape:\n",
        "   print('N/A')\n",
        "print('\\n')\n",
        "df = df2\n",
        "df = df.drop(columns='respondent_id')\n",
        "\n",
        "print('The column \"household_income\" has the highest percentage of NaN values:', \n",
        "1 - df['household_income'].count()/len(df), ', which is still less than 30%.')"
      ],
      "metadata": {
        "colab": {
          "base_uri": "https://localhost:8080/"
        },
        "id": "h7t9tyZ4m9GB",
        "outputId": "7fe322d9-443c-456d-f3e4-87c9253d6a17"
      },
      "execution_count": null,
      "outputs": [
        {
          "output_type": "stream",
          "name": "stdout",
          "text": [
            "List of dropped columns: N/A\n",
            "\n",
            "\n",
            "The column \"household_income\" has the highest percentage of NaN values: 0.25952170062001767 , which is still less than 30%.\n"
          ]
        }
      ]
    },
    {
      "cell_type": "code",
      "source": [
        "# Education is our output variable, we will drop any rows missing the value. \n",
        "# This is also a good decision because we are\n",
        "# unable to impute its missing values in a way that does not negatively impact \n",
        "# training the model.\n",
        "\n",
        "df = df.dropna(subset = ['household_income'])"
      ],
      "metadata": {
        "id": "H7rv-pjkoHUV"
      },
      "execution_count": null,
      "outputs": []
    },
    {
      "cell_type": "markdown",
      "source": [
        "## Data Pre-Processing"
      ],
      "metadata": {
        "id": "SttAZwoGuoHu"
      }
    },
    {
      "cell_type": "markdown",
      "source": [
        "#### Missing data\n",
        "\n",
        "In the above analysis, we already noticed that we have some missing values in the dataset. Unfortunately, these missing values cannot be handled by the machine learning without pre-processing. We will first impute the missing values."
      ],
      "metadata": {
        "id": "u1MyDfI9ux9T"
      }
    },
    {
      "cell_type": "code",
      "source": [
        "y = df[['household_income']]\n",
        "# We won't use any label information during data pre-processing and feature \n",
        "# engineering\n",
        "df.drop(['household_income'], axis=1, inplace=True)"
      ],
      "metadata": {
        "id": "yLubAENJr1ut"
      },
      "execution_count": null,
      "outputs": []
    },
    {
      "cell_type": "code",
      "source": [
        "y_na = (y.isnull().sum() / len(df)) * 100\n",
        "missing_y = pd.DataFrame({'Missing Ratio' :y_na})\n",
        "missing_y\n",
        "# Earlier on, we removed any columns missing education\n",
        "# We do not want to impute missing income values because it may skew our results.\n",
        "\n",
        "# For future improvements of the model, imputing its missing values might \n",
        "# be possible with a robust method of such as kNN for categorical variables."
      ],
      "metadata": {
        "colab": {
          "base_uri": "https://localhost:8080/"
        },
        "id": "8sV6sHJLu7mW",
        "outputId": "30ae235a-e49a-4f50-af09-af7575c424de"
      },
      "execution_count": null,
      "outputs": [
        {
          "output_type": "execute_result",
          "data": {
            "text/plain": [
              "                  Missing Ratio\n",
              "household_income            0.0"
            ],
            "text/html": [
              "\n",
              "  <div id=\"df-b00b9309-32f6-4de1-8d0b-22fdd364d7dc\">\n",
              "    <div class=\"colab-df-container\">\n",
              "      <div>\n",
              "<style scoped>\n",
              "    .dataframe tbody tr th:only-of-type {\n",
              "        vertical-align: middle;\n",
              "    }\n",
              "\n",
              "    .dataframe tbody tr th {\n",
              "        vertical-align: top;\n",
              "    }\n",
              "\n",
              "    .dataframe thead th {\n",
              "        text-align: right;\n",
              "    }\n",
              "</style>\n",
              "<table border=\"1\" class=\"dataframe\">\n",
              "  <thead>\n",
              "    <tr style=\"text-align: right;\">\n",
              "      <th></th>\n",
              "      <th>Missing Ratio</th>\n",
              "    </tr>\n",
              "  </thead>\n",
              "  <tbody>\n",
              "    <tr>\n",
              "      <th>household_income</th>\n",
              "      <td>0.0</td>\n",
              "    </tr>\n",
              "  </tbody>\n",
              "</table>\n",
              "</div>\n",
              "      <button class=\"colab-df-convert\" onclick=\"convertToInteractive('df-b00b9309-32f6-4de1-8d0b-22fdd364d7dc')\"\n",
              "              title=\"Convert this dataframe to an interactive table.\"\n",
              "              style=\"display:none;\">\n",
              "        \n",
              "  <svg xmlns=\"http://www.w3.org/2000/svg\" height=\"24px\"viewBox=\"0 0 24 24\"\n",
              "       width=\"24px\">\n",
              "    <path d=\"M0 0h24v24H0V0z\" fill=\"none\"/>\n",
              "    <path d=\"M18.56 5.44l.94 2.06.94-2.06 2.06-.94-2.06-.94-.94-2.06-.94 2.06-2.06.94zm-11 1L8.5 8.5l.94-2.06 2.06-.94-2.06-.94L8.5 2.5l-.94 2.06-2.06.94zm10 10l.94 2.06.94-2.06 2.06-.94-2.06-.94-.94-2.06-.94 2.06-2.06.94z\"/><path d=\"M17.41 7.96l-1.37-1.37c-.4-.4-.92-.59-1.43-.59-.52 0-1.04.2-1.43.59L10.3 9.45l-7.72 7.72c-.78.78-.78 2.05 0 2.83L4 21.41c.39.39.9.59 1.41.59.51 0 1.02-.2 1.41-.59l7.78-7.78 2.81-2.81c.8-.78.8-2.07 0-2.86zM5.41 20L4 18.59l7.72-7.72 1.47 1.35L5.41 20z\"/>\n",
              "  </svg>\n",
              "      </button>\n",
              "      \n",
              "  <style>\n",
              "    .colab-df-container {\n",
              "      display:flex;\n",
              "      flex-wrap:wrap;\n",
              "      gap: 12px;\n",
              "    }\n",
              "\n",
              "    .colab-df-convert {\n",
              "      background-color: #E8F0FE;\n",
              "      border: none;\n",
              "      border-radius: 50%;\n",
              "      cursor: pointer;\n",
              "      display: none;\n",
              "      fill: #1967D2;\n",
              "      height: 32px;\n",
              "      padding: 0 0 0 0;\n",
              "      width: 32px;\n",
              "    }\n",
              "\n",
              "    .colab-df-convert:hover {\n",
              "      background-color: #E2EBFA;\n",
              "      box-shadow: 0px 1px 2px rgba(60, 64, 67, 0.3), 0px 1px 3px 1px rgba(60, 64, 67, 0.15);\n",
              "      fill: #174EA6;\n",
              "    }\n",
              "\n",
              "    [theme=dark] .colab-df-convert {\n",
              "      background-color: #3B4455;\n",
              "      fill: #D2E3FC;\n",
              "    }\n",
              "\n",
              "    [theme=dark] .colab-df-convert:hover {\n",
              "      background-color: #434B5C;\n",
              "      box-shadow: 0px 1px 3px 1px rgba(0, 0, 0, 0.15);\n",
              "      filter: drop-shadow(0px 1px 2px rgba(0, 0, 0, 0.3));\n",
              "      fill: #FFFFFF;\n",
              "    }\n",
              "  </style>\n",
              "\n",
              "      <script>\n",
              "        const buttonEl =\n",
              "          document.querySelector('#df-b00b9309-32f6-4de1-8d0b-22fdd364d7dc button.colab-df-convert');\n",
              "        buttonEl.style.display =\n",
              "          google.colab.kernel.accessAllowed ? 'block' : 'none';\n",
              "\n",
              "        async function convertToInteractive(key) {\n",
              "          const element = document.querySelector('#df-b00b9309-32f6-4de1-8d0b-22fdd364d7dc');\n",
              "          const dataTable =\n",
              "            await google.colab.kernel.invokeFunction('convertToInteractive',\n",
              "                                                     [key], {});\n",
              "          if (!dataTable) return;\n",
              "\n",
              "          const docLinkHtml = 'Like what you see? Visit the ' +\n",
              "            '<a target=\"_blank\" href=https://colab.research.google.com/notebooks/data_table.ipynb>data table notebook</a>'\n",
              "            + ' to learn more about interactive tables.';\n",
              "          element.innerHTML = '';\n",
              "          dataTable['output_type'] = 'display_data';\n",
              "          await google.colab.output.renderOutput(dataTable, element);\n",
              "          const docLink = document.createElement('div');\n",
              "          docLink.innerHTML = docLinkHtml;\n",
              "          element.appendChild(docLink);\n",
              "        }\n",
              "      </script>\n",
              "    </div>\n",
              "  </div>\n",
              "  "
            ]
          },
          "metadata": {},
          "execution_count": 11
        }
      ]
    },
    {
      "cell_type": "code",
      "source": [
        "df_na = (df.isnull().sum() / len(df)) * 100\n",
        "# The column \"use_oxford_comma\" is dropped from missing_data because it has 0 \n",
        "# missing data.\n",
        "df_na = df_na.drop(df_na[df_na == 0].index).sort_values(ascending=False)[:30]\n",
        "missing_data = pd.DataFrame({'Missing Ratio' :df_na})\n",
        "missing_data.head(20)"
      ],
      "metadata": {
        "colab": {
          "base_uri": "https://localhost:8080/"
        },
        "id": "HA6hoeZ1u7o9",
        "outputId": "9d0d631b-c557-4f8e-8968-8782e8a7aa86"
      },
      "execution_count": null,
      "outputs": [
        {
          "output_type": "execute_result",
          "data": {
            "text/plain": [
              "                 Missing Ratio\n",
              "location              0.956938\n",
              "use_data_plural       0.358852"
            ],
            "text/html": [
              "\n",
              "  <div id=\"df-4461bb41-9d3b-406f-862d-4f949a89ec45\">\n",
              "    <div class=\"colab-df-container\">\n",
              "      <div>\n",
              "<style scoped>\n",
              "    .dataframe tbody tr th:only-of-type {\n",
              "        vertical-align: middle;\n",
              "    }\n",
              "\n",
              "    .dataframe tbody tr th {\n",
              "        vertical-align: top;\n",
              "    }\n",
              "\n",
              "    .dataframe thead th {\n",
              "        text-align: right;\n",
              "    }\n",
              "</style>\n",
              "<table border=\"1\" class=\"dataframe\">\n",
              "  <thead>\n",
              "    <tr style=\"text-align: right;\">\n",
              "      <th></th>\n",
              "      <th>Missing Ratio</th>\n",
              "    </tr>\n",
              "  </thead>\n",
              "  <tbody>\n",
              "    <tr>\n",
              "      <th>location</th>\n",
              "      <td>0.956938</td>\n",
              "    </tr>\n",
              "    <tr>\n",
              "      <th>use_data_plural</th>\n",
              "      <td>0.358852</td>\n",
              "    </tr>\n",
              "  </tbody>\n",
              "</table>\n",
              "</div>\n",
              "      <button class=\"colab-df-convert\" onclick=\"convertToInteractive('df-4461bb41-9d3b-406f-862d-4f949a89ec45')\"\n",
              "              title=\"Convert this dataframe to an interactive table.\"\n",
              "              style=\"display:none;\">\n",
              "        \n",
              "  <svg xmlns=\"http://www.w3.org/2000/svg\" height=\"24px\"viewBox=\"0 0 24 24\"\n",
              "       width=\"24px\">\n",
              "    <path d=\"M0 0h24v24H0V0z\" fill=\"none\"/>\n",
              "    <path d=\"M18.56 5.44l.94 2.06.94-2.06 2.06-.94-2.06-.94-.94-2.06-.94 2.06-2.06.94zm-11 1L8.5 8.5l.94-2.06 2.06-.94-2.06-.94L8.5 2.5l-.94 2.06-2.06.94zm10 10l.94 2.06.94-2.06 2.06-.94-2.06-.94-.94-2.06-.94 2.06-2.06.94z\"/><path d=\"M17.41 7.96l-1.37-1.37c-.4-.4-.92-.59-1.43-.59-.52 0-1.04.2-1.43.59L10.3 9.45l-7.72 7.72c-.78.78-.78 2.05 0 2.83L4 21.41c.39.39.9.59 1.41.59.51 0 1.02-.2 1.41-.59l7.78-7.78 2.81-2.81c.8-.78.8-2.07 0-2.86zM5.41 20L4 18.59l7.72-7.72 1.47 1.35L5.41 20z\"/>\n",
              "  </svg>\n",
              "      </button>\n",
              "      \n",
              "  <style>\n",
              "    .colab-df-container {\n",
              "      display:flex;\n",
              "      flex-wrap:wrap;\n",
              "      gap: 12px;\n",
              "    }\n",
              "\n",
              "    .colab-df-convert {\n",
              "      background-color: #E8F0FE;\n",
              "      border: none;\n",
              "      border-radius: 50%;\n",
              "      cursor: pointer;\n",
              "      display: none;\n",
              "      fill: #1967D2;\n",
              "      height: 32px;\n",
              "      padding: 0 0 0 0;\n",
              "      width: 32px;\n",
              "    }\n",
              "\n",
              "    .colab-df-convert:hover {\n",
              "      background-color: #E2EBFA;\n",
              "      box-shadow: 0px 1px 2px rgba(60, 64, 67, 0.3), 0px 1px 3px 1px rgba(60, 64, 67, 0.15);\n",
              "      fill: #174EA6;\n",
              "    }\n",
              "\n",
              "    [theme=dark] .colab-df-convert {\n",
              "      background-color: #3B4455;\n",
              "      fill: #D2E3FC;\n",
              "    }\n",
              "\n",
              "    [theme=dark] .colab-df-convert:hover {\n",
              "      background-color: #434B5C;\n",
              "      box-shadow: 0px 1px 3px 1px rgba(0, 0, 0, 0.15);\n",
              "      filter: drop-shadow(0px 1px 2px rgba(0, 0, 0, 0.3));\n",
              "      fill: #FFFFFF;\n",
              "    }\n",
              "  </style>\n",
              "\n",
              "      <script>\n",
              "        const buttonEl =\n",
              "          document.querySelector('#df-4461bb41-9d3b-406f-862d-4f949a89ec45 button.colab-df-convert');\n",
              "        buttonEl.style.display =\n",
              "          google.colab.kernel.accessAllowed ? 'block' : 'none';\n",
              "\n",
              "        async function convertToInteractive(key) {\n",
              "          const element = document.querySelector('#df-4461bb41-9d3b-406f-862d-4f949a89ec45');\n",
              "          const dataTable =\n",
              "            await google.colab.kernel.invokeFunction('convertToInteractive',\n",
              "                                                     [key], {});\n",
              "          if (!dataTable) return;\n",
              "\n",
              "          const docLinkHtml = 'Like what you see? Visit the ' +\n",
              "            '<a target=\"_blank\" href=https://colab.research.google.com/notebooks/data_table.ipynb>data table notebook</a>'\n",
              "            + ' to learn more about interactive tables.';\n",
              "          element.innerHTML = '';\n",
              "          dataTable['output_type'] = 'display_data';\n",
              "          await google.colab.output.renderOutput(dataTable, element);\n",
              "          const docLink = document.createElement('div');\n",
              "          docLink.innerHTML = docLinkHtml;\n",
              "          element.appendChild(docLink);\n",
              "        }\n",
              "      </script>\n",
              "    </div>\n",
              "  </div>\n",
              "  "
            ]
          },
          "metadata": {},
          "execution_count": 12
        }
      ]
    },
    {
      "cell_type": "code",
      "source": [
        "# Visualize the missing ratios\n",
        "f, ax = plt.subplots(figsize=(12, 10))\n",
        "plt.xticks(rotation='90')\n",
        "sns.barplot(x=df_na.index, y=df_na)\n",
        "plt.xlabel('Features', fontsize=15)\n",
        "plt.ylabel('Percent of missing values', fontsize=15)\n",
        "plt.title('Percent missing data by feature', fontsize=15)"
      ],
      "metadata": {
        "colab": {
          "base_uri": "https://localhost:8080/"
        },
        "id": "lpX1IXhFu7rW",
        "outputId": "13eaa136-0935-438a-b38d-c1a2318645a3"
      },
      "execution_count": null,
      "outputs": [
        {
          "output_type": "execute_result",
          "data": {
            "text/plain": [
              "Text(0.5, 1.0, 'Percent missing data by feature')"
            ]
          },
          "metadata": {},
          "execution_count": 13
        },
        {
          "output_type": "display_data",
          "data": {
            "text/plain": [
              "<Figure size 864x720 with 1 Axes>"
            ],
            "image/png": "[encoded data removed]"
          },
          "metadata": {
            "needs_background": "light"
          }
        }
      ]
    },
    {
      "cell_type": "markdown",
      "source": [
        "- **Missing value imputation** : For now, all the missing values are replaced by the most frequent value in that column (the mode)"
      ],
      "metadata": {
        "id": "ghescddUvw_T"
      }
    },
    {
      "cell_type": "code",
      "source": [
        "import numpy as np\n",
        "\n",
        "for i in range(df.shape[1]):\n",
        "    df[df.columns[i]] = np.where(df[df.columns[i]].isna(), \n",
        "    df[df.columns[i]].mode(), df[df.columns[i]])\n",
        "print(df[25:35])\n",
        "\n",
        "# For future improvement, maybe use SimpleImputer(strategy='most_frequent') \n",
        "# instead of manual imputation"
      ],
      "metadata": {
        "colab": {
          "base_uri": "https://localhost:8080/"
        },
        "id": "zh3pfYnkvoX3",
        "outputId": "512dab9c-46df-4573-b6c8-5c1bd5ca8ad8"
      },
      "execution_count": null,
      "outputs": [
        {
          "output_type": "stream",
          "name": "stdout",
          "text": [
            "   use_oxford_comma heard_of_comma care_for_comma use_data_plural  \\\n",
            "36               No            Yes       Not much              No   \n",
            "38              Yes             No          A lot              No   \n",
            "39              Yes             No          A lot              No   \n",
            "40              Yes            Yes           Some              No   \n",
            "41               No            Yes           Some              No   \n",
            "42              Yes            Yes          A lot              No   \n",
            "43              Yes            Yes           Some              No   \n",
            "45               No             No     Not at all              No   \n",
            "46              Yes             No           Some              No   \n",
            "47              Yes            Yes          A lot              No   \n",
            "\n",
            "   considered_data_plural care_data_plural        care_grammar gender    age  \\\n",
            "36                     No       Not at all  Somewhat important   Male  18-29   \n",
            "38                    Yes         Not much      Very important   Male  18-29   \n",
            "39                     No       Not at all      Very important   Male  18-29   \n",
            "40                     No       Not at all      Very important   Male  30-44   \n",
            "41                    Yes             Some  Somewhat important   Male  18-29   \n",
            "42                     No         Not much      Very important   Male  18-29   \n",
            "43                    Yes             Some  Somewhat important   Male  18-29   \n",
            "45                     No       Not at all      Very important   Male  18-29   \n",
            "46                     No             Some  Somewhat important   Male  18-29   \n",
            "47                     No             Some  Somewhat important   Male  18-29   \n",
            "\n",
            "                           education            location  \n",
            "36                High school degree         New England  \n",
            "38      Less than high school degree  West South Central  \n",
            "39  Some college or Associate degree  West North Central  \n",
            "40  Some college or Associate degree            Mountain  \n",
            "41  Some college or Associate degree             Pacific  \n",
            "42  Some college or Associate degree            Mountain  \n",
            "43  Some college or Associate degree  West South Central  \n",
            "45                   Bachelor degree     Middle Atlantic  \n",
            "46  Some college or Associate degree  East South Central  \n",
            "47                   Graduate degree  West South Central  \n"
          ]
        }
      ]
    },
    {
      "cell_type": "markdown",
      "source": [
        "Is there any remaining missing value? "
      ],
      "metadata": {
        "id": "Y7Vmb3sqv4DC"
      }
    },
    {
      "cell_type": "code",
      "source": [
        "#Check remaining missing values if any \n",
        "df_na = (df.isnull().sum() / len(df)) * 100\n",
        "df_na = df_na.drop(df_na[df_na == 0].index).sort_values(ascending=False)\n",
        "missing_data = pd.DataFrame({'Missing Ratio' :df_na})\n",
        "missing_data.head()"
      ],
      "metadata": {
        "colab": {
          "base_uri": "https://localhost:8080/"
        },
        "id": "Oc1XTX5dvoZ8",
        "outputId": "2d16afd3-e7fc-4555-cf11-b36e97ac6ac8"
      },
      "execution_count": null,
      "outputs": [
        {
          "output_type": "execute_result",
          "data": {
            "text/plain": [
              "Empty DataFrame\n",
              "Columns: [Missing Ratio]\n",
              "Index: []"
            ],
            "text/html": [
              "\n",
              "  <div id=\"df-546e244d-2435-4582-9703-068baa49ab05\">\n",
              "    <div class=\"colab-df-container\">\n",
              "      <div>\n",
              "<style scoped>\n",
              "    .dataframe tbody tr th:only-of-type {\n",
              "        vertical-align: middle;\n",
              "    }\n",
              "\n",
              "    .dataframe tbody tr th {\n",
              "        vertical-align: top;\n",
              "    }\n",
              "\n",
              "    .dataframe thead th {\n",
              "        text-align: right;\n",
              "    }\n",
              "</style>\n",
              "<table border=\"1\" class=\"dataframe\">\n",
              "  <thead>\n",
              "    <tr style=\"text-align: right;\">\n",
              "      <th></th>\n",
              "      <th>Missing Ratio</th>\n",
              "    </tr>\n",
              "  </thead>\n",
              "  <tbody>\n",
              "  </tbody>\n",
              "</table>\n",
              "</div>\n",
              "      <button class=\"colab-df-convert\" onclick=\"convertToInteractive('df-546e244d-2435-4582-9703-068baa49ab05')\"\n",
              "              title=\"Convert this dataframe to an interactive table.\"\n",
              "              style=\"display:none;\">\n",
              "        \n",
              "  <svg xmlns=\"http://www.w3.org/2000/svg\" height=\"24px\"viewBox=\"0 0 24 24\"\n",
              "       width=\"24px\">\n",
              "    <path d=\"M0 0h24v24H0V0z\" fill=\"none\"/>\n",
              "    <path d=\"M18.56 5.44l.94 2.06.94-2.06 2.06-.94-2.06-.94-.94-2.06-.94 2.06-2.06.94zm-11 1L8.5 8.5l.94-2.06 2.06-.94-2.06-.94L8.5 2.5l-.94 2.06-2.06.94zm10 10l.94 2.06.94-2.06 2.06-.94-2.06-.94-.94-2.06-.94 2.06-2.06.94z\"/><path d=\"M17.41 7.96l-1.37-1.37c-.4-.4-.92-.59-1.43-.59-.52 0-1.04.2-1.43.59L10.3 9.45l-7.72 7.72c-.78.78-.78 2.05 0 2.83L4 21.41c.39.39.9.59 1.41.59.51 0 1.02-.2 1.41-.59l7.78-7.78 2.81-2.81c.8-.78.8-2.07 0-2.86zM5.41 20L4 18.59l7.72-7.72 1.47 1.35L5.41 20z\"/>\n",
              "  </svg>\n",
              "      </button>\n",
              "      \n",
              "  <style>\n",
              "    .colab-df-container {\n",
              "      display:flex;\n",
              "      flex-wrap:wrap;\n",
              "      gap: 12px;\n",
              "    }\n",
              "\n",
              "    .colab-df-convert {\n",
              "      background-color: #E8F0FE;\n",
              "      border: none;\n",
              "      border-radius: 50%;\n",
              "      cursor: pointer;\n",
              "      display: none;\n",
              "      fill: #1967D2;\n",
              "      height: 32px;\n",
              "      padding: 0 0 0 0;\n",
              "      width: 32px;\n",
              "    }\n",
              "\n",
              "    .colab-df-convert:hover {\n",
              "      background-color: #E2EBFA;\n",
              "      box-shadow: 0px 1px 2px rgba(60, 64, 67, 0.3), 0px 1px 3px 1px rgba(60, 64, 67, 0.15);\n",
              "      fill: #174EA6;\n",
              "    }\n",
              "\n",
              "    [theme=dark] .colab-df-convert {\n",
              "      background-color: #3B4455;\n",
              "      fill: #D2E3FC;\n",
              "    }\n",
              "\n",
              "    [theme=dark] .colab-df-convert:hover {\n",
              "      background-color: #434B5C;\n",
              "      box-shadow: 0px 1px 3px 1px rgba(0, 0, 0, 0.15);\n",
              "      filter: drop-shadow(0px 1px 2px rgba(0, 0, 0, 0.3));\n",
              "      fill: #FFFFFF;\n",
              "    }\n",
              "  </style>\n",
              "\n",
              "      <script>\n",
              "        const buttonEl =\n",
              "          document.querySelector('#df-546e244d-2435-4582-9703-068baa49ab05 button.colab-df-convert');\n",
              "        buttonEl.style.display =\n",
              "          google.colab.kernel.accessAllowed ? 'block' : 'none';\n",
              "\n",
              "        async function convertToInteractive(key) {\n",
              "          const element = document.querySelector('#df-546e244d-2435-4582-9703-068baa49ab05');\n",
              "          const dataTable =\n",
              "            await google.colab.kernel.invokeFunction('convertToInteractive',\n",
              "                                                     [key], {});\n",
              "          if (!dataTable) return;\n",
              "\n",
              "          const docLinkHtml = 'Like what you see? Visit the ' +\n",
              "            '<a target=\"_blank\" href=https://colab.research.google.com/notebooks/data_table.ipynb>data table notebook</a>'\n",
              "            + ' to learn more about interactive tables.';\n",
              "          element.innerHTML = '';\n",
              "          dataTable['output_type'] = 'display_data';\n",
              "          await google.colab.output.renderOutput(dataTable, element);\n",
              "          const docLink = document.createElement('div');\n",
              "          docLink.innerHTML = docLinkHtml;\n",
              "          element.appendChild(docLink);\n",
              "        }\n",
              "      </script>\n",
              "    </div>\n",
              "  </div>\n",
              "  "
            ]
          },
          "metadata": {},
          "execution_count": 15
        }
      ]
    },
    {
      "cell_type": "markdown",
      "source": [
        "It remains no missing value."
      ],
      "metadata": {
        "id": "YioF2IqUv7M3"
      }
    },
    {
      "cell_type": "markdown",
      "source": [
        "## Features Engineering"
      ],
      "metadata": {
        "id": "tS8yiOAov_1e"
      }
    },
    {
      "cell_type": "markdown",
      "source": [
        "**Transforming some numerical variables that are really categorical**\n",
        "\n",
        "We do not need to transform here because all the variables are already categorical."
      ],
      "metadata": {
        "id": "Ro70ZnCVwL3u"
      }
    },
    {
      "cell_type": "markdown",
      "source": [
        "**Ordinal Encoding some categorical variables that may contain information in their ordering set** "
      ],
      "metadata": {
        "id": "8w5yxmAFwV4S"
      }
    },
    {
      "cell_type": "code",
      "source": [
        "# Label Encoding should be applied to non-ordinal (aka nominal) variables and \n",
        "# not ordinal variables in our case. So, pandas factorize method is used instead.\n",
        "\n",
        "# Here are the columns which use the same binary labels (and N/A). \n",
        "cols = ('use_oxford_comma','heard_of_comma','use_data_plural',\n",
        "       'considered_data_plural')\n",
        "\n",
        "# Using pandas factorize method for ordinal data\n",
        "for i in cols:\n",
        "  categories = pd.Categorical(df[i], categories=['No','Yes'], ordered=True)\n",
        "  \n",
        "  # Factorizing the column data\n",
        "  labels, unique = pd.factorize(categories, sort=True)\n",
        "  df[i] = labels\n",
        "  \n",
        "\n",
        "# Here are the columns which use the same non-binary labels (not at all, not\n",
        "# much, some, a lot, and N/A). \n",
        "cols_1 = ('care_for_comma','care_data_plural')\n",
        "\n",
        "# Using pandas factorize method for ordinal data\n",
        "for i in cols_1:\n",
        "  categories = pd.Categorical(df[i], categories=['Not at all','Not much', \n",
        "                                    'Some','A lot'], ordered=True)\n",
        "  \n",
        "  # Factorizing the column data\n",
        "  labels, unique = pd.factorize(categories, sort=True)\n",
        "  df[i] = labels\n",
        "  \n",
        "# Here are the other columns which require manual transformation for the\n",
        "# categorical variables.\n",
        "# care_grammar  \n",
        "categories = pd.Categorical(df['care_grammar'], categories=[\n",
        "    'Very unimportant', 'Somewhat unimportant', 'Neutral', \n",
        "    'Somewhat important', 'Very important'], ordered=True)\n",
        "# Factorizing the column data\n",
        "labels, unique = pd.factorize(categories, sort=True)\n",
        "df['care_grammar'] = labels\n",
        "\n",
        "# # gender\n",
        "categories = pd.Categorical(df['gender'], categories=['Female','Male'], \n",
        "            ordered=True)\n",
        "# Factorizing the column data\n",
        "labels, unique = pd.factorize(categories, sort=True)\n",
        "df['gender'] = labels\n",
        "\n",
        "# # age\n",
        "categories = pd.Categorical(df['age'], categories=['18-29', '30-44', \n",
        "                              '45-60', '> 60'], ordered=True)\n",
        "# Factorizing the column data\n",
        "labels, unique = pd.factorize(categories, sort=True)\n",
        "df['age'] = labels\n",
        "\n",
        "# # household_income\n",
        "# categories = pd.Categorical(df['household_income'], categories=['$0 - $24,999', \n",
        " #  '$25,000 - $49,999','$50,000 - $99,999', '$100,000 - $149,999', '$150,000+'], \n",
        " #  ordered=True)\n",
        "# # Factorizing the column data\n",
        "# labels, unique = pd.factorize(categories, sort=True)\n",
        "# df['household_income'] = labels\n",
        "\n",
        "# # education\n",
        "categories = pd.Categorical(df['education'], categories=[\n",
        "    'Less than high school degree', 'High school degree', \n",
        "    'Some college or Associate degree', 'Bachelor degree', \n",
        "    'Graduate degree'], ordered=True)\n",
        "# Factorizing the column data\n",
        "labels, unique = pd.factorize(categories, sort=True)\n",
        "df['education'] = labels"
      ],
      "metadata": {
        "id": "pZFok5Zsv9go"
      },
      "execution_count": null,
      "outputs": []
    },
    {
      "cell_type": "code",
      "source": [
        "print(df.head())"
      ],
      "metadata": {
        "colab": {
          "base_uri": "https://localhost:8080/"
        },
        "id": "s_LhAPcOwbKK",
        "outputId": "1ed9b1b8-670c-482e-ec3a-cfec708b04ba"
      },
      "execution_count": null,
      "outputs": [
        {
          "output_type": "stream",
          "name": "stdout",
          "text": [
            "   use_oxford_comma  heard_of_comma  care_for_comma  use_data_plural  \\\n",
            "0                 0               1               2                0   \n",
            "1                 1               0               1                0   \n",
            "5                 1               0               3                1   \n",
            "6                 1               1               3                0   \n",
            "7                 1               1               3                1   \n",
            "\n",
            "   considered_data_plural  care_data_plural  care_grammar  gender  age  \\\n",
            "0                       0                 1             3       1    1   \n",
            "1                       0                 1             1       1    1   \n",
            "5                       1                 2             4       1    0   \n",
            "6                       1                 2             4       1    0   \n",
            "7                       0                 3             4       1    0   \n",
            "\n",
            "   education            location  \n",
            "0          3      South Atlantic  \n",
            "1          4            Mountain  \n",
            "5          2         New England  \n",
            "6          2             Pacific  \n",
            "7          2  East North Central  \n"
          ]
        }
      ]
    },
    {
      "cell_type": "code",
      "source": [
        "y[0:10]"
      ],
      "metadata": {
        "colab": {
          "base_uri": "https://localhost:8080/"
        },
        "id": "kwUvrVXwwbMh",
        "outputId": "60062dd3-2995-4bff-c437-cbff3800e818"
      },
      "execution_count": null,
      "outputs": [
        {
          "output_type": "execute_result",
          "data": {
            "text/plain": [
              "     household_income\n",
              "0   $50,000 - $99,999\n",
              "1   $50,000 - $99,999\n",
              "5   $25,000 - $49,999\n",
              "6        $0 - $24,999\n",
              "7   $25,000 - $49,999\n",
              "8   $50,000 - $99,999\n",
              "9           $150,000+\n",
              "10  $50,000 - $99,999\n",
              "11  $25,000 - $49,999\n",
              "12  $50,000 - $99,999"
            ],
            "text/html": [
              "\n",
              "  <div id=\"df-d30aa29c-d491-4dab-8ec4-819616728a93\">\n",
              "    <div class=\"colab-df-container\">\n",
              "      <div>\n",
              "<style scoped>\n",
              "    .dataframe tbody tr th:only-of-type {\n",
              "        vertical-align: middle;\n",
              "    }\n",
              "\n",
              "    .dataframe tbody tr th {\n",
              "        vertical-align: top;\n",
              "    }\n",
              "\n",
              "    .dataframe thead th {\n",
              "        text-align: right;\n",
              "    }\n",
              "</style>\n",
              "<table border=\"1\" class=\"dataframe\">\n",
              "  <thead>\n",
              "    <tr style=\"text-align: right;\">\n",
              "      <th></th>\n",
              "      <th>household_income</th>\n",
              "    </tr>\n",
              "  </thead>\n",
              "  <tbody>\n",
              "    <tr>\n",
              "      <th>0</th>\n",
              "      <td>$50,000 - $99,999</td>\n",
              "    </tr>\n",
              "    <tr>\n",
              "      <th>1</th>\n",
              "      <td>$50,000 - $99,999</td>\n",
              "    </tr>\n",
              "    <tr>\n",
              "      <th>5</th>\n",
              "      <td>$25,000 - $49,999</td>\n",
              "    </tr>\n",
              "    <tr>\n",
              "      <th>6</th>\n",
              "      <td>$0 - $24,999</td>\n",
              "    </tr>\n",
              "    <tr>\n",
              "      <th>7</th>\n",
              "      <td>$25,000 - $49,999</td>\n",
              "    </tr>\n",
              "    <tr>\n",
              "      <th>8</th>\n",
              "      <td>$50,000 - $99,999</td>\n",
              "    </tr>\n",
              "    <tr>\n",
              "      <th>9</th>\n",
              "      <td>$150,000+</td>\n",
              "    </tr>\n",
              "    <tr>\n",
              "      <th>10</th>\n",
              "      <td>$50,000 - $99,999</td>\n",
              "    </tr>\n",
              "    <tr>\n",
              "      <th>11</th>\n",
              "      <td>$25,000 - $49,999</td>\n",
              "    </tr>\n",
              "    <tr>\n",
              "      <th>12</th>\n",
              "      <td>$50,000 - $99,999</td>\n",
              "    </tr>\n",
              "  </tbody>\n",
              "</table>\n",
              "</div>\n",
              "      <button class=\"colab-df-convert\" onclick=\"convertToInteractive('df-d30aa29c-d491-4dab-8ec4-819616728a93')\"\n",
              "              title=\"Convert this dataframe to an interactive table.\"\n",
              "              style=\"display:none;\">\n",
              "        \n",
              "  <svg xmlns=\"http://www.w3.org/2000/svg\" height=\"24px\"viewBox=\"0 0 24 24\"\n",
              "       width=\"24px\">\n",
              "    <path d=\"M0 0h24v24H0V0z\" fill=\"none\"/>\n",
              "    <path d=\"M18.56 5.44l.94 2.06.94-2.06 2.06-.94-2.06-.94-.94-2.06-.94 2.06-2.06.94zm-11 1L8.5 8.5l.94-2.06 2.06-.94-2.06-.94L8.5 2.5l-.94 2.06-2.06.94zm10 10l.94 2.06.94-2.06 2.06-.94-2.06-.94-.94-2.06-.94 2.06-2.06.94z\"/><path d=\"M17.41 7.96l-1.37-1.37c-.4-.4-.92-.59-1.43-.59-.52 0-1.04.2-1.43.59L10.3 9.45l-7.72 7.72c-.78.78-.78 2.05 0 2.83L4 21.41c.39.39.9.59 1.41.59.51 0 1.02-.2 1.41-.59l7.78-7.78 2.81-2.81c.8-.78.8-2.07 0-2.86zM5.41 20L4 18.59l7.72-7.72 1.47 1.35L5.41 20z\"/>\n",
              "  </svg>\n",
              "      </button>\n",
              "      \n",
              "  <style>\n",
              "    .colab-df-container {\n",
              "      display:flex;\n",
              "      flex-wrap:wrap;\n",
              "      gap: 12px;\n",
              "    }\n",
              "\n",
              "    .colab-df-convert {\n",
              "      background-color: #E8F0FE;\n",
              "      border: none;\n",
              "      border-radius: 50%;\n",
              "      cursor: pointer;\n",
              "      display: none;\n",
              "      fill: #1967D2;\n",
              "      height: 32px;\n",
              "      padding: 0 0 0 0;\n",
              "      width: 32px;\n",
              "    }\n",
              "\n",
              "    .colab-df-convert:hover {\n",
              "      background-color: #E2EBFA;\n",
              "      box-shadow: 0px 1px 2px rgba(60, 64, 67, 0.3), 0px 1px 3px 1px rgba(60, 64, 67, 0.15);\n",
              "      fill: #174EA6;\n",
              "    }\n",
              "\n",
              "    [theme=dark] .colab-df-convert {\n",
              "      background-color: #3B4455;\n",
              "      fill: #D2E3FC;\n",
              "    }\n",
              "\n",
              "    [theme=dark] .colab-df-convert:hover {\n",
              "      background-color: #434B5C;\n",
              "      box-shadow: 0px 1px 3px 1px rgba(0, 0, 0, 0.15);\n",
              "      filter: drop-shadow(0px 1px 2px rgba(0, 0, 0, 0.3));\n",
              "      fill: #FFFFFF;\n",
              "    }\n",
              "  </style>\n",
              "\n",
              "      <script>\n",
              "        const buttonEl =\n",
              "          document.querySelector('#df-d30aa29c-d491-4dab-8ec4-819616728a93 button.colab-df-convert');\n",
              "        buttonEl.style.display =\n",
              "          google.colab.kernel.accessAllowed ? 'block' : 'none';\n",
              "\n",
              "        async function convertToInteractive(key) {\n",
              "          const element = document.querySelector('#df-d30aa29c-d491-4dab-8ec4-819616728a93');\n",
              "          const dataTable =\n",
              "            await google.colab.kernel.invokeFunction('convertToInteractive',\n",
              "                                                     [key], {});\n",
              "          if (!dataTable) return;\n",
              "\n",
              "          const docLinkHtml = 'Like what you see? Visit the ' +\n",
              "            '<a target=\"_blank\" href=https://colab.research.google.com/notebooks/data_table.ipynb>data table notebook</a>'\n",
              "            + ' to learn more about interactive tables.';\n",
              "          element.innerHTML = '';\n",
              "          dataTable['output_type'] = 'display_data';\n",
              "          await google.colab.output.renderOutput(dataTable, element);\n",
              "          const docLink = document.createElement('div');\n",
              "          docLink.innerHTML = docLinkHtml;\n",
              "          element.appendChild(docLink);\n",
              "        }\n",
              "      </script>\n",
              "    </div>\n",
              "  </div>\n",
              "  "
            ]
          },
          "metadata": {},
          "execution_count": 120
        }
      ]
    },
    {
      "cell_type": "code",
      "source": [
        "# transform the multi-class label (apply factorization to categorical features)\n",
        "# household_income\n",
        "y.loc[:,'household_income'] = np.where(y.loc[:,'household_income'].isna(), y.loc[:,'household_income'].mode(), y.loc[:,'household_income'])\n",
        "\n",
        "categories = pd.Categorical(y.loc[:,'household_income'], categories=['$0 - $24,999', '$25,000 - $49,999',\n",
        "  '$50,000 - $99,999', '$100,000 - $149,999', '$150,000+'], ordered=True)\n",
        "# Factorizing the column data\n",
        "labels, unique = pd.factorize(categories, sort=True)\n",
        "y = labels"
      ],
      "metadata": {
        "colab": {
          "base_uri": "https://localhost:8080/"
        },
        "id": "g37sjNWkwbO3",
        "outputId": "5099a1a8-bd3b-4507-e217-4cbd466faf33"
      },
      "execution_count": null,
      "outputs": [
        {
          "output_type": "stream",
          "name": "stderr",
          "text": [
            "/usr/local/lib/python3.7/dist-packages/pandas/core/indexing.py:1951: SettingWithCopyWarning: \n",
            "A value is trying to be set on a copy of a slice from a DataFrame.\n",
            "Try using .loc[row_indexer,col_indexer] = value instead\n",
            "\n",
            "See the caveats in the documentation: https://pandas.pydata.org/pandas-docs/stable/user_guide/indexing.html#returning-a-view-versus-a-copy\n",
            "  self.obj[selected_item_labels] = value\n"
          ]
        }
      ]
    },
    {
      "cell_type": "code",
      "source": [
        "print(y[0:10])"
      ],
      "metadata": {
        "colab": {
          "base_uri": "https://localhost:8080/"
        },
        "id": "nRSTn-cxwkjO",
        "outputId": "564b79c3-ac2f-4fb1-8211-c9bd8bd279dc"
      },
      "execution_count": null,
      "outputs": [
        {
          "output_type": "stream",
          "name": "stdout",
          "text": [
            "[2 2 1 0 1 2 4 2 1 2]\n"
          ]
        }
      ]
    },
    {
      "cell_type": "markdown",
      "source": [
        "**Getting dummy categorical features**\n",
        "\n",
        "For binary, ordinal, and interval variables, we would not like to one-hot-code all the classes. There is no need for binary variables; and for ordinal and interval variables, doing so would affect the distance between each class [which should be the same].\n",
        "\n",
        "For other variables (like nominal variables e.g. location) which does not have natural rank ordering, we can just one-hot-code it."
      ],
      "metadata": {
        "id": "wMwfB1cdxEDF"
      }
    },
    {
      "cell_type": "code",
      "source": [
        "df = pd.get_dummies(df)\n",
        "print(df.shape)"
      ],
      "metadata": {
        "colab": {
          "base_uri": "https://localhost:8080/"
        },
        "id": "81Fa3R3VxDei",
        "outputId": "90f1ab6e-cee9-461c-8cc5-287edcdde483"
      },
      "execution_count": null,
      "outputs": [
        {
          "output_type": "stream",
          "name": "stdout",
          "text": [
            "(836, 19)\n"
          ]
        }
      ]
    },
    {
      "cell_type": "code",
      "source": [
        "print(df.head())"
      ],
      "metadata": {
        "colab": {
          "base_uri": "https://localhost:8080/"
        },
        "id": "jZZRyfXyxgsq",
        "outputId": "d5ae3e48-8012-4315-caed-44930b942582"
      },
      "execution_count": null,
      "outputs": [
        {
          "output_type": "stream",
          "name": "stdout",
          "text": [
            "   use_oxford_comma  heard_of_comma  care_for_comma  use_data_plural  \\\n",
            "0                 0               1               2                0   \n",
            "1                 1               0               1                0   \n",
            "5                 1               0               3                1   \n",
            "6                 1               1               3                0   \n",
            "7                 1               1               3                1   \n",
            "\n",
            "   considered_data_plural  care_data_plural  care_grammar  gender  age  \\\n",
            "0                       0                 1             3       1    1   \n",
            "1                       0                 1             1       1    1   \n",
            "5                       1                 2             4       1    0   \n",
            "6                       1                 2             4       1    0   \n",
            "7                       0                 3             4       1    0   \n",
            "\n",
            "   education  location_East North Central  location_East South Central  \\\n",
            "0          3                            0                            0   \n",
            "1          4                            0                            0   \n",
            "5          2                            0                            0   \n",
            "6          2                            0                            0   \n",
            "7          2                            1                            0   \n",
            "\n",
            "   location_Middle Atlantic  location_Mountain  location_New England  \\\n",
            "0                         0                  0                     0   \n",
            "1                         0                  1                     0   \n",
            "5                         0                  0                     1   \n",
            "6                         0                  0                     0   \n",
            "7                         0                  0                     0   \n",
            "\n",
            "   location_Pacific  location_South Atlantic  location_West North Central  \\\n",
            "0                 0                        1                            0   \n",
            "1                 0                        0                            0   \n",
            "5                 0                        0                            0   \n",
            "6                 1                        0                            0   \n",
            "7                 0                        0                            0   \n",
            "\n",
            "   location_West South Central  \n",
            "0                            0  \n",
            "1                            0  \n",
            "5                            0  \n",
            "6                            0  \n",
            "7                            0  \n"
          ]
        }
      ]
    },
    {
      "cell_type": "markdown",
      "source": [
        "Spliting the train and test sets. We only include the grammar-related features, not demographic features."
      ],
      "metadata": {
        "id": "cefxEmJTxksc"
      }
    },
    {
      "cell_type": "code",
      "source": [
        "from sklearn.model_selection import train_test_split\n",
        "\n",
        "X_train, X_test, y_train, y_test = train_test_split(df[['use_oxford_comma', \n",
        "'heard_of_comma', 'care_for_comma', 'use_data_plural', 'considered_data_plural',\n",
        "'care_data_plural', 'care_grammar']], y, test_size=0.2, random_state=0)"
      ],
      "metadata": {
        "id": "b40yf7a0xlo8"
      },
      "execution_count": null,
      "outputs": []
    },
    {
      "cell_type": "markdown",
      "source": [
        "## Algorithm"
      ],
      "metadata": {
        "id": "HmAkS6Ryz2IE"
      }
    },
    {
      "cell_type": "markdown",
      "source": [
        "#### Logistic Regression"
      ],
      "metadata": {
        "id": "rB-Nb3DH0ZSc"
      }
    },
    {
      "cell_type": "markdown",
      "source": [
        "Logistic Regression (Baseline) w/o optimization"
      ],
      "metadata": {
        "id": "ymv_Z84Fz-MH"
      }
    },
    {
      "cell_type": "code",
      "source": [
        "from sklearn.linear_model import LogisticRegression\n",
        "from sklearn.metrics import f1_score\n",
        "from sklearn.metrics import confusion_matrix\n",
        "from sklearn.metrics import classification_report\n",
        "\n",
        "X_train, X_test, y_train, y_test = train_test_split(df[['use_oxford_comma', \n",
        "'heard_of_comma', 'care_for_comma', 'use_data_plural', 'considered_data_plural',\n",
        "'care_data_plural', 'care_grammar']], y, test_size=0.2,\n",
        "random_state=0)\n",
        "\n",
        "model = LogisticRegression(random_state=0, max_iter=500)\n",
        "model.fit(X_train, y_train)\n",
        "y_pred_test_ = model.predict(X_test)\n",
        "\n",
        "# Score to evaluate model performance\n",
        "# print(\"Test set accuracy is: \", model_selected_features.score(X_test, y_test))\n",
        "print(\"Test set F1 score is: \",  f1_score(y_test, y_pred_test_, average='micro'))\n",
        "\n",
        "mat = confusion_matrix(y_pred_test_, y_test)\n",
        "sns.heatmap(mat.T, square=True, annot=True, fmt='d', cbar=False,)\n",
        "plt.xlabel('predicted label')\n",
        "plt.ylabel('true label')\n",
        "\n",
        "precision_recall = classification_report(y_test, y_pred_test_)\n",
        "print(precision_recall)"
      ],
      "metadata": {
        "colab": {
          "base_uri": "https://localhost:8080/",
          "height": 638
        },
        "id": "WjwvgyhPz0dl",
        "outputId": "ce7548e2-6ec9-4156-9b83-f0247031fa27"
      },
      "execution_count": null,
      "outputs": [
        {
          "output_type": "stream",
          "name": "stdout",
          "text": [
            "Test set F1 score is:  0.2857142857142857\n",
            "              precision    recall  f1-score   support\n",
            "\n",
            "           0       0.00      0.00      0.00        31\n",
            "           1       0.00      0.00      0.00        33\n",
            "           2       0.29      0.98      0.45        49\n",
            "           3       0.00      0.00      0.00        27\n",
            "           4       0.00      0.00      0.00        28\n",
            "\n",
            "    accuracy                           0.29       168\n",
            "   macro avg       0.06      0.20      0.09       168\n",
            "weighted avg       0.08      0.29      0.13       168\n",
            "\n"
          ]
        },
        {
          "output_type": "stream",
          "name": "stderr",
          "text": [
            "/usr/local/lib/python3.7/dist-packages/sklearn/metrics/_classification.py:1318: UndefinedMetricWarning: Precision and F-score are ill-defined and being set to 0.0 in labels with no predicted samples. Use `zero_division` parameter to control this behavior.\n",
            "  _warn_prf(average, modifier, msg_start, len(result))\n",
            "/usr/local/lib/python3.7/dist-packages/sklearn/metrics/_classification.py:1318: UndefinedMetricWarning: Precision and F-score are ill-defined and being set to 0.0 in labels with no predicted samples. Use `zero_division` parameter to control this behavior.\n",
            "  _warn_prf(average, modifier, msg_start, len(result))\n",
            "/usr/local/lib/python3.7/dist-packages/sklearn/metrics/_classification.py:1318: UndefinedMetricWarning: Precision and F-score are ill-defined and being set to 0.0 in labels with no predicted samples. Use `zero_division` parameter to control this behavior.\n",
            "  _warn_prf(average, modifier, msg_start, len(result))\n"
          ]
        },
        {
          "output_type": "display_data",
          "data": {
            "text/plain": [
              "<Figure size 432x288 with 1 Axes>"
            ],
            "image/png": "[encoded data removed]"
          },
          "metadata": {
            "needs_background": "light"
          }
        }
      ]
    },
    {
      "cell_type": "markdown",
      "source": [
        "Logistic Regression (w/ standardization)"
      ],
      "metadata": {
        "id": "uVkjL5BB0R3Q"
      }
    },
    {
      "cell_type": "code",
      "source": [
        "from sklearn.preprocessing import StandardScaler\n",
        "from sklearn.metrics import f1_score\n",
        "from sklearn.metrics import confusion_matrix\n",
        "from sklearn.metrics import classification_report\n",
        "\n",
        "# have the train data split into train and cross validation data\n",
        "X_train_2, X_val, y_train_2, y_val = train_test_split(X_train, \n",
        "                            y_train, test_size=0.2, random_state=0)\n",
        "\n",
        "ss = StandardScaler()\n",
        "X_train_2_scaled = pd.DataFrame(ss.fit_transform(X_train_2), \n",
        "columns=X_train_2.columns)\n",
        "X_val_scaled = pd.DataFrame(ss.transform(X_val), columns=X_val.columns)\n",
        "\n",
        "# Scale full training set (since we do CV training later)\n",
        "X_train_scaled = pd.DataFrame(ss.fit_transform(X_train), columns=X_train.columns)\n",
        "X_test_scaled = pd.DataFrame(ss.transform(X_test), columns=X_test.columns)\n",
        "\n",
        "model = LogisticRegression(random_state=0, max_iter=500)\n",
        "model.fit(X_train_scaled, y_train)\n",
        "y_pred_test_ = model.predict(X_test_scaled)\n",
        "\n",
        "# Score to evaluate model performance\n",
        "# print(\"Test set accuracy is: \", model_selected_features.score(X_test, y_test))\n",
        "print(\"Test set F1 score is: \",  f1_score(y_test, y_pred_test_, average='micro'))\n",
        "\n",
        "mat = confusion_matrix(y_pred_test_, y_test)\n",
        "sns.heatmap(mat.T, square=True, annot=True, fmt='d', cbar=False,)\n",
        "plt.xlabel('predicted label')\n",
        "plt.ylabel('true label')\n",
        "\n",
        "precision_recall = classification_report(y_test, y_pred_test_)\n",
        "print(precision_recall)\n",
        "\n",
        "# The F1 score after standardization decreases by a negligible amount. We \n",
        "# keep the step of standardization."
      ],
      "metadata": {
        "colab": {
          "base_uri": "https://localhost:8080/",
          "height": 638
        },
        "id": "xercBBkK0BPn",
        "outputId": "a156c566-12fa-47ae-bb2d-e513a8dd833b"
      },
      "execution_count": null,
      "outputs": [
        {
          "output_type": "stream",
          "name": "stdout",
          "text": [
            "Test set F1 score is:  0.2857142857142857\n",
            "              precision    recall  f1-score   support\n",
            "\n",
            "           0       0.00      0.00      0.00        31\n",
            "           1       0.00      0.00      0.00        33\n",
            "           2       0.29      0.98      0.45        49\n",
            "           3       0.00      0.00      0.00        27\n",
            "           4       0.00      0.00      0.00        28\n",
            "\n",
            "    accuracy                           0.29       168\n",
            "   macro avg       0.06      0.20      0.09       168\n",
            "weighted avg       0.08      0.29      0.13       168\n",
            "\n"
          ]
        },
        {
          "output_type": "stream",
          "name": "stderr",
          "text": [
            "/usr/local/lib/python3.7/dist-packages/sklearn/metrics/_classification.py:1318: UndefinedMetricWarning: Precision and F-score are ill-defined and being set to 0.0 in labels with no predicted samples. Use `zero_division` parameter to control this behavior.\n",
            "  _warn_prf(average, modifier, msg_start, len(result))\n",
            "/usr/local/lib/python3.7/dist-packages/sklearn/metrics/_classification.py:1318: UndefinedMetricWarning: Precision and F-score are ill-defined and being set to 0.0 in labels with no predicted samples. Use `zero_division` parameter to control this behavior.\n",
            "  _warn_prf(average, modifier, msg_start, len(result))\n",
            "/usr/local/lib/python3.7/dist-packages/sklearn/metrics/_classification.py:1318: UndefinedMetricWarning: Precision and F-score are ill-defined and being set to 0.0 in labels with no predicted samples. Use `zero_division` parameter to control this behavior.\n",
            "  _warn_prf(average, modifier, msg_start, len(result))\n"
          ]
        },
        {
          "output_type": "display_data",
          "data": {
            "text/plain": [
              "<Figure size 432x288 with 1 Axes>"
            ],
            "image/png": "[encoded data removed]"
          },
          "metadata": {
            "needs_background": "light"
          }
        }
      ]
    },
    {
      "cell_type": "markdown",
      "source": [
        "Logistic Regression: the addition of class weights to the model's loss function (to resolve skewness)"
      ],
      "metadata": {
        "id": "nb3X2A_o0fFw"
      }
    },
    {
      "cell_type": "code",
      "source": [
        "from sklearn.metrics import f1_score\n",
        "from sklearn.metrics import confusion_matrix\n",
        "from sklearn.metrics import classification_report\n",
        "\n",
        "model = LogisticRegression(random_state=0, max_iter=500, \n",
        "class_weight = 'balanced')\n",
        "\n",
        "model.fit(X_train_scaled, y_train)\n",
        "y_pred_test_ = model.predict(X_test_scaled)\n",
        "\n",
        "# Score to evaluate model performance\n",
        "# print(\"Test set accuracy is: \", model_selected_features.score(X_test, y_test))\n",
        "print(\"Test set F1 score is: \",  f1_score(y_test, y_pred_test_, average='micro'))\n",
        "\n",
        "mat = confusion_matrix(y_pred_test_, y_test)\n",
        "sns.heatmap(mat.T, square=True, annot=True, fmt='d', cbar=False,)\n",
        "plt.xlabel('predicted label')\n",
        "plt.ylabel('true label')\n",
        "\n",
        "precision_recall = classification_report(y_test, y_pred_test_)\n",
        "print(precision_recall)\n",
        "\n",
        "# The F1 score decreases after applying class weights, but it does not tend to\n",
        "# bias the most frequent class (class 3). So, we keep the addition of class\n",
        "# weights."
      ],
      "metadata": {
        "colab": {
          "base_uri": "https://localhost:8080/",
          "height": 511
        },
        "id": "2IeNGL2f0BRw",
        "outputId": "bc966df8-334b-405a-893d-726c6c2e7f31"
      },
      "execution_count": null,
      "outputs": [
        {
          "output_type": "stream",
          "name": "stdout",
          "text": [
            "Test set F1 score is:  0.23214285714285715\n",
            "              precision    recall  f1-score   support\n",
            "\n",
            "           0       0.27      0.42      0.33        31\n",
            "           1       0.15      0.06      0.09        33\n",
            "           2       0.28      0.24      0.26        49\n",
            "           3       0.14      0.15      0.14        27\n",
            "           4       0.23      0.29      0.25        28\n",
            "\n",
            "    accuracy                           0.23       168\n",
            "   macro avg       0.21      0.23      0.21       168\n",
            "weighted avg       0.22      0.23      0.22       168\n",
            "\n"
          ]
        },
        {
          "output_type": "display_data",
          "data": {
            "text/plain": [
              "<Figure size 432x288 with 1 Axes>"
            ],
            "image/png": "[encoded data removed]"
          },
          "metadata": {
            "needs_background": "light"
          }
        }
      ]
    },
    {
      "cell_type": "markdown",
      "source": [
        "Logistic Regression: after oversampling"
      ],
      "metadata": {
        "id": "B_oHT9kP02Pc"
      }
    },
    {
      "cell_type": "code",
      "source": [
        "!pip install imbalanced-learn"
      ],
      "metadata": {
        "colab": {
          "base_uri": "https://localhost:8080/"
        },
        "id": "SA1QmF7x0JNk",
        "outputId": "60f9efbb-e00b-47e9-eb50-9977935bc983"
      },
      "execution_count": null,
      "outputs": [
        {
          "output_type": "stream",
          "name": "stdout",
          "text": [
            "Looking in indexes: https://pypi.org/simple, https://us-python.pkg.dev/colab-wheels/public/simple/\n",
            "Requirement already satisfied: imbalanced-learn in /usr/local/lib/python3.7/dist-packages (0.8.1)\n",
            "Requirement already satisfied: numpy>=1.13.3 in /usr/local/lib/python3.7/dist-packages (from imbalanced-learn) (1.21.6)\n",
            "Requirement already satisfied: joblib>=0.11 in /usr/local/lib/python3.7/dist-packages (from imbalanced-learn) (1.2.0)\n",
            "Requirement already satisfied: scikit-learn>=0.24 in /usr/local/lib/python3.7/dist-packages (from imbalanced-learn) (1.0.2)\n",
            "Requirement already satisfied: scipy>=0.19.1 in /usr/local/lib/python3.7/dist-packages (from imbalanced-learn) (1.7.3)\n",
            "Requirement already satisfied: threadpoolctl>=2.0.0 in /usr/local/lib/python3.7/dist-packages (from scikit-learn>=0.24->imbalanced-learn) (3.1.0)\n"
          ]
        }
      ]
    },
    {
      "cell_type": "code",
      "source": [
        "# https://imbalanced-learn.org/stable/over_sampling.html#a-practical-guide\n",
        "from imblearn.over_sampling import RandomOverSampler\n",
        "\n",
        "ros = RandomOverSampler(random_state=0, sampling_strategy='not majority')\n",
        "X_resampled, y_resampled = ros.fit_resample(X_train_scaled, y_train)\n",
        "\n",
        "use_resampled = True"
      ],
      "metadata": {
        "id": "oCthjts_0JUK"
      },
      "execution_count": null,
      "outputs": []
    },
    {
      "cell_type": "code",
      "source": [
        "from sklearn.metrics import f1_score\n",
        "from sklearn.metrics import confusion_matrix\n",
        "from sklearn.metrics import classification_report\n",
        "\n",
        "model = LogisticRegression(random_state=0, max_iter=500, \n",
        "class_weight = 'balanced')\n",
        "\n",
        "model.fit(X_resampled, y_resampled)\n",
        "y_pred_test_ = model.predict(X_test_scaled)\n",
        "\n",
        "# Score to evaluate model performance\n",
        "# print(\"Test set accuracy is: \", model_selected_features.score(X_test, y_test))\n",
        "print(\"Test set F1 score is: \",  f1_score(y_test, y_pred_test_, average='micro'))\n",
        "\n",
        "mat = confusion_matrix(y_pred_test_, y_test)\n",
        "sns.heatmap(mat.T, square=True, annot=True, fmt='d', cbar=False,)\n",
        "plt.xlabel('predicted label')\n",
        "plt.ylabel('true label')\n",
        "\n",
        "precision_recall = classification_report(y_test, y_pred_test_)\n",
        "print(precision_recall)\n",
        "\n",
        "# The F1 score decreases after applying class weights, but it does not tend to\n",
        "# bias the most frequent class (class 3). So, we keep the addition of class\n",
        "# weights."
      ],
      "metadata": {
        "colab": {
          "base_uri": "https://localhost:8080/",
          "height": 511
        },
        "id": "PZbQcYmd0JXD",
        "outputId": "1be907a4-1d74-48de-b021-f38b43e93649"
      },
      "execution_count": null,
      "outputs": [
        {
          "output_type": "stream",
          "name": "stdout",
          "text": [
            "Test set F1 score is:  0.21428571428571427\n",
            "              precision    recall  f1-score   support\n",
            "\n",
            "           0       0.22      0.48      0.31        31\n",
            "           1       0.20      0.12      0.15        33\n",
            "           2       0.15      0.08      0.11        49\n",
            "           3       0.29      0.22      0.25        27\n",
            "           4       0.21      0.25      0.23        28\n",
            "\n",
            "    accuracy                           0.21       168\n",
            "   macro avg       0.21      0.23      0.21       168\n",
            "weighted avg       0.21      0.21      0.20       168\n",
            "\n"
          ]
        },
        {
          "output_type": "display_data",
          "data": {
            "text/plain": [
              "<Figure size 432x288 with 1 Axes>"
            ],
            "image/png": "[encoded data removed]"
          },
          "metadata": {
            "needs_background": "light"
          }
        }
      ]
    },
    {
      "cell_type": "markdown",
      "source": [
        "Logistic Regression: after binary classification (1st way, by grouping classes 0-1 as class 0 and classes 2-4 as class 1)"
      ],
      "metadata": {
        "id": "F2jyA6fA1P5O"
      }
    },
    {
      "cell_type": "code",
      "source": [
        "## Logistic Regression: after binary classification (1st way)\n",
        "y_df = pd.DataFrame(y, columns = ['household_income'])\n",
        "y_df['household_income_binary'] = np.nan\n",
        "\n",
        "# \"$0 - $24,999\", \"$25,000 - $49,999\" are in class 0\n",
        "y_df.loc[y_df['household_income'] == 0, 'household_income_binary'] = 0 \n",
        "y_df.loc[y_df['household_income'] == 1, 'household_income_binary'] = 0 \n",
        "\n",
        "# \"$50,000 - $99,999\", \"$100,000 - $149,999\", and \"$150,000+\" are in class 1\n",
        "y_df.loc[y_df['household_income'] == 2, 'household_income_binary'] = 1\n",
        "y_df.loc[y_df['household_income'] == 3, 'household_income_binary'] = 1 \n",
        "y_df.loc[y_df['household_income'] == 4, 'household_income_binary'] = 1 \n",
        "y_df = y_df[['household_income_binary']]\n",
        "\n",
        "# Standardization\n",
        "X1_train, X1_test, y1_train, y1_test = train_test_split(df[['use_oxford_comma', \n",
        "'heard_of_comma', 'care_for_comma', 'use_data_plural', 'considered_data_plural',\n",
        "'care_data_plural', 'care_grammar']], y_df, test_size=0.2,\n",
        "random_state=0)\n",
        "\n",
        "# have the train data split into train and cross validation data\n",
        "X1_train_2, X1_val, y1_train_2, y1_val = train_test_split(X1_train, \n",
        "                            y1_train, test_size=0.2, random_state=0)\n",
        "\n",
        "ss = StandardScaler()\n",
        "X1_train_2_scaled = pd.DataFrame(ss.fit_transform(X1_train_2), \n",
        "columns=X1_train_2.columns)\n",
        "X1_val_scaled = pd.DataFrame(ss.transform(X1_val), columns=X1_val.columns)\n",
        "\n",
        "# Scale full training set (since we do CV training later)\n",
        "X1_train_scaled = pd.DataFrame(ss.fit_transform(X1_train), columns=X1_train.columns)\n",
        "X1_test_scaled = pd.DataFrame(ss.transform(X1_test), columns=X1_test.columns)\n",
        "\n",
        "# Oversampling\n",
        "# https://imbalanced-learn.org/stable/over_sampling.html#a-practical-guide\n",
        "from imblearn.over_sampling import RandomOverSampler\n",
        "\n",
        "ros = RandomOverSampler(random_state=0, sampling_strategy='not majority')\n",
        "X1_resampled, y1_resampled = ros.fit_resample(X1_train_scaled, y1_train)\n",
        "X1_resampled_,y1_resampled_ = ros.fit_resample(X1_train_2_scaled, y1_train_2)\n",
        "use_resampled = True\n",
        "\n",
        "model = LogisticRegression(random_state=0, max_iter=500,\n",
        "class_weight = 'balanced')\n",
        "model.fit(X1_resampled, y1_resampled)\n",
        "y_pred_test_ = model.predict(X1_test_scaled)\n",
        "\n",
        "# Score to evaluate model performance\n",
        "# print(\"Test set accuracy is: \", model_selected_features.score(X_test, y_test))\n",
        "print(\"Test set F1 score is: \",  f1_score(y1_test, y_pred_test_, average='micro'))\n",
        "\n",
        "mat = confusion_matrix(y_pred_test_, y1_test)\n",
        "sns.heatmap(mat.T, square=True, annot=True, fmt='d', cbar=False,)\n",
        "plt.xlabel('predicted label')\n",
        "plt.ylabel('true label')\n",
        "\n",
        "precision_recall = classification_report(y1_test, y_pred_test_)\n",
        "print(precision_recall)"
      ],
      "metadata": {
        "colab": {
          "base_uri": "https://localhost:8080/",
          "height": 513
        },
        "id": "BDrNdN-K1KYF",
        "outputId": "1095dcec-0b90-479c-dead-ff28fad9df67"
      },
      "execution_count": null,
      "outputs": [
        {
          "output_type": "stream",
          "name": "stderr",
          "text": [
            "/usr/local/lib/python3.7/dist-packages/sklearn/utils/validation.py:993: DataConversionWarning: A column-vector y was passed when a 1d array was expected. Please change the shape of y to (n_samples, ), for example using ravel().\n",
            "  y = column_or_1d(y, warn=True)\n"
          ]
        },
        {
          "output_type": "stream",
          "name": "stdout",
          "text": [
            "Test set F1 score is:  0.5476190476190477\n",
            "              precision    recall  f1-score   support\n",
            "\n",
            "         0.0       0.41      0.44      0.42        64\n",
            "         1.0       0.64      0.62      0.63       104\n",
            "\n",
            "    accuracy                           0.55       168\n",
            "   macro avg       0.53      0.53      0.53       168\n",
            "weighted avg       0.55      0.55      0.55       168\n",
            "\n"
          ]
        },
        {
          "output_type": "display_data",
          "data": {
            "text/plain": [
              "<Figure size 432x288 with 1 Axes>"
            ],
            "image/png": "[encoded data removed]"
          },
          "metadata": {
            "needs_background": "light"
          }
        }
      ]
    },
    {
      "cell_type": "markdown",
      "source": [
        "Logistic Regression: after regularization (1st way binary classification)"
      ],
      "metadata": {
        "id": "dY2z-GQn1CT5"
      }
    },
    {
      "cell_type": "code",
      "source": [
        "for C in [0.0000001,0.000001, 0.00001, 0.1, 0.5, 10.0]:\n",
        "    # Apply logistic regression\n",
        "    model = LogisticRegression(random_state=0, max_iter=500, C = C, \n",
        "    class_weight = 'balanced').fit(X1_resampled_, np.ravel(y1_resampled_))\n",
        "    \n",
        "    y_pred_test_ = model.predict(X1_val_scaled)\n",
        "    \n",
        "    # showing C and R square values\n",
        "    print(\"C:\", C, \"score:\", model.score(X1_val_scaled, y1_val))\n",
        "\n",
        "# Choose C = 0.1 as the parameter, as it has higher score.\n",
        "model = LogisticRegression(random_state=0, max_iter=500, C = 0.1, \n",
        "class_weight = 'balanced')\n",
        "\n",
        "model.fit(X1_resampled, y1_resampled)\n",
        "y_pred_test_ = model.predict(X1_test_scaled)\n",
        "\n",
        "# Score to evaluate model performance\n",
        "# print(\"Test set accuracy is: \", model_selected_features.score(X_test, y_test))\n",
        "print(\"Test set F1 score is: \",  f1_score(y1_test, y_pred_test_, average='micro'))\n",
        "\n",
        "mat = confusion_matrix(y_pred_test_, y1_test)\n",
        "sns.heatmap(mat.T, square=True, annot=True, fmt='d', cbar=False,)\n",
        "plt.xlabel('predicted label')\n",
        "plt.ylabel('true label')\n",
        "\n",
        "precision_recall = classification_report(y1_test, y_pred_test_)\n",
        "print(precision_recall)\n",
        "\n",
        "# The F1 score after regulariztion does not change. We keep the step of \n",
        "# regularization."
      ],
      "metadata": {
        "colab": {
          "base_uri": "https://localhost:8080/",
          "height": 620
        },
        "id": "20fewaCf1B-c",
        "outputId": "28253436-d2da-4982-b250-ec684bcbb66e"
      },
      "execution_count": null,
      "outputs": [
        {
          "output_type": "stream",
          "name": "stdout",
          "text": [
            "C: 1e-07 score: 0.4925373134328358\n",
            "C: 1e-06 score: 0.4925373134328358\n",
            "C: 1e-05 score: 0.4925373134328358\n",
            "C: 0.1 score: 0.5223880597014925\n",
            "C: 0.5 score: 0.5223880597014925\n",
            "C: 10.0 score: 0.5223880597014925\n",
            "Test set F1 score is:  0.5476190476190477\n"
          ]
        },
        {
          "output_type": "stream",
          "name": "stderr",
          "text": [
            "/usr/local/lib/python3.7/dist-packages/sklearn/utils/validation.py:993: DataConversionWarning: A column-vector y was passed when a 1d array was expected. Please change the shape of y to (n_samples, ), for example using ravel().\n",
            "  y = column_or_1d(y, warn=True)\n"
          ]
        },
        {
          "output_type": "stream",
          "name": "stdout",
          "text": [
            "              precision    recall  f1-score   support\n",
            "\n",
            "         0.0       0.41      0.44      0.42        64\n",
            "         1.0       0.64      0.62      0.63       104\n",
            "\n",
            "    accuracy                           0.55       168\n",
            "   macro avg       0.53      0.53      0.53       168\n",
            "weighted avg       0.55      0.55      0.55       168\n",
            "\n"
          ]
        },
        {
          "output_type": "display_data",
          "data": {
            "text/plain": [
              "<Figure size 432x288 with 1 Axes>"
            ],
            "image/png": "[encoded data removed]"
          },
          "metadata": {
            "needs_background": "light"
          }
        }
      ]
    },
    {
      "cell_type": "markdown",
      "source": [
        "Logistic Regression: after binary classification (2nd way, by grouping classes 0-1 as class 0 and classes 2-4 as class 1)"
      ],
      "metadata": {
        "id": "4gKRGghb1f_I"
      }
    },
    {
      "cell_type": "code",
      "source": [
        "## Logistic Regression: after binary classification (2nd way)\n",
        "y_df = pd.DataFrame(y, columns = ['household_income'])\n",
        "y_df['household_income_binary'] = np.nan\n",
        "\n",
        "# \"$0 - $24,999\", \"$25,000 - $49,999\", \"$50,000 - $99,999\" are in class 0\n",
        "y_df.loc[y_df['household_income'] == 0, 'household_income_binary'] = 0 \n",
        "y_df.loc[y_df['household_income'] == 1, 'household_income_binary'] = 0 \n",
        "y_df.loc[y_df['household_income'] == 2, 'household_income_binary'] = 0\n",
        "\n",
        "# \"$100,000 - $149,999\", and \"$150,000+\" are in class 1\n",
        "y_df.loc[y_df['household_income'] == 3, 'household_income_binary'] = 1 \n",
        "y_df.loc[y_df['household_income'] == 4, 'household_income_binary'] = 1 \n",
        "y_df = y_df[['household_income_binary']]\n",
        "\n",
        "# Standardization\n",
        "X2_train, X2_test, y2_train, y2_test = train_test_split(df[['use_oxford_comma', \n",
        "'heard_of_comma', 'care_for_comma', 'use_data_plural', 'considered_data_plural',\n",
        "'care_data_plural', 'care_grammar']], y_df, test_size=0.2,\n",
        "random_state=0)\n",
        "\n",
        "# have the train data split into train and cross validation data\n",
        "X2_train_2, X2_val, y2_train_2, y2_val = train_test_split(X2_train, \n",
        "                            y2_train, test_size=0.2, random_state=0)\n",
        "\n",
        "ss = StandardScaler()\n",
        "X2_train_2_scaled = pd.DataFrame(ss.fit_transform(X2_train_2), \n",
        "columns=X2_train_2.columns)\n",
        "X2_val_scaled = pd.DataFrame(ss.transform(X2_val), columns=X2_val.columns)\n",
        "\n",
        "# Scale full training set (since we do CV training later)\n",
        "X2_train_scaled = pd.DataFrame(ss.fit_transform(X2_train), columns=X2_train.columns)\n",
        "X2_test_scaled = pd.DataFrame(ss.transform(X2_test), columns=X2_test.columns)\n",
        "\n",
        "# Oversampling\n",
        "# https://imbalanced-learn.org/stable/over_sampling.html#a-practical-guide\n",
        "from imblearn.over_sampling import RandomOverSampler\n",
        "\n",
        "ros = RandomOverSampler(random_state=0, sampling_strategy='not majority')\n",
        "X2_resampled, y2_resampled = ros.fit_resample(X2_train_scaled, y2_train)\n",
        "X2_resampled_,y2_resampled_ = ros.fit_resample(X2_train_2_scaled, y2_train_2)\n",
        "use_resampled = True\n",
        "\n",
        "model = LogisticRegression(random_state=0, max_iter=500,\n",
        "class_weight = 'balanced')\n",
        "model.fit(X2_resampled, y2_resampled)\n",
        "y_pred_test_ = model.predict(X2_test_scaled)\n",
        "\n",
        "# Score to evaluate model performance\n",
        "# print(\"Test set accuracy is: \", model_selected_features.score(X_test, y_test))\n",
        "print(\"Test set F1 score is: \",  f1_score(y2_test, y_pred_test_, average='micro'))\n",
        "\n",
        "mat = confusion_matrix(y_pred_test_, y2_test)\n",
        "sns.heatmap(mat.T, square=True, annot=True, fmt='d', cbar=False,)\n",
        "plt.xlabel('predicted label')\n",
        "plt.ylabel('true label')\n",
        "\n",
        "precision_recall = classification_report(y2_test, y_pred_test_)\n",
        "print(precision_recall)"
      ],
      "metadata": {
        "colab": {
          "base_uri": "https://localhost:8080/",
          "height": 513
        },
        "id": "XvD3WZgv1i7V",
        "outputId": "12d0d998-6fa1-4d50-a6de-4e3fbdf9840d"
      },
      "execution_count": null,
      "outputs": [
        {
          "output_type": "stream",
          "name": "stdout",
          "text": [
            "Test set F1 score is:  0.5476190476190477\n",
            "              precision    recall  f1-score   support\n",
            "\n",
            "         0.0       0.71      0.56      0.62       113\n",
            "         1.0       0.37      0.53      0.43        55\n",
            "\n",
            "    accuracy                           0.55       168\n",
            "   macro avg       0.54      0.54      0.53       168\n",
            "weighted avg       0.60      0.55      0.56       168\n",
            "\n"
          ]
        },
        {
          "output_type": "stream",
          "name": "stderr",
          "text": [
            "/usr/local/lib/python3.7/dist-packages/sklearn/utils/validation.py:993: DataConversionWarning: A column-vector y was passed when a 1d array was expected. Please change the shape of y to (n_samples, ), for example using ravel().\n",
            "  y = column_or_1d(y, warn=True)\n"
          ]
        },
        {
          "output_type": "display_data",
          "data": {
            "text/plain": [
              "<Figure size 432x288 with 1 Axes>"
            ],
            "image/png": "[encoded data removed]"
          },
          "metadata": {
            "needs_background": "light"
          }
        }
      ]
    },
    {
      "cell_type": "markdown",
      "source": [
        "Logistic Regression: after regularization (2nd way binary classification)"
      ],
      "metadata": {
        "id": "H32Qvb4to9uq"
      }
    },
    {
      "cell_type": "code",
      "source": [
        "for C in [0.0000001,0.000001, 0.00001, 0.1, 0.5, 10.0]:\n",
        "    # Apply logistic regression\n",
        "    model = LogisticRegression(random_state=0, max_iter=500, C = C, \n",
        "    class_weight = 'balanced').fit(X2_resampled_, np.ravel(y2_resampled_))\n",
        "    \n",
        "    y_pred_test_ = model.predict(X2_val_scaled)\n",
        "    \n",
        "    # showing C and R square values\n",
        "    print(\"C:\", C, \"score:\", model.score(X2_val_scaled, y2_val))\n",
        "\n",
        "# Choose C = 0.1 as the parameter, as it has higher score.\n",
        "model = LogisticRegression(random_state=0, max_iter=500, C = 0.1, \n",
        "class_weight = 'balanced')\n",
        "\n",
        "model.fit(X2_resampled, y2_resampled)\n",
        "y_pred_test_ = model.predict(X2_test_scaled)\n",
        "\n",
        "# Score to evaluate model performance\n",
        "# print(\"Test set accuracy is: \", model_selected_features.score(X_test, y_test))\n",
        "print(\"Test set F1 score is: \",  f1_score(y2_test, y_pred_test_, average='micro'))\n",
        "\n",
        "mat = confusion_matrix(y_pred_test_, y2_test)\n",
        "sns.heatmap(mat.T, square=True, annot=True, fmt='d', cbar=False,)\n",
        "plt.xlabel('predicted label')\n",
        "plt.ylabel('true label')\n",
        "\n",
        "precision_recall = classification_report(y2_test, y_pred_test_)\n",
        "print(precision_recall)\n",
        "\n",
        "# The F1 score after regulariztion does not change. We keep the step of \n",
        "# regularization."
      ],
      "metadata": {
        "colab": {
          "base_uri": "https://localhost:8080/",
          "height": 620
        },
        "id": "FPzZa89Lo8ba",
        "outputId": "e2d6606c-b8da-429e-8885-454e8f224a65"
      },
      "execution_count": null,
      "outputs": [
        {
          "output_type": "stream",
          "name": "stdout",
          "text": [
            "C: 1e-07 score: 0.43283582089552236\n",
            "C: 1e-06 score: 0.43283582089552236\n",
            "C: 1e-05 score: 0.43283582089552236\n",
            "C: 0.1 score: 0.4701492537313433\n",
            "C: 0.5 score: 0.4701492537313433\n",
            "C: 10.0 score: 0.47761194029850745\n",
            "Test set F1 score is:  0.5476190476190477\n"
          ]
        },
        {
          "output_type": "stream",
          "name": "stderr",
          "text": [
            "/usr/local/lib/python3.7/dist-packages/sklearn/utils/validation.py:993: DataConversionWarning: A column-vector y was passed when a 1d array was expected. Please change the shape of y to (n_samples, ), for example using ravel().\n",
            "  y = column_or_1d(y, warn=True)\n"
          ]
        },
        {
          "output_type": "stream",
          "name": "stdout",
          "text": [
            "              precision    recall  f1-score   support\n",
            "\n",
            "         0.0       0.71      0.55      0.62       113\n",
            "         1.0       0.37      0.55      0.44        55\n",
            "\n",
            "    accuracy                           0.55       168\n",
            "   macro avg       0.54      0.55      0.53       168\n",
            "weighted avg       0.60      0.55      0.56       168\n",
            "\n"
          ]
        },
        {
          "output_type": "display_data",
          "data": {
            "text/plain": [
              "<Figure size 432x288 with 1 Axes>"
            ],
            "image/png": "[encoded data removed]"
          },
          "metadata": {
            "needs_background": "light"
          }
        }
      ]
    },
    {
      "cell_type": "markdown",
      "source": [
        "#### kNN"
      ],
      "metadata": {
        "id": "zOvaKhJs4Qbl"
      }
    },
    {
      "cell_type": "markdown",
      "source": [
        "kNN (Baseline) w/o optimization"
      ],
      "metadata": {
        "id": "vG0Rnn8k4WPt"
      }
    },
    {
      "cell_type": "code",
      "source": [
        "from sklearn.neighbors import KNeighborsClassifier\n",
        "\n",
        "knn = KNeighborsClassifier(n_neighbors=1)\n",
        "knn.fit(X_train, y_train)\n",
        "\n",
        "y_pred_test_ = knn.predict(X_test)\n",
        "\n",
        "# Score to evaluate model performance\n",
        "# print(\"Test set accuracy is: \",  knn.score(X_test_scaled, y_test))\n",
        "print(\"Test set F1 score is: \",  f1_score(y_test, y_pred_test_, average='micro'))\n",
        "\n",
        "mat = confusion_matrix(y_pred_test_, y_test)\n",
        "sns.heatmap(mat.T, square=True, annot=True, fmt='d', cbar=False,)\n",
        "plt.xlabel('predicted label')\n",
        "plt.ylabel('true label')\n",
        "\n",
        "precision_recall = classification_report(y_test, y_pred_test_)\n",
        "print(precision_recall)"
      ],
      "metadata": {
        "colab": {
          "base_uri": "https://localhost:8080/",
          "height": 511
        },
        "id": "75r2u2BD4MWH",
        "outputId": "383e7f15-8a40-45e9-d55b-cf53d0f1e5d0"
      },
      "execution_count": null,
      "outputs": [
        {
          "output_type": "stream",
          "name": "stdout",
          "text": [
            "Test set F1 score is:  0.25\n",
            "              precision    recall  f1-score   support\n",
            "\n",
            "           0       0.21      0.19      0.20        31\n",
            "           1       0.19      0.21      0.20        33\n",
            "           2       0.37      0.39      0.38        49\n",
            "           3       0.25      0.26      0.25        27\n",
            "           4       0.12      0.11      0.12        28\n",
            "\n",
            "    accuracy                           0.25       168\n",
            "   macro avg       0.23      0.23      0.23       168\n",
            "weighted avg       0.25      0.25      0.25       168\n",
            "\n"
          ]
        },
        {
          "output_type": "display_data",
          "data": {
            "text/plain": [
              "<Figure size 432x288 with 1 Axes>"
            ],
            "image/png": "[encoded data removed]"
          },
          "metadata": {
            "needs_background": "light"
          }
        }
      ]
    },
    {
      "cell_type": "markdown",
      "source": [
        "kNN: after standardization, class weights, oversampling, and binary classification (1st way)"
      ],
      "metadata": {
        "id": "MPjcHM5r00OD"
      }
    },
    {
      "cell_type": "code",
      "source": [
        "from sklearn.neighbors import KNeighborsClassifier\n",
        "\n",
        "knn = KNeighborsClassifier(n_neighbors=1,weights='distance')\n",
        "knn.fit(X1_resampled, y1_resampled)\n",
        "\n",
        "y_pred_test_ = knn.predict(X1_test_scaled)\n",
        "\n",
        "# Score to evaluate model performance\n",
        "# print(\"Test set accuracy is: \",  knn.score(X1_test_scaled, y1_test))\n",
        "print(\"Test set F1 score is: \",  f1_score(y1_test, y_pred_test_, average='micro'))\n",
        "\n",
        "mat = confusion_matrix(y_pred_test_, y1_test)\n",
        "sns.heatmap(mat.T, square=True, annot=True, fmt='d', cbar=False,)\n",
        "plt.xlabel('predicted label')\n",
        "plt.ylabel('true label')\n",
        "\n",
        "precision_recall = classification_report(y1_test, y_pred_test_)\n",
        "print(precision_recall)"
      ],
      "metadata": {
        "colab": {
          "base_uri": "https://localhost:8080/",
          "height": 513
        },
        "id": "J3A6ELPa038Y",
        "outputId": "4ccad116-e5d0-4e0e-81f4-dd98d94329fd"
      },
      "execution_count": null,
      "outputs": [
        {
          "output_type": "stream",
          "name": "stdout",
          "text": [
            "Test set F1 score is:  0.5119047619047619\n",
            "              precision    recall  f1-score   support\n",
            "\n",
            "         0.0       0.34      0.31      0.33        64\n",
            "         1.0       0.60      0.63      0.62       104\n",
            "\n",
            "    accuracy                           0.51       168\n",
            "   macro avg       0.47      0.47      0.47       168\n",
            "weighted avg       0.50      0.51      0.51       168\n",
            "\n"
          ]
        },
        {
          "output_type": "stream",
          "name": "stderr",
          "text": [
            "/usr/local/lib/python3.7/dist-packages/sklearn/neighbors/_classification.py:198: DataConversionWarning: A column-vector y was passed when a 1d array was expected. Please change the shape of y to (n_samples,), for example using ravel().\n",
            "  return self._fit(X, y)\n"
          ]
        },
        {
          "output_type": "display_data",
          "data": {
            "text/plain": [
              "<Figure size 432x288 with 1 Axes>"
            ],
            "image/png": "[encoded data removed]"
          },
          "metadata": {
            "needs_background": "light"
          }
        }
      ]
    },
    {
      "cell_type": "markdown",
      "source": [
        "kNN optimize k: binary classification (1st way)"
      ],
      "metadata": {
        "id": "ju2yDkfK5nzR"
      }
    },
    {
      "cell_type": "code",
      "source": [
        "from sklearn.model_selection import cross_val_score\n",
        "# creating list of K for KNN\n",
        "k_list = list(range(1,100))\n",
        "\n",
        "# creating list of cv scores\n",
        "cv_scores = []\n",
        "\n",
        "# perform 10-fold cross validation to find the optimal k-value\n",
        "for k in k_list:\n",
        "    knn = KNeighborsClassifier(n_neighbors=k,weights='distance')\n",
        "    if not use_resampled:\n",
        "        scores = cross_val_score(knn, X1_train_2_scaled, np.ravel(y1_train_2), \n",
        "        cv=10, scoring='f1_micro')\n",
        "    else:\n",
        "        scores = cross_val_score(knn, X1_resampled_, np.ravel(y1_resampled_), \n",
        "        cv=10, scoring='f1_micro')\n",
        "    cv_scores.append(scores.mean())\n",
        "    \n",
        "# plot the resulting F1 across number of neighbors\n",
        "plt.plot(k_list, cv_scores)\n",
        "plt.title(\"Micro-averaged F1 score as a function of the number of neighbors for K-Neighbors Classifier\")\n",
        "plt.xlabel(\"Number of Neighbors\")\n",
        "plt.ylabel(\"Micro-averaged F1 score\")\n",
        "\n",
        "# select the number of neighbors which maximizes the accuracy\n",
        "best_k = k_list[cv_scores.index(max(cv_scores))]\n",
        "print(\"The optimal number of neighbors is %d.\" % best_k)"
      ],
      "metadata": {
        "colab": {
          "base_uri": "https://localhost:8080/",
          "height": 313
        },
        "id": "xFpJwc9C5xpv",
        "outputId": "d3641633-5c07-4be2-e9f9-0a9e27615e7c"
      },
      "execution_count": null,
      "outputs": [
        {
          "output_type": "stream",
          "name": "stdout",
          "text": [
            "The optimal number of neighbors is 98.\n"
          ]
        },
        {
          "output_type": "display_data",
          "data": {
            "text/plain": [
              "<Figure size 432x288 with 1 Axes>"
            ],
            "image/png": "[encoded data removed]"
          },
          "metadata": {
            "needs_background": "light"
          }
        }
      ]
    },
    {
      "cell_type": "code",
      "source": [
        "# Evaluate kNN\n",
        "from sklearn.metrics import f1_score\n",
        "from sklearn.metrics import confusion_matrix\n",
        "\n",
        "knn = KNeighborsClassifier(n_neighbors=98,weights='distance')\n",
        "if not use_resampled:\n",
        "    knn.fit(X1_train_scaled, y1_train)\n",
        "else:\n",
        "    knn.fit(X1_resampled, y1_resampled)\n",
        "\n",
        "y_pred_test_ = knn.predict(X1_test_scaled)\n",
        "\n",
        "# Score to evaluate model performance\n",
        "# print(\"Test set accuracy is: \",  knn.score(X1_test_scaled, y1_test))\n",
        "print(\"Test set F1 score is: \",  f1_score(y1_test, y_pred_test_, average='micro'))\n",
        "\n",
        "mat = confusion_matrix(y_pred_test_, y1_test)\n",
        "sns.heatmap(mat.T, square=True, annot=True, fmt='d', cbar=False,)\n",
        "plt.xlabel('predicted label')\n",
        "plt.ylabel('true label')\n",
        "\n",
        "precision_recall = classification_report(y1_test, y_pred_test_)\n",
        "print(precision_recall)"
      ],
      "metadata": {
        "colab": {
          "base_uri": "https://localhost:8080/",
          "height": 513
        },
        "id": "K8HwagZd6Onu",
        "outputId": "d61bf0a5-d0fb-4a62-dcc3-9f56edd1ccdb"
      },
      "execution_count": null,
      "outputs": [
        {
          "output_type": "stream",
          "name": "stderr",
          "text": [
            "/usr/local/lib/python3.7/dist-packages/sklearn/neighbors/_classification.py:198: DataConversionWarning: A column-vector y was passed when a 1d array was expected. Please change the shape of y to (n_samples,), for example using ravel().\n",
            "  return self._fit(X, y)\n"
          ]
        },
        {
          "output_type": "stream",
          "name": "stdout",
          "text": [
            "Test set F1 score is:  0.5119047619047619\n",
            "              precision    recall  f1-score   support\n",
            "\n",
            "         0.0       0.38      0.44      0.41        64\n",
            "         1.0       0.62      0.56      0.59       104\n",
            "\n",
            "    accuracy                           0.51       168\n",
            "   macro avg       0.50      0.50      0.50       168\n",
            "weighted avg       0.53      0.51      0.52       168\n",
            "\n"
          ]
        },
        {
          "output_type": "display_data",
          "data": {
            "text/plain": [
              "<Figure size 432x288 with 1 Axes>"
            ],
            "image/png": "[encoded data removed]"
          },
          "metadata": {
            "needs_background": "light"
          }
        }
      ]
    },
    {
      "cell_type": "markdown",
      "source": [
        "kNN: after standardization, oversampling, and binary classification (2nd way)"
      ],
      "metadata": {
        "id": "b6JwO0fPwn9a"
      }
    },
    {
      "cell_type": "code",
      "source": [
        "from sklearn.neighbors import KNeighborsClassifier\n",
        "\n",
        "knn = KNeighborsClassifier(n_neighbors=1, weights='distance')\n",
        "knn.fit(X2_resampled, y2_resampled)\n",
        "\n",
        "y_pred_test_ = knn.predict(X2_test_scaled)\n",
        "\n",
        "# Score to evaluate model performance\n",
        "# print(\"Test set accuracy is: \",  knn.score(Xb_test_scaled, yb_test))\n",
        "print(\"Test set F1 score is: \",  f1_score(y2_test, y_pred_test_, average='micro'))\n",
        "\n",
        "mat = confusion_matrix(y_pred_test_, y2_test)\n",
        "sns.heatmap(mat.T, square=True, annot=True, fmt='d', cbar=False,)\n",
        "plt.xlabel('predicted label')\n",
        "plt.ylabel('true label')\n",
        "\n",
        "precision_recall = classification_report(y2_test, y_pred_test_)\n",
        "print(precision_recall)"
      ],
      "metadata": {
        "colab": {
          "base_uri": "https://localhost:8080/",
          "height": 513
        },
        "id": "5JOtmQ9ot9NK",
        "outputId": "9ffee397-156f-4532-f31a-860fd558a6f7"
      },
      "execution_count": null,
      "outputs": [
        {
          "output_type": "stream",
          "name": "stderr",
          "text": [
            "/usr/local/lib/python3.7/dist-packages/sklearn/neighbors/_classification.py:198: DataConversionWarning: A column-vector y was passed when a 1d array was expected. Please change the shape of y to (n_samples,), for example using ravel().\n",
            "  return self._fit(X, y)\n"
          ]
        },
        {
          "output_type": "stream",
          "name": "stdout",
          "text": [
            "Test set F1 score is:  0.5357142857142857\n",
            "              precision    recall  f1-score   support\n",
            "\n",
            "         0.0       0.65      0.67      0.66       113\n",
            "         1.0       0.27      0.25      0.26        55\n",
            "\n",
            "    accuracy                           0.54       168\n",
            "   macro avg       0.46      0.46      0.46       168\n",
            "weighted avg       0.53      0.54      0.53       168\n",
            "\n"
          ]
        },
        {
          "output_type": "display_data",
          "data": {
            "text/plain": [
              "<Figure size 432x288 with 1 Axes>"
            ],
            "image/png": "[encoded data removed]"
          },
          "metadata": {
            "needs_background": "light"
          }
        }
      ]
    },
    {
      "cell_type": "markdown",
      "source": [
        "kNN optimize k: binary classification (2nd way)"
      ],
      "metadata": {
        "id": "MKdvmzBB5vfh"
      }
    },
    {
      "cell_type": "code",
      "source": [
        "# creating list of K for KNN\n",
        "k_list = list(range(1,100))\n",
        "\n",
        "# creating list of cv scores\n",
        "cv_scores = []\n",
        "\n",
        "# perform 10-fold cross validation to find the optimal k-value\n",
        "for k in k_list:\n",
        "    knn = KNeighborsClassifier(n_neighbors=k,weights='distance')\n",
        "    if not use_resampled:\n",
        "        scores = cross_val_score(knn, X2_train_2_scaled, np.ravel(y2_train_2), \n",
        "        cv=10, scoring='f1_micro')\n",
        "    else:\n",
        "        scores = cross_val_score(knn, X2_resampled_, np.ravel(y2_resampled_), \n",
        "        cv=10, scoring='f1_micro')\n",
        "    cv_scores.append(scores.mean())\n",
        "    \n",
        "# plot the resulting F1 across number of neighbors\n",
        "plt.plot(k_list, cv_scores)\n",
        "plt.title(\"Micro-averaged F1 score as a function of the number of neighbors for K-Neighbors Classifier\")\n",
        "plt.xlabel(\"Number of Neighbors\")\n",
        "plt.ylabel(\"Micro-averaged F1 score\")\n",
        "\n",
        "# select the number of neighbors which maximizes the accuracy\n",
        "best_k = k_list[cv_scores.index(max(cv_scores))]\n",
        "print(\"The optimal number of neighbors is %d.\" % best_k)"
      ],
      "metadata": {
        "colab": {
          "base_uri": "https://localhost:8080/",
          "height": 313
        },
        "id": "AgPqKkxU4Pdb",
        "outputId": "15c3598f-6efb-4c0f-ac63-ec71c810bb58"
      },
      "execution_count": null,
      "outputs": [
        {
          "output_type": "stream",
          "name": "stdout",
          "text": [
            "The optimal number of neighbors is 91.\n"
          ]
        },
        {
          "output_type": "display_data",
          "data": {
            "text/plain": [
              "<Figure size 432x288 with 1 Axes>"
            ],
            "image/png": "[encoded data removed]"
          },
          "metadata": {
            "needs_background": "light"
          }
        }
      ]
    },
    {
      "cell_type": "code",
      "source": [
        "# Evaluate kNN\n",
        "from sklearn.metrics import f1_score\n",
        "from sklearn.metrics import confusion_matrix\n",
        "\n",
        "knn = KNeighborsClassifier(n_neighbors=91,weights='distance')\n",
        "if not use_resampled:\n",
        "    knn.fit(X2_train_scaled, y2_train)\n",
        "else:\n",
        "    knn.fit(X2_resampled, y2_resampled)\n",
        "\n",
        "y_pred_test_ = knn.predict(X2_test_scaled)\n",
        "\n",
        "# Score to evaluate model performance\n",
        "# print(\"Test set accuracy is: \",  knn.score(X2_test_scaled, y2_test))\n",
        "print(\"Test set F1 score is: \",  f1_score(y2_test, y_pred_test_, average='micro'))\n",
        "\n",
        "mat = confusion_matrix(y_pred_test_, y2_test)\n",
        "sns.heatmap(mat.T, square=True, annot=True, fmt='d', cbar=False,)\n",
        "plt.xlabel('predicted label')\n",
        "plt.ylabel('true label')\n",
        "\n",
        "precision_recall = classification_report(y2_test, y_pred_test_)\n",
        "print(precision_recall)"
      ],
      "metadata": {
        "colab": {
          "base_uri": "https://localhost:8080/",
          "height": 513
        },
        "id": "u3SrcTt-8HKs",
        "outputId": "897aa4ab-d97c-4441-f4a1-badeadc08746"
      },
      "execution_count": null,
      "outputs": [
        {
          "output_type": "stream",
          "name": "stdout",
          "text": [
            "Test set F1 score is:  0.5297619047619048\n",
            "              precision    recall  f1-score   support\n",
            "\n",
            "         0.0       0.67      0.59      0.63       113\n",
            "         1.0       0.32      0.40      0.36        55\n",
            "\n",
            "    accuracy                           0.53       168\n",
            "   macro avg       0.50      0.50      0.49       168\n",
            "weighted avg       0.56      0.53      0.54       168\n",
            "\n"
          ]
        },
        {
          "output_type": "stream",
          "name": "stderr",
          "text": [
            "/usr/local/lib/python3.7/dist-packages/sklearn/neighbors/_classification.py:198: DataConversionWarning: A column-vector y was passed when a 1d array was expected. Please change the shape of y to (n_samples,), for example using ravel().\n",
            "  return self._fit(X, y)\n"
          ]
        },
        {
          "output_type": "display_data",
          "data": {
            "text/plain": [
              "<Figure size 432x288 with 1 Axes>"
            ],
            "image/png": "[encoded data removed]"
          },
          "metadata": {
            "needs_background": "light"
          }
        }
      ]
    },
    {
      "cell_type": "markdown",
      "source": [
        "#### Decision Tree"
      ],
      "metadata": {
        "id": "F2WAHFLs_tYt"
      }
    },
    {
      "cell_type": "markdown",
      "source": [
        "Decision Tree (Baseline) w/o optimization"
      ],
      "metadata": {
        "id": "8IA8yle3_xvu"
      }
    },
    {
      "cell_type": "code",
      "source": [
        "from sklearn.tree import DecisionTreeClassifier\n",
        "\n",
        "dt = DecisionTreeClassifier(random_state=0)\n",
        "dt.fit(X_train, y_train)\n",
        "\n",
        "y_pred_test_ = dt.predict(X_test)\n",
        "\n",
        "# Score to evaluate model performance\n",
        "# print(\"Test set accuracy is: \",  knn.score(X_test, y_test))\n",
        "print(\"Test set F1 score is: \",  f1_score(y_test, y_pred_test_, average='micro'))\n",
        "\n",
        "mat = confusion_matrix(y_pred_test_, y_test)\n",
        "sns.heatmap(mat.T, square=True, annot=True, fmt='d', cbar=False,)\n",
        "plt.xlabel('predicted label')\n",
        "plt.ylabel('true label')\n",
        "\n",
        "precision_recall = classification_report(y_test, y_pred_test_)\n",
        "print(precision_recall)"
      ],
      "metadata": {
        "colab": {
          "base_uri": "https://localhost:8080/",
          "height": 511
        },
        "id": "_2WRZbPC_sug",
        "outputId": "005b3a03-d2b8-4bd8-b033-f95c61a2d683"
      },
      "execution_count": null,
      "outputs": [
        {
          "output_type": "stream",
          "name": "stdout",
          "text": [
            "Test set F1 score is:  0.26785714285714285\n",
            "              precision    recall  f1-score   support\n",
            "\n",
            "           0       0.12      0.10      0.11        31\n",
            "           1       0.26      0.18      0.21        33\n",
            "           2       0.35      0.57      0.43        49\n",
            "           3       0.22      0.22      0.22        27\n",
            "           4       0.15      0.07      0.10        28\n",
            "\n",
            "    accuracy                           0.27       168\n",
            "   macro avg       0.22      0.23      0.22       168\n",
            "weighted avg       0.24      0.27      0.24       168\n",
            "\n"
          ]
        },
        {
          "output_type": "display_data",
          "data": {
            "text/plain": [
              "<Figure size 432x288 with 1 Axes>"
            ],
            "image/png": "[encoded data removed]"
          },
          "metadata": {
            "needs_background": "light"
          }
        }
      ]
    },
    {
      "cell_type": "markdown",
      "source": [
        "Decision Tree: after standardization, class weights, oversampling, and binary classification (1st way)"
      ],
      "metadata": {
        "id": "T6jbwC1IAle5"
      }
    },
    {
      "cell_type": "code",
      "source": [
        "from sklearn.tree import DecisionTreeClassifier\n",
        "\n",
        "dt = DecisionTreeClassifier(class_weight='balanced',random_state=0)\n",
        "dt.fit(X1_resampled, y1_resampled)\n",
        "\n",
        "y_pred_test_ = dt.predict(X1_test_scaled)\n",
        "\n",
        "# Score to evaluate model performance\n",
        "# print(\"Test set accuracy is: \",  dt.score(X1_test_scaled, y1_test))\n",
        "print(\"Test set F1 score is: \",  f1_score(y1_test, y_pred_test_, average='micro'))\n",
        "\n",
        "mat = confusion_matrix(y_pred_test_, y1_test)\n",
        "sns.heatmap(mat.T, square=True, annot=True, fmt='d', cbar=False,)\n",
        "plt.xlabel('predicted label')\n",
        "plt.ylabel('true label')\n",
        "\n",
        "precision_recall = classification_report(y1_test, y_pred_test_)\n",
        "print(precision_recall)"
      ],
      "metadata": {
        "colab": {
          "base_uri": "https://localhost:8080/",
          "height": 458
        },
        "id": "Pdn1OTy7AOub",
        "outputId": "565549ba-b40a-4e65-9463-1b95099a5267"
      },
      "execution_count": null,
      "outputs": [
        {
          "output_type": "stream",
          "name": "stdout",
          "text": [
            "Test set F1 score is:  0.5654761904761905\n",
            "              precision    recall  f1-score   support\n",
            "\n",
            "         0.0       0.44      0.48      0.46        64\n",
            "         1.0       0.66      0.62      0.64       104\n",
            "\n",
            "    accuracy                           0.57       168\n",
            "   macro avg       0.55      0.55      0.55       168\n",
            "weighted avg       0.57      0.57      0.57       168\n",
            "\n"
          ]
        },
        {
          "output_type": "display_data",
          "data": {
            "text/plain": [
              "<Figure size 432x288 with 1 Axes>"
            ],
            "image/png": "[encoded data removed]"
          },
          "metadata": {
            "needs_background": "light"
          }
        }
      ]
    },
    {
      "cell_type": "markdown",
      "source": [
        "Decision Tree optimize max_depth: binary classification (1st way)"
      ],
      "metadata": {
        "id": "eE_75Y8YA-Tz"
      }
    },
    {
      "cell_type": "code",
      "source": [
        "from sklearn.model_selection import cross_val_score\n",
        "# creating list of max depth for decision tree\n",
        "depth_list = list(range(1,20))\n",
        "\n",
        "# creating list of cv scores\n",
        "cv_scores = []\n",
        "\n",
        "# perform 10-fold cross validation to find the optimal max depth-value\n",
        "for depth in depth_list:\n",
        "    dt = DecisionTreeClassifier(max_depth=depth,random_state=0,\n",
        "         class_weight='balanced')\n",
        "    if not use_resampled:\n",
        "        scores = cross_val_score(dt, X1_train_2_scaled, np.ravel(y1_train_2), \n",
        "        cv=10, scoring='f1_micro')\n",
        "    else:\n",
        "        scores = cross_val_score(dt, X1_resampled_, np.ravel(y1_resampled_), \n",
        "        cv=10, scoring='f1_micro')\n",
        "    cv_scores.append(scores.mean())\n",
        "    \n",
        "# plot the resulting F1 across number of neighbors\n",
        "plt.plot(depth_list, cv_scores)\n",
        "plt.title(\"Micro-averaged F1 score as a function of the max depth for a decition tree classifier\")\n",
        "plt.xlabel(\"Max Depth\")\n",
        "plt.ylabel(\"Micro-averaged F1 score\")\n",
        "\n",
        "# select the number of neighbors which maximizes the accuracy\n",
        "best_depth = depth_list[cv_scores.index(max(cv_scores))]\n",
        "print(\"The optimal max depth is %d.\" % best_depth)\n",
        "print(\"Optimal micro-avergaed F1 is %f.\" % cv_scores[best_depth-1])"
      ],
      "metadata": {
        "colab": {
          "base_uri": "https://localhost:8080/",
          "height": 331
        },
        "id": "vbsF_JOGA7VI",
        "outputId": "ff72c0e4-9640-4c75-cfeb-78c35cea67f7"
      },
      "execution_count": null,
      "outputs": [
        {
          "output_type": "stream",
          "name": "stdout",
          "text": [
            "The optimal max depth is 11.\n",
            "Optimal micro-avergaed F1 is 0.680991.\n"
          ]
        },
        {
          "output_type": "display_data",
          "data": {
            "text/plain": [
              "<Figure size 432x288 with 1 Axes>"
            ],
            "image/png": "[encoded data removed]"
          },
          "metadata": {
            "needs_background": "light"
          }
        }
      ]
    },
    {
      "cell_type": "code",
      "source": [
        "# Evaluate Decision Tree\n",
        "from sklearn.metrics import f1_score\n",
        "from sklearn.metrics import confusion_matrix\n",
        "\n",
        "dt = DecisionTreeClassifier(class_weight='balanced',max_depth=11,random_state=0)\n",
        "if not use_resampled:\n",
        "    dt.fit(X1_train_scaled, y1_train)\n",
        "else:\n",
        "    dt.fit(X1_resampled, y1_resampled)\n",
        "\n",
        "y_pred_test_ = dt.predict(X1_test_scaled)\n",
        "\n",
        "# Score to evaluate model performance\n",
        "# print(\"Test set accuracy is: \",  knn.score(X1_test_scaled, y1_test))\n",
        "print(\"Test set F1 score is: \",  f1_score(y1_test, y_pred_test_, average='micro'))\n",
        "\n",
        "mat = confusion_matrix(y_pred_test_, y1_test)\n",
        "sns.heatmap(mat.T, square=True, annot=True, fmt='d', cbar=False,)\n",
        "plt.xlabel('predicted label')\n",
        "plt.ylabel('true label')\n",
        "\n",
        "precision_recall = classification_report(y1_test, y_pred_test_)\n",
        "print(precision_recall)"
      ],
      "metadata": {
        "colab": {
          "base_uri": "https://localhost:8080/",
          "height": 458
        },
        "id": "A0RXmN0CDEm5",
        "outputId": "97395508-84f8-443b-bb5f-8589345508e0"
      },
      "execution_count": null,
      "outputs": [
        {
          "output_type": "stream",
          "name": "stdout",
          "text": [
            "Test set F1 score is:  0.5595238095238095\n",
            "              precision    recall  f1-score   support\n",
            "\n",
            "         0.0       0.43      0.47      0.45        64\n",
            "         1.0       0.65      0.62      0.63       104\n",
            "\n",
            "    accuracy                           0.56       168\n",
            "   macro avg       0.54      0.54      0.54       168\n",
            "weighted avg       0.57      0.56      0.56       168\n",
            "\n"
          ]
        },
        {
          "output_type": "display_data",
          "data": {
            "text/plain": [
              "<Figure size 432x288 with 1 Axes>"
            ],
            "image/png": "[encoded data removed]"
          },
          "metadata": {
            "needs_background": "light"
          }
        }
      ]
    },
    {
      "cell_type": "markdown",
      "source": [
        "Decision Tree: after standardization, class weights, oversampling, and binary classification (2nd way)"
      ],
      "metadata": {
        "id": "tMRDtuRiBsTu"
      }
    },
    {
      "cell_type": "code",
      "source": [
        "from sklearn.tree import DecisionTreeClassifier\n",
        "\n",
        "dt = DecisionTreeClassifier(class_weight='balanced',random_state=0)\n",
        "dt.fit(X2_resampled, y2_resampled)\n",
        "\n",
        "y_pred_test_ = dt.predict(X2_test_scaled)\n",
        "\n",
        "# Score to evaluate model performance\n",
        "# print(\"Test set accuracy is: \",  dt.score(X2_test_scaled, y2_test))\n",
        "print(\"Test set F1 score is: \",  f1_score(y2_test, y_pred_test_, average='micro'))\n",
        "\n",
        "mat = confusion_matrix(y_pred_test_, y2_test)\n",
        "sns.heatmap(mat.T, square=True, annot=True, fmt='d', cbar=False,)\n",
        "plt.xlabel('predicted label')\n",
        "plt.ylabel('true label')\n",
        "\n",
        "precision_recall = classification_report(y2_test, y_pred_test_)\n",
        "print(precision_recall)"
      ],
      "metadata": {
        "colab": {
          "base_uri": "https://localhost:8080/",
          "height": 458
        },
        "id": "uZL7N8LLBw3L",
        "outputId": "1673f8b9-6307-4073-b1fc-7f1e11251219"
      },
      "execution_count": null,
      "outputs": [
        {
          "output_type": "stream",
          "name": "stdout",
          "text": [
            "Test set F1 score is:  0.5297619047619048\n",
            "              precision    recall  f1-score   support\n",
            "\n",
            "         0.0       0.67      0.58      0.63       113\n",
            "         1.0       0.33      0.42      0.37        55\n",
            "\n",
            "    accuracy                           0.53       168\n",
            "   macro avg       0.50      0.50      0.50       168\n",
            "weighted avg       0.56      0.53      0.54       168\n",
            "\n"
          ]
        },
        {
          "output_type": "display_data",
          "data": {
            "text/plain": [
              "<Figure size 432x288 with 1 Axes>"
            ],
            "image/png": "[encoded data removed]"
          },
          "metadata": {
            "needs_background": "light"
          }
        }
      ]
    },
    {
      "cell_type": "code",
      "source": [
        "from sklearn.model_selection import cross_val_score\n",
        "# creating list of max depth for decision tree\n",
        "depth_list = list(range(1,20))\n",
        "\n",
        "# creating list of cv scores\n",
        "cv_scores = []\n",
        "\n",
        "# perform 10-fold cross validation to find the optimal max depth-value\n",
        "for depth in depth_list:\n",
        "    dt = DecisionTreeClassifier(max_depth=depth,random_state=0,\n",
        "         class_weight='balanced')\n",
        "    if not use_resampled:\n",
        "        scores = cross_val_score(dt, X2_train_2_scaled, np.ravel(y2_train_2), \n",
        "        cv=10, scoring='f1_micro')\n",
        "    else:\n",
        "        scores = cross_val_score(dt, X2_resampled_, np.ravel(y2_resampled_), \n",
        "        cv=10, scoring='f1_micro')\n",
        "    cv_scores.append(scores.mean())\n",
        "    \n",
        "# plot the resulting F1 across number of neighbors\n",
        "plt.plot(depth_list, cv_scores)\n",
        "plt.title(\"Micro-averaged F1 score as a function of the max depth for a decition tree classifier\")\n",
        "plt.xlabel(\"Max Depth\")\n",
        "plt.ylabel(\"Micro-averaged F1 score\")\n",
        "\n",
        "# select the number of neighbors which maximizes the accuracy\n",
        "best_depth = depth_list[cv_scores.index(max(cv_scores))]\n",
        "print(\"The optimal max depth is %d.\" % best_depth)\n",
        "print(\"Optimal micro-avergaed F1 is %f.\" % cv_scores[best_depth-1])"
      ],
      "metadata": {
        "colab": {
          "base_uri": "https://localhost:8080/",
          "height": 331
        },
        "id": "vv-Y63x4D16s",
        "outputId": "be250e2e-1ab8-400b-d307-d86cd5b42519"
      },
      "execution_count": null,
      "outputs": [
        {
          "output_type": "stream",
          "name": "stdout",
          "text": [
            "The optimal max depth is 11.\n",
            "Optimal micro-avergaed F1 is 0.689948.\n"
          ]
        },
        {
          "output_type": "display_data",
          "data": {
            "text/plain": [
              "<Figure size 432x288 with 1 Axes>"
            ],
            "image/png": "[encoded data removed]"
          },
          "metadata": {
            "needs_background": "light"
          }
        }
      ]
    },
    {
      "cell_type": "code",
      "source": [
        "# Evaluate Decision Tree\n",
        "from sklearn.metrics import f1_score\n",
        "from sklearn.metrics import confusion_matrix\n",
        "\n",
        "dt = DecisionTreeClassifier(class_weight='balanced',max_depth=11,random_state=0)\n",
        "if not use_resampled:\n",
        "    dt.fit(X2_train_scaled, y2_train)\n",
        "else:\n",
        "    dt.fit(X2_resampled, y2_resampled)\n",
        "\n",
        "y_pred_test_ = dt.predict(X2_test_scaled)\n",
        "\n",
        "# Score to evaluate model performance\n",
        "# print(\"Test set accuracy is: \",  dt.score(X2_test_scaled, y2_test))\n",
        "print(\"Test set F1 score is: \",  f1_score(y2_test, y_pred_test_, average='micro'))\n",
        "\n",
        "mat = confusion_matrix(y_pred_test_, y2_test)\n",
        "sns.heatmap(mat.T, square=True, annot=True, fmt='d', cbar=False,)\n",
        "plt.xlabel('predicted label')\n",
        "plt.ylabel('true label')\n",
        "\n",
        "precision_recall = classification_report(y2_test, y_pred_test_)\n",
        "print(precision_recall)"
      ],
      "metadata": {
        "colab": {
          "base_uri": "https://localhost:8080/",
          "height": 458
        },
        "id": "HhoLCfqFEBpC",
        "outputId": "bdab69d9-9650-48bb-c3c6-4f094510b176"
      },
      "execution_count": null,
      "outputs": [
        {
          "output_type": "stream",
          "name": "stdout",
          "text": [
            "Test set F1 score is:  0.5297619047619048\n",
            "              precision    recall  f1-score   support\n",
            "\n",
            "         0.0       0.67      0.58      0.63       113\n",
            "         1.0       0.33      0.42      0.37        55\n",
            "\n",
            "    accuracy                           0.53       168\n",
            "   macro avg       0.50      0.50      0.50       168\n",
            "weighted avg       0.56      0.53      0.54       168\n",
            "\n"
          ]
        },
        {
          "output_type": "display_data",
          "data": {
            "text/plain": [
              "<Figure size 432x288 with 1 Axes>"
            ],
            "image/png": "[encoded data removed]"
          },
          "metadata": {
            "needs_background": "light"
          }
        }
      ]
    },
    {
      "cell_type": "markdown",
      "source": [
        "#### Random Forest"
      ],
      "metadata": {
        "id": "9AI7oLZ8El6S"
      }
    },
    {
      "cell_type": "markdown",
      "source": [
        "Random Forest (Baseline) w/o optimization"
      ],
      "metadata": {
        "id": "RAFN9AZPEzDL"
      }
    },
    {
      "cell_type": "code",
      "source": [
        "from sklearn.ensemble import RandomForestClassifier\n",
        "\n",
        "clf = RandomForestClassifier(random_state=0)\n",
        "dt.fit(X_train, y_train)\n",
        "\n",
        "y_pred_test_ = dt.predict(X_test)\n",
        "\n",
        "# Score to evaluate model performance\n",
        "# print(\"Test set accuracy is: \",  knn.score(X_test, y_test))\n",
        "print(\"Test set F1 score is: \",  f1_score(y_test, y_pred_test_, average='micro'))\n",
        "\n",
        "mat = confusion_matrix(y_pred_test_, y_test)\n",
        "sns.heatmap(mat.T, square=True, annot=True, fmt='d', cbar=False,)\n",
        "plt.xlabel('predicted label')\n",
        "plt.ylabel('true label')\n",
        "\n",
        "precision_recall = classification_report(y_test, y_pred_test_)\n",
        "print(precision_recall)"
      ],
      "metadata": {
        "colab": {
          "base_uri": "https://localhost:8080/",
          "height": 511
        },
        "id": "ZLCrX-srEvx_",
        "outputId": "623a64fc-3702-46e6-f58e-f5c809aa7ee2"
      },
      "execution_count": null,
      "outputs": [
        {
          "output_type": "stream",
          "name": "stdout",
          "text": [
            "Test set F1 score is:  0.20238095238095238\n",
            "              precision    recall  f1-score   support\n",
            "\n",
            "           0       0.16      0.19      0.18        31\n",
            "           1       0.08      0.06      0.07        33\n",
            "           2       0.30      0.18      0.23        49\n",
            "           3       0.29      0.33      0.31        27\n",
            "           4       0.18      0.29      0.22        28\n",
            "\n",
            "    accuracy                           0.20       168\n",
            "   macro avg       0.20      0.21      0.20       168\n",
            "weighted avg       0.21      0.20      0.20       168\n",
            "\n"
          ]
        },
        {
          "output_type": "display_data",
          "data": {
            "text/plain": [
              "<Figure size 432x288 with 1 Axes>"
            ],
            "image/png": "[encoded data removed]"
          },
          "metadata": {
            "needs_background": "light"
          }
        }
      ]
    },
    {
      "cell_type": "markdown",
      "source": [
        "Random Forest: after standardization, class weights, oversampling, and binary classification (1st way)"
      ],
      "metadata": {
        "id": "SJl7MDjXKjjJ"
      }
    },
    {
      "cell_type": "code",
      "source": [
        "from sklearn.ensemble import RandomForestClassifier\n",
        "\n",
        "clf = RandomForestClassifier(class_weight='balanced',random_state=0)\n",
        "clf.fit(X1_resampled, y1_resampled)\n",
        "\n",
        "y_pred_test_ = clf.predict(X1_test_scaled)\n",
        "\n",
        "# Score to evaluate model performance\n",
        "# print(\"Test set accuracy is: \",  clf.score(X1_test_scaled, y1_test))\n",
        "print(\"Test set F1 score is: \",  f1_score(y1_test, y_pred_test_, average='micro'))\n",
        "\n",
        "mat = confusion_matrix(y_pred_test_, y1_test)\n",
        "sns.heatmap(mat.T, square=True, annot=True, fmt='d', cbar=False,)\n",
        "plt.xlabel('predicted label')\n",
        "plt.ylabel('true label')\n",
        "\n",
        "precision_recall = classification_report(y1_test, y_pred_test_)\n",
        "print(precision_recall)"
      ],
      "metadata": {
        "colab": {
          "base_uri": "https://localhost:8080/",
          "height": 513
        },
        "id": "0TwTPL9VKQhk",
        "outputId": "5ddda7e1-38f4-4916-a646-deb6e3d8ad22"
      },
      "execution_count": null,
      "outputs": [
        {
          "output_type": "stream",
          "name": "stderr",
          "text": [
            "/usr/local/lib/python3.7/dist-packages/ipykernel_launcher.py:4: DataConversionWarning: A column-vector y was passed when a 1d array was expected. Please change the shape of y to (n_samples,), for example using ravel().\n",
            "  after removing the cwd from sys.path.\n"
          ]
        },
        {
          "output_type": "stream",
          "name": "stdout",
          "text": [
            "Test set F1 score is:  0.5416666666666666\n",
            "              precision    recall  f1-score   support\n",
            "\n",
            "         0.0       0.39      0.38      0.38        64\n",
            "         1.0       0.63      0.64      0.64       104\n",
            "\n",
            "    accuracy                           0.54       168\n",
            "   macro avg       0.51      0.51      0.51       168\n",
            "weighted avg       0.54      0.54      0.54       168\n",
            "\n"
          ]
        },
        {
          "output_type": "display_data",
          "data": {
            "text/plain": [
              "<Figure size 432x288 with 1 Axes>"
            ],
            "image/png": "[encoded data removed]"
          },
          "metadata": {
            "needs_background": "light"
          }
        }
      ]
    },
    {
      "cell_type": "markdown",
      "source": [
        "Random Forest optimize n_estimators: binary classification (1st way)"
      ],
      "metadata": {
        "id": "fXF-6-t_LsWx"
      }
    },
    {
      "cell_type": "code",
      "source": [
        "from sklearn.model_selection import cross_val_score\n",
        "\n",
        "# find the best number of trees\n",
        "num_trees = [i for i in range(2,50,1)]\n",
        "num_trees\n",
        "\n",
        "# creating list of cv scores\n",
        "cv_scores = []\n",
        "\n",
        "# perform 10-fold cross validation to find the optimal max depth-value\n",
        "for trees in num_trees:\n",
        "    clf = RandomForestClassifier(n_estimators=trees,random_state=0,\n",
        "          class_weight='balanced')\n",
        "    if not use_resampled:\n",
        "        scores = cross_val_score(clf, X1_train_2_scaled, np.ravel(y1_train_2), \n",
        "        cv=10, scoring='f1_micro')\n",
        "    else:\n",
        "        scores = cross_val_score(clf, X1_resampled_, np.ravel(y1_resampled_), \n",
        "        cv=10, scoring='f1_micro')\n",
        "    cv_scores.append(scores.mean())\n",
        "\n",
        "# plot the resulting accuracy across regularization strength\n",
        "plt.plot(num_trees, cv_scores)\n",
        "plt.title(\"F1 as a function of the number of trees in the random forest model.\")\n",
        "plt.xlabel(\"# Trees\")\n",
        "plt.ylabel(\"Micro-averaged F1\")\n",
        "\n",
        "# select the number of neighbors which maximizes the accuracy\n",
        "best_num_trees = num_trees[cv_scores.index(max(cv_scores))]\n",
        "print(\"The optimal number of trees is %f.\" % best_num_trees)\n",
        "print(\"Optimal micro-avergaed F1 is %f.\" % cv_scores[cv_scores.index(max(cv_scores))])"
      ],
      "metadata": {
        "colab": {
          "base_uri": "https://localhost:8080/",
          "height": 331
        },
        "id": "mgzhj1qDLsqX",
        "outputId": "5f00a26c-b7d7-42c2-a63b-58eeb95f16f9"
      },
      "execution_count": null,
      "outputs": [
        {
          "output_type": "stream",
          "name": "stdout",
          "text": [
            "The optimal number of trees is 36.000000.\n",
            "Optimal micro-avergaed F1 is 0.679568.\n"
          ]
        },
        {
          "output_type": "display_data",
          "data": {
            "text/plain": [
              "<Figure size 432x288 with 1 Axes>"
            ],
            "image/png": "[encoded data removed]"
          },
          "metadata": {
            "needs_background": "light"
          }
        }
      ]
    },
    {
      "cell_type": "code",
      "source": [
        "# Evaluate random forest\n",
        "from sklearn.metrics import f1_score\n",
        "from sklearn.metrics import confusion_matrix\n",
        "\n",
        "clf = RandomForestClassifier(n_estimators=36, class_weight='balanced', \n",
        "      random_state=0)\n",
        "if not use_resampled:\n",
        "    clf.fit(X1_train_scaled, y1_train)\n",
        "else:\n",
        "    clf.fit(X1_resampled, y1_resampled)\n",
        "\n",
        "y_pred_test_ = clf.predict(X1_test_scaled)\n",
        "\n",
        "# Score to evaluate model performance\n",
        "# print(\"Test set accuracy is: \",  clf.score(X1_test_scaled, y1_test))\n",
        "print(\"Test set F1 score is: \",  f1_score(y1_test, y_pred_test_, average='micro'))\n",
        "\n",
        "mat = confusion_matrix(y_pred_test_, y1_test)\n",
        "sns.heatmap(mat.T, square=True, annot=True, fmt='d', cbar=False,)\n",
        "plt.xlabel('predicted label')\n",
        "plt.ylabel('true label')\n",
        "\n",
        "precision_recall = classification_report(y1_test, y_pred_test_)\n",
        "print(precision_recall)"
      ],
      "metadata": {
        "colab": {
          "base_uri": "https://localhost:8080/",
          "height": 513
        },
        "id": "VkIEkVcALsw_",
        "outputId": "ef0dc471-5bd8-43f8-c14e-7c66c3bdc9f4"
      },
      "execution_count": null,
      "outputs": [
        {
          "output_type": "stream",
          "name": "stdout",
          "text": [
            "Test set F1 score is:  0.5297619047619048\n",
            "              precision    recall  f1-score   support\n",
            "\n",
            "         0.0       0.38      0.38      0.38        64\n",
            "         1.0       0.62      0.62      0.62       104\n",
            "\n",
            "    accuracy                           0.53       168\n",
            "   macro avg       0.50      0.50      0.50       168\n",
            "weighted avg       0.53      0.53      0.53       168\n",
            "\n"
          ]
        },
        {
          "output_type": "stream",
          "name": "stderr",
          "text": [
            "/usr/local/lib/python3.7/dist-packages/ipykernel_launcher.py:10: DataConversionWarning: A column-vector y was passed when a 1d array was expected. Please change the shape of y to (n_samples,), for example using ravel().\n",
            "  # Remove the CWD from sys.path while we load stuff.\n"
          ]
        },
        {
          "output_type": "display_data",
          "data": {
            "text/plain": [
              "<Figure size 432x288 with 1 Axes>"
            ],
            "image/png": "[encoded data removed]"
          },
          "metadata": {
            "needs_background": "light"
          }
        }
      ]
    },
    {
      "cell_type": "markdown",
      "source": [
        "Random Forest: after standardization, class weights, oversampling, and binary classification (2nd way)"
      ],
      "metadata": {
        "id": "TSe8Vk5QLWhj"
      }
    },
    {
      "cell_type": "code",
      "source": [
        "from sklearn.ensemble import RandomForestClassifier\n",
        "\n",
        "clf = RandomForestClassifier(class_weight='balanced',random_state=0)\n",
        "clf.fit(X2_resampled, y2_resampled)\n",
        "\n",
        "y_pred_test_ = clf.predict(X2_test_scaled)\n",
        "\n",
        "# Score to evaluate model performance\n",
        "# print(\"Test set accuracy is: \",  clf.score(X2_test_scaled, y2_test))\n",
        "print(\"Test set F1 score is: \",  f1_score(y2_test, y_pred_test_, average='micro'))\n",
        "\n",
        "mat = confusion_matrix(y_pred_test_, y2_test)\n",
        "sns.heatmap(mat.T, square=True, annot=True, fmt='d', cbar=False,)\n",
        "plt.xlabel('predicted label')\n",
        "plt.ylabel('true label')\n",
        "\n",
        "precision_recall = classification_report(y2_test, y_pred_test_)\n",
        "print(precision_recall)"
      ],
      "metadata": {
        "colab": {
          "base_uri": "https://localhost:8080/",
          "height": 513
        },
        "id": "kx40nlk7LWw0",
        "outputId": "8b4a3e3b-04ac-4ae3-9739-48c86ee145a2"
      },
      "execution_count": null,
      "outputs": [
        {
          "output_type": "stream",
          "name": "stderr",
          "text": [
            "/usr/local/lib/python3.7/dist-packages/ipykernel_launcher.py:4: DataConversionWarning: A column-vector y was passed when a 1d array was expected. Please change the shape of y to (n_samples,), for example using ravel().\n",
            "  after removing the cwd from sys.path.\n"
          ]
        },
        {
          "output_type": "stream",
          "name": "stdout",
          "text": [
            "Test set F1 score is:  0.5059523809523809\n",
            "              precision    recall  f1-score   support\n",
            "\n",
            "         0.0       0.66      0.55      0.60       113\n",
            "         1.0       0.31      0.42      0.36        55\n",
            "\n",
            "    accuracy                           0.51       168\n",
            "   macro avg       0.49      0.48      0.48       168\n",
            "weighted avg       0.55      0.51      0.52       168\n",
            "\n"
          ]
        },
        {
          "output_type": "display_data",
          "data": {
            "text/plain": [
              "<Figure size 432x288 with 1 Axes>"
            ],
            "image/png": "[encoded data removed]"
          },
          "metadata": {
            "needs_background": "light"
          }
        }
      ]
    },
    {
      "cell_type": "markdown",
      "source": [
        "Random Forest optimize n_estimators: binary classification (2nd way)"
      ],
      "metadata": {
        "id": "4zs4mheEL0xP"
      }
    },
    {
      "cell_type": "code",
      "source": [
        "from sklearn.model_selection import cross_val_score\n",
        "\n",
        "# find the best number of trees\n",
        "num_trees = [i for i in range(2,50,1)]\n",
        "num_trees\n",
        "\n",
        "# creating list of cv scores\n",
        "cv_scores = []\n",
        "\n",
        "# perform 10-fold cross validation to find the optimal max depth-value\n",
        "for trees in num_trees:\n",
        "    clf = RandomForestClassifier(n_estimators=trees,random_state=0,\n",
        "          class_weight='balanced')\n",
        "    if not use_resampled:\n",
        "        scores = cross_val_score(clf, X2_train_2_scaled, np.ravel(y2_train_2), \n",
        "        cv=10, scoring='f1_micro')\n",
        "    else:\n",
        "        scores = cross_val_score(clf, X2_resampled_, np.ravel(y2_resampled_), \n",
        "        cv=10, scoring='f1_micro')\n",
        "    cv_scores.append(scores.mean())\n",
        "\n",
        "# plot the resulting accuracy across regularization strength\n",
        "plt.plot(num_trees, cv_scores)\n",
        "plt.title(\"F1 as a function of the number of trees in the random forest model.\")\n",
        "plt.xlabel(\"# Trees\")\n",
        "plt.ylabel(\"Micro-averaged F1\")\n",
        "\n",
        "# select the number of neighbors which maximizes the accuracy\n",
        "best_num_trees = num_trees[cv_scores.index(max(cv_scores))]\n",
        "print(\"The optimal number of trees is %f.\" % best_num_trees)\n",
        "print(\"Optimal micro-avergaed F1 is %f.\" % cv_scores[cv_scores.index(max(cv_scores))])"
      ],
      "metadata": {
        "colab": {
          "base_uri": "https://localhost:8080/",
          "height": 331
        },
        "id": "RIb8rEGAL04q",
        "outputId": "28245d9d-19af-4995-ed76-92024e0267f1"
      },
      "execution_count": null,
      "outputs": [
        {
          "output_type": "stream",
          "name": "stdout",
          "text": [
            "The optimal number of trees is 45.000000.\n",
            "Optimal micro-avergaed F1 is 0.715642.\n"
          ]
        },
        {
          "output_type": "display_data",
          "data": {
            "text/plain": [
              "<Figure size 432x288 with 1 Axes>"
            ],
            "image/png": "[encoded data removed]"
          },
          "metadata": {
            "needs_background": "light"
          }
        }
      ]
    },
    {
      "cell_type": "code",
      "source": [
        "# Evaluate random forest\n",
        "from sklearn.metrics import f1_score\n",
        "from sklearn.metrics import confusion_matrix\n",
        "\n",
        "clf = RandomForestClassifier(n_estimators=45, class_weight='balanced', \n",
        "      random_state=0)\n",
        "if not use_resampled:\n",
        "    clf.fit(X2_train_scaled, y2_train)\n",
        "else:\n",
        "    clf.fit(X2_resampled, y2_resampled)\n",
        "\n",
        "y_pred_test_ = clf.predict(X2_test_scaled)\n",
        "\n",
        "# Score to evaluate model performance\n",
        "# print(\"Test set accuracy is: \",  clf.score(X2_test_scaled, y2_test))\n",
        "print(\"Test set F1 score is: \",  f1_score(y2_test, y_pred_test_, average='micro'))\n",
        "\n",
        "mat = confusion_matrix(y_pred_test_, y2_test)\n",
        "sns.heatmap(mat.T, square=True, annot=True, fmt='d', cbar=False,)\n",
        "plt.xlabel('predicted label')\n",
        "plt.ylabel('true label')\n",
        "\n",
        "precision_recall = classification_report(y2_test, y_pred_test_)\n",
        "print(precision_recall)"
      ],
      "metadata": {
        "colab": {
          "base_uri": "https://localhost:8080/",
          "height": 513
        },
        "id": "wjXMqnpmL07Q",
        "outputId": "e7afa6d3-6ef1-47bd-e3d3-1ea3df09f87d"
      },
      "execution_count": null,
      "outputs": [
        {
          "output_type": "stream",
          "name": "stderr",
          "text": [
            "/usr/local/lib/python3.7/dist-packages/ipykernel_launcher.py:10: DataConversionWarning: A column-vector y was passed when a 1d array was expected. Please change the shape of y to (n_samples,), for example using ravel().\n",
            "  # Remove the CWD from sys.path while we load stuff.\n"
          ]
        },
        {
          "output_type": "stream",
          "name": "stdout",
          "text": [
            "Test set F1 score is:  0.5059523809523809\n",
            "              precision    recall  f1-score   support\n",
            "\n",
            "         0.0       0.65      0.57      0.61       113\n",
            "         1.0       0.30      0.38      0.34        55\n",
            "\n",
            "    accuracy                           0.51       168\n",
            "   macro avg       0.48      0.47      0.47       168\n",
            "weighted avg       0.54      0.51      0.52       168\n",
            "\n"
          ]
        },
        {
          "output_type": "display_data",
          "data": {
            "text/plain": [
              "<Figure size 432x288 with 1 Axes>"
            ],
            "image/png": "[encoded data removed]"
          },
          "metadata": {
            "needs_background": "light"
          }
        }
      ]
    },
    {
      "cell_type": "markdown",
      "source": [
        "#### Naive Bayes"
      ],
      "metadata": {
        "id": "RY5TB5q5FHWl"
      }
    },
    {
      "cell_type": "markdown",
      "source": [
        "Multinomial Naive Bayes (Baseline) w/o optimization"
      ],
      "metadata": {
        "id": "uBq_3Is5FJ4v"
      }
    },
    {
      "cell_type": "code",
      "source": [
        "from sklearn.naive_bayes import MultinomialNB\n",
        "\n",
        "nb = MultinomialNB()\n",
        "nb.fit(X_train, y_train)\n",
        "\n",
        "y_pred_test_ = nb.predict(X_test)\n",
        "\n",
        "# Score to evaluate model performance\n",
        "# print(\"Test set accuracy is: \",  nb.score(X_test, y_test))\n",
        "print(\"Test set F1 score is: \",  f1_score(y_test, y_pred_test_, average='micro'))\n",
        "\n",
        "mat = confusion_matrix(y_pred_test_, y_test)\n",
        "sns.heatmap(mat.T, square=True, annot=True, fmt='d', cbar=False,)\n",
        "plt.xlabel('predicted label')\n",
        "plt.ylabel('true label')\n",
        "\n",
        "precision_recall = classification_report(y_test, y_pred_test_)\n",
        "print(precision_recall)"
      ],
      "metadata": {
        "colab": {
          "base_uri": "https://localhost:8080/",
          "height": 638
        },
        "id": "w5jPgO72FMX9",
        "outputId": "d3edadbb-2905-4c2d-85dd-bbfaefe76a6e"
      },
      "execution_count": null,
      "outputs": [
        {
          "output_type": "stream",
          "name": "stdout",
          "text": [
            "Test set F1 score is:  0.2916666666666667\n",
            "              precision    recall  f1-score   support\n",
            "\n",
            "           0       0.00      0.00      0.00        31\n",
            "           1       0.00      0.00      0.00        33\n",
            "           2       0.29      1.00      0.45        49\n",
            "           3       0.00      0.00      0.00        27\n",
            "           4       0.00      0.00      0.00        28\n",
            "\n",
            "    accuracy                           0.29       168\n",
            "   macro avg       0.06      0.20      0.09       168\n",
            "weighted avg       0.09      0.29      0.13       168\n",
            "\n"
          ]
        },
        {
          "output_type": "stream",
          "name": "stderr",
          "text": [
            "/usr/local/lib/python3.7/dist-packages/sklearn/metrics/_classification.py:1318: UndefinedMetricWarning: Precision and F-score are ill-defined and being set to 0.0 in labels with no predicted samples. Use `zero_division` parameter to control this behavior.\n",
            "  _warn_prf(average, modifier, msg_start, len(result))\n",
            "/usr/local/lib/python3.7/dist-packages/sklearn/metrics/_classification.py:1318: UndefinedMetricWarning: Precision and F-score are ill-defined and being set to 0.0 in labels with no predicted samples. Use `zero_division` parameter to control this behavior.\n",
            "  _warn_prf(average, modifier, msg_start, len(result))\n",
            "/usr/local/lib/python3.7/dist-packages/sklearn/metrics/_classification.py:1318: UndefinedMetricWarning: Precision and F-score are ill-defined and being set to 0.0 in labels with no predicted samples. Use `zero_division` parameter to control this behavior.\n",
            "  _warn_prf(average, modifier, msg_start, len(result))\n"
          ]
        },
        {
          "output_type": "display_data",
          "data": {
            "text/plain": [
              "<Figure size 432x288 with 1 Axes>"
            ],
            "image/png": "[encoded data removed]"
          },
          "metadata": {
            "needs_background": "light"
          }
        }
      ]
    },
    {
      "cell_type": "markdown",
      "source": [
        "Naive Bayes: after oversampling, and binary classification (1st way)"
      ],
      "metadata": {
        "id": "Da1WINDVTc4c"
      }
    },
    {
      "cell_type": "code",
      "source": [
        "from sklearn.naive_bayes import MultinomialNB\n",
        "from imblearn.over_sampling import RandomOverSampler\n",
        "\n",
        "# Oversampling\n",
        "# https://imbalanced-learn.org/stable/over_sampling.html#a-practical-guide\n",
        "ros = RandomOverSampler(random_state=0, sampling_strategy='not majority')\n",
        "X1nb_resampled, y1nb_resampled = ros.fit_resample(X1_train, y1_train)\n",
        "X1nb_resampled_,y1nb_resampled_ = ros.fit_resample(X1_train_2, y1_train_2)\n",
        "use_resampled = True\n",
        "\n",
        "nb = MultinomialNB()\n",
        "nb.fit(X1nb_resampled, y1nb_resampled)\n",
        "\n",
        "y_pred_test_ = nb.predict(X1_test)\n",
        "\n",
        "# Score to evaluate model performance\n",
        "# print(\"Test set accuracy is: \",  nb.score(X1_test, y1_test))\n",
        "print(\"Test set F1 score is: \",  f1_score(y1_test, y_pred_test_, average='micro'))\n",
        "\n",
        "mat = confusion_matrix(y_pred_test_, y1_test)\n",
        "sns.heatmap(mat.T, square=True, annot=True, fmt='d', cbar=False,)\n",
        "plt.xlabel('predicted label')\n",
        "plt.ylabel('true label')\n",
        "\n",
        "precision_recall = classification_report(y1_test, y_pred_test_)\n",
        "print(precision_recall)"
      ],
      "metadata": {
        "colab": {
          "base_uri": "https://localhost:8080/",
          "height": 513
        },
        "id": "-OhKkU-uTmPW",
        "outputId": "86a7101d-74c1-431d-aa00-bfa3d3316837"
      },
      "execution_count": null,
      "outputs": [
        {
          "output_type": "stream",
          "name": "stderr",
          "text": [
            "/usr/local/lib/python3.7/dist-packages/sklearn/utils/validation.py:993: DataConversionWarning: A column-vector y was passed when a 1d array was expected. Please change the shape of y to (n_samples, ), for example using ravel().\n",
            "  y = column_or_1d(y, warn=True)\n"
          ]
        },
        {
          "output_type": "stream",
          "name": "stdout",
          "text": [
            "Test set F1 score is:  0.5357142857142857\n",
            "              precision    recall  f1-score   support\n",
            "\n",
            "         0.0       0.41      0.52      0.46        64\n",
            "         1.0       0.65      0.55      0.59       104\n",
            "\n",
            "    accuracy                           0.54       168\n",
            "   macro avg       0.53      0.53      0.53       168\n",
            "weighted avg       0.56      0.54      0.54       168\n",
            "\n"
          ]
        },
        {
          "output_type": "display_data",
          "data": {
            "text/plain": [
              "<Figure size 432x288 with 1 Axes>"
            ],
            "image/png": "[encoded data removed]"
          },
          "metadata": {
            "needs_background": "light"
          }
        }
      ]
    },
    {
      "cell_type": "markdown",
      "source": [
        "Naive Bayes optimize *alpha*: binary classification (1st way)"
      ],
      "metadata": {
        "id": "wnxaqL3vZsZB"
      }
    },
    {
      "cell_type": "code",
      "source": [
        "from sklearn.model_selection import cross_val_score\n",
        "\n",
        "# find the best alpha\n",
        "a_vals = [0.0001, 0.001, 0.02, 0.05, 0.1, 0.5, 0.6, 1.0, 2.5, 5, 7]\n",
        "\n",
        "# creating list of cv scores\n",
        "cv_scores = []\n",
        "\n",
        "# find the best regularization hyperparameter\n",
        "for a in a_vals:\n",
        "    nb = MultinomialNB(alpha=a)\n",
        "    if not use_resampled:\n",
        "        scores = cross_val_score(nb, X1_train_2, np.ravel(y1_train_2), cv=10, \n",
        "        scoring='f1_micro')\n",
        "    else:\n",
        "        scores = cross_val_score(nb, X1nb_resampled_, np.ravel(y1nb_resampled_),\n",
        "        cv=10, scoring='f1_micro')\n",
        "    cv_scores.append(scores.mean())\n",
        "\n",
        "# plot the resulting accuracy across regularization strength\n",
        "plt.plot(a_vals, cv_scores)\n",
        "plt.title(\"F1 as a function of the inverse of regularization strength for a multnomial NB model\")\n",
        "plt.xlabel(\"Alpha value\")\n",
        "plt.ylabel(\"Micro-averaged F1\")\n",
        "\n",
        "# select the number of neighbors which maximizes the accuracy\n",
        "best_a = a_vals[cv_scores.index(max(cv_scores))]\n",
        "print(\"The optimal a-val is %3f.\" % best_a)\n",
        "print(\"Optimal micro-avergaed F1 is %f.\" % cv_scores[cv_scores.index(max(cv_scores))])"
      ],
      "metadata": {
        "colab": {
          "base_uri": "https://localhost:8080/",
          "height": 331
        },
        "id": "MSSBV4r4Tmi-",
        "outputId": "8977922e-b2b8-4aa0-b096-b176bcaf3265"
      },
      "execution_count": null,
      "outputs": [
        {
          "output_type": "stream",
          "name": "stdout",
          "text": [
            "The optimal a-val is 0.000100.\n",
            "Optimal micro-avergaed F1 is 0.514829.\n"
          ]
        },
        {
          "output_type": "display_data",
          "data": {
            "text/plain": [
              "<Figure size 432x288 with 1 Axes>"
            ],
            "image/png": "[encoded data removed]"
          },
          "metadata": {
            "needs_background": "light"
          }
        }
      ]
    },
    {
      "cell_type": "code",
      "source": [
        "# Evaluate MultinomialNB\n",
        "from sklearn.metrics import f1_score\n",
        "from sklearn.metrics import confusion_matrix\n",
        "\n",
        "nb = MultinomialNB(alpha=0.0001)\n",
        "if not use_resampled:\n",
        "    nb.fit(X1_train, y1_train)\n",
        "else:\n",
        "    nb.fit(X1nb_resampled, y1nb_resampled)\n",
        "\n",
        "y_pred_test_ = nb.predict(X1_test)\n",
        "\n",
        "# Score to evaluate model performance\n",
        "# print(\"Test set accuracy is: \",  nb.score(X1_test, y1_test))\n",
        "print(\"Test set F1 score is: \",  f1_score(y1_test, y_pred_test_, average='micro'))\n",
        "\n",
        "mat = confusion_matrix(y_pred_test_, y1_test)\n",
        "sns.heatmap(mat.T, square=True, annot=True, fmt='d', cbar=False,)\n",
        "plt.xlabel('predicted label')\n",
        "plt.ylabel('true label')\n",
        "\n",
        "precision_recall = classification_report(y1_test, y_pred_test_)\n",
        "print(precision_recall)"
      ],
      "metadata": {
        "colab": {
          "base_uri": "https://localhost:8080/",
          "height": 513
        },
        "id": "fBkOaCTwaAVm",
        "outputId": "bcd2001c-9030-483c-a074-a23199560748"
      },
      "execution_count": null,
      "outputs": [
        {
          "output_type": "stream",
          "name": "stderr",
          "text": [
            "/usr/local/lib/python3.7/dist-packages/sklearn/utils/validation.py:993: DataConversionWarning: A column-vector y was passed when a 1d array was expected. Please change the shape of y to (n_samples, ), for example using ravel().\n",
            "  y = column_or_1d(y, warn=True)\n"
          ]
        },
        {
          "output_type": "stream",
          "name": "stdout",
          "text": [
            "Test set F1 score is:  0.5357142857142857\n",
            "              precision    recall  f1-score   support\n",
            "\n",
            "         0.0       0.41      0.52      0.46        64\n",
            "         1.0       0.65      0.55      0.59       104\n",
            "\n",
            "    accuracy                           0.54       168\n",
            "   macro avg       0.53      0.53      0.53       168\n",
            "weighted avg       0.56      0.54      0.54       168\n",
            "\n"
          ]
        },
        {
          "output_type": "display_data",
          "data": {
            "text/plain": [
              "<Figure size 432x288 with 1 Axes>"
            ],
            "image/png": "[encoded data removed]"
          },
          "metadata": {
            "needs_background": "light"
          }
        }
      ]
    },
    {
      "cell_type": "markdown",
      "source": [
        "Naive Bayes: after standardization, class weights, oversampling, and binary classification (2nd way)"
      ],
      "metadata": {
        "id": "mNLnKgXbTmsc"
      }
    },
    {
      "cell_type": "code",
      "source": [
        "from sklearn.naive_bayes import MultinomialNB\n",
        "from imblearn.over_sampling import RandomOverSampler\n",
        "\n",
        "# Oversampling\n",
        "# https://imbalanced-learn.org/stable/over_sampling.html#a-practical-guide\n",
        "ros = RandomOverSampler(random_state=0, sampling_strategy='not majority')\n",
        "X2nb_resampled, y2nb_resampled = ros.fit_resample(X2_train, y2_train)\n",
        "X2nb_resampled_,y2nb_resampled_ = ros.fit_resample(X2_train_2, y2_train_2)\n",
        "use_resampled = True\n",
        "\n",
        "nb = MultinomialNB()\n",
        "nb.fit(X2nb_resampled, y2nb_resampled)\n",
        "\n",
        "y_pred_test_ = nb.predict(X2_test)\n",
        "\n",
        "# Score to evaluate model performance\n",
        "# print(\"Test set accuracy is: \",  nb.score(X2_test, y2_test))\n",
        "print(\"Test set F1 score is: \",  f1_score(y2_test, y_pred_test_, average='micro'))\n",
        "\n",
        "mat = confusion_matrix(y_pred_test_, y2_test)\n",
        "sns.heatmap(mat.T, square=True, annot=True, fmt='d', cbar=False,)\n",
        "plt.xlabel('predicted label')\n",
        "plt.ylabel('true label')\n",
        "\n",
        "precision_recall = classification_report(y2_test, y_pred_test_)\n",
        "print(precision_recall)"
      ],
      "metadata": {
        "colab": {
          "base_uri": "https://localhost:8080/",
          "height": 513
        },
        "id": "F2hBBZ66Tm18",
        "outputId": "6133d4c2-a26f-4aec-c9ab-48a2377c1873"
      },
      "execution_count": null,
      "outputs": [
        {
          "output_type": "stream",
          "name": "stdout",
          "text": [
            "Test set F1 score is:  0.5535714285714286\n",
            "              precision    recall  f1-score   support\n",
            "\n",
            "         0.0       0.68      0.64      0.66       113\n",
            "         1.0       0.34      0.38      0.36        55\n",
            "\n",
            "    accuracy                           0.55       168\n",
            "   macro avg       0.51      0.51      0.51       168\n",
            "weighted avg       0.57      0.55      0.56       168\n",
            "\n"
          ]
        },
        {
          "output_type": "stream",
          "name": "stderr",
          "text": [
            "/usr/local/lib/python3.7/dist-packages/sklearn/utils/validation.py:993: DataConversionWarning: A column-vector y was passed when a 1d array was expected. Please change the shape of y to (n_samples, ), for example using ravel().\n",
            "  y = column_or_1d(y, warn=True)\n"
          ]
        },
        {
          "output_type": "display_data",
          "data": {
            "text/plain": [
              "<Figure size 432x288 with 1 Axes>"
            ],
            "image/png": "[encoded data removed]"
          },
          "metadata": {
            "needs_background": "light"
          }
        }
      ]
    },
    {
      "cell_type": "markdown",
      "source": [
        "Naive Bayes optimize *alpha*: binary classification (2nd way)"
      ],
      "metadata": {
        "id": "ptJBVevBZxrv"
      }
    },
    {
      "cell_type": "code",
      "source": [
        "from sklearn.model_selection import cross_val_score\n",
        "\n",
        "# find the best alpha\n",
        "a_vals = [0.000001, 0.0001, 0.001, 0.01, 0.1, 1.0, 5.0, 10.0]\n",
        "\n",
        "# creating list of cv scores\n",
        "cv_scores = []\n",
        "\n",
        "# find the best regularization hyperparameter\n",
        "for a in a_vals:\n",
        "    nb = MultinomialNB(alpha=a)\n",
        "    if not use_resampled:\n",
        "        scores = cross_val_score(nb, X2_train_2, np.ravel(y2_train_2), cv=10, \n",
        "        scoring='f1_micro')\n",
        "    else:\n",
        "        scores = cross_val_score(nb, X2nb_resampled_, np.ravel(y2nb_resampled_),\n",
        "        cv=10, scoring='f1_micro')\n",
        "    cv_scores.append(scores.mean())\n",
        "\n",
        "# plot the resulting accuracy across regularization strength\n",
        "plt.plot(a_vals, cv_scores)\n",
        "plt.title(\"F1 as a function of the inverse of regularization strength for a multnomial NB model\")\n",
        "plt.xlabel(\"Alpha value\")\n",
        "plt.ylabel(\"Micro-averaged F1\")\n",
        "\n",
        "# select the number of neighbors which maximizes the accuracy\n",
        "best_a = a_vals[cv_scores.index(max(cv_scores))]\n",
        "print(\"The optimal a-val is %3f.\" % best_a)\n",
        "print(\"Optimal micro-avergaed F1 is %f.\" % cv_scores[cv_scores.index(max(cv_scores))])"
      ],
      "metadata": {
        "colab": {
          "base_uri": "https://localhost:8080/",
          "height": 331
        },
        "id": "hE8SYsKLTm4Y",
        "outputId": "bc7d5ee6-956f-4b85-cc0c-aa8f2c99c56c"
      },
      "execution_count": null,
      "outputs": [
        {
          "output_type": "stream",
          "name": "stdout",
          "text": [
            "The optimal a-val is 10.000000.\n",
            "Optimal micro-avergaed F1 is 0.550185.\n"
          ]
        },
        {
          "output_type": "display_data",
          "data": {
            "text/plain": [
              "<Figure size 432x288 with 1 Axes>"
            ],
            "image/png": "[encoded data removed]"
          },
          "metadata": {
            "needs_background": "light"
          }
        }
      ]
    },
    {
      "cell_type": "code",
      "source": [
        "# Evaluate MultinomialNB\n",
        "from sklearn.metrics import f1_score\n",
        "from sklearn.metrics import confusion_matrix\n",
        "\n",
        "nb = MultinomialNB(alpha=10)\n",
        "if not use_resampled:\n",
        "    nb.fit(X2_train, y2_train)\n",
        "else:\n",
        "    nb.fit(X2nb_resampled, y2nb_resampled)\n",
        "\n",
        "y_pred_test_ = nb.predict(X2_test)\n",
        "\n",
        "# Score to evaluate model performance\n",
        "# print(\"Test set accuracy is: \",  nb.score(X2_test, y2_test))\n",
        "print(\"Test set F1 score is: \",  f1_score(y2_test, y_pred_test_, average='micro'))\n",
        "\n",
        "mat = confusion_matrix(y_pred_test_, y2_test)\n",
        "sns.heatmap(mat.T, square=True, annot=True, fmt='d', cbar=False,)\n",
        "plt.xlabel('predicted label')\n",
        "plt.ylabel('true label')\n",
        "\n",
        "precision_recall = classification_report(y2_test, y_pred_test_)\n",
        "print(precision_recall)"
      ],
      "metadata": {
        "colab": {
          "base_uri": "https://localhost:8080/",
          "height": 513
        },
        "id": "uFsslVwXdoiW",
        "outputId": "3c7fd9eb-086f-419b-8b0e-203bfd35befb"
      },
      "execution_count": null,
      "outputs": [
        {
          "output_type": "stream",
          "name": "stdout",
          "text": [
            "Test set F1 score is:  0.5595238095238095\n",
            "              precision    recall  f1-score   support\n",
            "\n",
            "         0.0       0.69      0.64      0.66       113\n",
            "         1.0       0.35      0.40      0.37        55\n",
            "\n",
            "    accuracy                           0.56       168\n",
            "   macro avg       0.52      0.52      0.52       168\n",
            "weighted avg       0.58      0.56      0.57       168\n",
            "\n"
          ]
        },
        {
          "output_type": "stream",
          "name": "stderr",
          "text": [
            "/usr/local/lib/python3.7/dist-packages/sklearn/utils/validation.py:993: DataConversionWarning: A column-vector y was passed when a 1d array was expected. Please change the shape of y to (n_samples, ), for example using ravel().\n",
            "  y = column_or_1d(y, warn=True)\n"
          ]
        },
        {
          "output_type": "display_data",
          "data": {
            "text/plain": [
              "<Figure size 432x288 with 1 Axes>"
            ],
            "image/png": "[encoded data removed]"
          },
          "metadata": {
            "needs_background": "light"
          }
        }
      ]
    },
    {
      "cell_type": "markdown",
      "source": [
        "#### SVC (Support Vector Classification)"
      ],
      "metadata": {
        "id": "2eZEMyM3faw-"
      }
    },
    {
      "cell_type": "markdown",
      "source": [
        "SVC (Baseline) w/o optimization (default kernel = 'rbf')"
      ],
      "metadata": {
        "id": "1fHeis1-hEh1"
      }
    },
    {
      "cell_type": "code",
      "source": [
        "from sklearn.svm import SVC\n",
        "\n",
        "svc = SVC(kernel='rbf',random_state=0)\n",
        "svc.fit(X_train, y_train)\n",
        "\n",
        "y_pred_test_ = svc.predict(X_test)\n",
        "\n",
        "# Score to evaluate model performance\n",
        "# print(\"Test set accuracy is: \",  svc.score(X_test, y_test))\n",
        "print(\"Test set F1 score is: \",  f1_score(y_test, y_pred_test_, average='micro'))\n",
        "\n",
        "mat = confusion_matrix(y_pred_test_, y_test)\n",
        "sns.heatmap(mat.T, square=True, annot=True, fmt='d', cbar=False,)\n",
        "plt.xlabel('predicted label')\n",
        "plt.ylabel('true label')\n",
        "\n",
        "precision_recall = classification_report(y_test, y_pred_test_)\n",
        "print(precision_recall)"
      ],
      "metadata": {
        "colab": {
          "base_uri": "https://localhost:8080/",
          "height": 638
        },
        "id": "1l9ZtOX4dn1t",
        "outputId": "2ffdcda6-6efe-4e86-f585-c630bd16ee89"
      },
      "execution_count": null,
      "outputs": [
        {
          "output_type": "stream",
          "name": "stdout",
          "text": [
            "Test set F1 score is:  0.2916666666666667\n",
            "              precision    recall  f1-score   support\n",
            "\n",
            "           0       0.00      0.00      0.00        31\n",
            "           1       0.00      0.00      0.00        33\n",
            "           2       0.29      1.00      0.45        49\n",
            "           3       0.00      0.00      0.00        27\n",
            "           4       0.00      0.00      0.00        28\n",
            "\n",
            "    accuracy                           0.29       168\n",
            "   macro avg       0.06      0.20      0.09       168\n",
            "weighted avg       0.09      0.29      0.13       168\n",
            "\n"
          ]
        },
        {
          "output_type": "stream",
          "name": "stderr",
          "text": [
            "/usr/local/lib/python3.7/dist-packages/sklearn/metrics/_classification.py:1318: UndefinedMetricWarning: Precision and F-score are ill-defined and being set to 0.0 in labels with no predicted samples. Use `zero_division` parameter to control this behavior.\n",
            "  _warn_prf(average, modifier, msg_start, len(result))\n",
            "/usr/local/lib/python3.7/dist-packages/sklearn/metrics/_classification.py:1318: UndefinedMetricWarning: Precision and F-score are ill-defined and being set to 0.0 in labels with no predicted samples. Use `zero_division` parameter to control this behavior.\n",
            "  _warn_prf(average, modifier, msg_start, len(result))\n",
            "/usr/local/lib/python3.7/dist-packages/sklearn/metrics/_classification.py:1318: UndefinedMetricWarning: Precision and F-score are ill-defined and being set to 0.0 in labels with no predicted samples. Use `zero_division` parameter to control this behavior.\n",
            "  _warn_prf(average, modifier, msg_start, len(result))\n"
          ]
        },
        {
          "output_type": "display_data",
          "data": {
            "text/plain": [
              "<Figure size 432x288 with 1 Axes>"
            ],
            "image/png": "[encoded data removed]"
          },
          "metadata": {
            "needs_background": "light"
          }
        }
      ]
    },
    {
      "cell_type": "markdown",
      "source": [
        "SVC: after standardization, class weights, oversampling, and binary classification (1st way); (default kernel = 'rbf')"
      ],
      "metadata": {
        "id": "OmTp9smJiQvE"
      }
    },
    {
      "cell_type": "code",
      "source": [
        "from sklearn.svm import SVC\n",
        "\n",
        "svc = SVC(kernel='rbf', random_state=0,class_weight='balanced')\n",
        "svc.fit(X1_resampled, y1_resampled)\n",
        "\n",
        "y_pred_test_ = svc.predict(X1_test_scaled)\n",
        "\n",
        "# Score to evaluate model performance\n",
        "# print(\"Test set accuracy is: \",  svc.score(X1_test_scaled, y1_test))\n",
        "print(\"Test set F1 score is: \",  f1_score(y1_test, y_pred_test_, average='micro'))\n",
        "\n",
        "mat = confusion_matrix(y_pred_test_, y1_test)\n",
        "sns.heatmap(mat.T, square=True, annot=True, fmt='d', cbar=False,)\n",
        "plt.xlabel('predicted label')\n",
        "plt.ylabel('true label')\n",
        "\n",
        "precision_recall = classification_report(y1_test, y_pred_test_)\n",
        "print(precision_recall)"
      ],
      "metadata": {
        "colab": {
          "base_uri": "https://localhost:8080/",
          "height": 513
        },
        "id": "76D5eMEXiQBs",
        "outputId": "182f6708-d5cc-4a3e-b00b-65e97bab4e33"
      },
      "execution_count": null,
      "outputs": [
        {
          "output_type": "stream",
          "name": "stderr",
          "text": [
            "/usr/local/lib/python3.7/dist-packages/sklearn/utils/validation.py:993: DataConversionWarning: A column-vector y was passed when a 1d array was expected. Please change the shape of y to (n_samples, ), for example using ravel().\n",
            "  y = column_or_1d(y, warn=True)\n"
          ]
        },
        {
          "output_type": "stream",
          "name": "stdout",
          "text": [
            "Test set F1 score is:  0.5833333333333334\n",
            "              precision    recall  f1-score   support\n",
            "\n",
            "         0.0       0.45      0.41      0.43        64\n",
            "         1.0       0.65      0.69      0.67       104\n",
            "\n",
            "    accuracy                           0.58       168\n",
            "   macro avg       0.55      0.55      0.55       168\n",
            "weighted avg       0.58      0.58      0.58       168\n",
            "\n"
          ]
        },
        {
          "output_type": "display_data",
          "data": {
            "text/plain": [
              "<Figure size 432x288 with 1 Axes>"
            ],
            "image/png": "[encoded data removed]"
          },
          "metadata": {
            "needs_background": "light"
          }
        }
      ]
    },
    {
      "cell_type": "markdown",
      "source": [
        "SVC rbf kernel optimize C"
      ],
      "metadata": {
        "id": "Ue-xnVcejOEu"
      }
    },
    {
      "cell_type": "code",
      "source": [
        "from sklearn.model_selection import cross_val_score\n",
        "\n",
        "# find the optimal C\n",
        "c_vals = [0.0001, 0.001, 0.01, 0.1, 1.0, 2.5, 5, 10, 20, 50, 52, 55]\n",
        "\n",
        "# creating list of cv scores\n",
        "cv_scores = []\n",
        "\n",
        "# find the best regularization hyperparameter\n",
        "for c in c_vals:\n",
        "    svc = SVC(kernel='rbf', C=c,random_state=0,class_weight='balanced')\n",
        "    if not use_resampled:\n",
        "        scores = cross_val_score(svc, X1_train_2_scaled, np.ravel(y_train_2), \n",
        "        cv=10, scoring='f1_micro')\n",
        "    else:\n",
        "        scores = cross_val_score(svc, X1_resampled_, np.ravel(y1_resampled_), \n",
        "        cv=10, scoring='f1_micro')\n",
        "    cv_scores.append(scores.mean())\n",
        "\n",
        "# plot the resulting accuracy across regularization strength\n",
        "plt.plot(c_vals, cv_scores)\n",
        "plt.title(\"F1 as a function of the inverse of regularization strength for a linear SVM\")\n",
        "plt.xlabel(\"C value\")\n",
        "plt.ylabel(\"Micro-averaged F1\")\n",
        "\n",
        "# select the number of neighbors which maximizes the accuracy\n",
        "best_c = c_vals[cv_scores.index(max(cv_scores))]\n",
        "print(\"The optimal c-val is %f.\" % best_c)\n",
        "print(\"Optimal micro-avergaed F1 is %f.\" % cv_scores[cv_scores.index(max(cv_scores))])"
      ],
      "metadata": {
        "colab": {
          "base_uri": "https://localhost:8080/",
          "height": 331
        },
        "id": "EUHMcv14jlVJ",
        "outputId": "a8c9fe09-b46f-4253-e383-5879a0639ba7"
      },
      "execution_count": null,
      "outputs": [
        {
          "output_type": "stream",
          "name": "stdout",
          "text": [
            "The optimal c-val is 55.000000.\n",
            "Optimal micro-avergaed F1 is 0.646018.\n"
          ]
        },
        {
          "output_type": "display_data",
          "data": {
            "text/plain": [
              "<Figure size 432x288 with 1 Axes>"
            ],
            "image/png": "[encoded data removed]"
          },
          "metadata": {
            "needs_background": "light"
          }
        }
      ]
    },
    {
      "cell_type": "code",
      "source": [
        "# Evaluate SVC with rbf kernel\n",
        "\n",
        "svc = SVC(kernel='rbf', C=55,random_state=0,class_weight='balanced')\n",
        "if not use_resampled:\n",
        "    svc.fit(X1_train_scaled, y1_train)\n",
        "else:\n",
        "    svc.fit(X1_resampled, y1_resampled)\n",
        "\n",
        "y_pred_test_ = svc.predict(X1_test_scaled)\n",
        "\n",
        "# Score to evaluate model performance\n",
        "# print(\"Test set accuracy is: \",  svc.score(X1_test_scaled, y1_test))\n",
        "print(\"Test set F1 score is: \",  f1_score(y1_test, y_pred_test_, average='micro'))\n",
        "\n",
        "mat = confusion_matrix(y_pred_test_, y1_test)\n",
        "sns.heatmap(mat.T, square=True, annot=True, fmt='d', cbar=False,)\n",
        "plt.xlabel('predicted label')\n",
        "plt.ylabel('true label')\n",
        "\n",
        "precision_recall = classification_report(y1_test, y_pred_test_)\n",
        "print(precision_recall)"
      ],
      "metadata": {
        "colab": {
          "base_uri": "https://localhost:8080/",
          "height": 513
        },
        "id": "m2AaVpyjm3ED",
        "outputId": "a1b13b95-6f1d-4339-ca68-e78f99ec08ae"
      },
      "execution_count": null,
      "outputs": [
        {
          "output_type": "stream",
          "name": "stderr",
          "text": [
            "/usr/local/lib/python3.7/dist-packages/sklearn/utils/validation.py:993: DataConversionWarning: A column-vector y was passed when a 1d array was expected. Please change the shape of y to (n_samples, ), for example using ravel().\n",
            "  y = column_or_1d(y, warn=True)\n"
          ]
        },
        {
          "output_type": "stream",
          "name": "stdout",
          "text": [
            "Test set F1 score is:  0.4880952380952381\n",
            "              precision    recall  f1-score   support\n",
            "\n",
            "         0.0       0.34      0.36      0.35        64\n",
            "         1.0       0.59      0.57      0.58       104\n",
            "\n",
            "    accuracy                           0.49       168\n",
            "   macro avg       0.46      0.46      0.46       168\n",
            "weighted avg       0.49      0.49      0.49       168\n",
            "\n"
          ]
        },
        {
          "output_type": "display_data",
          "data": {
            "text/plain": [
              "<Figure size 432x288 with 1 Axes>"
            ],
            "image/png": "[encoded data removed]"
          },
          "metadata": {
            "needs_background": "light"
          }
        }
      ]
    },
    {
      "cell_type": "markdown",
      "source": [
        "SVC linear kernel binary classification (1st way)"
      ],
      "metadata": {
        "id": "Sw2ZbJ-IkEnL"
      }
    },
    {
      "cell_type": "code",
      "source": [
        "from sklearn.svm import SVC\n",
        "\n",
        "svc = SVC(random_state=0,class_weight='balanced',kernel='linear')\n",
        "svc.fit(X1_resampled, y1_resampled)\n",
        "\n",
        "y_pred_test_ = svc.predict(X1_test_scaled)\n",
        "\n",
        "# Score to evaluate model performance\n",
        "# print(\"Test set accuracy is: \",  svc.score(X1_test_scaled, y1_test))\n",
        "print(\"Test set F1 score is: \",  f1_score(y1_test, y_pred_test_, average='micro'))\n",
        "\n",
        "mat = confusion_matrix(y_pred_test_, y1_test)\n",
        "sns.heatmap(mat.T, square=True, annot=True, fmt='d', cbar=False,)\n",
        "plt.xlabel('predicted label')\n",
        "plt.ylabel('true label')\n",
        "\n",
        "precision_recall = classification_report(y1_test, y_pred_test_)\n",
        "print(precision_recall)"
      ],
      "metadata": {
        "colab": {
          "base_uri": "https://localhost:8080/",
          "height": 513
        },
        "id": "zj6Gu-6gkEv1",
        "outputId": "c74149e0-3dab-45ca-ac0a-cf58b17e1e19"
      },
      "execution_count": null,
      "outputs": [
        {
          "output_type": "stream",
          "name": "stdout",
          "text": [
            "Test set F1 score is:  0.5297619047619048\n",
            "              precision    recall  f1-score   support\n",
            "\n",
            "         0.0       0.40      0.47      0.43        64\n",
            "         1.0       0.63      0.57      0.60       104\n",
            "\n",
            "    accuracy                           0.53       168\n",
            "   macro avg       0.52      0.52      0.52       168\n",
            "weighted avg       0.55      0.53      0.54       168\n",
            "\n"
          ]
        },
        {
          "output_type": "stream",
          "name": "stderr",
          "text": [
            "/usr/local/lib/python3.7/dist-packages/sklearn/utils/validation.py:993: DataConversionWarning: A column-vector y was passed when a 1d array was expected. Please change the shape of y to (n_samples, ), for example using ravel().\n",
            "  y = column_or_1d(y, warn=True)\n"
          ]
        },
        {
          "output_type": "display_data",
          "data": {
            "text/plain": [
              "<Figure size 432x288 with 1 Axes>"
            ],
            "image/png": "[encoded data removed]"
          },
          "metadata": {
            "needs_background": "light"
          }
        }
      ]
    },
    {
      "cell_type": "markdown",
      "source": [
        "SVC linear kernel optimize C"
      ],
      "metadata": {
        "id": "6Ea0WkUqjJHA"
      }
    },
    {
      "cell_type": "code",
      "source": [
        "from sklearn.model_selection import cross_val_score\n",
        "\n",
        "# find the optimal C\n",
        "c_vals = [0.0000001, 0.000001, 0.00001, 0.0001, 0.001, 0.01, 0.1, 1.0, 10]\n",
        "\n",
        "# creating list of cv scores\n",
        "cv_scores = []\n",
        "\n",
        "# find the best regularization hyperparameter\n",
        "for c in c_vals:\n",
        "    svc = SVC(kernel='linear', C=c,random_state=0,class_weight='balanced')\n",
        "    if not use_resampled:\n",
        "        scores = cross_val_score(svc, X1_train_2_scaled, np.ravel(y_train_2), \n",
        "        cv=10, scoring='f1_micro')\n",
        "    else:\n",
        "        scores = cross_val_score(svc, X1_resampled_, np.ravel(y1_resampled_), \n",
        "        cv=10, scoring='f1_micro')\n",
        "    cv_scores.append(scores.mean())\n",
        "\n",
        "# plot the resulting accuracy across regularization strength\n",
        "plt.plot(c_vals, cv_scores)\n",
        "plt.title(\"F1 as a function of the inverse of regularization strength for a linear SVM\")\n",
        "plt.xlabel(\"C value\")\n",
        "plt.ylabel(\"Micro-averaged F1\")\n",
        "\n",
        "# select the number of neighbors which maximizes the accuracy\n",
        "best_c = c_vals[cv_scores.index(max(cv_scores))]\n",
        "print(\"The optimal c-val is %f.\" % best_c)\n",
        "print(\"Optimal micro-avergaed F1 is %f.\" % cv_scores[cv_scores.index(max(cv_scores))])"
      ],
      "metadata": {
        "colab": {
          "base_uri": "https://localhost:8080/",
          "height": 331
        },
        "id": "N-28Nd4tjj6Z",
        "outputId": "0861e226-333b-4cef-b625-0c7dea7d8e4f"
      },
      "execution_count": null,
      "outputs": [
        {
          "output_type": "stream",
          "name": "stdout",
          "text": [
            "The optimal c-val is 0.010000.\n",
            "Optimal micro-avergaed F1 is 0.536234.\n"
          ]
        },
        {
          "output_type": "display_data",
          "data": {
            "text/plain": [
              "<Figure size 432x288 with 1 Axes>"
            ],
            "image/png": "[encoded data removed]"
          },
          "metadata": {
            "needs_background": "light"
          }
        }
      ]
    },
    {
      "cell_type": "code",
      "source": [
        "# Evaluate SVC with linear kernel\n",
        "\n",
        "svc = SVC(kernel='linear', C=0.01,random_state=0,class_weight='balanced')\n",
        "if not use_resampled:\n",
        "    svc.fit(X1_train_scaled, y1_train)\n",
        "else:\n",
        "    svc.fit(X1_resampled, y1_resampled)\n",
        "\n",
        "y_pred_test_ = svc.predict(X1_test_scaled)\n",
        "\n",
        "# Score to evaluate model performance\n",
        "# print(\"Test set accuracy is: \",  svc.score(X1_test_scaled, y1_test))\n",
        "print(\"Test set F1 score is: \",  f1_score(y1_test, y_pred_test_, average='micro'))\n",
        "\n",
        "mat = confusion_matrix(y_pred_test_, y1_test)\n",
        "sns.heatmap(mat.T, square=True, annot=True, fmt='d', cbar=False,)\n",
        "plt.xlabel('predicted label')\n",
        "plt.ylabel('true label')\n",
        "\n",
        "precision_recall = classification_report(y1_test, y_pred_test_)\n",
        "print(precision_recall)"
      ],
      "metadata": {
        "colab": {
          "base_uri": "https://localhost:8080/",
          "height": 513
        },
        "id": "QW6gXocCnfYx",
        "outputId": "411edd1a-f6f5-44c0-a23f-14212a1688a2"
      },
      "execution_count": null,
      "outputs": [
        {
          "output_type": "stream",
          "name": "stdout",
          "text": [
            "Test set F1 score is:  0.5595238095238095\n",
            "              precision    recall  f1-score   support\n",
            "\n",
            "         0.0       0.42      0.44      0.43        64\n",
            "         1.0       0.65      0.63      0.64       104\n",
            "\n",
            "    accuracy                           0.56       168\n",
            "   macro avg       0.54      0.54      0.54       168\n",
            "weighted avg       0.56      0.56      0.56       168\n",
            "\n"
          ]
        },
        {
          "output_type": "stream",
          "name": "stderr",
          "text": [
            "/usr/local/lib/python3.7/dist-packages/sklearn/utils/validation.py:993: DataConversionWarning: A column-vector y was passed when a 1d array was expected. Please change the shape of y to (n_samples, ), for example using ravel().\n",
            "  y = column_or_1d(y, warn=True)\n"
          ]
        },
        {
          "output_type": "display_data",
          "data": {
            "text/plain": [
              "<Figure size 432x288 with 1 Axes>"
            ],
            "image/png": "[encoded data removed]"
          },
          "metadata": {
            "needs_background": "light"
          }
        }
      ]
    },
    {
      "cell_type": "markdown",
      "source": [
        "SVC polynomial kernel binary classification (1st way)"
      ],
      "metadata": {
        "id": "n66d8t4djZmE"
      }
    },
    {
      "cell_type": "code",
      "source": [
        "from sklearn.svm import SVC\n",
        "\n",
        "svc = SVC(random_state=0,class_weight='balanced',kernel='poly')\n",
        "svc.fit(X1_resampled, y1_resampled)\n",
        "\n",
        "y_pred_test_ = svc.predict(X1_test_scaled)\n",
        "\n",
        "# Score to evaluate model performance\n",
        "# print(\"Test set accuracy is: \",  svc.score(X1_test_scaled, y1_test))\n",
        "print(\"Test set F1 score is: \",  f1_score(y1_test, y_pred_test_, average='micro'))\n",
        "\n",
        "mat = confusion_matrix(y_pred_test_, y1_test)\n",
        "sns.heatmap(mat.T, square=True, annot=True, fmt='d', cbar=False,)\n",
        "plt.xlabel('predicted label')\n",
        "plt.ylabel('true label')\n",
        "\n",
        "precision_recall = classification_report(y1_test, y_pred_test_)\n",
        "print(precision_recall)"
      ],
      "metadata": {
        "colab": {
          "base_uri": "https://localhost:8080/",
          "height": 513
        },
        "id": "4rQRyerFjkWL",
        "outputId": "bba18a61-e689-40a9-bed1-976e67c56ed1"
      },
      "execution_count": null,
      "outputs": [
        {
          "output_type": "stream",
          "name": "stderr",
          "text": [
            "/usr/local/lib/python3.7/dist-packages/sklearn/utils/validation.py:993: DataConversionWarning: A column-vector y was passed when a 1d array was expected. Please change the shape of y to (n_samples, ), for example using ravel().\n",
            "  y = column_or_1d(y, warn=True)\n"
          ]
        },
        {
          "output_type": "stream",
          "name": "stdout",
          "text": [
            "Test set F1 score is:  0.5714285714285714\n",
            "              precision    recall  f1-score   support\n",
            "\n",
            "         0.0       0.44      0.48      0.46        64\n",
            "         1.0       0.66      0.62      0.64       104\n",
            "\n",
            "    accuracy                           0.57       168\n",
            "   macro avg       0.55      0.55      0.55       168\n",
            "weighted avg       0.58      0.57      0.57       168\n",
            "\n"
          ]
        },
        {
          "output_type": "display_data",
          "data": {
            "text/plain": [
              "<Figure size 432x288 with 1 Axes>"
            ],
            "image/png": "[encoded data removed]"
          },
          "metadata": {
            "needs_background": "light"
          }
        }
      ]
    },
    {
      "cell_type": "markdown",
      "source": [
        "SVC polynomial kernel optimize C"
      ],
      "metadata": {
        "id": "tIk1EmdIjOCY"
      }
    },
    {
      "cell_type": "code",
      "source": [
        "from sklearn.model_selection import cross_val_score\n",
        "\n",
        "# find the optimal C\n",
        "c_vals = [0.00001, 0.0001, 0.001, 0.01, 0.1, 1.0, 10, 20, 50, 55, 60, 100]\n",
        "\n",
        "# creating list of cv scores\n",
        "cv_scores = []\n",
        "\n",
        "# find the best regularization hyperparameter\n",
        "for c in c_vals:\n",
        "    svc = SVC(kernel='poly', C=c,random_state=0,class_weight='balanced')\n",
        "    if not use_resampled:\n",
        "        scores = cross_val_score(svc, X1_train_2_scaled, np.ravel(y_train_2), \n",
        "        cv=10, scoring='f1_micro')\n",
        "    else:\n",
        "        scores = cross_val_score(svc, X1_resampled_, np.ravel(y1_resampled_), \n",
        "        cv=10, scoring='f1_micro')\n",
        "    cv_scores.append(scores.mean())\n",
        "\n",
        "# plot the resulting accuracy across regularization strength\n",
        "plt.plot(c_vals, cv_scores)\n",
        "plt.title(\"F1 as a function of the inverse of regularization strength for a linear SVM\")\n",
        "plt.xlabel(\"C value\")\n",
        "plt.ylabel(\"Micro-averaged F1\")\n",
        "\n",
        "# select the number of neighbors which maximizes the accuracy\n",
        "best_c = c_vals[cv_scores.index(max(cv_scores))]\n",
        "print(\"The optimal c-val is %f.\" % best_c)\n",
        "print(\"Optimal micro-avergaed F1 is %f.\" % cv_scores[cv_scores.index(max(cv_scores))])"
      ],
      "metadata": {
        "colab": {
          "base_uri": "https://localhost:8080/",
          "height": 331
        },
        "id": "wqZlEhUajkyi",
        "outputId": "a9e6fb42-7865-4f62-cf71-1cb1fda772c6"
      },
      "execution_count": null,
      "outputs": [
        {
          "output_type": "stream",
          "name": "stdout",
          "text": [
            "The optimal c-val is 100.000000.\n",
            "Optimal micro-avergaed F1 is 0.617982.\n"
          ]
        },
        {
          "output_type": "display_data",
          "data": {
            "text/plain": [
              "<Figure size 432x288 with 1 Axes>"
            ],
            "image/png": "[encoded data removed]"
          },
          "metadata": {
            "needs_background": "light"
          }
        }
      ]
    },
    {
      "cell_type": "code",
      "source": [
        "# Evaluate SVC with polynomial kernel\n",
        "\n",
        "svc = SVC(kernel='poly', C=55,random_state=0,class_weight='balanced')\n",
        "if not use_resampled:\n",
        "    svc.fit(X1_train_scaled, y1_train)\n",
        "else:\n",
        "    svc.fit(X1_resampled, y1_resampled)\n",
        "\n",
        "y_pred_test_ = svc.predict(X1_test_scaled)\n",
        "\n",
        "# Score to evaluate model performance\n",
        "# print(\"Test set accuracy is: \",  svc.score(X1_test_scaled, y1_test))\n",
        "print(\"Test set F1 score is: \",  f1_score(y1_test, y_pred_test_, average='micro'))\n",
        "\n",
        "mat = confusion_matrix(y_pred_test_, y1_test)\n",
        "sns.heatmap(mat.T, square=True, annot=True, fmt='d', cbar=False,)\n",
        "plt.xlabel('predicted label')\n",
        "plt.ylabel('true label')\n",
        "\n",
        "precision_recall = classification_report(y1_test, y_pred_test_)\n",
        "print(precision_recall)"
      ],
      "metadata": {
        "colab": {
          "base_uri": "https://localhost:8080/",
          "height": 513
        },
        "id": "39IAKVGVn9n0",
        "outputId": "98b0fd64-75ff-43d4-a002-4bb795eb9409"
      },
      "execution_count": null,
      "outputs": [
        {
          "output_type": "stream",
          "name": "stderr",
          "text": [
            "/usr/local/lib/python3.7/dist-packages/sklearn/utils/validation.py:993: DataConversionWarning: A column-vector y was passed when a 1d array was expected. Please change the shape of y to (n_samples, ), for example using ravel().\n",
            "  y = column_or_1d(y, warn=True)\n"
          ]
        },
        {
          "output_type": "stream",
          "name": "stdout",
          "text": [
            "Test set F1 score is:  0.5654761904761905\n",
            "              precision    recall  f1-score   support\n",
            "\n",
            "         0.0       0.43      0.47      0.45        64\n",
            "         1.0       0.66      0.62      0.64       104\n",
            "\n",
            "    accuracy                           0.57       168\n",
            "   macro avg       0.55      0.55      0.55       168\n",
            "weighted avg       0.57      0.57      0.57       168\n",
            "\n"
          ]
        },
        {
          "output_type": "display_data",
          "data": {
            "text/plain": [
              "<Figure size 432x288 with 1 Axes>"
            ],
            "image/png": "[encoded data removed]"
          },
          "metadata": {
            "needs_background": "light"
          }
        }
      ]
    }
  ]
}