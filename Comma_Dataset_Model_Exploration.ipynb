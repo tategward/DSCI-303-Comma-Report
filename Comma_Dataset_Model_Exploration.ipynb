{
  "cells": [
    {
      "cell_type": "markdown",
      "metadata": {
        "id": "gnQ4sCdVcUUq"
      },
      "source": [
        "## Comma Team Final Project Code\n",
        "\n",
        "In this file, we go through all of the steps to undertake our investigation into our dataset. We first clean up data, select features, perform features engineering, then perform an investigative analysis using different classification models."
      ]
    },
    {
      "cell_type": "markdown",
      "metadata": {
        "id": "9ov34kd2cUUr"
      },
      "source": [
        "#### Preparations\n",
        "\n",
        "First, let's import the necessary libraries and load the data files for our project."
      ]
    },
    {
      "cell_type": "code",
      "execution_count": 1,
      "metadata": {
        "id": "ATn1-wOjcUUs"
      },
      "outputs": [],
      "source": [
        "import pandas as pd\n",
        "import seaborn as sns\n",
        "import matplotlib.pyplot as plt\n",
        "import math\n",
        "import numpy as np"
      ]
    },
    {
      "cell_type": "code",
      "source": [
        "from google.colab import drive\n",
        "drive.mount('/content/drive')\n",
        "\n",
        "# CVA.csv should be in DSCI 303/; if your files are in a different directory\n",
        "# on your Google Drive, you will need to change the path below accordingly\n",
        "DATADIR = '/content/drive/My Drive/DSCI 303/Final Project/'"
      ],
      "metadata": {
        "colab": {
          "base_uri": "https://localhost:8080/"
        },
        "id": "GX8GUd-BcYBJ",
        "outputId": "e9e0c0fd-cfae-43b5-d172-6f185d783fb3"
      },
      "execution_count": 2,
      "outputs": [
        {
          "output_type": "stream",
          "name": "stdout",
          "text": [
            "Mounted at /content/drive\n"
          ]
        }
      ]
    },
    {
      "cell_type": "code",
      "execution_count": 3,
      "metadata": {
        "colab": {
          "base_uri": "https://localhost:8080/",
          "height": 597
        },
        "id": "m364tOUUcUUs",
        "outputId": "959aa5a9-6972-462a-a73e-f85276538987"
      },
      "outputs": [
        {
          "output_type": "execute_result",
          "data": {
            "text/plain": [
              "   RespondentID In your opinion, which sentence is more gramatically correct?  \\\n",
              "0    3292953864  It's important for a person to be honest, kind...              \n",
              "1    3292950324  It's important for a person to be honest, kind...              \n",
              "2    3292942669  It's important for a person to be honest, kind...              \n",
              "3    3292932796  It's important for a person to be honest, kind...              \n",
              "4    3292932522  It's important for a person to be honest, kind...              \n",
              "\n",
              "  Prior to reading about it above, had you heard of the serial (or Oxford) comma?  \\\n",
              "0                                                Yes                                \n",
              "1                                                 No                                \n",
              "2                                                Yes                                \n",
              "3                                                Yes                                \n",
              "4                                                 No                                \n",
              "\n",
              "  How much, if at all, do you care about the use (or lack thereof) of the serial (or Oxford) comma in grammar?  \\\n",
              "0                                               Some                                                             \n",
              "1                                           Not much                                                             \n",
              "2                                               Some                                                             \n",
              "3                                               Some                                                             \n",
              "4                                           Not much                                                             \n",
              "\n",
              "         How would you write the following sentence?  \\\n",
              "0  Some experts say it's important to drink milk,...   \n",
              "1  Some experts say it's important to drink milk,...   \n",
              "2  Some experts say it's important to drink milk,...   \n",
              "3  Some experts say it's important to drink milk,...   \n",
              "4  Some experts say it's important to drink milk,...   \n",
              "\n",
              "  When faced with using the word \"data\", have you ever spent time considering if the word was a singular or plural noun?  \\\n",
              "0                                                 No                                                                       \n",
              "1                                                 No                                                                       \n",
              "2                                                Yes                                                                       \n",
              "3                                                 No                                                                       \n",
              "4                                                 No                                                                       \n",
              "\n",
              "  How much, if at all, do you care about the debate over the use of the word \"data\" as a singluar or plural noun?  \\\n",
              "0                                           Not much                                                                \n",
              "1                                           Not much                                                                \n",
              "2                                         Not at all                                                                \n",
              "3                                               Some                                                                \n",
              "4                                           Not much                                                                \n",
              "\n",
              "  In your opinion, how important or unimportant is proper use of grammar?  \\\n",
              "0                                 Somewhat important                        \n",
              "1                               Somewhat unimportant                        \n",
              "2                                     Very important                        \n",
              "3                                 Somewhat important                        \n",
              "4                                                NaN                        \n",
              "\n",
              "  Gender    Age   Household Income                     Education  \\\n",
              "0   Male  30-44  $50,000 - $99,999               Bachelor degree   \n",
              "1   Male  30-44  $50,000 - $99,999               Graduate degree   \n",
              "2   Male  30-44                NaN                           NaN   \n",
              "3   Male  18-29                NaN  Less than high school degree   \n",
              "4    NaN    NaN                NaN                           NaN   \n",
              "\n",
              "  Location (Census Region)  \n",
              "0           South Atlantic  \n",
              "1                 Mountain  \n",
              "2       East North Central  \n",
              "3          Middle Atlantic  \n",
              "4                      NaN  "
            ],
            "text/html": [
              "\n",
              "  <div id=\"df-90ccb6f7-c597-440f-9401-87899265a817\">\n",
              "    <div class=\"colab-df-container\">\n",
              "      <div>\n",
              "<style scoped>\n",
              "    .dataframe tbody tr th:only-of-type {\n",
              "        vertical-align: middle;\n",
              "    }\n",
              "\n",
              "    .dataframe tbody tr th {\n",
              "        vertical-align: top;\n",
              "    }\n",
              "\n",
              "    .dataframe thead th {\n",
              "        text-align: right;\n",
              "    }\n",
              "</style>\n",
              "<table border=\"1\" class=\"dataframe\">\n",
              "  <thead>\n",
              "    <tr style=\"text-align: right;\">\n",
              "      <th></th>\n",
              "      <th>RespondentID</th>\n",
              "      <th>In your opinion, which sentence is more gramatically correct?</th>\n",
              "      <th>Prior to reading about it above, had you heard of the serial (or Oxford) comma?</th>\n",
              "      <th>How much, if at all, do you care about the use (or lack thereof) of the serial (or Oxford) comma in grammar?</th>\n",
              "      <th>How would you write the following sentence?</th>\n",
              "      <th>When faced with using the word \"data\", have you ever spent time considering if the word was a singular or plural noun?</th>\n",
              "      <th>How much, if at all, do you care about the debate over the use of the word \"data\" as a singluar or plural noun?</th>\n",
              "      <th>In your opinion, how important or unimportant is proper use of grammar?</th>\n",
              "      <th>Gender</th>\n",
              "      <th>Age</th>\n",
              "      <th>Household Income</th>\n",
              "      <th>Education</th>\n",
              "      <th>Location (Census Region)</th>\n",
              "    </tr>\n",
              "  </thead>\n",
              "  <tbody>\n",
              "    <tr>\n",
              "      <th>0</th>\n",
              "      <td>3292953864</td>\n",
              "      <td>It's important for a person to be honest, kind...</td>\n",
              "      <td>Yes</td>\n",
              "      <td>Some</td>\n",
              "      <td>Some experts say it's important to drink milk,...</td>\n",
              "      <td>No</td>\n",
              "      <td>Not much</td>\n",
              "      <td>Somewhat important</td>\n",
              "      <td>Male</td>\n",
              "      <td>30-44</td>\n",
              "      <td>$50,000 - $99,999</td>\n",
              "      <td>Bachelor degree</td>\n",
              "      <td>South Atlantic</td>\n",
              "    </tr>\n",
              "    <tr>\n",
              "      <th>1</th>\n",
              "      <td>3292950324</td>\n",
              "      <td>It's important for a person to be honest, kind...</td>\n",
              "      <td>No</td>\n",
              "      <td>Not much</td>\n",
              "      <td>Some experts say it's important to drink milk,...</td>\n",
              "      <td>No</td>\n",
              "      <td>Not much</td>\n",
              "      <td>Somewhat unimportant</td>\n",
              "      <td>Male</td>\n",
              "      <td>30-44</td>\n",
              "      <td>$50,000 - $99,999</td>\n",
              "      <td>Graduate degree</td>\n",
              "      <td>Mountain</td>\n",
              "    </tr>\n",
              "    <tr>\n",
              "      <th>2</th>\n",
              "      <td>3292942669</td>\n",
              "      <td>It's important for a person to be honest, kind...</td>\n",
              "      <td>Yes</td>\n",
              "      <td>Some</td>\n",
              "      <td>Some experts say it's important to drink milk,...</td>\n",
              "      <td>Yes</td>\n",
              "      <td>Not at all</td>\n",
              "      <td>Very important</td>\n",
              "      <td>Male</td>\n",
              "      <td>30-44</td>\n",
              "      <td>NaN</td>\n",
              "      <td>NaN</td>\n",
              "      <td>East North Central</td>\n",
              "    </tr>\n",
              "    <tr>\n",
              "      <th>3</th>\n",
              "      <td>3292932796</td>\n",
              "      <td>It's important for a person to be honest, kind...</td>\n",
              "      <td>Yes</td>\n",
              "      <td>Some</td>\n",
              "      <td>Some experts say it's important to drink milk,...</td>\n",
              "      <td>No</td>\n",
              "      <td>Some</td>\n",
              "      <td>Somewhat important</td>\n",
              "      <td>Male</td>\n",
              "      <td>18-29</td>\n",
              "      <td>NaN</td>\n",
              "      <td>Less than high school degree</td>\n",
              "      <td>Middle Atlantic</td>\n",
              "    </tr>\n",
              "    <tr>\n",
              "      <th>4</th>\n",
              "      <td>3292932522</td>\n",
              "      <td>It's important for a person to be honest, kind...</td>\n",
              "      <td>No</td>\n",
              "      <td>Not much</td>\n",
              "      <td>Some experts say it's important to drink milk,...</td>\n",
              "      <td>No</td>\n",
              "      <td>Not much</td>\n",
              "      <td>NaN</td>\n",
              "      <td>NaN</td>\n",
              "      <td>NaN</td>\n",
              "      <td>NaN</td>\n",
              "      <td>NaN</td>\n",
              "      <td>NaN</td>\n",
              "    </tr>\n",
              "  </tbody>\n",
              "</table>\n",
              "</div>\n",
              "      <button class=\"colab-df-convert\" onclick=\"convertToInteractive('df-90ccb6f7-c597-440f-9401-87899265a817')\"\n",
              "              title=\"Convert this dataframe to an interactive table.\"\n",
              "              style=\"display:none;\">\n",
              "        \n",
              "  <svg xmlns=\"http://www.w3.org/2000/svg\" height=\"24px\"viewBox=\"0 0 24 24\"\n",
              "       width=\"24px\">\n",
              "    <path d=\"M0 0h24v24H0V0z\" fill=\"none\"/>\n",
              "    <path d=\"M18.56 5.44l.94 2.06.94-2.06 2.06-.94-2.06-.94-.94-2.06-.94 2.06-2.06.94zm-11 1L8.5 8.5l.94-2.06 2.06-.94-2.06-.94L8.5 2.5l-.94 2.06-2.06.94zm10 10l.94 2.06.94-2.06 2.06-.94-2.06-.94-.94-2.06-.94 2.06-2.06.94z\"/><path d=\"M17.41 7.96l-1.37-1.37c-.4-.4-.92-.59-1.43-.59-.52 0-1.04.2-1.43.59L10.3 9.45l-7.72 7.72c-.78.78-.78 2.05 0 2.83L4 21.41c.39.39.9.59 1.41.59.51 0 1.02-.2 1.41-.59l7.78-7.78 2.81-2.81c.8-.78.8-2.07 0-2.86zM5.41 20L4 18.59l7.72-7.72 1.47 1.35L5.41 20z\"/>\n",
              "  </svg>\n",
              "      </button>\n",
              "      \n",
              "  <style>\n",
              "    .colab-df-container {\n",
              "      display:flex;\n",
              "      flex-wrap:wrap;\n",
              "      gap: 12px;\n",
              "    }\n",
              "\n",
              "    .colab-df-convert {\n",
              "      background-color: #E8F0FE;\n",
              "      border: none;\n",
              "      border-radius: 50%;\n",
              "      cursor: pointer;\n",
              "      display: none;\n",
              "      fill: #1967D2;\n",
              "      height: 32px;\n",
              "      padding: 0 0 0 0;\n",
              "      width: 32px;\n",
              "    }\n",
              "\n",
              "    .colab-df-convert:hover {\n",
              "      background-color: #E2EBFA;\n",
              "      box-shadow: 0px 1px 2px rgba(60, 64, 67, 0.3), 0px 1px 3px 1px rgba(60, 64, 67, 0.15);\n",
              "      fill: #174EA6;\n",
              "    }\n",
              "\n",
              "    [theme=dark] .colab-df-convert {\n",
              "      background-color: #3B4455;\n",
              "      fill: #D2E3FC;\n",
              "    }\n",
              "\n",
              "    [theme=dark] .colab-df-convert:hover {\n",
              "      background-color: #434B5C;\n",
              "      box-shadow: 0px 1px 3px 1px rgba(0, 0, 0, 0.15);\n",
              "      filter: drop-shadow(0px 1px 2px rgba(0, 0, 0, 0.3));\n",
              "      fill: #FFFFFF;\n",
              "    }\n",
              "  </style>\n",
              "\n",
              "      <script>\n",
              "        const buttonEl =\n",
              "          document.querySelector('#df-90ccb6f7-c597-440f-9401-87899265a817 button.colab-df-convert');\n",
              "        buttonEl.style.display =\n",
              "          google.colab.kernel.accessAllowed ? 'block' : 'none';\n",
              "\n",
              "        async function convertToInteractive(key) {\n",
              "          const element = document.querySelector('#df-90ccb6f7-c597-440f-9401-87899265a817');\n",
              "          const dataTable =\n",
              "            await google.colab.kernel.invokeFunction('convertToInteractive',\n",
              "                                                     [key], {});\n",
              "          if (!dataTable) return;\n",
              "\n",
              "          const docLinkHtml = 'Like what you see? Visit the ' +\n",
              "            '<a target=\"_blank\" href=https://colab.research.google.com/notebooks/data_table.ipynb>data table notebook</a>'\n",
              "            + ' to learn more about interactive tables.';\n",
              "          element.innerHTML = '';\n",
              "          dataTable['output_type'] = 'display_data';\n",
              "          await google.colab.output.renderOutput(dataTable, element);\n",
              "          const docLink = document.createElement('div');\n",
              "          docLink.innerHTML = docLinkHtml;\n",
              "          element.appendChild(docLink);\n",
              "        }\n",
              "      </script>\n",
              "    </div>\n",
              "  </div>\n",
              "  "
            ]
          },
          "metadata": {},
          "execution_count": 3
        }
      ],
      "source": [
        "# Load comma.csv and display the data head\n",
        "df = pd.read_csv(DATADIR + \"comma.csv\")\n",
        "df.head()"
      ]
    },
    {
      "cell_type": "code",
      "execution_count": 4,
      "metadata": {
        "colab": {
          "base_uri": "https://localhost:8080/",
          "height": 624
        },
        "id": "RMsM6YppcUUt",
        "outputId": "2930187d-464c-419a-da56-3810e6d0132d"
      },
      "outputs": [
        {
          "output_type": "display_data",
          "data": {
            "text/plain": [
              "      respondent_id use_oxford_comma heard_of_comma care_for_comma  \\\n",
              "0        3292953864               No            Yes           Some   \n",
              "1        3292950324              Yes             No       Not much   \n",
              "2        3292942669              Yes            Yes           Some   \n",
              "3        3292932796              Yes            Yes           Some   \n",
              "4        3292932522               No             No       Not much   \n",
              "...             ...              ...            ...            ...   \n",
              "1124     3288387618              Yes            Yes          A lot   \n",
              "1125     3288387379               No             No           Some   \n",
              "1126     3288382543              Yes            Yes           Some   \n",
              "1127     3288379152               No            Yes          A lot   \n",
              "1128     3288375700               No            Yes          A lot   \n",
              "\n",
              "     use_data_plural considered_data_plural care_data_plural  \\\n",
              "0                 No                     No         Not much   \n",
              "1                 No                     No         Not much   \n",
              "2                 No                    Yes       Not at all   \n",
              "3                 No                     No             Some   \n",
              "4                 No                     No         Not much   \n",
              "...              ...                    ...              ...   \n",
              "1124              No                     No            A lot   \n",
              "1125              No                     No             Some   \n",
              "1126              No                     No         Not much   \n",
              "1127              No                    Yes         Not much   \n",
              "1128              No                    Yes             Some   \n",
              "\n",
              "              care_grammar  gender    age     household_income  \\\n",
              "0       Somewhat important    Male  30-44    $50,000 - $99,999   \n",
              "1     Somewhat unimportant    Male  30-44    $50,000 - $99,999   \n",
              "2           Very important    Male  30-44                  NaN   \n",
              "3       Somewhat important    Male  18-29                  NaN   \n",
              "4                      NaN     NaN    NaN                  NaN   \n",
              "...                    ...     ...    ...                  ...   \n",
              "1124        Very important  Female  18-29  $100,000 - $149,999   \n",
              "1125        Very important  Female  30-44    $50,000 - $99,999   \n",
              "1126    Somewhat important  Female  30-44    $50,000 - $99,999   \n",
              "1127        Very important  Female  45-60    $50,000 - $99,999   \n",
              "1128    Somewhat important    Male  18-29    $25,000 - $49,999   \n",
              "\n",
              "                             education            location  \n",
              "0                      Bachelor degree      South Atlantic  \n",
              "1                      Graduate degree            Mountain  \n",
              "2                                  NaN  East North Central  \n",
              "3         Less than high school degree     Middle Atlantic  \n",
              "4                                  NaN                 NaN  \n",
              "...                                ...                 ...  \n",
              "1124  Some college or Associate degree      South Atlantic  \n",
              "1125  Some college or Associate degree             Pacific  \n",
              "1126                   Graduate degree     Middle Atlantic  \n",
              "1127                   Graduate degree  East South Central  \n",
              "1128                   Bachelor degree            Mountain  \n",
              "\n",
              "[1129 rows x 13 columns]"
            ],
            "text/html": [
              "\n",
              "  <div id=\"df-4c91ac03-61bb-4729-99bb-6eaec5cf7973\">\n",
              "    <div class=\"colab-df-container\">\n",
              "      <div>\n",
              "<style scoped>\n",
              "    .dataframe tbody tr th:only-of-type {\n",
              "        vertical-align: middle;\n",
              "    }\n",
              "\n",
              "    .dataframe tbody tr th {\n",
              "        vertical-align: top;\n",
              "    }\n",
              "\n",
              "    .dataframe thead th {\n",
              "        text-align: right;\n",
              "    }\n",
              "</style>\n",
              "<table border=\"1\" class=\"dataframe\">\n",
              "  <thead>\n",
              "    <tr style=\"text-align: right;\">\n",
              "      <th></th>\n",
              "      <th>respondent_id</th>\n",
              "      <th>use_oxford_comma</th>\n",
              "      <th>heard_of_comma</th>\n",
              "      <th>care_for_comma</th>\n",
              "      <th>use_data_plural</th>\n",
              "      <th>considered_data_plural</th>\n",
              "      <th>care_data_plural</th>\n",
              "      <th>care_grammar</th>\n",
              "      <th>gender</th>\n",
              "      <th>age</th>\n",
              "      <th>household_income</th>\n",
              "      <th>education</th>\n",
              "      <th>location</th>\n",
              "    </tr>\n",
              "  </thead>\n",
              "  <tbody>\n",
              "    <tr>\n",
              "      <th>0</th>\n",
              "      <td>3292953864</td>\n",
              "      <td>No</td>\n",
              "      <td>Yes</td>\n",
              "      <td>Some</td>\n",
              "      <td>No</td>\n",
              "      <td>No</td>\n",
              "      <td>Not much</td>\n",
              "      <td>Somewhat important</td>\n",
              "      <td>Male</td>\n",
              "      <td>30-44</td>\n",
              "      <td>$50,000 - $99,999</td>\n",
              "      <td>Bachelor degree</td>\n",
              "      <td>South Atlantic</td>\n",
              "    </tr>\n",
              "    <tr>\n",
              "      <th>1</th>\n",
              "      <td>3292950324</td>\n",
              "      <td>Yes</td>\n",
              "      <td>No</td>\n",
              "      <td>Not much</td>\n",
              "      <td>No</td>\n",
              "      <td>No</td>\n",
              "      <td>Not much</td>\n",
              "      <td>Somewhat unimportant</td>\n",
              "      <td>Male</td>\n",
              "      <td>30-44</td>\n",
              "      <td>$50,000 - $99,999</td>\n",
              "      <td>Graduate degree</td>\n",
              "      <td>Mountain</td>\n",
              "    </tr>\n",
              "    <tr>\n",
              "      <th>2</th>\n",
              "      <td>3292942669</td>\n",
              "      <td>Yes</td>\n",
              "      <td>Yes</td>\n",
              "      <td>Some</td>\n",
              "      <td>No</td>\n",
              "      <td>Yes</td>\n",
              "      <td>Not at all</td>\n",
              "      <td>Very important</td>\n",
              "      <td>Male</td>\n",
              "      <td>30-44</td>\n",
              "      <td>NaN</td>\n",
              "      <td>NaN</td>\n",
              "      <td>East North Central</td>\n",
              "    </tr>\n",
              "    <tr>\n",
              "      <th>3</th>\n",
              "      <td>3292932796</td>\n",
              "      <td>Yes</td>\n",
              "      <td>Yes</td>\n",
              "      <td>Some</td>\n",
              "      <td>No</td>\n",
              "      <td>No</td>\n",
              "      <td>Some</td>\n",
              "      <td>Somewhat important</td>\n",
              "      <td>Male</td>\n",
              "      <td>18-29</td>\n",
              "      <td>NaN</td>\n",
              "      <td>Less than high school degree</td>\n",
              "      <td>Middle Atlantic</td>\n",
              "    </tr>\n",
              "    <tr>\n",
              "      <th>4</th>\n",
              "      <td>3292932522</td>\n",
              "      <td>No</td>\n",
              "      <td>No</td>\n",
              "      <td>Not much</td>\n",
              "      <td>No</td>\n",
              "      <td>No</td>\n",
              "      <td>Not much</td>\n",
              "      <td>NaN</td>\n",
              "      <td>NaN</td>\n",
              "      <td>NaN</td>\n",
              "      <td>NaN</td>\n",
              "      <td>NaN</td>\n",
              "      <td>NaN</td>\n",
              "    </tr>\n",
              "    <tr>\n",
              "      <th>...</th>\n",
              "      <td>...</td>\n",
              "      <td>...</td>\n",
              "      <td>...</td>\n",
              "      <td>...</td>\n",
              "      <td>...</td>\n",
              "      <td>...</td>\n",
              "      <td>...</td>\n",
              "      <td>...</td>\n",
              "      <td>...</td>\n",
              "      <td>...</td>\n",
              "      <td>...</td>\n",
              "      <td>...</td>\n",
              "      <td>...</td>\n",
              "    </tr>\n",
              "    <tr>\n",
              "      <th>1124</th>\n",
              "      <td>3288387618</td>\n",
              "      <td>Yes</td>\n",
              "      <td>Yes</td>\n",
              "      <td>A lot</td>\n",
              "      <td>No</td>\n",
              "      <td>No</td>\n",
              "      <td>A lot</td>\n",
              "      <td>Very important</td>\n",
              "      <td>Female</td>\n",
              "      <td>18-29</td>\n",
              "      <td>$100,000 - $149,999</td>\n",
              "      <td>Some college or Associate degree</td>\n",
              "      <td>South Atlantic</td>\n",
              "    </tr>\n",
              "    <tr>\n",
              "      <th>1125</th>\n",
              "      <td>3288387379</td>\n",
              "      <td>No</td>\n",
              "      <td>No</td>\n",
              "      <td>Some</td>\n",
              "      <td>No</td>\n",
              "      <td>No</td>\n",
              "      <td>Some</td>\n",
              "      <td>Very important</td>\n",
              "      <td>Female</td>\n",
              "      <td>30-44</td>\n",
              "      <td>$50,000 - $99,999</td>\n",
              "      <td>Some college or Associate degree</td>\n",
              "      <td>Pacific</td>\n",
              "    </tr>\n",
              "    <tr>\n",
              "      <th>1126</th>\n",
              "      <td>3288382543</td>\n",
              "      <td>Yes</td>\n",
              "      <td>Yes</td>\n",
              "      <td>Some</td>\n",
              "      <td>No</td>\n",
              "      <td>No</td>\n",
              "      <td>Not much</td>\n",
              "      <td>Somewhat important</td>\n",
              "      <td>Female</td>\n",
              "      <td>30-44</td>\n",
              "      <td>$50,000 - $99,999</td>\n",
              "      <td>Graduate degree</td>\n",
              "      <td>Middle Atlantic</td>\n",
              "    </tr>\n",
              "    <tr>\n",
              "      <th>1127</th>\n",
              "      <td>3288379152</td>\n",
              "      <td>No</td>\n",
              "      <td>Yes</td>\n",
              "      <td>A lot</td>\n",
              "      <td>No</td>\n",
              "      <td>Yes</td>\n",
              "      <td>Not much</td>\n",
              "      <td>Very important</td>\n",
              "      <td>Female</td>\n",
              "      <td>45-60</td>\n",
              "      <td>$50,000 - $99,999</td>\n",
              "      <td>Graduate degree</td>\n",
              "      <td>East South Central</td>\n",
              "    </tr>\n",
              "    <tr>\n",
              "      <th>1128</th>\n",
              "      <td>3288375700</td>\n",
              "      <td>No</td>\n",
              "      <td>Yes</td>\n",
              "      <td>A lot</td>\n",
              "      <td>No</td>\n",
              "      <td>Yes</td>\n",
              "      <td>Some</td>\n",
              "      <td>Somewhat important</td>\n",
              "      <td>Male</td>\n",
              "      <td>18-29</td>\n",
              "      <td>$25,000 - $49,999</td>\n",
              "      <td>Bachelor degree</td>\n",
              "      <td>Mountain</td>\n",
              "    </tr>\n",
              "  </tbody>\n",
              "</table>\n",
              "<p>1129 rows × 13 columns</p>\n",
              "</div>\n",
              "      <button class=\"colab-df-convert\" onclick=\"convertToInteractive('df-4c91ac03-61bb-4729-99bb-6eaec5cf7973')\"\n",
              "              title=\"Convert this dataframe to an interactive table.\"\n",
              "              style=\"display:none;\">\n",
              "        \n",
              "  <svg xmlns=\"http://www.w3.org/2000/svg\" height=\"24px\"viewBox=\"0 0 24 24\"\n",
              "       width=\"24px\">\n",
              "    <path d=\"M0 0h24v24H0V0z\" fill=\"none\"/>\n",
              "    <path d=\"M18.56 5.44l.94 2.06.94-2.06 2.06-.94-2.06-.94-.94-2.06-.94 2.06-2.06.94zm-11 1L8.5 8.5l.94-2.06 2.06-.94-2.06-.94L8.5 2.5l-.94 2.06-2.06.94zm10 10l.94 2.06.94-2.06 2.06-.94-2.06-.94-.94-2.06-.94 2.06-2.06.94z\"/><path d=\"M17.41 7.96l-1.37-1.37c-.4-.4-.92-.59-1.43-.59-.52 0-1.04.2-1.43.59L10.3 9.45l-7.72 7.72c-.78.78-.78 2.05 0 2.83L4 21.41c.39.39.9.59 1.41.59.51 0 1.02-.2 1.41-.59l7.78-7.78 2.81-2.81c.8-.78.8-2.07 0-2.86zM5.41 20L4 18.59l7.72-7.72 1.47 1.35L5.41 20z\"/>\n",
              "  </svg>\n",
              "      </button>\n",
              "      \n",
              "  <style>\n",
              "    .colab-df-container {\n",
              "      display:flex;\n",
              "      flex-wrap:wrap;\n",
              "      gap: 12px;\n",
              "    }\n",
              "\n",
              "    .colab-df-convert {\n",
              "      background-color: #E8F0FE;\n",
              "      border: none;\n",
              "      border-radius: 50%;\n",
              "      cursor: pointer;\n",
              "      display: none;\n",
              "      fill: #1967D2;\n",
              "      height: 32px;\n",
              "      padding: 0 0 0 0;\n",
              "      width: 32px;\n",
              "    }\n",
              "\n",
              "    .colab-df-convert:hover {\n",
              "      background-color: #E2EBFA;\n",
              "      box-shadow: 0px 1px 2px rgba(60, 64, 67, 0.3), 0px 1px 3px 1px rgba(60, 64, 67, 0.15);\n",
              "      fill: #174EA6;\n",
              "    }\n",
              "\n",
              "    [theme=dark] .colab-df-convert {\n",
              "      background-color: #3B4455;\n",
              "      fill: #D2E3FC;\n",
              "    }\n",
              "\n",
              "    [theme=dark] .colab-df-convert:hover {\n",
              "      background-color: #434B5C;\n",
              "      box-shadow: 0px 1px 3px 1px rgba(0, 0, 0, 0.15);\n",
              "      filter: drop-shadow(0px 1px 2px rgba(0, 0, 0, 0.3));\n",
              "      fill: #FFFFFF;\n",
              "    }\n",
              "  </style>\n",
              "\n",
              "      <script>\n",
              "        const buttonEl =\n",
              "          document.querySelector('#df-4c91ac03-61bb-4729-99bb-6eaec5cf7973 button.colab-df-convert');\n",
              "        buttonEl.style.display =\n",
              "          google.colab.kernel.accessAllowed ? 'block' : 'none';\n",
              "\n",
              "        async function convertToInteractive(key) {\n",
              "          const element = document.querySelector('#df-4c91ac03-61bb-4729-99bb-6eaec5cf7973');\n",
              "          const dataTable =\n",
              "            await google.colab.kernel.invokeFunction('convertToInteractive',\n",
              "                                                     [key], {});\n",
              "          if (!dataTable) return;\n",
              "\n",
              "          const docLinkHtml = 'Like what you see? Visit the ' +\n",
              "            '<a target=\"_blank\" href=https://colab.research.google.com/notebooks/data_table.ipynb>data table notebook</a>'\n",
              "            + ' to learn more about interactive tables.';\n",
              "          element.innerHTML = '';\n",
              "          dataTable['output_type'] = 'display_data';\n",
              "          await google.colab.output.renderOutput(dataTable, element);\n",
              "          const docLink = document.createElement('div');\n",
              "          docLink.innerHTML = docLinkHtml;\n",
              "          element.appendChild(docLink);\n",
              "        }\n",
              "      </script>\n",
              "    </div>\n",
              "  </div>\n",
              "  "
            ]
          },
          "metadata": {}
        }
      ],
      "source": [
        "# rename columns\n",
        "df.columns = ['respondent_id', 'use_oxford_comma', 'heard_of_comma', 'care_for_comma', 'use_data_plural', \n",
        "              'considered_data_plural', 'care_data_plural', 'care_grammar', 'gender', 'age', 'household_income', 'education', 'location']\n",
        "\n",
        "# change feature values to be more convenient\n",
        "df.loc[df['use_oxford_comma'] == \"It's important for a person to be honest, kind, and loyal.\", 'use_oxford_comma'] = 'Yes'\n",
        "df.loc[df['use_oxford_comma'] == \"It's important for a person to be honest, kind and loyal.\", 'use_oxford_comma'] = 'No'\n",
        "\n",
        "df.loc[df['use_data_plural'] == \"Some experts say it's important to drink milk, but the data is inconclusive.\", 'use_data_plural'] = 'No'\n",
        "df.loc[df['use_data_plural'] == \"Some experts say it's important to drink milk, but the data are inconclusive.\", 'use_data_plural'] = 'Yes'\n",
        "\n",
        "df.loc[df['care_grammar'] == \"Neither important nor unimportant (neutral)\", 'care_grammar'] = 'Neutral'\n",
        "\n",
        "df['use_data_plural'].value_counts() # No: 865, Yes: 228\n",
        "display(df)"
      ]
    },
    {
      "cell_type": "code",
      "source": [
        "# Print the high-level information\n",
        "df.info()"
      ],
      "metadata": {
        "colab": {
          "base_uri": "https://localhost:8080/"
        },
        "id": "p_7D1yHDXwrd",
        "outputId": "a3a76cc5-d1de-49ca-b05e-70d3280be9d1"
      },
      "execution_count": 5,
      "outputs": [
        {
          "output_type": "stream",
          "name": "stdout",
          "text": [
            "<class 'pandas.core.frame.DataFrame'>\n",
            "RangeIndex: 1129 entries, 0 to 1128\n",
            "Data columns (total 13 columns):\n",
            " #   Column                  Non-Null Count  Dtype \n",
            "---  ------                  --------------  ----- \n",
            " 0   respondent_id           1129 non-null   int64 \n",
            " 1   use_oxford_comma        1129 non-null   object\n",
            " 2   heard_of_comma          1099 non-null   object\n",
            " 3   care_for_comma          1099 non-null   object\n",
            " 4   use_data_plural         1093 non-null   object\n",
            " 5   considered_data_plural  1091 non-null   object\n",
            " 6   care_data_plural        1091 non-null   object\n",
            " 7   care_grammar            1059 non-null   object\n",
            " 8   gender                  1037 non-null   object\n",
            " 9   age                     1037 non-null   object\n",
            " 10  household_income        836 non-null    object\n",
            " 11  education               1026 non-null   object\n",
            " 12  location                1027 non-null   object\n",
            "dtypes: int64(1), object(12)\n",
            "memory usage: 114.8+ KB\n"
          ]
        }
      ]
    },
    {
      "cell_type": "markdown",
      "metadata": {
        "id": "W1P3xIv3cUUt"
      },
      "source": [
        "We can see in this data, not every features column has complete entries, which means: we have MISSING DATA!\n",
        "\n",
        "Firstly, we will remove any features that do not have enough data to make them worthwhile to include. (That ends up being none of them in our case)"
      ]
    },
    {
      "cell_type": "code",
      "execution_count": 6,
      "metadata": {
        "id": "SIm6idG7cUUt",
        "colab": {
          "base_uri": "https://localhost:8080/"
        },
        "outputId": "7b2e5227-8d6c-40dc-807e-5e0d4f3c6f06"
      },
      "outputs": [
        {
          "output_type": "stream",
          "name": "stdout",
          "text": [
            "List of dropped columns: N/A\n",
            "\n",
            "\n",
            "The column \"household_income\" has the highest percentage of NaN values: 0.25952170062001767 , which is still less than 30%.\n"
          ]
        }
      ],
      "source": [
        "# Remove columns with too many missing values\n",
        "\n",
        "# Not going to remove any other than respondent_id since the feature (\"household_income\") that has \n",
        "# the most number of missing values has less than 30% NaN values\n",
        "\n",
        "df2 = df[[column for column in df if df[column].count() / len(df) >= 0.7]]\n",
        "\n",
        "print(\"List of dropped columns:\", end=\" \")\n",
        "for c in df.columns:\n",
        "    if c not in df2.columns:\n",
        "        print(c, end=\", \")\n",
        "\n",
        "if df.shape == df2.shape:\n",
        "   print('N/A')\n",
        "print('\\n')\n",
        "df = df2\n",
        "df = df.drop(columns='respondent_id')\n",
        "\n",
        "print('The column \"household_income\" has the highest percentage of NaN values:', \n",
        "      1 - df['household_income'].count()/len(df), ', which is still less than 30%.')"
      ]
    },
    {
      "cell_type": "code",
      "source": [
        "# Because we are missing ~25% of household_income and it is one of our output variables,\n",
        "# we will drop any rows missing the value. This is also a good decision because we are\n",
        "# unable to impute its missing values in a way that does not negatively impact training the model.\n",
        "df = df.dropna(subset = ['household_income'])"
      ],
      "metadata": {
        "id": "VzvyPOjFgnh7"
      },
      "execution_count": 7,
      "outputs": []
    },
    {
      "cell_type": "markdown",
      "metadata": {
        "id": "SLc0_cDNcUUu"
      },
      "source": [
        "#### Distribution Analysis"
      ]
    },
    {
      "cell_type": "markdown",
      "metadata": {
        "id": "tQsQsPuNcUUu"
      },
      "source": [
        "Now, let's look into the distribution of the annual household income feature"
      ]
    },
    {
      "cell_type": "code",
      "execution_count": 8,
      "metadata": {
        "colab": {
          "base_uri": "https://localhost:8080/",
          "height": 667
        },
        "id": "bR-i0IlEcUUu",
        "outputId": "183fab9b-d2be-4946-eca2-f7da4c93ba86"
      },
      "outputs": [
        {
          "output_type": "stream",
          "name": "stdout",
          "text": [
            "count                   836\n",
            "unique                    5\n",
            "top       $50,000 - $99,999\n",
            "freq                    290\n",
            "Name: household_income, dtype: object\n"
          ]
        },
        {
          "output_type": "stream",
          "name": "stderr",
          "text": [
            "/usr/local/lib/python3.8/dist-packages/pandas/core/arrays/categorical.py:2631: FutureWarning: The `inplace` parameter in pandas.Categorical.set_categories is deprecated and will be removed in a future version. Removing unused categories will always return a new Categorical object.\n",
            "  res = method(*args, **kwargs)\n"
          ]
        },
        {
          "output_type": "execute_result",
          "data": {
            "text/plain": [
              "<matplotlib.axes._subplots.AxesSubplot at 0x7f341832c790>"
            ]
          },
          "metadata": {},
          "execution_count": 8
        },
        {
          "output_type": "display_data",
          "data": {
            "text/plain": [
              "<Figure size 864x576 with 1 Axes>"
            ],
            "image/png": "[encoded data removed]"
          },
          "metadata": {
            "needs_background": "light"
          }
        }
      ],
      "source": [
        "print(df['household_income'].describe())\n",
        "plt.figure(figsize=(12, 8))\n",
        "\n",
        "df['household_income'] = df['household_income'].astype('category')\n",
        "df.household_income.cat.set_categories(\n",
        "    new_categories = ['$0 - $24,999', '$25,000 - $49,999', '$50,000 - $99,999', '$100,000 - $149,999', '$150,000+'], ordered = True, inplace = True\n",
        ")\n",
        "\n",
        "sns.countplot(x='household_income', alpha=0.7, data=df)"
      ]
    },
    {
      "cell_type": "markdown",
      "metadata": {
        "id": "PGQ7BUx7cUUu"
      },
      "source": [
        "Our dataset has not numeric features to examine, only categorical ones, which we examine later."
      ]
    },
    {
      "cell_type": "code",
      "execution_count": 9,
      "metadata": {
        "id": "ZS2RKeyecUUv",
        "colab": {
          "base_uri": "https://localhost:8080/",
          "height": 189
        },
        "outputId": "27de48ed-73cb-4cf3-c0dd-8dcaf2849240"
      },
      "outputs": [
        {
          "output_type": "execute_result",
          "data": {
            "text/plain": [
              "Empty DataFrame\n",
              "Columns: []\n",
              "Index: [0, 1, 5, 6, 7]"
            ],
            "text/html": [
              "\n",
              "  <div id=\"df-e05b6c6b-eec6-4518-90ab-a47ca2f252d1\">\n",
              "    <div class=\"colab-df-container\">\n",
              "      <div>\n",
              "<style scoped>\n",
              "    .dataframe tbody tr th:only-of-type {\n",
              "        vertical-align: middle;\n",
              "    }\n",
              "\n",
              "    .dataframe tbody tr th {\n",
              "        vertical-align: top;\n",
              "    }\n",
              "\n",
              "    .dataframe thead th {\n",
              "        text-align: right;\n",
              "    }\n",
              "</style>\n",
              "<table border=\"1\" class=\"dataframe\">\n",
              "  <thead>\n",
              "    <tr style=\"text-align: right;\">\n",
              "      <th></th>\n",
              "    </tr>\n",
              "  </thead>\n",
              "  <tbody>\n",
              "    <tr>\n",
              "      <th>0</th>\n",
              "    </tr>\n",
              "    <tr>\n",
              "      <th>1</th>\n",
              "    </tr>\n",
              "    <tr>\n",
              "      <th>5</th>\n",
              "    </tr>\n",
              "    <tr>\n",
              "      <th>6</th>\n",
              "    </tr>\n",
              "    <tr>\n",
              "      <th>7</th>\n",
              "    </tr>\n",
              "  </tbody>\n",
              "</table>\n",
              "</div>\n",
              "      <button class=\"colab-df-convert\" onclick=\"convertToInteractive('df-e05b6c6b-eec6-4518-90ab-a47ca2f252d1')\"\n",
              "              title=\"Convert this dataframe to an interactive table.\"\n",
              "              style=\"display:none;\">\n",
              "        \n",
              "  <svg xmlns=\"http://www.w3.org/2000/svg\" height=\"24px\"viewBox=\"0 0 24 24\"\n",
              "       width=\"24px\">\n",
              "    <path d=\"M0 0h24v24H0V0z\" fill=\"none\"/>\n",
              "    <path d=\"M18.56 5.44l.94 2.06.94-2.06 2.06-.94-2.06-.94-.94-2.06-.94 2.06-2.06.94zm-11 1L8.5 8.5l.94-2.06 2.06-.94-2.06-.94L8.5 2.5l-.94 2.06-2.06.94zm10 10l.94 2.06.94-2.06 2.06-.94-2.06-.94-.94-2.06-.94 2.06-2.06.94z\"/><path d=\"M17.41 7.96l-1.37-1.37c-.4-.4-.92-.59-1.43-.59-.52 0-1.04.2-1.43.59L10.3 9.45l-7.72 7.72c-.78.78-.78 2.05 0 2.83L4 21.41c.39.39.9.59 1.41.59.51 0 1.02-.2 1.41-.59l7.78-7.78 2.81-2.81c.8-.78.8-2.07 0-2.86zM5.41 20L4 18.59l7.72-7.72 1.47 1.35L5.41 20z\"/>\n",
              "  </svg>\n",
              "      </button>\n",
              "      \n",
              "  <style>\n",
              "    .colab-df-container {\n",
              "      display:flex;\n",
              "      flex-wrap:wrap;\n",
              "      gap: 12px;\n",
              "    }\n",
              "\n",
              "    .colab-df-convert {\n",
              "      background-color: #E8F0FE;\n",
              "      border: none;\n",
              "      border-radius: 50%;\n",
              "      cursor: pointer;\n",
              "      display: none;\n",
              "      fill: #1967D2;\n",
              "      height: 32px;\n",
              "      padding: 0 0 0 0;\n",
              "      width: 32px;\n",
              "    }\n",
              "\n",
              "    .colab-df-convert:hover {\n",
              "      background-color: #E2EBFA;\n",
              "      box-shadow: 0px 1px 2px rgba(60, 64, 67, 0.3), 0px 1px 3px 1px rgba(60, 64, 67, 0.15);\n",
              "      fill: #174EA6;\n",
              "    }\n",
              "\n",
              "    [theme=dark] .colab-df-convert {\n",
              "      background-color: #3B4455;\n",
              "      fill: #D2E3FC;\n",
              "    }\n",
              "\n",
              "    [theme=dark] .colab-df-convert:hover {\n",
              "      background-color: #434B5C;\n",
              "      box-shadow: 0px 1px 3px 1px rgba(0, 0, 0, 0.15);\n",
              "      filter: drop-shadow(0px 1px 2px rgba(0, 0, 0, 0.3));\n",
              "      fill: #FFFFFF;\n",
              "    }\n",
              "  </style>\n",
              "\n",
              "      <script>\n",
              "        const buttonEl =\n",
              "          document.querySelector('#df-e05b6c6b-eec6-4518-90ab-a47ca2f252d1 button.colab-df-convert');\n",
              "        buttonEl.style.display =\n",
              "          google.colab.kernel.accessAllowed ? 'block' : 'none';\n",
              "\n",
              "        async function convertToInteractive(key) {\n",
              "          const element = document.querySelector('#df-e05b6c6b-eec6-4518-90ab-a47ca2f252d1');\n",
              "          const dataTable =\n",
              "            await google.colab.kernel.invokeFunction('convertToInteractive',\n",
              "                                                     [key], {});\n",
              "          if (!dataTable) return;\n",
              "\n",
              "          const docLinkHtml = 'Like what you see? Visit the ' +\n",
              "            '<a target=\"_blank\" href=https://colab.research.google.com/notebooks/data_table.ipynb>data table notebook</a>'\n",
              "            + ' to learn more about interactive tables.';\n",
              "          element.innerHTML = '';\n",
              "          dataTable['output_type'] = 'display_data';\n",
              "          await google.colab.output.renderOutput(dataTable, element);\n",
              "          const docLink = document.createElement('div');\n",
              "          docLink.innerHTML = docLinkHtml;\n",
              "          element.appendChild(docLink);\n",
              "        }\n",
              "      </script>\n",
              "    </div>\n",
              "  </div>\n",
              "  "
            ]
          },
          "metadata": {},
          "execution_count": 9
        }
      ],
      "source": [
        "# Select the numerical featrues\n",
        "df_num = df.select_dtypes(include = 'number')\n",
        "df_num.head()\n",
        "# NO NUMERIC FEATURES"
      ]
    },
    {
      "cell_type": "markdown",
      "metadata": {
        "id": "hJ9Iz-EBcUUv"
      },
      "source": [
        "As for the non-numeric features:"
      ]
    },
    {
      "cell_type": "code",
      "execution_count": 10,
      "metadata": {
        "colab": {
          "base_uri": "https://localhost:8080/"
        },
        "id": "L2Ql84u6cUUv",
        "outputId": "3c3d2280-a19d-4fc7-f292-101cfb938a27"
      },
      "outputs": [
        {
          "output_type": "stream",
          "name": "stdout",
          "text": [
            "There is 11 non numerical features including:\n",
            "['use_oxford_comma', 'heard_of_comma', 'care_for_comma', 'use_data_plural', 'considered_data_plural', 'care_data_plural', 'care_grammar', 'gender', 'age', 'education', 'location']\n"
          ]
        }
      ],
      "source": [
        "df_not_num = df.select_dtypes(include = ['O'])\n",
        "print('There is {} non numerical features including:\\n{}'.format(len(df_not_num.columns), df_not_num.columns.tolist()))"
      ]
    },
    {
      "cell_type": "code",
      "source": [
        "df['care_for_comma']\n",
        "\n",
        "# convert ordinal features to be ordered\n",
        "\n",
        "df['use_oxford_comma'] = df['use_oxford_comma'].astype('category')\n",
        "df.use_oxford_comma.cat.set_categories(\n",
        "    new_categories = ['Yes', 'No'], ordered = True, inplace = True\n",
        ")\n",
        "\n",
        "df['heard_of_comma'] = df['heard_of_comma'].astype('category')\n",
        "df.heard_of_comma.cat.set_categories(\n",
        "    new_categories = ['Yes', 'No'], ordered = True, inplace = True\n",
        ")\n",
        "\n",
        "df['use_data_plural'] = df['use_data_plural'].astype('category')\n",
        "df.use_data_plural.cat.set_categories(\n",
        "    new_categories = ['Yes', 'No'], ordered = True, inplace = True\n",
        ")\n",
        "\n",
        "df['considered_data_plural'] = df['considered_data_plural'].astype('category')\n",
        "df.considered_data_plural.cat.set_categories(\n",
        "    new_categories = ['Yes', 'No'], ordered = True, inplace = True\n",
        ")\n",
        "\n",
        "df['care_for_comma'] = df['care_for_comma'].astype('category')\n",
        "df.care_for_comma.cat.set_categories(\n",
        "    new_categories = ['Not at all', 'Not much', 'Some', 'A lot'], ordered = True, inplace = True\n",
        ")\n",
        "\n",
        "df['care_data_plural'] = df['care_data_plural'].astype('category')\n",
        "df.care_data_plural.cat.set_categories(\n",
        "    new_categories = ['Not at all', 'Not much', 'Some', 'A lot'], ordered = True, inplace = True\n",
        ")\n",
        "\n",
        "df['care_grammar'] = df['care_grammar'].astype('category')\n",
        "df.care_grammar.cat.set_categories(\n",
        "    new_categories = ['Very unimportant', 'Somewhat unimportant', 'Neutral', \n",
        "                      'Somewhat important', 'Very important'], ordered = True, inplace = True\n",
        ")\n",
        "\n",
        "df['age'] = df['age'].astype('category')\n",
        "df.age.cat.set_categories(\n",
        "    new_categories = ['18-29', '30-44', '45-60', '> 60'], ordered = True, inplace = True\n",
        ")\n",
        "\n",
        "df['education'] = df['education'].astype('category')\n",
        "df.education.cat.set_categories(\n",
        "    new_categories = ['Less than high school degree', 'High school degree', 'Some college or Associate degree', \n",
        "                      'Bachelor degree', 'Graduate degree'], ordered = True, inplace = True\n",
        ")"
      ],
      "metadata": {
        "colab": {
          "base_uri": "https://localhost:8080/"
        },
        "id": "Lu0-sKWhgyI2",
        "outputId": "08b03161-7b52-489b-de93-7f7c42938965"
      },
      "execution_count": 11,
      "outputs": [
        {
          "output_type": "stream",
          "name": "stderr",
          "text": [
            "/usr/local/lib/python3.8/dist-packages/pandas/core/arrays/categorical.py:2631: FutureWarning: The `inplace` parameter in pandas.Categorical.set_categories is deprecated and will be removed in a future version. Removing unused categories will always return a new Categorical object.\n",
            "  res = method(*args, **kwargs)\n"
          ]
        }
      ]
    },
    {
      "cell_type": "markdown",
      "metadata": {
        "id": "2NnNkLx7cUUv"
      },
      "source": [
        "Looking at these features we can see that a lot of them are of the type `Object(O)`. In our data transformation notebook we could use [Pandas categorical functions](http://pandas.pydata.org/pandas-docs/stable/categorical.html) (equivalent to R's factor) to shape our data in a way that would be interpretable for our machine learning algorithm."
      ]
    },
    {
      "cell_type": "code",
      "execution_count": 12,
      "metadata": {
        "colab": {
          "base_uri": "https://localhost:8080/",
          "height": 1000
        },
        "id": "EBETy_kBcUUw",
        "outputId": "da6dcd63-4796-4092-d0ca-1da52506a423"
      },
      "outputs": [
        {
          "output_type": "display_data",
          "data": {
            "text/plain": [
              "<Figure size 1080x2160 with 12 Axes>"
            ],
            "image/png": "[encoded data removed]"
          },
          "metadata": {
            "needs_background": "light"
          }
        }
      ],
      "source": [
        "df_not_num = df\n",
        "\n",
        "fig, axes = plt.subplots(round(len(df_not_num.columns) / 3), 3, figsize=(15, 30))\n",
        "\n",
        "for i, ax in enumerate(fig.axes):\n",
        "    if i < len(df_not_num.columns):\n",
        "        ax.tick_params(axis='x', rotation=45)\n",
        "        sns.countplot(x=df_not_num.columns[i], alpha=0.7, data=df_not_num, ax=ax)\n",
        "\n",
        "fig.tight_layout()"
      ]
    },
    {
      "cell_type": "markdown",
      "metadata": {
        "id": "NQQK9tKYcUUw"
      },
      "source": [
        "We can see that none of the features have a single dominant category with little variance. These features may all be relevant for our predictive model"
      ]
    },
    {
      "cell_type": "markdown",
      "metadata": {
        "id": "EhcziwCDcUUw"
      },
      "source": [
        "#### Correlation (association) Analysis"
      ]
    },
    {
      "cell_type": "markdown",
      "metadata": {
        "id": "zIYya6PrcUUw"
      },
      "source": [
        "Now we'll try to find which features are strongly associated with household_income. We'll store them in a list called golden_features_list."
      ]
    },
    {
      "cell_type": "code",
      "execution_count": 13,
      "metadata": {
        "id": "BRxKD6tgcUUw",
        "outputId": "17c9b6af-043b-4c37-d0cb-f02578680860",
        "colab": {
          "base_uri": "https://localhost:8080/"
        }
      },
      "outputs": [
        {
          "output_type": "stream",
          "name": "stdout",
          "text": [
            "There is 4 strongly correlated values with household_income:\n",
            "[('age', 3.3551988931530774e-13), ('education', 9.25541052273737e-12), ('care_for_comma', 0.06978767870690113), ('care_data_plural', 0.08778689754429679)]\n"
          ]
        }
      ],
      "source": [
        "from scipy.stats import chi2_contingency\n",
        "# no numeric variables, so we will use the Chi-square test to find the correlation between categorical variables\n",
        "chisqresults = []\n",
        "for i in range(0,len(df.columns)):\n",
        "  if df.columns[i] == 'household_income' or i == 0:\n",
        "    continue\n",
        "  CrosstabResult=pd.crosstab(index=df['household_income'],columns=df[df.columns[i]])\n",
        "  ChiSqResult = chi2_contingency(CrosstabResult)\n",
        "  chisqresults.append((i, df.columns[i], ChiSqResult[1]))\n",
        "\n",
        "chisqresults.sort(key = lambda x: x[2])\n",
        "#print(chisqresults)\n",
        "golden_features_list = []\n",
        "for i in range(len(chisqresults)):\n",
        "  # we will use a significance level of .1 to determine if a feature is strongly correlated\n",
        "  if chisqresults[i][2] < .1:\n",
        "    golden_features_list.append((chisqresults[i][1], chisqresults[i][2]))\n",
        "\n",
        "print(\"There is {} strongly correlated values with household_income:\\n{}\".format(len(golden_features_list), golden_features_list))"
      ]
    },
    {
      "cell_type": "markdown",
      "source": [
        "As we can see, based on the chi-squared test, there are 4 features with p-values less than .1, meaning we can reject the null hypothesis that they are not associated with household_income with a significance level of .1. Two of these are demographic features (age and education), which we do not plan to use in our model since the goal is to make predictions using only the grammar-related features. The other two associated features are whether the respondent cares about use of the oxford comma and whether they care about use of data as a singular vs. plural noun. This is promising, as it shows there is a potential tie between people being passionate about proper grammar with societal outcomes."
      ],
      "metadata": {
        "id": "zl9zBLbAjacv"
      }
    },
    {
      "cell_type": "markdown",
      "metadata": {
        "id": "zv_-yQPCcUUx"
      },
      "source": [
        "We can visualize the associations among columns using heatmap!\n",
        "\n",
        "NOTE: Because we have only cateogorical variables, instead of visualizing correlations, we will visualize the Cramér's V score, which is a measure of association between two nominal variables.\n",
        "https://en.wikipedia.org/wiki/Cram%C3%A9r%27s_V"
      ]
    },
    {
      "cell_type": "code",
      "execution_count": 14,
      "metadata": {
        "id": "h6MKtiodcUUx",
        "colab": {
          "base_uri": "https://localhost:8080/",
          "height": 1000
        },
        "outputId": "00151ea5-efb2-45cf-a269-58b265c54b78"
      },
      "outputs": [
        {
          "output_type": "display_data",
          "data": {
            "text/plain": [
              "<Figure size 1296x1296 with 2 Axes>"
            ],
            "image/png": "[encoded data removed]"
          },
          "metadata": {
            "needs_background": "light"
          }
        }
      ],
      "source": [
        "# source: https://towardsdatascience.com/the-search-for-categorical-correlation-a1cf7f1888c9\n",
        "def cramers_v(x, y):\n",
        "  confusion_matrix = pd.crosstab(x,y)\n",
        "  chi2 = chi2_contingency(confusion_matrix)[0]\n",
        "  n = confusion_matrix.sum().sum()\n",
        "  phi2 = chi2/n\n",
        "  r,k = confusion_matrix.shape\n",
        "  phi2corr = max(0, phi2-((k-1)*(r-1))/(n-1))\n",
        "  rcorr = r-((r-1)**2)/(n-1)\n",
        "  kcorr = k-((k-1)**2)/(n-1)\n",
        "  return np.sqrt(phi2corr/min((kcorr-1),(rcorr-1)))\n",
        "\n",
        "cramers_mtx = []\n",
        "for i in range(0,len(df.columns)):\n",
        "  cramers_mtx.append([0 for _ in range(len(df.columns))])\n",
        "\n",
        "for i in range(0,len(df.columns)):\n",
        "  for j in range(i,len(df.columns)):\n",
        "    cramers_mtx[i][j] = cramers_v(df[df.columns[i]], df[df.columns[j]])\n",
        "    cramers_mtx[j][i] = cramers_mtx[i][j]\n",
        "    #print(cramers_v(df[df.columns[i]], df[df.columns[j]]))\n",
        "\n",
        "cramers_mtx = pd.DataFrame(cramers_mtx, index=df.columns, columns=df.columns)\n",
        "\n",
        "plt.figure(figsize=(18, 18))\n",
        "# df_cramers = cramers_v(df, df)\n",
        "sns.heatmap(cramers_mtx, \n",
        "            cmap='viridis', vmax=1.0, vmin=0, linewidths=0.1,\n",
        "            annot=True, annot_kws={\"size\": 8}, square=True);"
      ]
    },
    {
      "cell_type": "code",
      "source": [
        "# heatmap for grammar-related features and income\n",
        "\n",
        "df_grammar = df[['use_oxford_comma', 'heard_of_comma', 'care_for_comma', 'use_data_plural', \n",
        "                                                        'considered_data_plural', 'care_data_plural', 'care_grammar', 'household_income']]\n",
        "# NOTE: changes associations to make with the binary income variable, makes them smaller generally...\n",
        "df_grammar['income_binary'] = np.nan\n",
        "df_grammar.loc[df_grammar['household_income'] == \"$0 - $24,999\", 'income_binary'] = '$0 - $49,999'\n",
        "df_grammar.loc[df_grammar['household_income'] == \"$25,000 - $49,999\", 'income_binary'] = '$0 - $49,999'\n",
        "df_grammar.loc[df_grammar['household_income'] == \"$50,000 - $99,999\", 'income_binary'] = '$50,000+'\n",
        "df_grammar.loc[df_grammar['household_income'] == \"$100,000 - $149,999\", 'income_binary'] = '$50,000+'\n",
        "df_grammar.loc[df_grammar['household_income'] == \"$150,000+\", 'income_binary'] = '$50,000+'\n",
        "df_grammar = df_grammar.drop(columns='household_income')\n",
        "\n",
        "cramers_mtx = []\n",
        "for i in range(0,len(df_grammar.columns)):\n",
        "  cramers_mtx.append([0 for _ in range(len(df_grammar.columns))])\n",
        "\n",
        "for i in range(0,len(df_grammar.columns)):\n",
        "  for j in range(i,len(df_grammar.columns)):\n",
        "    cramers_mtx[i][j] = cramers_v(df_grammar[df_grammar.columns[i]], df_grammar[df_grammar.columns[j]])\n",
        "    cramers_mtx[j][i] = cramers_mtx[i][j]\n",
        "    #print(cramers_v(df_grammar[df_grammar.columns[i]], df_grammar[df_grammar.columns[j]]))\n",
        "\n",
        "cramers_mtx = pd.DataFrame(cramers_mtx, index=df_grammar.columns, columns=df_grammar.columns)\n",
        "\n",
        "plt.figure(figsize=(18, 18))\n",
        "# df_cramers = cramers_v(df_grammar, df_grammar)\n",
        "sns.heatmap(cramers_mtx, \n",
        "            cmap='viridis', vmax=1.0, vmin=0, linewidths=0.1,\n",
        "            annot=True, annot_kws={\"size\": 8}, square=True);"
      ],
      "metadata": {
        "colab": {
          "base_uri": "https://localhost:8080/",
          "height": 1000
        },
        "id": "nK08w467vjvE",
        "outputId": "4514dfac-af49-4ea6-bf4b-f9fa7cdebd8b"
      },
      "execution_count": 15,
      "outputs": [
        {
          "output_type": "stream",
          "name": "stderr",
          "text": [
            "<ipython-input-15-5005d8553e19>:6: SettingWithCopyWarning: \n",
            "A value is trying to be set on a copy of a slice from a DataFrame.\n",
            "Try using .loc[row_indexer,col_indexer] = value instead\n",
            "\n",
            "See the caveats in the documentation: https://pandas.pydata.org/pandas-docs/stable/user_guide/indexing.html#returning-a-view-versus-a-copy\n",
            "  df_grammar['income_binary'] = np.nan\n",
            "/usr/local/lib/python3.8/dist-packages/pandas/core/indexing.py:1817: SettingWithCopyWarning: \n",
            "A value is trying to be set on a copy of a slice from a DataFrame.\n",
            "Try using .loc[row_indexer,col_indexer] = value instead\n",
            "\n",
            "See the caveats in the documentation: https://pandas.pydata.org/pandas-docs/stable/user_guide/indexing.html#returning-a-view-versus-a-copy\n",
            "  self._setitem_single_column(loc, value, pi)\n"
          ]
        },
        {
          "output_type": "display_data",
          "data": {
            "text/plain": [
              "<Figure size 1296x1296 with 2 Axes>"
            ],
            "image/png": "[encoded data removed]"
          },
          "metadata": {
            "needs_background": "light"
          }
        }
      ]
    },
    {
      "cell_type": "markdown",
      "metadata": {
        "id": "1sO2Q2azcUUx"
      },
      "source": [
        "Interesting to note that the greatest associations are in the .3-.4 range, and they are usually between someone having heard of a grammar concept and their care for the use of that concept in language. Also interesting to note that based on this metric, none of the grammar-related metrics have a very strong association with household income. But, with this metric, neither do age or education, so it seems like this metric requires very strong associations."
      ]
    },
    {
      "cell_type": "markdown",
      "metadata": {
        "id": "Iw526P3rcUUy"
      },
      "source": [
        "This data analysis gives us some insight into the dataset and how we can leverage it for our models.\n"
      ]
    },
    {
      "cell_type": "markdown",
      "metadata": {
        "id": "WAR56GrPcUUy"
      },
      "source": [
        "## Data Pre-Processing"
      ]
    },
    {
      "cell_type": "markdown",
      "metadata": {
        "id": "hZoR8wOBcUUy"
      },
      "source": [
        "#### Missing data\n",
        "\n",
        "In the above analysis, we already noticed that we have some missing values in the dataset. Unfortunately, these missing values cannot be handled by the machine learning without pre-processing. We will first impute the missing values."
      ]
    },
    {
      "cell_type": "code",
      "execution_count": 16,
      "metadata": {
        "id": "WHeJcFsdcUUy"
      },
      "outputs": [],
      "source": [
        "y = df[['household_income']]\n",
        "# We won't use any label information during data pre-processing and feature engineering\n",
        "df.drop(['household_income'], axis=1, inplace=True)"
      ]
    },
    {
      "cell_type": "code",
      "source": [
        "y_na = (y.isnull().sum() / len(df)) * 100\n",
        "missing_y = pd.DataFrame({'Missing Ratio' :y_na})\n",
        "missing_y\n",
        "# Earlier on, we removed any columns missing household_income\n",
        "# We do not want to impute missing income values because it may skew our results.\n",
        "# We will consider in the future imputing its missing values if we find a more\n",
        "# robust method of imputation, such as kNN for categorical variables."
      ],
      "metadata": {
        "colab": {
          "base_uri": "https://localhost:8080/",
          "height": 81
        },
        "id": "jjSzbnRTwj5H",
        "outputId": "25a53313-4ba3-4f84-c6ec-68ba922af4ee"
      },
      "execution_count": 17,
      "outputs": [
        {
          "output_type": "execute_result",
          "data": {
            "text/plain": [
              "                  Missing Ratio\n",
              "household_income            0.0"
            ],
            "text/html": [
              "\n",
              "  <div id=\"df-aa9b4cf8-9378-4ccd-8315-297326144858\">\n",
              "    <div class=\"colab-df-container\">\n",
              "      <div>\n",
              "<style scoped>\n",
              "    .dataframe tbody tr th:only-of-type {\n",
              "        vertical-align: middle;\n",
              "    }\n",
              "\n",
              "    .dataframe tbody tr th {\n",
              "        vertical-align: top;\n",
              "    }\n",
              "\n",
              "    .dataframe thead th {\n",
              "        text-align: right;\n",
              "    }\n",
              "</style>\n",
              "<table border=\"1\" class=\"dataframe\">\n",
              "  <thead>\n",
              "    <tr style=\"text-align: right;\">\n",
              "      <th></th>\n",
              "      <th>Missing Ratio</th>\n",
              "    </tr>\n",
              "  </thead>\n",
              "  <tbody>\n",
              "    <tr>\n",
              "      <th>household_income</th>\n",
              "      <td>0.0</td>\n",
              "    </tr>\n",
              "  </tbody>\n",
              "</table>\n",
              "</div>\n",
              "      <button class=\"colab-df-convert\" onclick=\"convertToInteractive('df-aa9b4cf8-9378-4ccd-8315-297326144858')\"\n",
              "              title=\"Convert this dataframe to an interactive table.\"\n",
              "              style=\"display:none;\">\n",
              "        \n",
              "  <svg xmlns=\"http://www.w3.org/2000/svg\" height=\"24px\"viewBox=\"0 0 24 24\"\n",
              "       width=\"24px\">\n",
              "    <path d=\"M0 0h24v24H0V0z\" fill=\"none\"/>\n",
              "    <path d=\"M18.56 5.44l.94 2.06.94-2.06 2.06-.94-2.06-.94-.94-2.06-.94 2.06-2.06.94zm-11 1L8.5 8.5l.94-2.06 2.06-.94-2.06-.94L8.5 2.5l-.94 2.06-2.06.94zm10 10l.94 2.06.94-2.06 2.06-.94-2.06-.94-.94-2.06-.94 2.06-2.06.94z\"/><path d=\"M17.41 7.96l-1.37-1.37c-.4-.4-.92-.59-1.43-.59-.52 0-1.04.2-1.43.59L10.3 9.45l-7.72 7.72c-.78.78-.78 2.05 0 2.83L4 21.41c.39.39.9.59 1.41.59.51 0 1.02-.2 1.41-.59l7.78-7.78 2.81-2.81c.8-.78.8-2.07 0-2.86zM5.41 20L4 18.59l7.72-7.72 1.47 1.35L5.41 20z\"/>\n",
              "  </svg>\n",
              "      </button>\n",
              "      \n",
              "  <style>\n",
              "    .colab-df-container {\n",
              "      display:flex;\n",
              "      flex-wrap:wrap;\n",
              "      gap: 12px;\n",
              "    }\n",
              "\n",
              "    .colab-df-convert {\n",
              "      background-color: #E8F0FE;\n",
              "      border: none;\n",
              "      border-radius: 50%;\n",
              "      cursor: pointer;\n",
              "      display: none;\n",
              "      fill: #1967D2;\n",
              "      height: 32px;\n",
              "      padding: 0 0 0 0;\n",
              "      width: 32px;\n",
              "    }\n",
              "\n",
              "    .colab-df-convert:hover {\n",
              "      background-color: #E2EBFA;\n",
              "      box-shadow: 0px 1px 2px rgba(60, 64, 67, 0.3), 0px 1px 3px 1px rgba(60, 64, 67, 0.15);\n",
              "      fill: #174EA6;\n",
              "    }\n",
              "\n",
              "    [theme=dark] .colab-df-convert {\n",
              "      background-color: #3B4455;\n",
              "      fill: #D2E3FC;\n",
              "    }\n",
              "\n",
              "    [theme=dark] .colab-df-convert:hover {\n",
              "      background-color: #434B5C;\n",
              "      box-shadow: 0px 1px 3px 1px rgba(0, 0, 0, 0.15);\n",
              "      filter: drop-shadow(0px 1px 2px rgba(0, 0, 0, 0.3));\n",
              "      fill: #FFFFFF;\n",
              "    }\n",
              "  </style>\n",
              "\n",
              "      <script>\n",
              "        const buttonEl =\n",
              "          document.querySelector('#df-aa9b4cf8-9378-4ccd-8315-297326144858 button.colab-df-convert');\n",
              "        buttonEl.style.display =\n",
              "          google.colab.kernel.accessAllowed ? 'block' : 'none';\n",
              "\n",
              "        async function convertToInteractive(key) {\n",
              "          const element = document.querySelector('#df-aa9b4cf8-9378-4ccd-8315-297326144858');\n",
              "          const dataTable =\n",
              "            await google.colab.kernel.invokeFunction('convertToInteractive',\n",
              "                                                     [key], {});\n",
              "          if (!dataTable) return;\n",
              "\n",
              "          const docLinkHtml = 'Like what you see? Visit the ' +\n",
              "            '<a target=\"_blank\" href=https://colab.research.google.com/notebooks/data_table.ipynb>data table notebook</a>'\n",
              "            + ' to learn more about interactive tables.';\n",
              "          element.innerHTML = '';\n",
              "          dataTable['output_type'] = 'display_data';\n",
              "          await google.colab.output.renderOutput(dataTable, element);\n",
              "          const docLink = document.createElement('div');\n",
              "          docLink.innerHTML = docLinkHtml;\n",
              "          element.appendChild(docLink);\n",
              "        }\n",
              "      </script>\n",
              "    </div>\n",
              "  </div>\n",
              "  "
            ]
          },
          "metadata": {},
          "execution_count": 17
        }
      ]
    },
    {
      "cell_type": "code",
      "execution_count": 18,
      "metadata": {
        "id": "2bYzygAocUUy",
        "outputId": "883c0244-f223-4dfb-9378-9ba5a61cef70",
        "colab": {
          "base_uri": "https://localhost:8080/",
          "height": 112
        }
      },
      "outputs": [
        {
          "output_type": "execute_result",
          "data": {
            "text/plain": [
              "                 Missing Ratio\n",
              "location              0.956938\n",
              "use_data_plural       0.358852"
            ],
            "text/html": [
              "\n",
              "  <div id=\"df-8255316f-5b77-42a5-9e16-bfd3ddb28734\">\n",
              "    <div class=\"colab-df-container\">\n",
              "      <div>\n",
              "<style scoped>\n",
              "    .dataframe tbody tr th:only-of-type {\n",
              "        vertical-align: middle;\n",
              "    }\n",
              "\n",
              "    .dataframe tbody tr th {\n",
              "        vertical-align: top;\n",
              "    }\n",
              "\n",
              "    .dataframe thead th {\n",
              "        text-align: right;\n",
              "    }\n",
              "</style>\n",
              "<table border=\"1\" class=\"dataframe\">\n",
              "  <thead>\n",
              "    <tr style=\"text-align: right;\">\n",
              "      <th></th>\n",
              "      <th>Missing Ratio</th>\n",
              "    </tr>\n",
              "  </thead>\n",
              "  <tbody>\n",
              "    <tr>\n",
              "      <th>location</th>\n",
              "      <td>0.956938</td>\n",
              "    </tr>\n",
              "    <tr>\n",
              "      <th>use_data_plural</th>\n",
              "      <td>0.358852</td>\n",
              "    </tr>\n",
              "  </tbody>\n",
              "</table>\n",
              "</div>\n",
              "      <button class=\"colab-df-convert\" onclick=\"convertToInteractive('df-8255316f-5b77-42a5-9e16-bfd3ddb28734')\"\n",
              "              title=\"Convert this dataframe to an interactive table.\"\n",
              "              style=\"display:none;\">\n",
              "        \n",
              "  <svg xmlns=\"http://www.w3.org/2000/svg\" height=\"24px\"viewBox=\"0 0 24 24\"\n",
              "       width=\"24px\">\n",
              "    <path d=\"M0 0h24v24H0V0z\" fill=\"none\"/>\n",
              "    <path d=\"M18.56 5.44l.94 2.06.94-2.06 2.06-.94-2.06-.94-.94-2.06-.94 2.06-2.06.94zm-11 1L8.5 8.5l.94-2.06 2.06-.94-2.06-.94L8.5 2.5l-.94 2.06-2.06.94zm10 10l.94 2.06.94-2.06 2.06-.94-2.06-.94-.94-2.06-.94 2.06-2.06.94z\"/><path d=\"M17.41 7.96l-1.37-1.37c-.4-.4-.92-.59-1.43-.59-.52 0-1.04.2-1.43.59L10.3 9.45l-7.72 7.72c-.78.78-.78 2.05 0 2.83L4 21.41c.39.39.9.59 1.41.59.51 0 1.02-.2 1.41-.59l7.78-7.78 2.81-2.81c.8-.78.8-2.07 0-2.86zM5.41 20L4 18.59l7.72-7.72 1.47 1.35L5.41 20z\"/>\n",
              "  </svg>\n",
              "      </button>\n",
              "      \n",
              "  <style>\n",
              "    .colab-df-container {\n",
              "      display:flex;\n",
              "      flex-wrap:wrap;\n",
              "      gap: 12px;\n",
              "    }\n",
              "\n",
              "    .colab-df-convert {\n",
              "      background-color: #E8F0FE;\n",
              "      border: none;\n",
              "      border-radius: 50%;\n",
              "      cursor: pointer;\n",
              "      display: none;\n",
              "      fill: #1967D2;\n",
              "      height: 32px;\n",
              "      padding: 0 0 0 0;\n",
              "      width: 32px;\n",
              "    }\n",
              "\n",
              "    .colab-df-convert:hover {\n",
              "      background-color: #E2EBFA;\n",
              "      box-shadow: 0px 1px 2px rgba(60, 64, 67, 0.3), 0px 1px 3px 1px rgba(60, 64, 67, 0.15);\n",
              "      fill: #174EA6;\n",
              "    }\n",
              "\n",
              "    [theme=dark] .colab-df-convert {\n",
              "      background-color: #3B4455;\n",
              "      fill: #D2E3FC;\n",
              "    }\n",
              "\n",
              "    [theme=dark] .colab-df-convert:hover {\n",
              "      background-color: #434B5C;\n",
              "      box-shadow: 0px 1px 3px 1px rgba(0, 0, 0, 0.15);\n",
              "      filter: drop-shadow(0px 1px 2px rgba(0, 0, 0, 0.3));\n",
              "      fill: #FFFFFF;\n",
              "    }\n",
              "  </style>\n",
              "\n",
              "      <script>\n",
              "        const buttonEl =\n",
              "          document.querySelector('#df-8255316f-5b77-42a5-9e16-bfd3ddb28734 button.colab-df-convert');\n",
              "        buttonEl.style.display =\n",
              "          google.colab.kernel.accessAllowed ? 'block' : 'none';\n",
              "\n",
              "        async function convertToInteractive(key) {\n",
              "          const element = document.querySelector('#df-8255316f-5b77-42a5-9e16-bfd3ddb28734');\n",
              "          const dataTable =\n",
              "            await google.colab.kernel.invokeFunction('convertToInteractive',\n",
              "                                                     [key], {});\n",
              "          if (!dataTable) return;\n",
              "\n",
              "          const docLinkHtml = 'Like what you see? Visit the ' +\n",
              "            '<a target=\"_blank\" href=https://colab.research.google.com/notebooks/data_table.ipynb>data table notebook</a>'\n",
              "            + ' to learn more about interactive tables.';\n",
              "          element.innerHTML = '';\n",
              "          dataTable['output_type'] = 'display_data';\n",
              "          await google.colab.output.renderOutput(dataTable, element);\n",
              "          const docLink = document.createElement('div');\n",
              "          docLink.innerHTML = docLinkHtml;\n",
              "          element.appendChild(docLink);\n",
              "        }\n",
              "      </script>\n",
              "    </div>\n",
              "  </div>\n",
              "  "
            ]
          },
          "metadata": {},
          "execution_count": 18
        }
      ],
      "source": [
        "df_na = (df.isnull().sum() / len(df)) * 100\n",
        "# The column \"use_oxford_comma\" is dropped from missing_data because it has 0 \n",
        "# missing data.\n",
        "df_na = df_na.drop(df_na[df_na == 0].index).sort_values(ascending=False)[:30]\n",
        "missing_data = pd.DataFrame({'Missing Ratio' :df_na})\n",
        "missing_data.head(20)"
      ]
    },
    {
      "cell_type": "code",
      "execution_count": 19,
      "metadata": {
        "id": "CaFfF3F1cUUy",
        "outputId": "6e0cbaa7-d2bb-43fe-c369-1df943905138",
        "colab": {
          "base_uri": "https://localhost:8080/",
          "height": 715
        }
      },
      "outputs": [
        {
          "output_type": "execute_result",
          "data": {
            "text/plain": [
              "Text(0.5, 1.0, 'Percent missing data by feature')"
            ]
          },
          "metadata": {},
          "execution_count": 19
        },
        {
          "output_type": "display_data",
          "data": {
            "text/plain": [
              "<Figure size 864x720 with 1 Axes>"
            ],
            "image/png": "[encoded data removed]"
          },
          "metadata": {
            "needs_background": "light"
          }
        }
      ],
      "source": [
        "# Visualize the missing ratios\n",
        "f, ax = plt.subplots(figsize=(12, 10))\n",
        "plt.xticks(rotation='90')\n",
        "sns.barplot(x=df_na.index, y=df_na)\n",
        "plt.xlabel('Features', fontsize=15)\n",
        "plt.ylabel('Percent of missing values', fontsize=15)\n",
        "plt.title('Percent missing data by feature', fontsize=15)"
      ]
    },
    {
      "cell_type": "markdown",
      "metadata": {
        "_cell_guid": "e717ffdc-b536-4f6c-8008-e520043a5d3d",
        "_execution_state": "idle",
        "_uuid": "24d64c66f2a2329437743756194d21893ee6dd1f",
        "id": "-zoduwwfcUUz"
      },
      "source": [
        "We impute them  by proceeding sequentially  through features with missing values \n",
        "\n",
        "NOTE: for categorical values, we have a few main methods for imputation:\n",
        "\n",
        "-use the most common value (mode)\n",
        "\n",
        "-use a constant value (e.g. none/na/0)\n",
        "\n"
      ]
    },
    {
      "cell_type": "markdown",
      "metadata": {
        "_cell_guid": "6f7d94ef-5ffb-4e1b-b1a2-a917cce3f357",
        "_execution_state": "idle",
        "_uuid": "d6d054aff0098e4e602ef618e0a4d3706d71dd66",
        "id": "guzqxsdEcUUz"
      },
      "source": [
        "- **Missing value imputation** : We decided to replace all the missing values with the most frequent value in that column (the mode), because that is the best approximation we can get for those missing values."
      ]
    },
    {
      "cell_type": "code",
      "execution_count": 20,
      "metadata": {
        "_cell_guid": "ca8a04eb-f42b-4c26-a690-bb98c95c6118",
        "_execution_state": "idle",
        "_uuid": "1d94b062f7683d711d479e48530009040185fd4c",
        "id": "BgBxgHLEcUUz",
        "colab": {
          "base_uri": "https://localhost:8080/"
        },
        "outputId": "8864008c-2da2-4d7c-e9f8-ee462c9ef334"
      },
      "outputs": [
        {
          "output_type": "stream",
          "name": "stdout",
          "text": [
            "   use_oxford_comma heard_of_comma care_for_comma use_data_plural  \\\n",
            "36               No            Yes       Not much              No   \n",
            "38              Yes             No          A lot              No   \n",
            "39              Yes             No          A lot              No   \n",
            "40              Yes            Yes           Some              No   \n",
            "41               No            Yes           Some              No   \n",
            "42              Yes            Yes          A lot              No   \n",
            "43              Yes            Yes           Some              No   \n",
            "45               No             No     Not at all              No   \n",
            "46              Yes             No           Some              No   \n",
            "47              Yes            Yes          A lot              No   \n",
            "\n",
            "   considered_data_plural care_data_plural        care_grammar gender    age  \\\n",
            "36                     No       Not at all  Somewhat important   Male  18-29   \n",
            "38                    Yes         Not much      Very important   Male  18-29   \n",
            "39                     No       Not at all      Very important   Male  18-29   \n",
            "40                     No       Not at all      Very important   Male  30-44   \n",
            "41                    Yes             Some  Somewhat important   Male  18-29   \n",
            "42                     No         Not much      Very important   Male  18-29   \n",
            "43                    Yes             Some  Somewhat important   Male  18-29   \n",
            "45                     No       Not at all      Very important   Male  18-29   \n",
            "46                     No             Some  Somewhat important   Male  18-29   \n",
            "47                     No             Some  Somewhat important   Male  18-29   \n",
            "\n",
            "                           education            location  \n",
            "36                High school degree         New England  \n",
            "38      Less than high school degree  West South Central  \n",
            "39  Some college or Associate degree  West North Central  \n",
            "40  Some college or Associate degree            Mountain  \n",
            "41  Some college or Associate degree             Pacific  \n",
            "42  Some college or Associate degree            Mountain  \n",
            "43  Some college or Associate degree  West South Central  \n",
            "45                   Bachelor degree     Middle Atlantic  \n",
            "46  Some college or Associate degree  East South Central  \n",
            "47                   Graduate degree  West South Central  \n"
          ]
        }
      ],
      "source": [
        "import numpy as np\n",
        "for i in range(df.shape[1]):\n",
        "    df[df.columns[i]] = np.where(df[df.columns[i]].isna(), df[df.columns[i]].mode(), df[df.columns[i]])\n",
        "print(df[25:35])\n"
      ]
    },
    {
      "cell_type": "markdown",
      "metadata": {
        "_cell_guid": "9193270b-8e7b-4a24-b769-d6eb661a1ae7",
        "_execution_state": "idle",
        "_uuid": "465570fcce8944ee31b1709ec6954d03cbf32ff8",
        "id": "KviLN96ycUU4"
      },
      "source": [
        "Is there any remaining missing value ? "
      ]
    },
    {
      "cell_type": "code",
      "execution_count": 21,
      "metadata": {
        "_cell_guid": "0adf05cf-ce60-4169-805c-ca776e60e85a",
        "_execution_state": "idle",
        "_uuid": "b091fa2ebef19425019e2e550410d0376b9e9fac",
        "id": "IJn3U1LocUU4",
        "colab": {
          "base_uri": "https://localhost:8080/",
          "height": 49
        },
        "outputId": "3e5cb91f-ff29-4399-b9bf-b123dbaecbfa"
      },
      "outputs": [
        {
          "output_type": "execute_result",
          "data": {
            "text/plain": [
              "Empty DataFrame\n",
              "Columns: [Missing Ratio]\n",
              "Index: []"
            ],
            "text/html": [
              "\n",
              "  <div id=\"df-dafa2748-3741-4549-9710-a828ab65eec3\">\n",
              "    <div class=\"colab-df-container\">\n",
              "      <div>\n",
              "<style scoped>\n",
              "    .dataframe tbody tr th:only-of-type {\n",
              "        vertical-align: middle;\n",
              "    }\n",
              "\n",
              "    .dataframe tbody tr th {\n",
              "        vertical-align: top;\n",
              "    }\n",
              "\n",
              "    .dataframe thead th {\n",
              "        text-align: right;\n",
              "    }\n",
              "</style>\n",
              "<table border=\"1\" class=\"dataframe\">\n",
              "  <thead>\n",
              "    <tr style=\"text-align: right;\">\n",
              "      <th></th>\n",
              "      <th>Missing Ratio</th>\n",
              "    </tr>\n",
              "  </thead>\n",
              "  <tbody>\n",
              "  </tbody>\n",
              "</table>\n",
              "</div>\n",
              "      <button class=\"colab-df-convert\" onclick=\"convertToInteractive('df-dafa2748-3741-4549-9710-a828ab65eec3')\"\n",
              "              title=\"Convert this dataframe to an interactive table.\"\n",
              "              style=\"display:none;\">\n",
              "        \n",
              "  <svg xmlns=\"http://www.w3.org/2000/svg\" height=\"24px\"viewBox=\"0 0 24 24\"\n",
              "       width=\"24px\">\n",
              "    <path d=\"M0 0h24v24H0V0z\" fill=\"none\"/>\n",
              "    <path d=\"M18.56 5.44l.94 2.06.94-2.06 2.06-.94-2.06-.94-.94-2.06-.94 2.06-2.06.94zm-11 1L8.5 8.5l.94-2.06 2.06-.94-2.06-.94L8.5 2.5l-.94 2.06-2.06.94zm10 10l.94 2.06.94-2.06 2.06-.94-2.06-.94-.94-2.06-.94 2.06-2.06.94z\"/><path d=\"M17.41 7.96l-1.37-1.37c-.4-.4-.92-.59-1.43-.59-.52 0-1.04.2-1.43.59L10.3 9.45l-7.72 7.72c-.78.78-.78 2.05 0 2.83L4 21.41c.39.39.9.59 1.41.59.51 0 1.02-.2 1.41-.59l7.78-7.78 2.81-2.81c.8-.78.8-2.07 0-2.86zM5.41 20L4 18.59l7.72-7.72 1.47 1.35L5.41 20z\"/>\n",
              "  </svg>\n",
              "      </button>\n",
              "      \n",
              "  <style>\n",
              "    .colab-df-container {\n",
              "      display:flex;\n",
              "      flex-wrap:wrap;\n",
              "      gap: 12px;\n",
              "    }\n",
              "\n",
              "    .colab-df-convert {\n",
              "      background-color: #E8F0FE;\n",
              "      border: none;\n",
              "      border-radius: 50%;\n",
              "      cursor: pointer;\n",
              "      display: none;\n",
              "      fill: #1967D2;\n",
              "      height: 32px;\n",
              "      padding: 0 0 0 0;\n",
              "      width: 32px;\n",
              "    }\n",
              "\n",
              "    .colab-df-convert:hover {\n",
              "      background-color: #E2EBFA;\n",
              "      box-shadow: 0px 1px 2px rgba(60, 64, 67, 0.3), 0px 1px 3px 1px rgba(60, 64, 67, 0.15);\n",
              "      fill: #174EA6;\n",
              "    }\n",
              "\n",
              "    [theme=dark] .colab-df-convert {\n",
              "      background-color: #3B4455;\n",
              "      fill: #D2E3FC;\n",
              "    }\n",
              "\n",
              "    [theme=dark] .colab-df-convert:hover {\n",
              "      background-color: #434B5C;\n",
              "      box-shadow: 0px 1px 3px 1px rgba(0, 0, 0, 0.15);\n",
              "      filter: drop-shadow(0px 1px 2px rgba(0, 0, 0, 0.3));\n",
              "      fill: #FFFFFF;\n",
              "    }\n",
              "  </style>\n",
              "\n",
              "      <script>\n",
              "        const buttonEl =\n",
              "          document.querySelector('#df-dafa2748-3741-4549-9710-a828ab65eec3 button.colab-df-convert');\n",
              "        buttonEl.style.display =\n",
              "          google.colab.kernel.accessAllowed ? 'block' : 'none';\n",
              "\n",
              "        async function convertToInteractive(key) {\n",
              "          const element = document.querySelector('#df-dafa2748-3741-4549-9710-a828ab65eec3');\n",
              "          const dataTable =\n",
              "            await google.colab.kernel.invokeFunction('convertToInteractive',\n",
              "                                                     [key], {});\n",
              "          if (!dataTable) return;\n",
              "\n",
              "          const docLinkHtml = 'Like what you see? Visit the ' +\n",
              "            '<a target=\"_blank\" href=https://colab.research.google.com/notebooks/data_table.ipynb>data table notebook</a>'\n",
              "            + ' to learn more about interactive tables.';\n",
              "          element.innerHTML = '';\n",
              "          dataTable['output_type'] = 'display_data';\n",
              "          await google.colab.output.renderOutput(dataTable, element);\n",
              "          const docLink = document.createElement('div');\n",
              "          docLink.innerHTML = docLinkHtml;\n",
              "          element.appendChild(docLink);\n",
              "        }\n",
              "      </script>\n",
              "    </div>\n",
              "  </div>\n",
              "  "
            ]
          },
          "metadata": {},
          "execution_count": 21
        }
      ],
      "source": [
        "#Check remaining missing values if any \n",
        "df_na = (df.isnull().sum() / len(df)) * 100\n",
        "df_na = df_na.drop(df_na[df_na == 0].index).sort_values(ascending=False)\n",
        "missing_data = pd.DataFrame({'Missing Ratio' :df_na})\n",
        "missing_data.head()"
      ]
    },
    {
      "cell_type": "markdown",
      "metadata": {
        "_cell_guid": "78266762-5180-44fa-a630-b808706800d4",
        "_execution_state": "idle",
        "_uuid": "360f518886ac45afe2963b9b53edb17c2be4a130",
        "id": "I5gObocVcUU4"
      },
      "source": [
        "No missing values remain.\n"
      ]
    },
    {
      "cell_type": "markdown",
      "metadata": {
        "id": "aIKrlJNScUU4"
      },
      "source": [
        "## Features Engineering"
      ]
    },
    {
      "cell_type": "markdown",
      "metadata": {
        "_cell_guid": "0d5076fa-b4ab-4787-bebb-8fd445b8815a",
        "_execution_state": "idle",
        "_uuid": "1cfcb671a97068569efb4e7855da91aa30c5bbde",
        "id": "u0u6erOHcUU4"
      },
      "source": [
        "**Transforming some numerical variables that are really categorical**\n",
        "\n"
      ]
    },
    {
      "cell_type": "code",
      "execution_count": 22,
      "metadata": {
        "_cell_guid": "a52dc2f9-ca02-4024-987a-165ce630b356",
        "_execution_state": "idle",
        "_uuid": "cc7557817a4442e799e4e4c84dd1efd8bd08867a",
        "id": "HWT526NkcUU4"
      },
      "outputs": [],
      "source": [
        "# We do not need to transform here because all the variables are already \n",
        "# categorical."
      ]
    },
    {
      "cell_type": "markdown",
      "metadata": {
        "_cell_guid": "9f80c0e7-3f3f-45c5-b111-e36f4e31e814",
        "_execution_state": "idle",
        "_uuid": "c4743ffb7fbb050edca7c77dc7cb6520577c1398",
        "id": "7jAAtszYcUU5"
      },
      "source": [
        "**Ordinal Encoding some categorical variables that may contain information in their ordering set** "
      ]
    },
    {
      "cell_type": "code",
      "execution_count": 23,
      "metadata": {
        "_cell_guid": "81c97efb-4f76-4e87-861a-10a60ab5c84b",
        "_execution_state": "idle",
        "_uuid": "fdb5ddf0a49a3c6df303c569c9f3509c79ac8b61",
        "id": "Jouf90XycUU5"
      },
      "outputs": [],
      "source": [
        "# Label Encoding should be applied to non-ordinal (aka nominal) variables and \n",
        "# not ordinal variables in our case. So, pandas factorize method is used instead.\n",
        "\n",
        "# Here are the columns which use the same binary labels (and N/A). \n",
        "cols = ('use_oxford_comma','heard_of_comma','use_data_plural','considered_data_plural')\n",
        "\n",
        "# Using pandas factorize method for ordinal data\n",
        "for i in cols:\n",
        "  categories = pd.Categorical(df[i], categories=['No','Yes'], ordered=True)\n",
        "  \n",
        "  # Factorizing the column data\n",
        "  labels, unique = pd.factorize(categories, sort=True)\n",
        "  df[i] = labels\n",
        "  \n",
        "\n",
        "# Here are the columns which use the same non-binary labels (not at all, not\n",
        "# much, some, a lot, and N/A). \n",
        "cols_1 = ('care_for_comma','care_data_plural')\n",
        "\n",
        "# Using pandas factorize method for ordinal data\n",
        "for i in cols_1:\n",
        "  categories = pd.Categorical(df[i], categories=['Not at all','Not much', \n",
        "                                    'Some','A lot'], ordered=True)\n",
        "  \n",
        "  # Factorizing the column data\n",
        "  labels, unique = pd.factorize(categories, sort=True)\n",
        "  df[i] = labels\n",
        "  \n",
        "# Here are the other columns which require manual transformation for the\n",
        "# categorical variables.\n",
        "# care_grammar  \n",
        "categories = pd.Categorical(df['care_grammar'], categories=[\n",
        "    'Very unimportant', 'Somewhat unimportant', 'Neutral', \n",
        "    'Somewhat important', 'Very important'], ordered=True)\n",
        "# Factorizing the column data\n",
        "labels, unique = pd.factorize(categories, sort=True)\n",
        "df['care_grammar'] = labels\n",
        "\n",
        "# # gender\n",
        "categories = pd.Categorical(df['gender'], categories=['Female','Male'], ordered=True)\n",
        "# Factorizing the column data\n",
        "labels, unique = pd.factorize(categories, sort=True)\n",
        "df['gender'] = labels\n",
        "\n",
        "# # age\n",
        "categories = pd.Categorical(df['age'], categories=['18-29', '30-44', \n",
        "                              '45-60', '> 60'], ordered=True)\n",
        "# Factorizing the column data\n",
        "labels, unique = pd.factorize(categories, sort=True)\n",
        "df['age'] = labels\n",
        "\n",
        "# # education\n",
        "categories = pd.Categorical(df['education'], categories=[\n",
        "    'Less than high school degree', 'High school degree', \n",
        "    'Some college or Associate degree', 'Bachelor degree', \n",
        "    'Graduate degree'], ordered=True)\n",
        "# Factorizing the column data\n",
        "labels, unique = pd.factorize(categories, sort=True)\n",
        "df['education'] = labels"
      ]
    },
    {
      "cell_type": "code",
      "source": [
        "print(df.head())"
      ],
      "metadata": {
        "colab": {
          "base_uri": "https://localhost:8080/"
        },
        "id": "5kYtw4kayLHV",
        "outputId": "b3edd592-09a3-494e-d978-29b79bda128a"
      },
      "execution_count": 24,
      "outputs": [
        {
          "output_type": "stream",
          "name": "stdout",
          "text": [
            "   use_oxford_comma  heard_of_comma  care_for_comma  use_data_plural  \\\n",
            "0                 0               1               2                0   \n",
            "1                 1               0               1                0   \n",
            "5                 1               0               3                1   \n",
            "6                 1               1               3                0   \n",
            "7                 1               1               3                1   \n",
            "\n",
            "   considered_data_plural  care_data_plural  care_grammar  gender  age  \\\n",
            "0                       0                 1             3       1    1   \n",
            "1                       0                 1             1       1    1   \n",
            "5                       1                 2             4       1    0   \n",
            "6                       1                 2             4       1    0   \n",
            "7                       0                 3             4       1    0   \n",
            "\n",
            "   education            location  \n",
            "0          3      South Atlantic  \n",
            "1          4            Mountain  \n",
            "5          2         New England  \n",
            "6          2             Pacific  \n",
            "7          2  East North Central  \n"
          ]
        }
      ]
    },
    {
      "cell_type": "code",
      "source": [
        "# transform the multi-class label (apply factorization to categorical features)\n",
        "# # income\n",
        "y['household_income'] = np.where(y['household_income'] =='N/A', y['household_income'].mode(), y['household_income'])\n",
        "# y['household_income'].mode() = '$50,000 - $99,999'\n",
        "\n",
        "categories = pd.Categorical(y['household_income'], categories=['$0 - $24,999', '$25,000 - $49,999',\n",
        "  '$50,000 - $99,999', '$100,000 - $149,999', '$150,000+'], ordered=True)\n",
        "# Factorizing the column data\n",
        "labels, unique = pd.factorize(categories, sort=True)\n",
        "y = labels"
      ],
      "metadata": {
        "id": "7jmzh9K7p-Gz",
        "colab": {
          "base_uri": "https://localhost:8080/"
        },
        "outputId": "67f0f9a6-e6f7-4168-dad0-c313a589c9a0"
      },
      "execution_count": 25,
      "outputs": [
        {
          "output_type": "stream",
          "name": "stderr",
          "text": [
            "<ipython-input-25-8a2b53cb65ae>:3: SettingWithCopyWarning: \n",
            "A value is trying to be set on a copy of a slice from a DataFrame.\n",
            "Try using .loc[row_indexer,col_indexer] = value instead\n",
            "\n",
            "See the caveats in the documentation: https://pandas.pydata.org/pandas-docs/stable/user_guide/indexing.html#returning-a-view-versus-a-copy\n",
            "  y['household_income'] = np.where(y['household_income'] =='N/A', y['household_income'].mode(), y['household_income'])\n"
          ]
        }
      ]
    },
    {
      "cell_type": "code",
      "source": [
        "print(y[0:10])"
      ],
      "metadata": {
        "colab": {
          "base_uri": "https://localhost:8080/"
        },
        "id": "Wza4ZAuydYwK",
        "outputId": "53a7e553-3e78-45ba-beba-1f67f2537468"
      },
      "execution_count": 26,
      "outputs": [
        {
          "output_type": "stream",
          "name": "stdout",
          "text": [
            "[2 2 1 0 1 2 4 2 1 2]\n"
          ]
        }
      ]
    },
    {
      "cell_type": "markdown",
      "metadata": {
        "_cell_guid": "91c73aad-82d1-4301-b540-b2f69dc13902",
        "_execution_state": "idle",
        "_uuid": "aa36d6e3253e354b46d9c9c6f2e8a4089c76be16",
        "id": "rIvErzY1cUU5"
      },
      "source": [
        "**Skewed features**"
      ]
    },
    {
      "cell_type": "code",
      "execution_count": 27,
      "metadata": {
        "_cell_guid": "c5972a73-7e86-4164-a9d6-58432dae1933",
        "_execution_state": "idle",
        "_uuid": "53c471c7008c66590f257e70866f8a3037813f13",
        "id": "ho-gJ_MScUU5",
        "outputId": "52eb6303-ea9f-4cf7-c761-995ea016597e",
        "colab": {
          "base_uri": "https://localhost:8080/"
        }
      },
      "outputs": [
        {
          "output_type": "stream",
          "name": "stdout",
          "text": [
            "\n",
            "Skew in features: \n",
            "\n",
            "                    index      Skew\n",
            "0        use_oxford_comma -0.275299\n",
            "1          heard_of_comma -0.410284\n",
            "2          care_for_comma -0.347489\n",
            "3         use_data_plural  1.492544\n",
            "4  considered_data_plural -0.023925\n",
            "5        care_data_plural  0.130977\n",
            "6            care_grammar -1.655003\n",
            "7                  gender  0.105409\n",
            "8                     age -0.120599\n",
            "9               education -0.381265\n"
          ]
        }
      ],
      "source": [
        "from scipy.stats import skew\n",
        "\n",
        "# All features except \"location\"\n",
        "numeric_feats = df.dtypes[df.dtypes != \"object\"].index\n",
        "\n",
        "# Check the skew of all features\n",
        "skewed_feats = df[numeric_feats].apply(lambda x: skew(x.dropna()))\n",
        "print(\"\\nSkew in features: \\n\")\n",
        "skewness = pd.DataFrame({'Skew' :skewed_feats})\n",
        "skewness = skewness.reset_index()\n",
        "print(skewness.head(10))"
      ]
    },
    {
      "cell_type": "markdown",
      "metadata": {
        "_cell_guid": "9f110087-b707-4073-a1df-0a0a9d6ccbd3",
        "_execution_state": "idle",
        "_uuid": "cf63bdc9f4f80d81f1bfa14f89d65ff104d45e5b",
        "id": "9_x7ocVNcUU5"
      },
      "source": [
        "**Box Cox Transformation of (highly) skewed features**"
      ]
    },
    {
      "cell_type": "markdown",
      "metadata": {
        "_cell_guid": "d1d18243-42d8-4a21-808d-784c21e53973",
        "_execution_state": "idle",
        "_uuid": "eab0b4c0a85ae2fbe1bdeea0eedd113904ef3eb1",
        "id": "XZ4VVKMYcUU6"
      },
      "source": [
        "We considered using the scipy  function boxcox1p which computes the Box-Cox transformation of **\\\\(1 + x\\\\)**. However, we deemed that the imbalance in these categorical features would actually be useful to keep given that there are only a few categories for these features to begin with, and the distribution information is valuable.\n",
        "\n"
      ]
    },
    {
      "cell_type": "code",
      "execution_count": 28,
      "metadata": {
        "_cell_guid": "d8ebce87-c55d-46c6-8f06-8b34116d7370",
        "_execution_state": "idle",
        "_uuid": "969fdff338ef46f064d8f855782c96d322a264b1",
        "id": "i6NOaA_WcUU6",
        "outputId": "b5844f59-36c8-487b-d89d-421aa030c38c",
        "colab": {
          "base_uri": "https://localhost:8080/"
        }
      },
      "outputs": [
        {
          "output_type": "stream",
          "name": "stdout",
          "text": [
            "             index      Skew\n",
            "3  use_data_plural  1.492544\n",
            "6     care_grammar -1.655003\n",
            "There are 2 skewed numerical features to Box Cox transform\n"
          ]
        }
      ],
      "source": [
        "skewed = skewness[abs(skewness['Skew']) > 0.75]\n",
        "print(skewed)\n",
        "print(\"There are {} skewed numerical features to Box Cox transform\".format(skewed.shape[0]))"
      ]
    },
    {
      "cell_type": "code",
      "source": [
        "# from scipy.special import boxcox1p\n",
        "# skewed_features = skewed['index']\n",
        "# lam = 0.15\n",
        "# for feat in skewed_features:\n",
        "    # #df[feat] += 1\n",
        "    # df[feat] = boxcox1p(df[feat], lam)"
      ],
      "metadata": {
        "id": "7ZJ2JCrBTfrI"
      },
      "execution_count": 29,
      "outputs": []
    },
    {
      "cell_type": "markdown",
      "metadata": {
        "_cell_guid": "39639caf-31a4-4401-a663-0ba9536b39bf",
        "_execution_state": "idle",
        "_uuid": "5a13a6e2a3e48975de9129d1593bd38df44a1069",
        "id": "Hlu_P0H0cUU6"
      },
      "source": [
        "**Getting dummy categorical features**"
      ]
    },
    {
      "cell_type": "code",
      "source": [
        "# For binary, ordinal, and interval variables, we would not like to \n",
        "# one-hot-code all the classes. There is no need for binary \n",
        "# variables; and for ordinal and interval variables, doing so would affect\n",
        "# the distance between each class [which should be the same].\n",
        "\n",
        "# For other variables (like nominal variables e.g. location) which\n",
        "# does not have natural rank ordering, we can just one-hot-code it.\n",
        "df = pd.get_dummies(df)\n",
        "print(df.shape)\n",
        "# print(df.head())"
      ],
      "metadata": {
        "colab": {
          "base_uri": "https://localhost:8080/"
        },
        "id": "B8J9j2pSiqvx",
        "outputId": "9056192f-8fca-4ef1-b1c4-0b2f076e2511"
      },
      "execution_count": 30,
      "outputs": [
        {
          "output_type": "stream",
          "name": "stdout",
          "text": [
            "(836, 19)\n"
          ]
        }
      ]
    },
    {
      "cell_type": "code",
      "source": [
        "print(df.head())"
      ],
      "metadata": {
        "colab": {
          "base_uri": "https://localhost:8080/"
        },
        "id": "9mb5oNk5BvwW",
        "outputId": "02e40498-844a-4398-fa67-db3273a6782b"
      },
      "execution_count": 31,
      "outputs": [
        {
          "output_type": "stream",
          "name": "stdout",
          "text": [
            "   use_oxford_comma  heard_of_comma  care_for_comma  use_data_plural  \\\n",
            "0                 0               1               2                0   \n",
            "1                 1               0               1                0   \n",
            "5                 1               0               3                1   \n",
            "6                 1               1               3                0   \n",
            "7                 1               1               3                1   \n",
            "\n",
            "   considered_data_plural  care_data_plural  care_grammar  gender  age  \\\n",
            "0                       0                 1             3       1    1   \n",
            "1                       0                 1             1       1    1   \n",
            "5                       1                 2             4       1    0   \n",
            "6                       1                 2             4       1    0   \n",
            "7                       0                 3             4       1    0   \n",
            "\n",
            "   education  location_East North Central  location_East South Central  \\\n",
            "0          3                            0                            0   \n",
            "1          4                            0                            0   \n",
            "5          2                            0                            0   \n",
            "6          2                            0                            0   \n",
            "7          2                            1                            0   \n",
            "\n",
            "   location_Middle Atlantic  location_Mountain  location_New England  \\\n",
            "0                         0                  0                     0   \n",
            "1                         0                  1                     0   \n",
            "5                         0                  0                     1   \n",
            "6                         0                  0                     0   \n",
            "7                         0                  0                     0   \n",
            "\n",
            "   location_Pacific  location_South Atlantic  location_West North Central  \\\n",
            "0                 0                        1                            0   \n",
            "1                 0                        0                            0   \n",
            "5                 0                        0                            0   \n",
            "6                 1                        0                            0   \n",
            "7                 0                        0                            0   \n",
            "\n",
            "   location_West South Central  \n",
            "0                            0  \n",
            "1                            0  \n",
            "5                            0  \n",
            "6                            0  \n",
            "7                            0  \n"
          ]
        }
      ]
    },
    {
      "cell_type": "markdown",
      "metadata": {
        "_cell_guid": "243cf047-c2ba-4ae5-a531-22ef9b7cfbfe",
        "_execution_state": "idle",
        "_uuid": "fe9d78c7e37142ee8089826eca3065e0fa5803c1",
        "id": "9HQdDzD5cUU6"
      },
      "source": [
        "Spliting the train and test sets. We only include the grammar-related features, not demographic features."
      ]
    },
    {
      "cell_type": "code",
      "execution_count": 32,
      "metadata": {
        "id": "Y4ZdqTVKcUU6"
      },
      "outputs": [],
      "source": [
        "from sklearn.model_selection import train_test_split\n",
        "\n",
        "X_train, X_test, y_train, y_test = train_test_split(df[['use_oxford_comma', 'heard_of_comma', 'care_for_comma', 'use_data_plural', \n",
        "                                                        'considered_data_plural', 'care_data_plural', 'care_grammar']], y, test_size=0.2,\n",
        "                                                    random_state=0)"
      ]
    },
    {
      "cell_type": "markdown",
      "metadata": {
        "id": "OHaXHwn9cUU6"
      },
      "source": [
        "## Modeling"
      ]
    },
    {
      "cell_type": "markdown",
      "metadata": {
        "id": "y_NgyGFKcUU6"
      },
      "source": [
        "### Building an example classification model with all features\n",
        "Now, it's time to build a preliminary model to predict the household income!"
      ]
    },
    {
      "cell_type": "code",
      "execution_count": 33,
      "metadata": {
        "id": "iQkDl0dtcUU7"
      },
      "outputs": [],
      "source": [
        "# Use Logistic Regression with Regularization\n",
        "from sklearn.linear_model import LogisticRegression\n",
        "# from sklearn.metrics import mean_absolute_error\n",
        "import numpy as np"
      ]
    },
    {
      "cell_type": "code",
      "source": [
        "from sklearn.metrics import mean_absolute_error\n",
        "# Different weights can be assigned to samples from different classes in\n",
        "# the model's loss function, inversely proportional to their frequencies.\n",
        "# This would ensure that even classes with few datapoints will equally\n",
        "# affect the model's loss, as compared to classes with large number \n",
        "# of datapoints. This is the purpose of using class_weight = 'balanced'.\n",
        "model_all_features = LogisticRegression(max_iter=500, class_weight = 'balanced')\n",
        "\n",
        "model_all_features.fit(X_train, y_train)\n",
        "y_pred_train_af = model_all_features.predict(X_train)\n",
        "y_pred_test_af = model_all_features.predict(X_test)\n",
        "print(\"Training mean absolute error is: \", mean_absolute_error(y_train, y_pred_train_af))\n",
        "print(\"Test mean absolute error is: \", mean_absolute_error(y_test, y_pred_test_af))"
      ],
      "metadata": {
        "colab": {
          "base_uri": "https://localhost:8080/"
        },
        "id": "dW4pa6MuvxOT",
        "outputId": "3b7c858c-2e83-48fb-ee6c-9500bfff8443"
      },
      "execution_count": 34,
      "outputs": [
        {
          "output_type": "stream",
          "name": "stdout",
          "text": [
            "Training mean absolute error is:  1.4191616766467066\n",
            "Test mean absolute error is:  1.4642857142857142\n"
          ]
        }
      ]
    },
    {
      "cell_type": "code",
      "source": [
        "test_mae_ = mean_absolute_error(y_test, y_pred_test_af)\n",
        "print(test_mae_)"
      ],
      "metadata": {
        "colab": {
          "base_uri": "https://localhost:8080/"
        },
        "id": "HbkwM_FNypYC",
        "outputId": "2c3dad60-380f-46b8-8976-beafb5a78b42"
      },
      "execution_count": 35,
      "outputs": [
        {
          "output_type": "stream",
          "name": "stdout",
          "text": [
            "1.4642857142857142\n"
          ]
        }
      ]
    },
    {
      "cell_type": "markdown",
      "metadata": {
        "id": "79e2zQ9DcUU7"
      },
      "source": [
        "### Build Classification model with selected featrues\n",
        "We may want to excludce some features based on correlations between features, so we will select features based on the following investigation:"
      ]
    },
    {
      "cell_type": "markdown",
      "metadata": {
        "id": "Nksxyb31cUU7"
      },
      "source": [
        "#### Select features based on correlation with labels\n",
        "\n",
        "During EDA section, we've already seen some features that correlated with labels. Let's redo this procedure as we have processed our data set."
      ]
    },
    {
      "cell_type": "markdown",
      "metadata": {
        "id": "sRL-Lyj9cUU7"
      },
      "source": [
        "##### Modeling with selected features"
      ]
    },
    {
      "cell_type": "code",
      "execution_count": 36,
      "metadata": {
        "id": "PrbSBB_2cUU7",
        "outputId": "273f5297-ce14-4e16-feab-e0934d36ea48",
        "colab": {
          "base_uri": "https://localhost:8080/"
        }
      },
      "outputs": [
        {
          "output_type": "stream",
          "name": "stdout",
          "text": [
            "There is 2 strongly correlated values with household_income:\n",
            "[('care_data_plural', 0.05980334320234349), ('use_oxford_comma', 0.06176594471383951)]\n"
          ]
        }
      ],
      "source": [
        "# Tune the threshold and find the best features set!\n",
        "thre = 0.1\n",
        "\n",
        "def chi_square(thre, X_train):\n",
        "    chisqresults = []\n",
        "    for i in range(0,len(X_train.columns)):\n",
        "        CrosstabResult=pd.crosstab(index=y_train,columns=X_train[X_train.columns[i]])\n",
        "        # print(CrosstabResult)\n",
        "        # print('\\n')\n",
        "        ChiSqResult = chi2_contingency(CrosstabResult)\n",
        "        #print(ChiSqResult[1])\n",
        "        chisqresults.append((i, X_train.columns[i], ChiSqResult[1]))\n",
        "\n",
        "    chisqresults.sort(key = lambda x: x[2])\n",
        "    #print(chisqresults)\n",
        "    golden_features_list = []\n",
        "    for i in range(len(chisqresults)):\n",
        "        # we will use a significance value of .1 to determine if a feature is strongly correlated\n",
        "        if chisqresults[i][2] < thre:\n",
        "            golden_features_list.append((chisqresults[i][1], chisqresults[i][2]))\n",
        "    return golden_features_list\n",
        "\n",
        "golden_features_list = chi_square(thre, X_train)\n",
        "print(\"There is {} strongly correlated values with household_income:\\n{}\".format(len(golden_features_list), golden_features_list))\n",
        "golden_features_index = [golden_features_list[i][0] for i in range(len(golden_features_list))]"
      ]
    },
    {
      "cell_type": "code",
      "source": [
        "model_selected_features = LogisticRegression(max_iter=500)\n",
        "\n",
        "model_selected_features.fit(X_train[golden_features_index], y_train)\n",
        "y_pred_train_ = model_selected_features.predict(X_train[golden_features_index])\n",
        "y_pred_test_ = model_selected_features.predict(X_test[golden_features_index])\n",
        "print(\"Training mean absolute error is: \", mean_absolute_error(y_train, y_pred_train_))\n",
        "print(\"Test mean absolute error is: \", mean_absolute_error(y_test, y_pred_test_))"
      ],
      "metadata": {
        "colab": {
          "base_uri": "https://localhost:8080/"
        },
        "id": "VGEux9Czw50M",
        "outputId": "0ac1b7ec-c356-4057-d5d8-71edc816291a"
      },
      "execution_count": 37,
      "outputs": [
        {
          "output_type": "stream",
          "name": "stdout",
          "text": [
            "Training mean absolute error is:  0.8862275449101796\n",
            "Test mean absolute error is:  1.0595238095238095\n"
          ]
        }
      ]
    },
    {
      "cell_type": "code",
      "source": [
        "# Tune the threshold and find the best features set!\n",
        "test_mae = [test_mae_]\n",
        "features_num = [X_train.shape[1]]\n",
        "x_plot = [0]\n",
        "\n",
        "# We can try \"0.1,2,0.1\" to be inside the np.arange(). \n",
        "# The graph looks very different.\n",
        "for thre in np.arange(0.0,0.1,0.01):\n",
        "    golden_features_list = chi_square(thre, X_train)\n",
        "    golden_features_index = [golden_features_list[i][0] for i in range(len(golden_features_list))]\n",
        "    if len(golden_features_list) == 0:\n",
        "        continue\n",
        "    features_num.append(len(golden_features_list))\n",
        "    model_selected_features.fit(X_train[golden_features_index], y_train)\n",
        "    y_pred_train_ = model_selected_features.predict(X_train[golden_features_index])\n",
        "    y_pred_test_ = model_selected_features.predict(X_test[golden_features_index])\n",
        "    x_plot.append(thre)\n",
        "    test_mae.append(mean_absolute_error(y_test, y_pred_test_))"
      ],
      "metadata": {
        "id": "LcJBSwHWzXDe"
      },
      "execution_count": 38,
      "outputs": []
    },
    {
      "cell_type": "code",
      "execution_count": 39,
      "metadata": {
        "id": "1q8v4j3gcUU8",
        "colab": {
          "base_uri": "https://localhost:8080/",
          "height": 297
        },
        "outputId": "bfb0cc80-a8dd-472d-9c4b-241628514d25"
      },
      "outputs": [
        {
          "output_type": "execute_result",
          "data": {
            "text/plain": [
              "Text(0, 0.5, 'Number of Features')"
            ]
          },
          "metadata": {},
          "execution_count": 39
        },
        {
          "output_type": "display_data",
          "data": {
            "text/plain": [
              "<Figure size 432x288 with 2 Axes>"
            ],
            "image/png": "[encoded data removed]"
          },
          "metadata": {
            "needs_background": "light"
          }
        }
      ],
      "source": [
        "# Plot features vs. \n",
        "# x_plot = np.arange(0.0,0.1,0.01)\n",
        "\n",
        "fig, ax1 = plt.subplots()\n",
        "\n",
        "ax2 = ax1.twinx()\n",
        "ax1.plot(x_plot, test_mae, 'b-')\n",
        "ax2.plot(x_plot, features_num, 'g-')\n",
        "\n",
        "ax1.set_xlabel('Correlation Threshold')\n",
        "ax1.set_ylabel('mean absolute error', color='b')\n",
        "ax2.set_ylabel('Number of Features', color='g')"
      ]
    },
    {
      "cell_type": "markdown",
      "metadata": {
        "id": "2JGXQN-Sc7wO"
      },
      "source": [
        "## Feature Selection\n",
        "\n",
        "\n",
        "\n"
      ]
    },
    {
      "cell_type": "markdown",
      "metadata": {
        "id": "sfY_jupTc7wO"
      },
      "source": [
        "### Sequential Feature Selection\n",
        "\n",
        "Here, we investigate using feature selection methods on our dataset, but we ultimately decide to use all of the grammar-related features available as we have very few features to work with at the beginning, and discarding any of them would result in valuable information loss."
      ]
    },
    {
      "cell_type": "markdown",
      "metadata": {
        "id": "yegz8ob2c7wO"
      },
      "source": [
        "#### Step Backward Features Selection\n",
        "\n",
        "Opposite to the step forward feature selection, step backward starts with all features and eliminates one-by-one iteratively. Step Backward Feature Selection is called greedy, because it evaluates all possible n, and then n-1 and n-2 and so on feature combinations. Therefore, it is very computationally expensive as well.\n",
        "\n",
        "Now, we will practice the step backward features selection."
      ]
    },
    {
      "cell_type": "code",
      "source": [
        "from sklearn.feature_selection import SelectFromModel\n",
        "from sklearn.feature_selection import SequentialFeatureSelector\n",
        "from sklearn.linear_model import RidgeCV\n",
        "feature_names = ['use_oxford_comma', 'heard_of_comma', 'care_for_comma',\n",
        "       'use_data_plural', 'considered_data_plural', 'care_data_plural',\n",
        "       'care_grammar']\n",
        "\n",
        "# define Ridge\n",
        "ridge = RidgeCV(alphas=np.logspace(-6, 6, num=5)).fit(X_train, y_train)\n",
        "importance = np.abs(ridge.coef_)\n",
        "\n",
        "threshold = np.sort(importance)[-6] + 0.0000001\n",
        "\n",
        "sfm = SelectFromModel(ridge, threshold=threshold).fit(X_train, y_train)\n",
        "print(\n",
        "    \"Features selected by SelectFromModel:\"\n",
        "     f\"{np.array(feature_names)[sfm.get_support()]}\")\n",
        "\n",
        "# Feature selection using sequential feature selector (both forward and backward)\n",
        "sfs_forward = SequentialFeatureSelector(\n",
        "    ridge, n_features_to_select=5, direction=\"forward\"\n",
        ").fit(X_train, y_train)\n",
        "\n",
        "print(\n",
        "    \"Features selected by forward sequential selection: \"\n",
        "    f\"{np.array(feature_names)[sfs_forward.get_support()]}\")\n",
        "\n",
        "sfs_backward = SequentialFeatureSelector(\n",
        "    ridge, n_features_to_select=5, direction=\"backward\"\n",
        ").fit(X_train, y_train)\n",
        "\n",
        "print(\n",
        "    \"Features selected by backward sequential selection: \"\n",
        "    f\"{np.array(feature_names)[sfs_backward.get_support()]}\")"
      ],
      "metadata": {
        "colab": {
          "base_uri": "https://localhost:8080/"
        },
        "outputId": "40fe4782-e1fe-43e0-9f7f-c9288d8331e0",
        "id": "4UueaKWyc7wO"
      },
      "execution_count": 40,
      "outputs": [
        {
          "output_type": "stream",
          "name": "stdout",
          "text": [
            "Features selected by SelectFromModel:['use_oxford_comma' 'care_for_comma' 'considered_data_plural'\n",
            " 'care_data_plural' 'care_grammar']\n",
            "Features selected by forward sequential selection: ['use_oxford_comma' 'care_for_comma' 'use_data_plural' 'care_data_plural'\n",
            " 'care_grammar']\n",
            "Features selected by backward sequential selection: ['use_oxford_comma' 'use_data_plural' 'considered_data_plural'\n",
            " 'care_data_plural' 'care_grammar']\n"
          ]
        }
      ]
    },
    {
      "cell_type": "markdown",
      "source": [
        "### This marks the end of our Preliminary data exploration and example model creation. What follows is the analysis and investigation into developing the best models for our dataset."
      ],
      "metadata": {
        "id": "KJpzzvgtNnrN"
      }
    },
    {
      "cell_type": "markdown",
      "source": [
        "#Model Investigations#"
      ],
      "metadata": {
        "id": "W8gaLzpzmunk"
      }
    },
    {
      "cell_type": "markdown",
      "source": [
        "We eventually decided to transform the problem from multiclass prediction to binary prediction because our input features were not associated enough with the output to achieve significant/interesting performance on the more difficult multiclass problem. We split the income category as evenly as possible into two categories, those being above and below $50k/year."
      ],
      "metadata": {
        "id": "8ADhEgssOLF5"
      }
    },
    {
      "cell_type": "markdown",
      "source": [
        "Additionally note that in this file, the investigation was centered around optimizng for F1 score on the minority class rather than accuracy. This was achieved by switching the ordering of labels so that the minority class (<50k) was considered the positive label. We then tried training all models with and without oversampled and found that generally, oversampling benefitted the models."
      ],
      "metadata": {
        "id": "q24bM9oPbN1e"
      }
    },
    {
      "cell_type": "code",
      "source": [
        "# Create binary classification problem with <50k and >50k\n",
        "\n",
        "df_ = pd.read_csv(DATADIR + \"comma.csv\")\n",
        "df_.columns = ['respondent_id', 'use_oxford_comma', 'heard_of_comma', 'care_for_comma', 'use_data_plural', \n",
        "              'considered_data_plural', 'care_data_plural', 'care_grammar', 'gender', 'age', 'household_income', 'education', 'location']\n",
        "df_ = df_.dropna(subset = ['household_income'])\n",
        "y = df_[['household_income']]\n",
        "\n",
        "y['income_binary'] = np.nan\n",
        "y.loc[y['household_income'] == \"$0 - $24,999\", 'income_binary'] = '$0 - $49,999'\n",
        "y.loc[y['household_income'] == \"$25,000 - $49,999\", 'income_binary'] = '$0 - $49,999'\n",
        "y.loc[y['household_income'] == \"$50,000 - $99,999\", 'income_binary'] = '$50,000+'\n",
        "y.loc[y['household_income'] == \"$100,000 - $149,999\", 'income_binary'] = '$50,000+'\n",
        "y.loc[y['household_income'] == \"$150,000+\", 'income_binary'] = '$50,000+'\n",
        "y = y[['income_binary']]\n",
        "y_ = y\n",
        "# ORDER OF CATEGORIES AFFECTS PRECISION/RECALL\n",
        "# we can decide to put less frequent category as the positive label if we want as it makes the\n",
        "# question more interesting and precision/recall/f1 score harder to increase\n",
        "# simply by over-predicting the majority class\n",
        "# categories = pd.Categorical(y['income_binary'], categories=['$0 - $49,999', '$50,000+'], ordered=True)\n",
        "categories = pd.Categorical(y['income_binary'], categories=['$50,000+', '$0 - $49,999'], ordered=True)\n",
        "\n",
        "categories\n",
        "labels, unique = pd.factorize(categories, sort=True)\n",
        "y = pd.DataFrame(labels)\n",
        "\n",
        "\n",
        "X_train, X_test, y_train, y_test = train_test_split(df[['use_oxford_comma', 'heard_of_comma', 'care_for_comma', 'use_data_plural', \n",
        "                                                        'considered_data_plural', 'care_data_plural', 'care_grammar']], y.to_numpy().ravel(), test_size=0.2,\n",
        "                                                    random_state=0)"
      ],
      "metadata": {
        "colab": {
          "base_uri": "https://localhost:8080/"
        },
        "id": "uGh0k-uC9QjL",
        "outputId": "75471ccf-086f-4442-8086-94f38d5428a2"
      },
      "execution_count": 41,
      "outputs": [
        {
          "output_type": "stream",
          "name": "stderr",
          "text": [
            "<ipython-input-41-20a7ffc02f6b>:9: SettingWithCopyWarning: \n",
            "A value is trying to be set on a copy of a slice from a DataFrame.\n",
            "Try using .loc[row_indexer,col_indexer] = value instead\n",
            "\n",
            "See the caveats in the documentation: https://pandas.pydata.org/pandas-docs/stable/user_guide/indexing.html#returning-a-view-versus-a-copy\n",
            "  y['income_binary'] = np.nan\n",
            "/usr/local/lib/python3.8/dist-packages/pandas/core/indexing.py:1817: SettingWithCopyWarning: \n",
            "A value is trying to be set on a copy of a slice from a DataFrame.\n",
            "Try using .loc[row_indexer,col_indexer] = value instead\n",
            "\n",
            "See the caveats in the documentation: https://pandas.pydata.org/pandas-docs/stable/user_guide/indexing.html#returning-a-view-versus-a-copy\n",
            "  self._setitem_single_column(loc, value, pi)\n"
          ]
        }
      ]
    },
    {
      "cell_type": "code",
      "source": [
        "y_train"
      ],
      "metadata": {
        "colab": {
          "base_uri": "https://localhost:8080/"
        },
        "id": "UOzwmiLBBKk5",
        "outputId": "404a7663-fcc1-437b-e0f6-c592104ff19b"
      },
      "execution_count": 42,
      "outputs": [
        {
          "output_type": "execute_result",
          "data": {
            "text/plain": [
              "array([0, 1, 0, 1, 0, 0, 0, 0, 1, 0, 1, 1, 0, 0, 0, 0, 1, 0, 1, 0, 1, 1,\n",
              "       1, 1, 0, 1, 0, 1, 0, 1, 1, 0, 0, 1, 0, 0, 1, 0, 0, 1, 0, 0, 1, 1,\n",
              "       0, 0, 1, 0, 0, 1, 1, 0, 0, 0, 1, 0, 1, 0, 0, 0, 0, 0, 0, 0, 0, 0,\n",
              "       0, 0, 0, 1, 0, 0, 1, 0, 0, 1, 0, 1, 0, 1, 0, 0, 0, 0, 1, 1, 0, 0,\n",
              "       1, 0, 0, 0, 1, 0, 0, 0, 0, 1, 0, 1, 0, 0, 0, 1, 0, 1, 1, 0, 0, 0,\n",
              "       1, 1, 0, 1, 0, 0, 0, 1, 0, 1, 1, 0, 0, 0, 0, 1, 0, 0, 0, 1, 0, 0,\n",
              "       0, 0, 1, 1, 0, 0, 0, 1, 1, 0, 0, 1, 1, 0, 0, 0, 0, 0, 0, 0, 0, 0,\n",
              "       1, 0, 1, 0, 0, 1, 0, 1, 0, 0, 0, 0, 0, 0, 1, 1, 1, 0, 0, 0, 1, 0,\n",
              "       0, 0, 1, 0, 0, 1, 0, 0, 1, 1, 0, 1, 0, 0, 1, 1, 0, 0, 0, 1, 0, 0,\n",
              "       0, 0, 1, 1, 0, 0, 0, 0, 0, 0, 0, 1, 1, 0, 0, 0, 1, 0, 0, 0, 1, 1,\n",
              "       0, 0, 0, 0, 0, 1, 0, 0, 0, 1, 1, 0, 0, 0, 1, 0, 0, 1, 1, 1, 1, 0,\n",
              "       1, 0, 0, 0, 1, 0, 0, 1, 1, 0, 0, 0, 0, 1, 1, 0, 1, 1, 0, 1, 0, 1,\n",
              "       0, 0, 0, 0, 1, 1, 0, 0, 1, 1, 0, 0, 0, 0, 0, 0, 1, 1, 0, 0, 0, 1,\n",
              "       1, 1, 0, 0, 0, 0, 0, 0, 1, 0, 0, 1, 0, 1, 0, 0, 0, 0, 1, 0, 1, 0,\n",
              "       0, 1, 0, 0, 1, 0, 0, 0, 0, 0, 0, 0, 0, 0, 1, 0, 0, 0, 0, 1, 0, 1,\n",
              "       1, 0, 0, 0, 0, 1, 1, 0, 0, 1, 1, 1, 1, 0, 0, 0, 0, 0, 0, 0, 0, 0,\n",
              "       1, 0, 0, 0, 1, 0, 1, 0, 0, 0, 0, 1, 1, 0, 0, 0, 0, 0, 0, 0, 0, 0,\n",
              "       0, 1, 0, 0, 0, 0, 0, 0, 1, 0, 0, 0, 0, 1, 1, 1, 0, 0, 1, 0, 0, 0,\n",
              "       1, 1, 1, 0, 0, 1, 0, 1, 0, 1, 0, 0, 1, 0, 0, 0, 1, 0, 1, 0, 1, 0,\n",
              "       0, 0, 1, 0, 0, 1, 1, 1, 0, 1, 0, 1, 0, 0, 0, 0, 0, 0, 0, 0, 0, 0,\n",
              "       0, 0, 0, 0, 0, 0, 0, 0, 0, 1, 1, 0, 1, 1, 0, 1, 1, 0, 1, 0, 1, 0,\n",
              "       0, 0, 1, 0, 0, 1, 1, 0, 0, 0, 0, 0, 1, 1, 0, 1, 1, 0, 0, 1, 0, 0,\n",
              "       0, 0, 1, 0, 0, 0, 1, 0, 0, 1, 1, 0, 1, 1, 0, 0, 0, 0, 0, 0, 0, 0,\n",
              "       0, 1, 1, 0, 1, 0, 0, 0, 0, 0, 0, 0, 0, 0, 0, 1, 0, 0, 1, 0, 0, 0,\n",
              "       0, 0, 1, 1, 0, 1, 0, 0, 0, 0, 0, 0, 0, 0, 0, 0, 0, 1, 0, 0, 0, 1,\n",
              "       0, 0, 0, 1, 1, 0, 1, 1, 0, 1, 1, 1, 1, 0, 0, 0, 0, 0, 0, 0, 0, 0,\n",
              "       0, 0, 1, 0, 0, 0, 1, 0, 0, 0, 0, 0, 1, 1, 0, 0, 0, 0, 0, 0, 0, 0,\n",
              "       0, 1, 0, 1, 0, 0, 0, 1, 1, 0, 0, 0, 0, 0, 0, 0, 0, 0, 1, 0, 0, 0,\n",
              "       0, 0, 1, 0, 0, 1, 0, 1, 1, 0, 0, 0, 1, 0, 0, 1, 0, 1, 0, 0, 0, 0,\n",
              "       1, 1, 0, 1, 0, 1, 0, 0, 0, 0, 1, 0, 0, 1, 1, 1, 0, 0, 0, 1, 0, 0,\n",
              "       0, 0, 1, 0, 1, 0, 0, 1])"
            ]
          },
          "metadata": {},
          "execution_count": 42
        }
      ]
    },
    {
      "cell_type": "code",
      "source": [
        "# Visualization of the income distribution after grouping into two categories\n",
        "y_\n",
        "plt.figure(figsize=(12, 8))\n",
        "sns.countplot(x='income_binary', alpha=0.7, data=y_)"
      ],
      "metadata": {
        "colab": {
          "base_uri": "https://localhost:8080/",
          "height": 519
        },
        "id": "VUPxvR8cGkTm",
        "outputId": "2f989597-82b9-4547-9f72-6a7d7fc02ed9"
      },
      "execution_count": 43,
      "outputs": [
        {
          "output_type": "execute_result",
          "data": {
            "text/plain": [
              "<matplotlib.axes._subplots.AxesSubplot at 0x7f3412a52a60>"
            ]
          },
          "metadata": {},
          "execution_count": 43
        },
        {
          "output_type": "display_data",
          "data": {
            "text/plain": [
              "<Figure size 864x576 with 1 Axes>"
            ],
            "image/png": "[encoded data removed]"
          },
          "metadata": {
            "needs_background": "light"
          }
        }
      ]
    },
    {
      "cell_type": "code",
      "source": [
        "from sklearn.preprocessing import StandardScaler\n",
        "\n",
        "# have the train data split into train and validation data\n",
        "X_train_2, X_val, y_train_2, y_val = train_test_split(X_train, \n",
        "                            y_train, test_size=0.2, random_state=0)\n",
        "\n",
        "ss = StandardScaler()\n",
        "X_train_2_scaled = pd.DataFrame(ss.fit_transform(X_train_2), columns=X_train_2.columns)\n",
        "X_train_2_scaled\n",
        "X_val_scaled = pd.DataFrame(ss.transform(X_val), columns=X_val.columns)\n",
        "X_val_scaled\n",
        "\n",
        "# Scale full training set as well, (since we do CV training later)\n",
        "X_train_scaled = pd.DataFrame(ss.fit_transform(X_train), columns=X_train.columns)\n",
        "X_test_scaled = pd.DataFrame(ss.transform(X_test), columns=X_test.columns)\n",
        "X_test_scaled"
      ],
      "metadata": {
        "colab": {
          "base_uri": "https://localhost:8080/",
          "height": 423
        },
        "id": "IxJM8WW-mzmp",
        "outputId": "8b661961-1bc8-4d64-8fd7-15b75e66db1a"
      },
      "execution_count": 44,
      "outputs": [
        {
          "output_type": "execute_result",
          "data": {
            "text/plain": [
              "     use_oxford_comma  heard_of_comma  care_for_comma  use_data_plural  \\\n",
              "0            0.875897       -1.217896       -0.867923        -0.486864   \n",
              "1            0.875897        0.821088        1.240340         2.053960   \n",
              "2            0.875897        0.821088        1.240340         2.053960   \n",
              "3           -1.141687       -1.217896        0.186209         2.053960   \n",
              "4           -1.141687        0.821088        0.186209        -0.486864   \n",
              "..                ...             ...             ...              ...   \n",
              "163         -1.141687       -1.217896        0.186209        -0.486864   \n",
              "164         -1.141687        0.821088        1.240340        -0.486864   \n",
              "165          0.875897       -1.217896        1.240340         2.053960   \n",
              "166          0.875897        0.821088        0.186209        -0.486864   \n",
              "167          0.875897        0.821088        1.240340         2.053960   \n",
              "\n",
              "     considered_data_plural  care_data_plural  care_grammar  \n",
              "0                  0.994030         -0.419204     -0.992213  \n",
              "1                  0.994030          0.696446      0.673110  \n",
              "2                  0.994030          0.696446      0.673110  \n",
              "3                  0.994030          0.696446      0.673110  \n",
              "4                  0.994030          0.696446      0.673110  \n",
              "..                      ...               ...           ...  \n",
              "163               -1.006006         -1.534853      0.673110  \n",
              "164                0.994030          1.812095      0.673110  \n",
              "165                0.994030          0.696446      0.673110  \n",
              "166               -1.006006          1.812095      0.673110  \n",
              "167                0.994030          1.812095      0.673110  \n",
              "\n",
              "[168 rows x 7 columns]"
            ],
            "text/html": [
              "\n",
              "  <div id=\"df-3b3a15bd-b376-414a-b9e1-4f285046bff4\">\n",
              "    <div class=\"colab-df-container\">\n",
              "      <div>\n",
              "<style scoped>\n",
              "    .dataframe tbody tr th:only-of-type {\n",
              "        vertical-align: middle;\n",
              "    }\n",
              "\n",
              "    .dataframe tbody tr th {\n",
              "        vertical-align: top;\n",
              "    }\n",
              "\n",
              "    .dataframe thead th {\n",
              "        text-align: right;\n",
              "    }\n",
              "</style>\n",
              "<table border=\"1\" class=\"dataframe\">\n",
              "  <thead>\n",
              "    <tr style=\"text-align: right;\">\n",
              "      <th></th>\n",
              "      <th>use_oxford_comma</th>\n",
              "      <th>heard_of_comma</th>\n",
              "      <th>care_for_comma</th>\n",
              "      <th>use_data_plural</th>\n",
              "      <th>considered_data_plural</th>\n",
              "      <th>care_data_plural</th>\n",
              "      <th>care_grammar</th>\n",
              "    </tr>\n",
              "  </thead>\n",
              "  <tbody>\n",
              "    <tr>\n",
              "      <th>0</th>\n",
              "      <td>0.875897</td>\n",
              "      <td>-1.217896</td>\n",
              "      <td>-0.867923</td>\n",
              "      <td>-0.486864</td>\n",
              "      <td>0.994030</td>\n",
              "      <td>-0.419204</td>\n",
              "      <td>-0.992213</td>\n",
              "    </tr>\n",
              "    <tr>\n",
              "      <th>1</th>\n",
              "      <td>0.875897</td>\n",
              "      <td>0.821088</td>\n",
              "      <td>1.240340</td>\n",
              "      <td>2.053960</td>\n",
              "      <td>0.994030</td>\n",
              "      <td>0.696446</td>\n",
              "      <td>0.673110</td>\n",
              "    </tr>\n",
              "    <tr>\n",
              "      <th>2</th>\n",
              "      <td>0.875897</td>\n",
              "      <td>0.821088</td>\n",
              "      <td>1.240340</td>\n",
              "      <td>2.053960</td>\n",
              "      <td>0.994030</td>\n",
              "      <td>0.696446</td>\n",
              "      <td>0.673110</td>\n",
              "    </tr>\n",
              "    <tr>\n",
              "      <th>3</th>\n",
              "      <td>-1.141687</td>\n",
              "      <td>-1.217896</td>\n",
              "      <td>0.186209</td>\n",
              "      <td>2.053960</td>\n",
              "      <td>0.994030</td>\n",
              "      <td>0.696446</td>\n",
              "      <td>0.673110</td>\n",
              "    </tr>\n",
              "    <tr>\n",
              "      <th>4</th>\n",
              "      <td>-1.141687</td>\n",
              "      <td>0.821088</td>\n",
              "      <td>0.186209</td>\n",
              "      <td>-0.486864</td>\n",
              "      <td>0.994030</td>\n",
              "      <td>0.696446</td>\n",
              "      <td>0.673110</td>\n",
              "    </tr>\n",
              "    <tr>\n",
              "      <th>...</th>\n",
              "      <td>...</td>\n",
              "      <td>...</td>\n",
              "      <td>...</td>\n",
              "      <td>...</td>\n",
              "      <td>...</td>\n",
              "      <td>...</td>\n",
              "      <td>...</td>\n",
              "    </tr>\n",
              "    <tr>\n",
              "      <th>163</th>\n",
              "      <td>-1.141687</td>\n",
              "      <td>-1.217896</td>\n",
              "      <td>0.186209</td>\n",
              "      <td>-0.486864</td>\n",
              "      <td>-1.006006</td>\n",
              "      <td>-1.534853</td>\n",
              "      <td>0.673110</td>\n",
              "    </tr>\n",
              "    <tr>\n",
              "      <th>164</th>\n",
              "      <td>-1.141687</td>\n",
              "      <td>0.821088</td>\n",
              "      <td>1.240340</td>\n",
              "      <td>-0.486864</td>\n",
              "      <td>0.994030</td>\n",
              "      <td>1.812095</td>\n",
              "      <td>0.673110</td>\n",
              "    </tr>\n",
              "    <tr>\n",
              "      <th>165</th>\n",
              "      <td>0.875897</td>\n",
              "      <td>-1.217896</td>\n",
              "      <td>1.240340</td>\n",
              "      <td>2.053960</td>\n",
              "      <td>0.994030</td>\n",
              "      <td>0.696446</td>\n",
              "      <td>0.673110</td>\n",
              "    </tr>\n",
              "    <tr>\n",
              "      <th>166</th>\n",
              "      <td>0.875897</td>\n",
              "      <td>0.821088</td>\n",
              "      <td>0.186209</td>\n",
              "      <td>-0.486864</td>\n",
              "      <td>-1.006006</td>\n",
              "      <td>1.812095</td>\n",
              "      <td>0.673110</td>\n",
              "    </tr>\n",
              "    <tr>\n",
              "      <th>167</th>\n",
              "      <td>0.875897</td>\n",
              "      <td>0.821088</td>\n",
              "      <td>1.240340</td>\n",
              "      <td>2.053960</td>\n",
              "      <td>0.994030</td>\n",
              "      <td>1.812095</td>\n",
              "      <td>0.673110</td>\n",
              "    </tr>\n",
              "  </tbody>\n",
              "</table>\n",
              "<p>168 rows × 7 columns</p>\n",
              "</div>\n",
              "      <button class=\"colab-df-convert\" onclick=\"convertToInteractive('df-3b3a15bd-b376-414a-b9e1-4f285046bff4')\"\n",
              "              title=\"Convert this dataframe to an interactive table.\"\n",
              "              style=\"display:none;\">\n",
              "        \n",
              "  <svg xmlns=\"http://www.w3.org/2000/svg\" height=\"24px\"viewBox=\"0 0 24 24\"\n",
              "       width=\"24px\">\n",
              "    <path d=\"M0 0h24v24H0V0z\" fill=\"none\"/>\n",
              "    <path d=\"M18.56 5.44l.94 2.06.94-2.06 2.06-.94-2.06-.94-.94-2.06-.94 2.06-2.06.94zm-11 1L8.5 8.5l.94-2.06 2.06-.94-2.06-.94L8.5 2.5l-.94 2.06-2.06.94zm10 10l.94 2.06.94-2.06 2.06-.94-2.06-.94-.94-2.06-.94 2.06-2.06.94z\"/><path d=\"M17.41 7.96l-1.37-1.37c-.4-.4-.92-.59-1.43-.59-.52 0-1.04.2-1.43.59L10.3 9.45l-7.72 7.72c-.78.78-.78 2.05 0 2.83L4 21.41c.39.39.9.59 1.41.59.51 0 1.02-.2 1.41-.59l7.78-7.78 2.81-2.81c.8-.78.8-2.07 0-2.86zM5.41 20L4 18.59l7.72-7.72 1.47 1.35L5.41 20z\"/>\n",
              "  </svg>\n",
              "      </button>\n",
              "      \n",
              "  <style>\n",
              "    .colab-df-container {\n",
              "      display:flex;\n",
              "      flex-wrap:wrap;\n",
              "      gap: 12px;\n",
              "    }\n",
              "\n",
              "    .colab-df-convert {\n",
              "      background-color: #E8F0FE;\n",
              "      border: none;\n",
              "      border-radius: 50%;\n",
              "      cursor: pointer;\n",
              "      display: none;\n",
              "      fill: #1967D2;\n",
              "      height: 32px;\n",
              "      padding: 0 0 0 0;\n",
              "      width: 32px;\n",
              "    }\n",
              "\n",
              "    .colab-df-convert:hover {\n",
              "      background-color: #E2EBFA;\n",
              "      box-shadow: 0px 1px 2px rgba(60, 64, 67, 0.3), 0px 1px 3px 1px rgba(60, 64, 67, 0.15);\n",
              "      fill: #174EA6;\n",
              "    }\n",
              "\n",
              "    [theme=dark] .colab-df-convert {\n",
              "      background-color: #3B4455;\n",
              "      fill: #D2E3FC;\n",
              "    }\n",
              "\n",
              "    [theme=dark] .colab-df-convert:hover {\n",
              "      background-color: #434B5C;\n",
              "      box-shadow: 0px 1px 3px 1px rgba(0, 0, 0, 0.15);\n",
              "      filter: drop-shadow(0px 1px 2px rgba(0, 0, 0, 0.3));\n",
              "      fill: #FFFFFF;\n",
              "    }\n",
              "  </style>\n",
              "\n",
              "      <script>\n",
              "        const buttonEl =\n",
              "          document.querySelector('#df-3b3a15bd-b376-414a-b9e1-4f285046bff4 button.colab-df-convert');\n",
              "        buttonEl.style.display =\n",
              "          google.colab.kernel.accessAllowed ? 'block' : 'none';\n",
              "\n",
              "        async function convertToInteractive(key) {\n",
              "          const element = document.querySelector('#df-3b3a15bd-b376-414a-b9e1-4f285046bff4');\n",
              "          const dataTable =\n",
              "            await google.colab.kernel.invokeFunction('convertToInteractive',\n",
              "                                                     [key], {});\n",
              "          if (!dataTable) return;\n",
              "\n",
              "          const docLinkHtml = 'Like what you see? Visit the ' +\n",
              "            '<a target=\"_blank\" href=https://colab.research.google.com/notebooks/data_table.ipynb>data table notebook</a>'\n",
              "            + ' to learn more about interactive tables.';\n",
              "          element.innerHTML = '';\n",
              "          dataTable['output_type'] = 'display_data';\n",
              "          await google.colab.output.renderOutput(dataTable, element);\n",
              "          const docLink = document.createElement('div');\n",
              "          docLink.innerHTML = docLinkHtml;\n",
              "          element.appendChild(docLink);\n",
              "        }\n",
              "      </script>\n",
              "    </div>\n",
              "  </div>\n",
              "  "
            ]
          },
          "metadata": {},
          "execution_count": 44
        }
      ]
    },
    {
      "cell_type": "code",
      "source": [
        "# OVERSAMPLING\n",
        "!pip install imbalanced-learn"
      ],
      "metadata": {
        "colab": {
          "base_uri": "https://localhost:8080/"
        },
        "id": "O4UXTkb5TWnr",
        "outputId": "6113099d-862c-486e-aa21-350b0ec287c3"
      },
      "execution_count": 45,
      "outputs": [
        {
          "output_type": "stream",
          "name": "stdout",
          "text": [
            "Looking in indexes: https://pypi.org/simple, https://us-python.pkg.dev/colab-wheels/public/simple/\n",
            "Requirement already satisfied: imbalanced-learn in /usr/local/lib/python3.8/dist-packages (0.8.1)\n",
            "Requirement already satisfied: scipy>=0.19.1 in /usr/local/lib/python3.8/dist-packages (from imbalanced-learn) (1.7.3)\n",
            "Requirement already satisfied: numpy>=1.13.3 in /usr/local/lib/python3.8/dist-packages (from imbalanced-learn) (1.21.6)\n",
            "Requirement already satisfied: joblib>=0.11 in /usr/local/lib/python3.8/dist-packages (from imbalanced-learn) (1.2.0)\n",
            "Requirement already satisfied: scikit-learn>=0.24 in /usr/local/lib/python3.8/dist-packages (from imbalanced-learn) (1.0.2)\n",
            "Requirement already satisfied: threadpoolctl>=2.0.0 in /usr/local/lib/python3.8/dist-packages (from scikit-learn>=0.24->imbalanced-learn) (3.1.0)\n"
          ]
        }
      ]
    },
    {
      "cell_type": "code",
      "source": [
        "# https://imbalanced-learn.org/stable/over_sampling.html#a-practical-guide\n",
        "from imblearn.over_sampling import RandomOverSampler\n",
        "\n",
        "ros = RandomOverSampler(random_state=0, sampling_strategy='not majority')\n",
        "X_resampled, y_resampled = ros.fit_resample(X_train_scaled, y_train)\n",
        "\n",
        "# toggle this variable to use oversampled training data, \n",
        "# False to use original distribution\n",
        "use_resampled = True"
      ],
      "metadata": {
        "id": "5h7a-wA-Tms-"
      },
      "execution_count": 46,
      "outputs": []
    },
    {
      "cell_type": "code",
      "source": [
        "from sklearn.metrics import f1_score\n",
        "from sklearn.metrics import precision_score\n",
        "from sklearn.metrics import recall_score\n",
        "from sklearn.metrics import confusion_matrix\n",
        "from sklearn.metrics import classification_report\n",
        "\n",
        "# method used to print out evaluation metrics for a given model and test data\n",
        "def evaluateModel(modelName, X_test_data, y_test_data):\n",
        "  y_predict = modelName.predict(X_test_data)\n",
        "  precision_recall = classification_report(y_test_data, y_predict)\n",
        "  print(precision_recall)\n",
        "  print(\"Test set accuracy is: \",  modelName.score(X_test_data, y_test_data))\n",
        "  print(\"Test set F1 score is: \",  f1_score(y_test_data, y_predict))\n",
        "  print(\"Test set precision is: \", precision_score(y_test_data, y_predict))\n",
        "  print(\"Test set recall is: \", recall_score(y_test_data, y_predict))\n",
        "\n",
        "  # use micro averaged versions with multi-class prediction\n",
        "  # print(\"Test set F1 score is: \",  f1_score(y_test_data, y_predict, average='micro'))\n",
        "  # print(\"Test set precision is: \", precision_score(y_test_data, y_predict, average='micro'))\n",
        "  # print(\"Test set recall is: \", recall_score(y_test_data, y_predict, average='micro'))\n",
        "  mat = confusion_matrix(y_predict, y_test_data)\n",
        "  sns.heatmap(mat.T, square=True, annot=True, fmt='d', cbar=False,)\n",
        "  plt.xlabel('predicted label')\n",
        "  plt.ylabel('true label')\n",
        "  # >$50k when labels' order isn't switched\n",
        "  # plt.title('>$50k per year?')\n",
        "  plt.title('<$50k per year?')"
      ],
      "metadata": {
        "id": "Gs5xXVYoAbXZ"
      },
      "execution_count": 48,
      "outputs": []
    },
    {
      "cell_type": "code",
      "source": [
        "# Dummy Classifier, used to compare performance of later models\n",
        "from sklearn.dummy import DummyClassifier\n",
        "\n",
        "# 'stratified' strategy causes the classifier to predict on the basis of class\n",
        "# distribution of the training dataset. For example, if the negative class \n",
        "# occurs about 80% of the time in the training set, then the dummy classifier \n",
        "# will output negative class with 80% probability.\n",
        "dummyClf = DummyClassifier(strategy='stratified', random_state=0)\n",
        "dummyClf.fit(X_train_scaled, y_train)\n",
        "\n",
        "evaluateModel(dummyClf, X_test_scaled, y_test)"
      ],
      "metadata": {
        "colab": {
          "base_uri": "https://localhost:8080/",
          "height": 532
        },
        "id": "WyPDHREqK6gU",
        "outputId": "9702b0f9-b8d0-42d5-b3c9-d05931e9a293"
      },
      "execution_count": 49,
      "outputs": [
        {
          "output_type": "stream",
          "name": "stdout",
          "text": [
            "              precision    recall  f1-score   support\n",
            "\n",
            "           0       0.61      0.68      0.65       104\n",
            "           1       0.37      0.30      0.33        64\n",
            "\n",
            "    accuracy                           0.54       168\n",
            "   macro avg       0.49      0.49      0.49       168\n",
            "weighted avg       0.52      0.54      0.52       168\n",
            "\n",
            "Test set accuracy is:  0.5357142857142857\n",
            "Test set F1 score is:  0.32758620689655166\n",
            "Test set precision is:  0.36538461538461536\n",
            "Test set recall is:  0.296875\n"
          ]
        },
        {
          "output_type": "display_data",
          "data": {
            "text/plain": [
              "<Figure size 432x288 with 1 Axes>"
            ],
            "image/png": "[encoded data removed]"
          },
          "metadata": {
            "needs_background": "light"
          }
        }
      ]
    },
    {
      "cell_type": "code",
      "source": [
        "# 'most_frequent' strategy causes the classifier to predict the class with most\n",
        "# observations in the training data every time. This type of baseline is less\n",
        "# interesting due to our models simply learning to predict the majority class\n",
        "# in order to compete with this model.\n",
        "dummyClf = DummyClassifier(strategy='most_frequent')\n",
        "dummyClf.fit(X_train_scaled, y_train)\n",
        "\n",
        "evaluateModel(dummyClf, X_test_scaled, y_test)"
      ],
      "metadata": {
        "colab": {
          "base_uri": "https://localhost:8080/",
          "height": 699
        },
        "id": "KvEvrfMOMAja",
        "outputId": "20b04681-11a9-4f31-b324-34e4371a3732"
      },
      "execution_count": 50,
      "outputs": [
        {
          "output_type": "stream",
          "name": "stdout",
          "text": [
            "              precision    recall  f1-score   support\n",
            "\n",
            "           0       0.62      1.00      0.76       104\n",
            "           1       0.00      0.00      0.00        64\n",
            "\n",
            "    accuracy                           0.62       168\n",
            "   macro avg       0.31      0.50      0.38       168\n",
            "weighted avg       0.38      0.62      0.47       168\n",
            "\n",
            "Test set accuracy is:  0.6190476190476191\n",
            "Test set F1 score is:  0.0\n",
            "Test set precision is:  0.0\n",
            "Test set recall is:  0.0\n"
          ]
        },
        {
          "output_type": "stream",
          "name": "stderr",
          "text": [
            "/usr/local/lib/python3.8/dist-packages/sklearn/metrics/_classification.py:1318: UndefinedMetricWarning: Precision and F-score are ill-defined and being set to 0.0 in labels with no predicted samples. Use `zero_division` parameter to control this behavior.\n",
            "  _warn_prf(average, modifier, msg_start, len(result))\n",
            "/usr/local/lib/python3.8/dist-packages/sklearn/metrics/_classification.py:1318: UndefinedMetricWarning: Precision and F-score are ill-defined and being set to 0.0 in labels with no predicted samples. Use `zero_division` parameter to control this behavior.\n",
            "  _warn_prf(average, modifier, msg_start, len(result))\n",
            "/usr/local/lib/python3.8/dist-packages/sklearn/metrics/_classification.py:1318: UndefinedMetricWarning: Precision and F-score are ill-defined and being set to 0.0 in labels with no predicted samples. Use `zero_division` parameter to control this behavior.\n",
            "  _warn_prf(average, modifier, msg_start, len(result))\n",
            "/usr/local/lib/python3.8/dist-packages/sklearn/metrics/_classification.py:1318: UndefinedMetricWarning: Precision is ill-defined and being set to 0.0 due to no predicted samples. Use `zero_division` parameter to control this behavior.\n",
            "  _warn_prf(average, modifier, msg_start, len(result))\n"
          ]
        },
        {
          "output_type": "display_data",
          "data": {
            "text/plain": [
              "<Figure size 432x288 with 1 Axes>"
            ],
            "image/png": "[encoded data removed]"
          },
          "metadata": {
            "needs_background": "light"
          }
        }
      ]
    },
    {
      "cell_type": "code",
      "source": [
        "# KNN Classifier\n",
        "from sklearn.neighbors import KNeighborsClassifier\n",
        "from sklearn.model_selection import cross_val_score\n",
        "\n",
        "# creating list of K for KNN\n",
        "k_list = list(range(1,100))\n",
        "\n",
        "# creating list of cv scores\n",
        "cv_scores = []\n",
        "\n",
        "# perform 10-fold cross validation to find the optimal k-value\n",
        "for k in k_list:\n",
        "    knn = KNeighborsClassifier(n_neighbors=k)\n",
        "    if not use_resampled:\n",
        "        scores = cross_val_score(knn, X_train_scaled, y_train, cv=10, scoring='f1')\n",
        "    else:\n",
        "        scores = cross_val_score(knn, X_resampled, y_resampled, cv=10, scoring='f1')\n",
        "    cv_scores.append(scores.mean())\n",
        "    \n",
        "# plot the resulting F1 across number of neighbors\n",
        "plt.plot(k_list, cv_scores)\n",
        "plt.title(\"F1 score as a function of the number of neighbors for K-Neighbors Classifier\")\n",
        "plt.xlabel(\"Number of Neighbors\")\n",
        "plt.ylabel(\"F1 score\")\n",
        "\n",
        "# select the number of neighbors which maximizes the accuracy\n",
        "best_k = k_list[cv_scores.index(max(cv_scores))]\n",
        "print(\"The optimal number of neighbors is %d.\" % best_k)"
      ],
      "metadata": {
        "colab": {
          "base_uri": "https://localhost:8080/",
          "height": 313
        },
        "id": "M-3y9ss1onpr",
        "outputId": "a0d87520-8cb1-4f7e-c052-68f945031959"
      },
      "execution_count": 51,
      "outputs": [
        {
          "output_type": "stream",
          "name": "stdout",
          "text": [
            "The optimal number of neighbors is 13.\n"
          ]
        },
        {
          "output_type": "display_data",
          "data": {
            "text/plain": [
              "<Figure size 432x288 with 1 Axes>"
            ],
            "image/png": "[encoded data removed]"
          },
          "metadata": {
            "needs_background": "light"
          }
        }
      ]
    },
    {
      "cell_type": "code",
      "source": [
        "# Evaluate kNN\n",
        "\n",
        "knn = KNeighborsClassifier(n_neighbors=13)\n",
        "if not use_resampled:\n",
        "    knn.fit(X_train_scaled, y_train)\n",
        "else:\n",
        "    knn.fit(X_resampled, y_resampled)\n",
        "\n",
        "evaluateModel(knn, X_test_scaled, y_test)"
      ],
      "metadata": {
        "colab": {
          "base_uri": "https://localhost:8080/",
          "height": 532
        },
        "id": "fLjeAh19pvDA",
        "outputId": "ac83b365-5108-4b5f-8fac-a628d7e14074"
      },
      "execution_count": 52,
      "outputs": [
        {
          "output_type": "stream",
          "name": "stdout",
          "text": [
            "              precision    recall  f1-score   support\n",
            "\n",
            "           0       0.61      0.61      0.61       104\n",
            "           1       0.36      0.36      0.36        64\n",
            "\n",
            "    accuracy                           0.51       168\n",
            "   macro avg       0.48      0.48      0.48       168\n",
            "weighted avg       0.51      0.51      0.51       168\n",
            "\n",
            "Test set accuracy is:  0.5119047619047619\n",
            "Test set F1 score is:  0.359375\n",
            "Test set precision is:  0.359375\n",
            "Test set recall is:  0.359375\n"
          ]
        },
        {
          "output_type": "display_data",
          "data": {
            "text/plain": [
              "<Figure size 432x288 with 1 Axes>"
            ],
            "image/png": "[encoded data removed]"
          },
          "metadata": {
            "needs_background": "light"
          }
        }
      ]
    },
    {
      "cell_type": "code",
      "source": [
        "# Decision Tree\n",
        "from sklearn.tree import DecisionTreeClassifier\n",
        "\n",
        "# creating list of max depth for decision tree\n",
        "depth_list = list(range(1,20))\n",
        "\n",
        "# creating list of cv scores\n",
        "cv_scores = []\n",
        "\n",
        "# perform 10-fold cross validation to find the optimal max depth-value\n",
        "for depth in depth_list:\n",
        "    dt = DecisionTreeClassifier(max_depth=depth)\n",
        "    if not use_resampled:\n",
        "        scores = cross_val_score(dt, X_train_scaled, y_train, cv=10, scoring='f1')\n",
        "    else:\n",
        "        scores = cross_val_score(dt, X_resampled, y_resampled, cv=10, scoring='f1')\n",
        "    cv_scores.append(scores.mean())\n",
        "    \n",
        "# plot the resulting F1 across number of neighbors\n",
        "plt.plot(depth_list, cv_scores)\n",
        "plt.title(\"F1 score as a function of the max depth for a decition tree classifier\")\n",
        "plt.xlabel(\"Max Depth\")\n",
        "plt.ylabel(\"F1 score\")\n",
        "\n",
        "# select the number of neighbors which maximizes the accuracy\n",
        "best_depth = depth_list[cv_scores.index(max(cv_scores))]\n",
        "print(\"The optimal max depth is %d.\" % best_depth)\n",
        "print(\"Optimal F1 is %f.\" % cv_scores[best_depth-1])"
      ],
      "metadata": {
        "colab": {
          "base_uri": "https://localhost:8080/",
          "height": 332
        },
        "id": "Z4013kPFsnDa",
        "outputId": "e10bbde8-981f-41e1-e8e2-8d65ae4f8d7a"
      },
      "execution_count": 53,
      "outputs": [
        {
          "output_type": "stream",
          "name": "stdout",
          "text": [
            "The optimal max depth is 12.\n",
            "Optimal F1 is 0.671259.\n"
          ]
        },
        {
          "output_type": "display_data",
          "data": {
            "text/plain": [
              "<Figure size 432x288 with 1 Axes>"
            ],
            "image/png": "[encoded data removed]"
          },
          "metadata": {
            "needs_background": "light"
          }
        }
      ]
    },
    {
      "cell_type": "code",
      "source": [
        "# Evaluate Decision Tree\n",
        "\n",
        "dt = DecisionTreeClassifier(max_depth=12)\n",
        "if not use_resampled:\n",
        "    dt.fit(X_train_scaled, y_train)\n",
        "else:\n",
        "    dt.fit(X_resampled, y_resampled)\n",
        "\n",
        "evaluateModel(dt, X_test_scaled, y_test)"
      ],
      "metadata": {
        "colab": {
          "base_uri": "https://localhost:8080/",
          "height": 532
        },
        "id": "Ci76n54ms-Vk",
        "outputId": "cab41e04-4c48-404e-d36a-92cc6d4f5746"
      },
      "execution_count": 54,
      "outputs": [
        {
          "output_type": "stream",
          "name": "stdout",
          "text": [
            "              precision    recall  f1-score   support\n",
            "\n",
            "           0       0.62      0.71      0.66       104\n",
            "           1       0.39      0.30      0.34        64\n",
            "\n",
            "    accuracy                           0.55       168\n",
            "   macro avg       0.50      0.50      0.50       168\n",
            "weighted avg       0.53      0.55      0.54       168\n",
            "\n",
            "Test set accuracy is:  0.5535714285714286\n",
            "Test set F1 score is:  0.336283185840708\n",
            "Test set precision is:  0.3877551020408163\n",
            "Test set recall is:  0.296875\n"
          ]
        },
        {
          "output_type": "display_data",
          "data": {
            "text/plain": [
              "<Figure size 432x288 with 1 Axes>"
            ],
            "image/png": "[encoded data removed]"
          },
          "metadata": {
            "needs_background": "light"
          }
        }
      ]
    },
    {
      "cell_type": "code",
      "source": [
        "# SVC with the linear kernel\n",
        "from sklearn.svm import SVC\n",
        "\n",
        "c_vals = [0.000001, 0.00001, 0.0001, 0.001, 0.01, 0.1, 0.2, 0.3, 0.4, 0.5, 0.6, 1.0, 2.5, 5, 10, 20]\n",
        "cv_scores = []\n",
        "\n",
        "# find the best regularization hyperparameter\n",
        "for c in c_vals:\n",
        "    svc = SVC(kernel='linear', C=c)\n",
        "    if not use_resampled:\n",
        "        scores = cross_val_score(svc, X_train_scaled, y_train, cv=10, scoring='f1')\n",
        "    else:\n",
        "        scores = cross_val_score(svc, X_resampled, y_resampled, cv=10, scoring='f1')\n",
        "    cv_scores.append(scores.mean())\n",
        "\n",
        "# plot the resulting accuracy across regularization strength\n",
        "plt.plot(c_vals, cv_scores)\n",
        "plt.title(\"F1 as a function of the inverse of regularization strength for a linear SVM\")\n",
        "plt.xlabel(\"C value\")\n",
        "plt.ylabel(\"F1\")\n",
        "\n",
        "# select the number of neighbors which maximizes the accuracy\n",
        "best_c = c_vals[cv_scores.index(max(cv_scores))]\n",
        "print(\"The optimal c-val is %f.\" % best_c)\n",
        "print(\"Optimal F1 is %f.\" % cv_scores[cv_scores.index(max(cv_scores))])"
      ],
      "metadata": {
        "colab": {
          "base_uri": "https://localhost:8080/",
          "height": 332
        },
        "id": "TrIFvIn8uVnL",
        "outputId": "f0672d62-7edb-4461-e4e5-81b79eccd9d5"
      },
      "execution_count": 55,
      "outputs": [
        {
          "output_type": "stream",
          "name": "stdout",
          "text": [
            "The optimal c-val is 5.000000.\n",
            "Optimal F1 is 0.513643.\n"
          ]
        },
        {
          "output_type": "display_data",
          "data": {
            "text/plain": [
              "<Figure size 432x288 with 1 Axes>"
            ],
            "image/png": "[encoded data removed]"
          },
          "metadata": {
            "needs_background": "light"
          }
        }
      ]
    },
    {
      "cell_type": "code",
      "source": [
        "# Evaluate SVC with linear kernel\n",
        "\n",
        "svc = SVC(kernel='linear', C=5)\n",
        "if not use_resampled:\n",
        "    svc.fit(X_train_scaled, y_train)\n",
        "else:\n",
        "    svc.fit(X_resampled, y_resampled)\n",
        "\n",
        "evaluateModel(svc, X_test_scaled, y_test)"
      ],
      "metadata": {
        "colab": {
          "base_uri": "https://localhost:8080/",
          "height": 532
        },
        "id": "fTJySdtRuot3",
        "outputId": "60e62095-4c41-4364-d05b-faca8c65e460"
      },
      "execution_count": 56,
      "outputs": [
        {
          "output_type": "stream",
          "name": "stdout",
          "text": [
            "              precision    recall  f1-score   support\n",
            "\n",
            "           0       0.63      0.64      0.64       104\n",
            "           1       0.40      0.39      0.40        64\n",
            "\n",
            "    accuracy                           0.55       168\n",
            "   macro avg       0.52      0.52      0.52       168\n",
            "weighted avg       0.54      0.55      0.55       168\n",
            "\n",
            "Test set accuracy is:  0.5476190476190477\n",
            "Test set F1 score is:  0.3968253968253968\n",
            "Test set precision is:  0.4032258064516129\n",
            "Test set recall is:  0.390625\n"
          ]
        },
        {
          "output_type": "display_data",
          "data": {
            "text/plain": [
              "<Figure size 432x288 with 1 Axes>"
            ],
            "image/png": "[encoded data removed]"
          },
          "metadata": {
            "needs_background": "light"
          }
        }
      ]
    },
    {
      "cell_type": "code",
      "source": [
        "# SVC with the polynomial kernel\n",
        "from sklearn.svm import SVC\n",
        "\n",
        "c_vals = [0.000001, 0.00001, 0.0001, 0.001, 0.01, 0.1, 0.2, 0.3, 0.4, 0.5, 0.6, 1.0, 2.5, 5, 10, 20]\n",
        "degree_vals = [2,3,4,5,6]\n",
        "cv_scores = []\n",
        "\n",
        "# find the best regularization hyperparameter\n",
        "for degree in degree_vals:\n",
        "  cv_scores.append([])\n",
        "  i = degree_vals.index(degree)\n",
        "  for c in c_vals:\n",
        "      svc = SVC(kernel='poly', C=c, degree=degree)\n",
        "      if not use_resampled:\n",
        "          scores = cross_val_score(svc, X_train_scaled, y_train, cv=10, scoring='f1')\n",
        "      else:\n",
        "          scores = cross_val_score(svc, X_resampled, y_resampled, cv=10, scoring='f1')\n",
        "      cv_scores[i].append(scores.mean())\n",
        "\n",
        "# find best hyperparameter values\n",
        "opt_f1 = float('-inf')\n",
        "opt_i = -1\n",
        "opt_j = -1\n",
        "for i in range(len(cv_scores)):\n",
        "    for j in range(len(cv_scores[0])):\n",
        "        if cv_scores[i][j] > opt_f1:\n",
        "            opt_f1 = cv_scores[i][j]\n",
        "            opt_i = i\n",
        "            opt_j = j\n",
        "            \n",
        "opt_degree = degree_vals[opt_i]\n",
        "opt_c = c_vals[opt_j]\n",
        "print(\"Optimal F1: \", opt_f1)\n",
        "print(\"Optimal degree: \", opt_degree)\n",
        "print(\"Optimal C value: \", opt_c)"
      ],
      "metadata": {
        "colab": {
          "base_uri": "https://localhost:8080/"
        },
        "id": "iE-ek-6fWNKn",
        "outputId": "0f56f4ec-3c55-44ae-fdab-a44cb2657734"
      },
      "execution_count": 57,
      "outputs": [
        {
          "output_type": "stream",
          "name": "stdout",
          "text": [
            "Optimal F1:  0.6860074091079292\n",
            "Optimal degree:  6\n",
            "Optimal C value:  0.6\n"
          ]
        }
      ]
    },
    {
      "cell_type": "code",
      "source": [
        "# plot the resulting accuracy across regularization strength\n",
        "plt.plot(c_vals, cv_scores[i])\n",
        "plt.title(\"F1 as a function of the inverse of regularization strength for a linear SVM\")\n",
        "plt.xlabel(\"C value\")\n",
        "plt.ylabel(\"F1\")"
      ],
      "metadata": {
        "colab": {
          "base_uri": "https://localhost:8080/",
          "height": 313
        },
        "id": "Hqu0-D6SYu1y",
        "outputId": "8568b9e9-e971-4a5a-82a9-91a83c3b3802"
      },
      "execution_count": 58,
      "outputs": [
        {
          "output_type": "execute_result",
          "data": {
            "text/plain": [
              "Text(0, 0.5, 'F1')"
            ]
          },
          "metadata": {},
          "execution_count": 58
        },
        {
          "output_type": "display_data",
          "data": {
            "text/plain": [
              "<Figure size 432x288 with 1 Axes>"
            ],
            "image/png": "[encoded data removed]"
          },
          "metadata": {
            "needs_background": "light"
          }
        }
      ]
    },
    {
      "cell_type": "code",
      "source": [
        "# Evaluate SVC with polynomial kernel\n",
        "\n",
        "svc = SVC(kernel='poly', C=.6, degree=6)\n",
        "if not use_resampled:\n",
        "    svc.fit(X_train_scaled, y_train)\n",
        "else:\n",
        "    svc.fit(X_resampled, y_resampled)\n",
        "\n",
        "evaluateModel(svc, X_test_scaled, y_test)"
      ],
      "metadata": {
        "colab": {
          "base_uri": "https://localhost:8080/",
          "height": 532
        },
        "id": "tIapZPYqZPqW",
        "outputId": "dcd8a340-f61c-43a0-b73d-b0697987cfed"
      },
      "execution_count": 59,
      "outputs": [
        {
          "output_type": "stream",
          "name": "stdout",
          "text": [
            "              precision    recall  f1-score   support\n",
            "\n",
            "           0       0.66      0.43      0.52       104\n",
            "           1       0.41      0.64      0.50        64\n",
            "\n",
            "    accuracy                           0.51       168\n",
            "   macro avg       0.54      0.54      0.51       168\n",
            "weighted avg       0.57      0.51      0.51       168\n",
            "\n",
            "Test set accuracy is:  0.5119047619047619\n",
            "Test set F1 score is:  0.5\n",
            "Test set precision is:  0.41\n",
            "Test set recall is:  0.640625\n"
          ]
        },
        {
          "output_type": "display_data",
          "data": {
            "text/plain": [
              "<Figure size 432x288 with 1 Axes>"
            ],
            "image/png": "[encoded data removed]"
          },
          "metadata": {
            "needs_background": "light"
          }
        }
      ]
    },
    {
      "cell_type": "code",
      "source": [
        "# SVC with the rbf kernel\n",
        "from sklearn.svm import SVC\n",
        "\n",
        "c_vals = [0.000001, 0.00001, 0.0001, 0.001, 0.01, 0.1, 0.2, 0.3, 0.4, 0.5, 0.6, 1.0, 2.5, 5, 10, 20]\n",
        "cv_scores = []\n",
        "\n",
        "# find the best regularization hyperparameter\n",
        "for c in c_vals:\n",
        "    svc = SVC(kernel='rbf', C=c)\n",
        "    if not use_resampled:\n",
        "        scores = cross_val_score(svc, X_train_scaled, y_train, cv=10, scoring='f1')\n",
        "    else:\n",
        "        scores = cross_val_score(svc, X_resampled, y_resampled, cv=10, scoring='f1')\n",
        "    cv_scores.append(scores.mean())\n",
        "\n",
        "# plot the resulting accuracy across regularization strength\n",
        "plt.plot(c_vals, cv_scores)\n",
        "plt.title(\"F1 as a function of the inverse of regularization strength for an SVM with RBF kernel\")\n",
        "plt.xlabel(\"C value\")\n",
        "plt.ylabel(\"F1\")\n",
        "\n",
        "# select the number of neighbors which maximizes the accuracy\n",
        "best_c = c_vals[cv_scores.index(max(cv_scores))]\n",
        "print(\"The optimal c-val is %f.\" % best_c)\n",
        "print(\"Optimal F1 is %f.\" % cv_scores[cv_scores.index(max(cv_scores))])"
      ],
      "metadata": {
        "colab": {
          "base_uri": "https://localhost:8080/",
          "height": 332
        },
        "id": "eh2bP7FMaGlt",
        "outputId": "137a7036-048d-4564-d9aa-dae1ee8c39aa"
      },
      "execution_count": 60,
      "outputs": [
        {
          "output_type": "stream",
          "name": "stdout",
          "text": [
            "The optimal c-val is 10.000000.\n",
            "Optimal F1 is 0.623446.\n"
          ]
        },
        {
          "output_type": "display_data",
          "data": {
            "text/plain": [
              "<Figure size 432x288 with 1 Axes>"
            ],
            "image/png": "[encoded data removed]"
          },
          "metadata": {
            "needs_background": "light"
          }
        }
      ]
    },
    {
      "cell_type": "code",
      "source": [
        "# Evaluate SVC with rbf kernel\n",
        "\n",
        "svc = SVC(kernel='rbf', C=10)\n",
        "if not use_resampled:\n",
        "    svc.fit(X_train_scaled, y_train)\n",
        "else:\n",
        "    svc.fit(X_resampled, y_resampled)\n",
        "\n",
        "evaluateModel(svc, X_test_scaled, y_test)"
      ],
      "metadata": {
        "colab": {
          "base_uri": "https://localhost:8080/",
          "height": 532
        },
        "id": "lWFdC5v2aa4D",
        "outputId": "b3ff9631-c81a-4bae-b98c-de57d1716cf8"
      },
      "execution_count": 61,
      "outputs": [
        {
          "output_type": "stream",
          "name": "stdout",
          "text": [
            "              precision    recall  f1-score   support\n",
            "\n",
            "           0       0.63      0.65      0.64       104\n",
            "           1       0.40      0.38      0.39        64\n",
            "\n",
            "    accuracy                           0.55       168\n",
            "   macro avg       0.51      0.51      0.51       168\n",
            "weighted avg       0.54      0.55      0.54       168\n",
            "\n",
            "Test set accuracy is:  0.5476190476190477\n",
            "Test set F1 score is:  0.38709677419354843\n",
            "Test set precision is:  0.4\n",
            "Test set recall is:  0.375\n"
          ]
        },
        {
          "output_type": "display_data",
          "data": {
            "text/plain": [
              "<Figure size 432x288 with 1 Axes>"
            ],
            "image/png": "[encoded data removed]"
          },
          "metadata": {
            "needs_background": "light"
          }
        }
      ]
    },
    {
      "cell_type": "code",
      "source": [
        "from sklearn.naive_bayes import MultinomialNB\n",
        "from sklearn.naive_bayes import GaussianNB\n",
        "\n",
        "# Multinomial Naive Bayes\n",
        "nb = MultinomialNB()\n",
        "\n",
        "ros = RandomOverSampler(random_state=0, sampling_strategy='not majority')\n",
        "X_resampled_unscaled, y_resampled_unscaled = ros.fit_resample(X_train, y_train)\n",
        "\n",
        "a_vals = [0.000001, 0.00001, 0.0001, 0.001, 0.0075, 0.009, 0.01, 0.02, 0.03, 0.04, 0.05, 0.1, 0.2, 0.3, 0.4, 0.5, 0.6, 1.0, 2.5]\n",
        "\n",
        "cv_scores = []\n",
        "\n",
        "# find the best regularization hyperparameter\n",
        "for a in a_vals:\n",
        "    nb = MultinomialNB(alpha=a)\n",
        "    if not use_resampled:\n",
        "        scores = cross_val_score(nb, X_train, y_train, cv=10, scoring='f1')\n",
        "    else:\n",
        "        scores = cross_val_score(nb, X_resampled_unscaled, y_resampled_unscaled, cv=10, scoring='accuracy')\n",
        "    cv_scores.append(scores.mean())\n",
        "\n",
        "# plot the resulting accuracy across regularization strength\n",
        "plt.plot(a_vals, cv_scores)\n",
        "plt.title(\"F1 as a function of the inverse of regularization strength for a multnomial NB model\")\n",
        "plt.xlabel(\"Alpha value\")\n",
        "plt.ylabel(\"F1\")\n",
        "\n",
        "# select the number of neighbors which maximizes the accuracy\n",
        "best_a = a_vals[cv_scores.index(max(cv_scores))]\n",
        "print(\"The optimal a-val is %3f.\" % best_a)\n",
        "print(\"Optimal F1 is %f.\" % cv_scores[cv_scores.index(max(cv_scores))])"
      ],
      "metadata": {
        "colab": {
          "base_uri": "https://localhost:8080/",
          "height": 332
        },
        "id": "bYambajPWbJv",
        "outputId": "40bd89a3-d2a2-453e-bda5-e0c697c792ed"
      },
      "execution_count": 68,
      "outputs": [
        {
          "output_type": "stream",
          "name": "stdout",
          "text": [
            "The optimal a-val is 0.000001.\n",
            "Optimal F1 is 0.507692.\n"
          ]
        },
        {
          "output_type": "display_data",
          "data": {
            "text/plain": [
              "<Figure size 432x288 with 1 Axes>"
            ],
            "image/png": "[encoded data removed]"
          },
          "metadata": {
            "needs_background": "light"
          }
        }
      ]
    },
    {
      "cell_type": "code",
      "source": [
        "# Evaluate Naive Bayes\n",
        "\n",
        "# First try Multinomial NB, although Gaussian is likely more effective\n",
        "nb = MultinomialNB(alpha=1)\n",
        "if not use_resampled:\n",
        "    nb.fit(X_train, y_train)\n",
        "else:\n",
        "    nb.fit(X_resampled_unscaled, y_resampled_unscaled)\n",
        "\n",
        "evaluateModel(nb, X_test, y_test)"
      ],
      "metadata": {
        "colab": {
          "base_uri": "https://localhost:8080/",
          "height": 532
        },
        "id": "ZuspuYPoXJ6Q",
        "outputId": "13dfdd40-26c9-464b-da2e-7b0a26a2e777"
      },
      "execution_count": 69,
      "outputs": [
        {
          "output_type": "stream",
          "name": "stdout",
          "text": [
            "              precision    recall  f1-score   support\n",
            "\n",
            "           0       0.65      0.55      0.59       104\n",
            "           1       0.41      0.52      0.46        64\n",
            "\n",
            "    accuracy                           0.54       168\n",
            "   macro avg       0.53      0.53      0.53       168\n",
            "weighted avg       0.56      0.54      0.54       168\n",
            "\n",
            "Test set accuracy is:  0.5357142857142857\n",
            "Test set F1 score is:  0.4583333333333333\n",
            "Test set precision is:  0.4125\n",
            "Test set recall is:  0.515625\n"
          ]
        },
        {
          "output_type": "display_data",
          "data": {
            "text/plain": [
              "<Figure size 432x288 with 1 Axes>"
            ],
            "image/png": "[encoded data removed]"
          },
          "metadata": {
            "needs_background": "light"
          }
        }
      ]
    },
    {
      "cell_type": "code",
      "source": [
        "# Test Gaussian Naive Bayes\n",
        "# (No hyperparameters to optimize)\n",
        "nb = GaussianNB()\n",
        "if not use_resampled:\n",
        "    nb.fit(X_train, y_train)\n",
        "else:\n",
        "    nb.fit(X_resampled_unscaled, y_resampled_unscaled)\n",
        "\n",
        "evaluateModel(nb, X_test, y_test)"
      ],
      "metadata": {
        "colab": {
          "base_uri": "https://localhost:8080/",
          "height": 532
        },
        "id": "lh84jcLWwUwu",
        "outputId": "37dbeec4-b336-43c3-d832-16ad46a130dc"
      },
      "execution_count": 65,
      "outputs": [
        {
          "output_type": "stream",
          "name": "stdout",
          "text": [
            "              precision    recall  f1-score   support\n",
            "\n",
            "           0       0.66      0.66      0.66       104\n",
            "           1       0.45      0.45      0.45        64\n",
            "\n",
            "    accuracy                           0.58       168\n",
            "   macro avg       0.56      0.56      0.56       168\n",
            "weighted avg       0.58      0.58      0.58       168\n",
            "\n",
            "Test set accuracy is:  0.5833333333333334\n",
            "Test set F1 score is:  0.453125\n",
            "Test set precision is:  0.453125\n",
            "Test set recall is:  0.453125\n"
          ]
        },
        {
          "output_type": "display_data",
          "data": {
            "text/plain": [
              "<Figure size 432x288 with 1 Axes>"
            ],
            "image/png": "[encoded data removed]"
          },
          "metadata": {
            "needs_background": "light"
          }
        }
      ]
    },
    {
      "cell_type": "code",
      "source": [
        "from sklearn.ensemble import RandomForestClassifier\n",
        "\n",
        "# Random Forest\n",
        "# find the best number of trees\n",
        "num_trees = [i for i in range(2,50,1)]\n",
        "num_trees\n",
        "cv_scores = []\n",
        "\n",
        "for trees in num_trees:\n",
        "    clf = RandomForestClassifier(n_estimators=trees)\n",
        "    if not use_resampled:\n",
        "        scores = cross_val_score(clf, X_train_scaled, y_train, cv=10, scoring='f1')\n",
        "    else:\n",
        "        scores = cross_val_score(clf, X_resampled, y_resampled, cv=10, scoring='f1')\n",
        "    cv_scores.append(scores.mean())\n",
        "\n",
        "# plot the resulting accuracy across regularization strength\n",
        "plt.plot(num_trees, cv_scores)\n",
        "plt.title(\"F1 as a function of the number of trees in the random forest model.\")\n",
        "plt.xlabel(\"# Trees\")\n",
        "plt.ylabel(\"F1\")\n",
        "\n",
        "# select the number of neighbors which maximizes the accuracy\n",
        "best_num_trees = num_trees[cv_scores.index(max(cv_scores))]\n",
        "print(\"The optimal number of trees is %f.\" % best_num_trees)\n",
        "print(\"Optimal F1 is %f.\" % cv_scores[cv_scores.index(max(cv_scores))])\n",
        "\n",
        "\n",
        "# oob_acc = []\n",
        "# for trees in num_trees:\n",
        "#   clf = RandomForestClassifier(n_estimators=trees, oob_score=True)\n",
        "#   clf.fit(X_resampled, y_resampled)\n",
        "#   oob_acc.append(clf.oob_score_)\n",
        "\n",
        "# oob_acc"
      ],
      "metadata": {
        "id": "nTy2TsJFDP4K",
        "colab": {
          "base_uri": "https://localhost:8080/",
          "height": 332
        },
        "outputId": "fc42ed03-78f3-4d1c-a589-870b3de4a746"
      },
      "execution_count": 72,
      "outputs": [
        {
          "output_type": "stream",
          "name": "stdout",
          "text": [
            "The optimal number of trees is 21.000000.\n",
            "Optimal F1 is 0.690905.\n"
          ]
        },
        {
          "output_type": "display_data",
          "data": {
            "text/plain": [
              "<Figure size 432x288 with 1 Axes>"
            ],
            "image/png": "[encoded data removed]"
          },
          "metadata": {
            "needs_background": "light"
          }
        }
      ]
    },
    {
      "cell_type": "code",
      "source": [
        "from sklearn.model_selection import GridSearchCV\n",
        "use_resampled=False\n",
        "# test more hyperparemeters for our random forest\n",
        "num_trees = [i for i in range(2,30,1)]\n",
        "max_depth_vals = [x for x in np.arange(1, 20, 1)]\n",
        "max_depth_vals.append(None)\n",
        "\n",
        "clf = RandomForestClassifier()\n",
        "param_dict = {\"n_estimators\": num_trees, \"max_depth\": max_depth_vals}\n",
        "gridsearch_rf = GridSearchCV(clf, param_dict, scoring='f1', )\n",
        "if use_resampled:\n",
        "    gridsearch_rf.fit(X_resampled, y_resampled)\n",
        "else:\n",
        "    gridsearch_rf.fit(X_train_scaled, y_train)\n",
        "\n",
        "print(\"Best score: \", gridsearch_rf.best_score_)\n",
        "print(\"Best params: \", gridsearch_rf.best_params_)"
      ],
      "metadata": {
        "colab": {
          "base_uri": "https://localhost:8080/"
        },
        "id": "EDOsU5JJypMS",
        "outputId": "99717945-0680-4080-a728-2efc257e5b05"
      },
      "execution_count": 76,
      "outputs": [
        {
          "output_type": "stream",
          "name": "stdout",
          "text": [
            "Best score:  0.2866485009569387\n",
            "Best params:  {'max_depth': 18, 'n_estimators': 6}\n"
          ]
        }
      ]
    },
    {
      "cell_type": "code",
      "source": [
        "# Evaluate random forest\n",
        "# Note: These parameters were found using the not oversampledsampled dataset and optimizing\n",
        "# for performance on the minority class. Because GridSearchCV is randomized, we do not see \n",
        "# the same result from running it again. Optimal performance is then achieved training\n",
        "# on the oversampled dataset\n",
        "clf = RandomForestClassifier(n_estimators=11, max_depth=2, random_state=0)\n",
        "use_resampled=True\n",
        "if not use_resampled:\n",
        "    clf.fit(X_train_scaled, y_train)\n",
        "else:\n",
        "    clf.fit(X_resampled, y_resampled)\n",
        "\n",
        "evaluateModel(clf, X_test_scaled, y_test)"
      ],
      "metadata": {
        "id": "DXPAbR_OG_W9",
        "colab": {
          "base_uri": "https://localhost:8080/",
          "height": 532
        },
        "outputId": "4780a657-10b3-480f-dcd3-a2f322cfc2c3"
      },
      "execution_count": 77,
      "outputs": [
        {
          "output_type": "stream",
          "name": "stdout",
          "text": [
            "              precision    recall  f1-score   support\n",
            "\n",
            "           0       0.69      0.55      0.61       104\n",
            "           1       0.45      0.59      0.51        64\n",
            "\n",
            "    accuracy                           0.57       168\n",
            "   macro avg       0.57      0.57      0.56       168\n",
            "weighted avg       0.60      0.57      0.57       168\n",
            "\n",
            "Test set accuracy is:  0.5654761904761905\n",
            "Test set F1 score is:  0.5100671140939598\n",
            "Test set precision is:  0.4470588235294118\n",
            "Test set recall is:  0.59375\n"
          ]
        },
        {
          "output_type": "display_data",
          "data": {
            "text/plain": [
              "<Figure size 432x288 with 1 Axes>"
            ],
            "image/png": "[encoded data removed]"
          },
          "metadata": {
            "needs_background": "light"
          }
        }
      ]
    },
    {
      "cell_type": "markdown",
      "source": [
        "Examining Random Forest Feature Importance"
      ],
      "metadata": {
        "id": "Oqj_3g0ETRUl"
      }
    },
    {
      "cell_type": "code",
      "source": [
        "importances = zip(clf.feature_names_in_, clf.feature_importances_)\n",
        "i = 1\n",
        "most_important = None\n",
        "most_important_importances = None\n",
        "print(\"Least to most important features:\")\n",
        "for feature_name, importance in sorted(importances, key=lambda x: x[1]):\n",
        "  print(str(feature_name) + \": \" + str(importance))\n",
        "  if i == clf.n_features_in_:\n",
        "    most_important = feature_name\n",
        "    most_important_importances = importance\n",
        "  i += 1\n",
        "print(\"\\nMost important feature: \", most_important)\n",
        "print(\"Importance: \", most_important_importances)"
      ],
      "metadata": {
        "colab": {
          "base_uri": "https://localhost:8080/"
        },
        "id": "SW4VPkpXTUCg",
        "outputId": "5956b3df-346b-4349-ab57-8a98e8f2b89c"
      },
      "execution_count": 79,
      "outputs": [
        {
          "output_type": "stream",
          "name": "stdout",
          "text": [
            "Least to most important features:\n",
            "use_data_plural: 0.03627409261497116\n",
            "heard_of_comma: 0.04143374801557234\n",
            "use_oxford_comma: 0.06107646763611634\n",
            "considered_data_plural: 0.11099409045822341\n",
            "care_data_plural: 0.17706323220915848\n",
            "care_for_comma: 0.20763404761818116\n",
            "care_grammar: 0.36552432144777713\n",
            "\n",
            "Most important feature:  care_grammar\n",
            "Importance:  0.36552432144777713\n"
          ]
        }
      ]
    },
    {
      "cell_type": "code",
      "source": [
        "# Random Forest Feature Importance Visual\n",
        "disp_df = pd.DataFrame(\n",
        "   dict(\n",
        "      features=clf.feature_names_in_,\n",
        "      importances=clf.feature_importances_\n",
        "   )\n",
        ")\n",
        "disp_df = disp_df.sort_values('importances', ascending=False)\n",
        "\n",
        "fig = plt.figure(figsize = (15, 7.5))\n",
        " \n",
        "# creating the bar plot\n",
        "plt.bar('features', 'importances', data=disp_df, color='orange')\n",
        "\n",
        "plt.xlabel(\"Features\")\n",
        "plt.ylabel(\"Relative Feature Importances\")\n",
        "plt.title(\"Random Forest Feature Importances\")\n",
        "plt.show()"
      ],
      "metadata": {
        "colab": {
          "base_uri": "https://localhost:8080/",
          "height": 487
        },
        "id": "gC-PtzoVnLym",
        "outputId": "0ed0e8f7-73f5-4f26-b913-7cbf470a6eb7"
      },
      "execution_count": 80,
      "outputs": [
        {
          "output_type": "display_data",
          "data": {
            "text/plain": [
              "<Figure size 1080x540 with 1 Axes>"
            ],
            "image/png": "[encoded data removed]"
          },
          "metadata": {
            "needs_background": "light"
          }
        }
      ]
    },
    {
      "cell_type": "markdown",
      "source": [
        "Now we will visualize one of the trees that composes our random forest"
      ],
      "metadata": {
        "id": "yg-goBtxcYbG"
      }
    },
    {
      "cell_type": "code",
      "source": [
        "import graphviz\n",
        "from sklearn.tree import DecisionTreeClassifier, export_graphviz\n",
        "\n",
        "dot_data = export_graphviz(clf.estimators_[2], feature_names=X_resampled.columns.values, \n",
        "                           out_file=None, filled=True, rounded=True, special_characters=True)\n",
        "graphviz.Source(dot_data)\n"
      ],
      "metadata": {
        "colab": {
          "base_uri": "https://localhost:8080/",
          "height": 379
        },
        "id": "YE-th6dUUycb",
        "outputId": "103734fa-04a9-44fd-96e2-5850fdb9f62c"
      },
      "execution_count": 81,
      "outputs": [
        {
          "output_type": "execute_result",
          "data": {
            "text/plain": [
              "<graphviz.files.Source at 0x7f34107fdca0>"
            ],
            "image/svg+xml": "<?xml version=\"1.0\" encoding=\"UTF-8\" standalone=\"no\"?>\n<!DOCTYPE svg PUBLIC \"-//W3C//DTD SVG 1.1//EN\"\n \"http://www.w3.org/Graphics/SVG/1.1/DTD/svg11.dtd\">\n<!-- Generated by graphviz version 2.40.1 (20161225.0304)\n -->\n<!-- Title: Tree Pages: 1 -->\n<svg width=\"586pt\" height=\"269pt\"\n viewBox=\"0.00 0.00 585.50 269.00\" xmlns=\"http://www.w3.org/2000/svg\" xmlns:xlink=\"http://www.w3.org/1999/xlink\">\n<g id=\"graph0\" class=\"graph\" transform=\"scale(1 1) rotate(0) translate(4 265)\">\n<title>Tree</title>\n<polygon fill=\"#ffffff\" stroke=\"transparent\" points=\"-4,4 -4,-265 581.5,-265 581.5,4 -4,4\"/>\n<!-- 0 -->\n<g id=\"node1\" class=\"node\">\n<title>0</title>\n<path fill=\"#f7fbfe\" stroke=\"#000000\" d=\"M345,-261C345,-261 210,-261 210,-261 204,-261 198,-255 198,-249 198,-249 198,-205 198,-205 198,-199 204,-193 210,-193 210,-193 345,-193 345,-193 351,-193 357,-199 357,-205 357,-205 357,-249 357,-249 357,-255 351,-261 345,-261\"/>\n<text text-anchor=\"start\" x=\"206\" y=\"-245.8\" font-family=\"Helvetica,sans-Serif\" font-size=\"14.00\" fill=\"#000000\">care_grammar ≤ &#45;0.16</text>\n<text text-anchor=\"start\" x=\"248\" y=\"-230.8\" font-family=\"Helvetica,sans-Serif\" font-size=\"14.00\" fill=\"#000000\">gini = 0.5</text>\n<text text-anchor=\"start\" x=\"229.5\" y=\"-215.8\" font-family=\"Helvetica,sans-Serif\" font-size=\"14.00\" fill=\"#000000\">samples = 587</text>\n<text text-anchor=\"start\" x=\"219.5\" y=\"-200.8\" font-family=\"Helvetica,sans-Serif\" font-size=\"14.00\" fill=\"#000000\">value = [444, 462]</text>\n</g>\n<!-- 1 -->\n<g id=\"node2\" class=\"node\">\n<title>1</title>\n<path fill=\"#d2e8f9\" stroke=\"#000000\" d=\"M248,-157C248,-157 105,-157 105,-157 99,-157 93,-151 93,-145 93,-145 93,-101 93,-101 93,-95 99,-89 105,-89 105,-89 248,-89 248,-89 254,-89 260,-95 260,-101 260,-101 260,-145 260,-145 260,-151 254,-157 248,-157\"/>\n<text text-anchor=\"start\" x=\"101\" y=\"-141.8\" font-family=\"Helvetica,sans-Serif\" font-size=\"14.00\" fill=\"#000000\">care_grammar ≤ &#45;1.825</text>\n<text text-anchor=\"start\" x=\"138.5\" y=\"-126.8\" font-family=\"Helvetica,sans-Serif\" font-size=\"14.00\" fill=\"#000000\">gini = 0.492</text>\n<text text-anchor=\"start\" x=\"128.5\" y=\"-111.8\" font-family=\"Helvetica,sans-Serif\" font-size=\"14.00\" fill=\"#000000\">samples = 219</text>\n<text text-anchor=\"start\" x=\"118.5\" y=\"-96.8\" font-family=\"Helvetica,sans-Serif\" font-size=\"14.00\" fill=\"#000000\">value = [151, 196]</text>\n</g>\n<!-- 0&#45;&gt;1 -->\n<g id=\"edge1\" class=\"edge\">\n<title>0&#45;&gt;1</title>\n<path fill=\"none\" stroke=\"#000000\" d=\"M244.4288,-192.9465C235.6221,-183.8782 226.0093,-173.9799 216.8597,-164.5585\"/>\n<polygon fill=\"#000000\" stroke=\"#000000\" points=\"219.1232,-161.8654 209.6455,-157.13 214.1015,-166.7422 219.1232,-161.8654\"/>\n<text text-anchor=\"middle\" x=\"209.2797\" y=\"-178.4273\" font-family=\"Helvetica,sans-Serif\" font-size=\"14.00\" fill=\"#000000\">True</text>\n</g>\n<!-- 4 -->\n<g id=\"node5\" class=\"node\">\n<title>4</title>\n<path fill=\"#fdf3ed\" stroke=\"#000000\" d=\"M468.5,-157C468.5,-157 290.5,-157 290.5,-157 284.5,-157 278.5,-151 278.5,-145 278.5,-145 278.5,-101 278.5,-101 278.5,-95 284.5,-89 290.5,-89 290.5,-89 468.5,-89 468.5,-89 474.5,-89 480.5,-95 480.5,-101 480.5,-101 480.5,-145 480.5,-145 480.5,-151 474.5,-157 468.5,-157\"/>\n<text text-anchor=\"start\" x=\"286.5\" y=\"-141.8\" font-family=\"Helvetica,sans-Serif\" font-size=\"14.00\" fill=\"#000000\">use_oxford_comma ≤ &#45;0.133</text>\n<text text-anchor=\"start\" x=\"341.5\" y=\"-126.8\" font-family=\"Helvetica,sans-Serif\" font-size=\"14.00\" fill=\"#000000\">gini = 0.499</text>\n<text text-anchor=\"start\" x=\"331.5\" y=\"-111.8\" font-family=\"Helvetica,sans-Serif\" font-size=\"14.00\" fill=\"#000000\">samples = 368</text>\n<text text-anchor=\"start\" x=\"321.5\" y=\"-96.8\" font-family=\"Helvetica,sans-Serif\" font-size=\"14.00\" fill=\"#000000\">value = [293, 266]</text>\n</g>\n<!-- 0&#45;&gt;4 -->\n<g id=\"edge4\" class=\"edge\">\n<title>0&#45;&gt;4</title>\n<path fill=\"none\" stroke=\"#000000\" d=\"M310.8986,-192.9465C319.8806,-183.7884 329.6928,-173.7838 339.015,-164.2788\"/>\n<polygon fill=\"#000000\" stroke=\"#000000\" points=\"341.523,-166.7201 346.0263,-157.13 336.5254,-161.8187 341.523,-166.7201\"/>\n<text text-anchor=\"middle\" x=\"346.2691\" y=\"-178.4288\" font-family=\"Helvetica,sans-Serif\" font-size=\"14.00\" fill=\"#000000\">False</text>\n</g>\n<!-- 2 -->\n<g id=\"node3\" class=\"node\">\n<title>2</title>\n<path fill=\"#86c3ef\" stroke=\"#000000\" d=\"M95,-53C95,-53 12,-53 12,-53 6,-53 0,-47 0,-41 0,-41 0,-12 0,-12 0,-6 6,0 12,0 12,0 95,0 95,0 101,0 107,-6 107,-12 107,-12 107,-41 107,-41 107,-47 101,-53 95,-53\"/>\n<text text-anchor=\"start\" x=\"15.5\" y=\"-37.8\" font-family=\"Helvetica,sans-Serif\" font-size=\"14.00\" fill=\"#000000\">gini = 0.404</text>\n<text text-anchor=\"start\" x=\"9.5\" y=\"-22.8\" font-family=\"Helvetica,sans-Serif\" font-size=\"14.00\" fill=\"#000000\">samples = 20</text>\n<text text-anchor=\"start\" x=\"8\" y=\"-7.8\" font-family=\"Helvetica,sans-Serif\" font-size=\"14.00\" fill=\"#000000\">value = [9, 23]</text>\n</g>\n<!-- 1&#45;&gt;2 -->\n<g id=\"edge2\" class=\"edge\">\n<title>1&#45;&gt;2</title>\n<path fill=\"none\" stroke=\"#000000\" d=\"M133.1348,-88.9777C120.9964,-79.4545 107.8228,-69.1191 95.7499,-59.6473\"/>\n<polygon fill=\"#000000\" stroke=\"#000000\" points=\"97.622,-56.6674 87.5939,-53.2485 93.3011,-62.1748 97.622,-56.6674\"/>\n</g>\n<!-- 3 -->\n<g id=\"node4\" class=\"node\">\n<title>3</title>\n<path fill=\"#dcedfa\" stroke=\"#000000\" d=\"M245.5,-53C245.5,-53 137.5,-53 137.5,-53 131.5,-53 125.5,-47 125.5,-41 125.5,-41 125.5,-12 125.5,-12 125.5,-6 131.5,0 137.5,0 137.5,0 245.5,0 245.5,0 251.5,0 257.5,-6 257.5,-12 257.5,-12 257.5,-41 257.5,-41 257.5,-47 251.5,-53 245.5,-53\"/>\n<text text-anchor=\"start\" x=\"153.5\" y=\"-37.8\" font-family=\"Helvetica,sans-Serif\" font-size=\"14.00\" fill=\"#000000\">gini = 0.495</text>\n<text text-anchor=\"start\" x=\"143.5\" y=\"-22.8\" font-family=\"Helvetica,sans-Serif\" font-size=\"14.00\" fill=\"#000000\">samples = 199</text>\n<text text-anchor=\"start\" x=\"133.5\" y=\"-7.8\" font-family=\"Helvetica,sans-Serif\" font-size=\"14.00\" fill=\"#000000\">value = [142, 173]</text>\n</g>\n<!-- 1&#45;&gt;3 -->\n<g id=\"edge3\" class=\"edge\">\n<title>1&#45;&gt;3</title>\n<path fill=\"none\" stroke=\"#000000\" d=\"M181.7884,-88.9777C183.0837,-80.6449 184.4756,-71.6903 185.7897,-63.2364\"/>\n<polygon fill=\"#000000\" stroke=\"#000000\" points=\"189.2646,-63.6674 187.3422,-53.2485 182.3477,-62.5922 189.2646,-63.6674\"/>\n</g>\n<!-- 5 -->\n<g id=\"node6\" class=\"node\">\n<title>5</title>\n<path fill=\"#f7dac6\" stroke=\"#000000\" d=\"M415.5,-53C415.5,-53 315.5,-53 315.5,-53 309.5,-53 303.5,-47 303.5,-41 303.5,-41 303.5,-12 303.5,-12 303.5,-6 309.5,0 315.5,0 315.5,0 415.5,0 415.5,0 421.5,0 427.5,-6 427.5,-12 427.5,-12 427.5,-41 427.5,-41 427.5,-47 421.5,-53 415.5,-53\"/>\n<text text-anchor=\"start\" x=\"327.5\" y=\"-37.8\" font-family=\"Helvetica,sans-Serif\" font-size=\"14.00\" fill=\"#000000\">gini = 0.486</text>\n<text text-anchor=\"start\" x=\"317.5\" y=\"-22.8\" font-family=\"Helvetica,sans-Serif\" font-size=\"14.00\" fill=\"#000000\">samples = 152</text>\n<text text-anchor=\"start\" x=\"311.5\" y=\"-7.8\" font-family=\"Helvetica,sans-Serif\" font-size=\"14.00\" fill=\"#000000\">value = [138, 98]</text>\n</g>\n<!-- 4&#45;&gt;5 -->\n<g id=\"edge5\" class=\"edge\">\n<title>4&#45;&gt;5</title>\n<path fill=\"none\" stroke=\"#000000\" d=\"M374.5641,-88.9777C373.3552,-80.6449 372.0561,-71.6903 370.8296,-63.2364\"/>\n<polygon fill=\"#000000\" stroke=\"#000000\" points=\"374.2802,-62.6423 369.3806,-53.2485 367.3527,-63.6474 374.2802,-62.6423\"/>\n</g>\n<!-- 6 -->\n<g id=\"node7\" class=\"node\">\n<title>6</title>\n<path fill=\"#f0f7fd\" stroke=\"#000000\" d=\"M565.5,-53C565.5,-53 457.5,-53 457.5,-53 451.5,-53 445.5,-47 445.5,-41 445.5,-41 445.5,-12 445.5,-12 445.5,-6 451.5,0 457.5,0 457.5,0 565.5,0 565.5,0 571.5,0 577.5,-6 577.5,-12 577.5,-12 577.5,-41 577.5,-41 577.5,-47 571.5,-53 565.5,-53\"/>\n<text text-anchor=\"start\" x=\"473.5\" y=\"-37.8\" font-family=\"Helvetica,sans-Serif\" font-size=\"14.00\" fill=\"#000000\">gini = 0.499</text>\n<text text-anchor=\"start\" x=\"463.5\" y=\"-22.8\" font-family=\"Helvetica,sans-Serif\" font-size=\"14.00\" fill=\"#000000\">samples = 216</text>\n<text text-anchor=\"start\" x=\"453.5\" y=\"-7.8\" font-family=\"Helvetica,sans-Serif\" font-size=\"14.00\" fill=\"#000000\">value = [155, 168]</text>\n</g>\n<!-- 4&#45;&gt;6 -->\n<g id=\"edge6\" class=\"edge\">\n<title>4&#45;&gt;6</title>\n<path fill=\"none\" stroke=\"#000000\" d=\"M426.0383,-88.9777C439.1901,-79.3629 453.4743,-68.9203 466.532,-59.3743\"/>\n<polygon fill=\"#000000\" stroke=\"#000000\" points=\"468.9042,-61.9757 474.9114,-53.2485 464.773,-56.3247 468.9042,-61.9757\"/>\n</g>\n</g>\n</svg>\n"
          },
          "metadata": {},
          "execution_count": 81
        }
      ]
    },
    {
      "cell_type": "markdown",
      "source": [
        "Data visualization for the model performances we achieved (most of these values come from models in the file where we optimized for accuracy, other than the random forest, Naive Bayes, and the dummy models)."
      ],
      "metadata": {
        "id": "AmTc0purstZV"
      }
    },
    {
      "cell_type": "code",
      "source": [
        "disp_df = pd.DataFrame(\n",
        "   dict(\n",
        "      model=['Logistic Reg', 'kNN', 'Decision Tree', 'Random_Forest', 'NaiveBayes', 'SVC (rbf)', 'SVC (linear)', 'SVC (poly)', 'Dummy (frequent)', 'Dummy (stratified)'],\n",
        "      accuracy=[54.76, 51.19, 55.95, 56.55, 58.32, 58.33, 55.95, 56.55, 61.9, 53.57]\n",
        "   )\n",
        ")\n",
        "disp_df = disp_df.sort_values('accuracy', ascending=False)\n",
        "\n",
        "fig = plt.figure(figsize = (17, 7.5))\n",
        " \n",
        "# creating the bar plot\n",
        "plt.bar('model', 'accuracy', data=disp_df, color='cornflowerblue')\n",
        "plt.ylim([50, 65])\n",
        "\n",
        "plt.xlabel(\"Model\")\n",
        "plt.ylabel(\"Achieved Test Accuracy\")\n",
        "plt.title(\"Model Performance\")\n",
        "plt.show()"
      ],
      "metadata": {
        "colab": {
          "base_uri": "https://localhost:8080/",
          "height": 487
        },
        "id": "_Pz4fAhizDOa",
        "outputId": "7981afe8-363f-4e00-afba-66748f6760d4"
      },
      "execution_count": 82,
      "outputs": [
        {
          "output_type": "display_data",
          "data": {
            "text/plain": [
              "<Figure size 1224x540 with 1 Axes>"
            ],
            "image/png": "[encoded data removed]"
          },
          "metadata": {
            "needs_background": "light"
          }
        }
      ]
    }
  ],
  "metadata": {
    "kernelspec": {
      "display_name": "Python 3 (ipykernel)",
      "language": "python",
      "name": "python3"
    },
    "language_info": {
      "codemirror_mode": {
        "name": "ipython",
        "version": 3
      },
      "file_extension": ".py",
      "mimetype": "text/x-python",
      "name": "python",
      "nbconvert_exporter": "python",
      "pygments_lexer": "ipython3",
      "version": "3.9.12"
    },
    "colab": {
      "provenance": [],
      "collapsed_sections": [
        "KJpzzvgtNnrN"
      ]
    }
  },
  "nbformat": 4,
  "nbformat_minor": 0
}