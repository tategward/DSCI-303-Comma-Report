{
  "nbformat": 4,
  "nbformat_minor": 0,
  "metadata": {
    "colab": {
      "provenance": [],
      "collapsed_sections": [
        "F-IJSF9ZrALf",
        "u1MyDfI9ux9T",
        "tS8yiOAov_1e",
        "rB-Nb3DH0ZSc",
        "zOvaKhJs4Qbl",
        "F2WAHFLs_tYt",
        "9AI7oLZ8El6S",
        "RY5TB5q5FHWl",
        "2eZEMyM3faw-"
      ]
    },
    "kernelspec": {
      "name": "python3",
      "display_name": "Python 3"
    },
    "language_info": {
      "name": "python"
    }
  },
  "cells": [
    {
      "cell_type": "markdown",
      "source": [
        "##EDA\n",
        "\n"
      ],
      "metadata": {
        "id": "QyfdqKlTnoBY"
      }
    },
    {
      "cell_type": "markdown",
      "source": [
        "#### Data\n",
        "The first step of understanding the problem in data science world is to understand our data. We'll look at each variable and do a philosophical analysis about their meaning and importance for this problem."
      ],
      "metadata": {
        "id": "F-IJSF9ZrALf"
      }
    },
    {
      "cell_type": "code",
      "execution_count": null,
      "metadata": {
        "id": "XxNfHyc7mpPs"
      },
      "outputs": [],
      "source": [
        "import pandas as pd\n",
        "import numpy as np\n",
        "import seaborn as sns\n",
        "import matplotlib.pyplot as plt\n",
        "import math"
      ]
    },
    {
      "cell_type": "code",
      "source": [
        "from google.colab import drive\n",
        "drive.mount('/content/drive')\n",
        "\n",
        "# if you followed the instructions above exactly, CVA.csv should be\n",
        "# in DSCI 303/; if your files are in a different directory\n",
        "# on your Google Drive, you will need to change the path below accordingly\n",
        "DATADIR = '/content/drive/My Drive/DSCI 303/Final Project/'"
      ],
      "metadata": {
        "colab": {
          "base_uri": "https://localhost:8080/"
        },
        "id": "sMFO8OonmvsS",
        "outputId": "722b766d-992c-459a-e417-71e4efc2b375"
      },
      "execution_count": null,
      "outputs": [
        {
          "output_type": "stream",
          "name": "stdout",
          "text": [
            "Drive already mounted at /content/drive; to attempt to forcibly remount, call drive.mount(\"/content/drive\", force_remount=True).\n"
          ]
        }
      ]
    },
    {
      "cell_type": "code",
      "source": [
        "# Load comma.csv and display the data head\n",
        "df = pd.read_csv(DATADIR + \"comma.csv\")\n",
        "df.head()"
      ],
      "metadata": {
        "colab": {
          "base_uri": "https://localhost:8080/"
        },
        "id": "ANtN7iqNmycs",
        "outputId": "d5311eaa-1925-4fcd-a9cc-cbdf3200e975"
      },
      "execution_count": null,
      "outputs": [
        {
          "output_type": "execute_result",
          "data": {
            "text/plain": [
              "   RespondentID In your opinion, which sentence is more gramatically correct?  \\\n",
              "0    3292953864  It's important for a person to be honest, kind...              \n",
              "1    3292950324  It's important for a person to be honest, kind...              \n",
              "2    3292942669  It's important for a person to be honest, kind...              \n",
              "3    3292932796  It's important for a person to be honest, kind...              \n",
              "4    3292932522  It's important for a person to be honest, kind...              \n",
              "\n",
              "  Prior to reading about it above, had you heard of the serial (or Oxford) comma?  \\\n",
              "0                                                Yes                                \n",
              "1                                                 No                                \n",
              "2                                                Yes                                \n",
              "3                                                Yes                                \n",
              "4                                                 No                                \n",
              "\n",
              "  How much, if at all, do you care about the use (or lack thereof) of the serial (or Oxford) comma in grammar?  \\\n",
              "0                                               Some                                                             \n",
              "1                                           Not much                                                             \n",
              "2                                               Some                                                             \n",
              "3                                               Some                                                             \n",
              "4                                           Not much                                                             \n",
              "\n",
              "         How would you write the following sentence?  \\\n",
              "0  Some experts say it's important to drink milk,...   \n",
              "1  Some experts say it's important to drink milk,...   \n",
              "2  Some experts say it's important to drink milk,...   \n",
              "3  Some experts say it's important to drink milk,...   \n",
              "4  Some experts say it's important to drink milk,...   \n",
              "\n",
              "  When faced with using the word \"data\", have you ever spent time considering if the word was a singular or plural noun?  \\\n",
              "0                                                 No                                                                       \n",
              "1                                                 No                                                                       \n",
              "2                                                Yes                                                                       \n",
              "3                                                 No                                                                       \n",
              "4                                                 No                                                                       \n",
              "\n",
              "  How much, if at all, do you care about the debate over the use of the word \"data\" as a singluar or plural noun?  \\\n",
              "0                                           Not much                                                                \n",
              "1                                           Not much                                                                \n",
              "2                                         Not at all                                                                \n",
              "3                                               Some                                                                \n",
              "4                                           Not much                                                                \n",
              "\n",
              "  In your opinion, how important or unimportant is proper use of grammar?  \\\n",
              "0                                 Somewhat important                        \n",
              "1                               Somewhat unimportant                        \n",
              "2                                     Very important                        \n",
              "3                                 Somewhat important                        \n",
              "4                                                NaN                        \n",
              "\n",
              "  Gender    Age   Household Income                     Education  \\\n",
              "0   Male  30-44  $50,000 - $99,999               Bachelor degree   \n",
              "1   Male  30-44  $50,000 - $99,999               Graduate degree   \n",
              "2   Male  30-44                NaN                           NaN   \n",
              "3   Male  18-29                NaN  Less than high school degree   \n",
              "4    NaN    NaN                NaN                           NaN   \n",
              "\n",
              "  Location (Census Region)  \n",
              "0           South Atlantic  \n",
              "1                 Mountain  \n",
              "2       East North Central  \n",
              "3          Middle Atlantic  \n",
              "4                      NaN  "
            ],
            "text/html": [
              "\n",
              "  <div id=\"df-9e770115-f1ad-49dd-bcc8-ddc6cbf3ad37\">\n",
              "    <div class=\"colab-df-container\">\n",
              "      <div>\n",
              "<style scoped>\n",
              "    .dataframe tbody tr th:only-of-type {\n",
              "        vertical-align: middle;\n",
              "    }\n",
              "\n",
              "    .dataframe tbody tr th {\n",
              "        vertical-align: top;\n",
              "    }\n",
              "\n",
              "    .dataframe thead th {\n",
              "        text-align: right;\n",
              "    }\n",
              "</style>\n",
              "<table border=\"1\" class=\"dataframe\">\n",
              "  <thead>\n",
              "    <tr style=\"text-align: right;\">\n",
              "      <th></th>\n",
              "      <th>RespondentID</th>\n",
              "      <th>In your opinion, which sentence is more gramatically correct?</th>\n",
              "      <th>Prior to reading about it above, had you heard of the serial (or Oxford) comma?</th>\n",
              "      <th>How much, if at all, do you care about the use (or lack thereof) of the serial (or Oxford) comma in grammar?</th>\n",
              "      <th>How would you write the following sentence?</th>\n",
              "      <th>When faced with using the word \"data\", have you ever spent time considering if the word was a singular or plural noun?</th>\n",
              "      <th>How much, if at all, do you care about the debate over the use of the word \"data\" as a singluar or plural noun?</th>\n",
              "      <th>In your opinion, how important or unimportant is proper use of grammar?</th>\n",
              "      <th>Gender</th>\n",
              "      <th>Age</th>\n",
              "      <th>Household Income</th>\n",
              "      <th>Education</th>\n",
              "      <th>Location (Census Region)</th>\n",
              "    </tr>\n",
              "  </thead>\n",
              "  <tbody>\n",
              "    <tr>\n",
              "      <th>0</th>\n",
              "      <td>3292953864</td>\n",
              "      <td>It's important for a person to be honest, kind...</td>\n",
              "      <td>Yes</td>\n",
              "      <td>Some</td>\n",
              "      <td>Some experts say it's important to drink milk,...</td>\n",
              "      <td>No</td>\n",
              "      <td>Not much</td>\n",
              "      <td>Somewhat important</td>\n",
              "      <td>Male</td>\n",
              "      <td>30-44</td>\n",
              "      <td>$50,000 - $99,999</td>\n",
              "      <td>Bachelor degree</td>\n",
              "      <td>South Atlantic</td>\n",
              "    </tr>\n",
              "    <tr>\n",
              "      <th>1</th>\n",
              "      <td>3292950324</td>\n",
              "      <td>It's important for a person to be honest, kind...</td>\n",
              "      <td>No</td>\n",
              "      <td>Not much</td>\n",
              "      <td>Some experts say it's important to drink milk,...</td>\n",
              "      <td>No</td>\n",
              "      <td>Not much</td>\n",
              "      <td>Somewhat unimportant</td>\n",
              "      <td>Male</td>\n",
              "      <td>30-44</td>\n",
              "      <td>$50,000 - $99,999</td>\n",
              "      <td>Graduate degree</td>\n",
              "      <td>Mountain</td>\n",
              "    </tr>\n",
              "    <tr>\n",
              "      <th>2</th>\n",
              "      <td>3292942669</td>\n",
              "      <td>It's important for a person to be honest, kind...</td>\n",
              "      <td>Yes</td>\n",
              "      <td>Some</td>\n",
              "      <td>Some experts say it's important to drink milk,...</td>\n",
              "      <td>Yes</td>\n",
              "      <td>Not at all</td>\n",
              "      <td>Very important</td>\n",
              "      <td>Male</td>\n",
              "      <td>30-44</td>\n",
              "      <td>NaN</td>\n",
              "      <td>NaN</td>\n",
              "      <td>East North Central</td>\n",
              "    </tr>\n",
              "    <tr>\n",
              "      <th>3</th>\n",
              "      <td>3292932796</td>\n",
              "      <td>It's important for a person to be honest, kind...</td>\n",
              "      <td>Yes</td>\n",
              "      <td>Some</td>\n",
              "      <td>Some experts say it's important to drink milk,...</td>\n",
              "      <td>No</td>\n",
              "      <td>Some</td>\n",
              "      <td>Somewhat important</td>\n",
              "      <td>Male</td>\n",
              "      <td>18-29</td>\n",
              "      <td>NaN</td>\n",
              "      <td>Less than high school degree</td>\n",
              "      <td>Middle Atlantic</td>\n",
              "    </tr>\n",
              "    <tr>\n",
              "      <th>4</th>\n",
              "      <td>3292932522</td>\n",
              "      <td>It's important for a person to be honest, kind...</td>\n",
              "      <td>No</td>\n",
              "      <td>Not much</td>\n",
              "      <td>Some experts say it's important to drink milk,...</td>\n",
              "      <td>No</td>\n",
              "      <td>Not much</td>\n",
              "      <td>NaN</td>\n",
              "      <td>NaN</td>\n",
              "      <td>NaN</td>\n",
              "      <td>NaN</td>\n",
              "      <td>NaN</td>\n",
              "      <td>NaN</td>\n",
              "    </tr>\n",
              "  </tbody>\n",
              "</table>\n",
              "</div>\n",
              "      <button class=\"colab-df-convert\" onclick=\"convertToInteractive('df-9e770115-f1ad-49dd-bcc8-ddc6cbf3ad37')\"\n",
              "              title=\"Convert this dataframe to an interactive table.\"\n",
              "              style=\"display:none;\">\n",
              "        \n",
              "  <svg xmlns=\"http://www.w3.org/2000/svg\" height=\"24px\"viewBox=\"0 0 24 24\"\n",
              "       width=\"24px\">\n",
              "    <path d=\"M0 0h24v24H0V0z\" fill=\"none\"/>\n",
              "    <path d=\"M18.56 5.44l.94 2.06.94-2.06 2.06-.94-2.06-.94-.94-2.06-.94 2.06-2.06.94zm-11 1L8.5 8.5l.94-2.06 2.06-.94-2.06-.94L8.5 2.5l-.94 2.06-2.06.94zm10 10l.94 2.06.94-2.06 2.06-.94-2.06-.94-.94-2.06-.94 2.06-2.06.94z\"/><path d=\"M17.41 7.96l-1.37-1.37c-.4-.4-.92-.59-1.43-.59-.52 0-1.04.2-1.43.59L10.3 9.45l-7.72 7.72c-.78.78-.78 2.05 0 2.83L4 21.41c.39.39.9.59 1.41.59.51 0 1.02-.2 1.41-.59l7.78-7.78 2.81-2.81c.8-.78.8-2.07 0-2.86zM5.41 20L4 18.59l7.72-7.72 1.47 1.35L5.41 20z\"/>\n",
              "  </svg>\n",
              "      </button>\n",
              "      \n",
              "  <style>\n",
              "    .colab-df-container {\n",
              "      display:flex;\n",
              "      flex-wrap:wrap;\n",
              "      gap: 12px;\n",
              "    }\n",
              "\n",
              "    .colab-df-convert {\n",
              "      background-color: #E8F0FE;\n",
              "      border: none;\n",
              "      border-radius: 50%;\n",
              "      cursor: pointer;\n",
              "      display: none;\n",
              "      fill: #1967D2;\n",
              "      height: 32px;\n",
              "      padding: 0 0 0 0;\n",
              "      width: 32px;\n",
              "    }\n",
              "\n",
              "    .colab-df-convert:hover {\n",
              "      background-color: #E2EBFA;\n",
              "      box-shadow: 0px 1px 2px rgba(60, 64, 67, 0.3), 0px 1px 3px 1px rgba(60, 64, 67, 0.15);\n",
              "      fill: #174EA6;\n",
              "    }\n",
              "\n",
              "    [theme=dark] .colab-df-convert {\n",
              "      background-color: #3B4455;\n",
              "      fill: #D2E3FC;\n",
              "    }\n",
              "\n",
              "    [theme=dark] .colab-df-convert:hover {\n",
              "      background-color: #434B5C;\n",
              "      box-shadow: 0px 1px 3px 1px rgba(0, 0, 0, 0.15);\n",
              "      filter: drop-shadow(0px 1px 2px rgba(0, 0, 0, 0.3));\n",
              "      fill: #FFFFFF;\n",
              "    }\n",
              "  </style>\n",
              "\n",
              "      <script>\n",
              "        const buttonEl =\n",
              "          document.querySelector('#df-9e770115-f1ad-49dd-bcc8-ddc6cbf3ad37 button.colab-df-convert');\n",
              "        buttonEl.style.display =\n",
              "          google.colab.kernel.accessAllowed ? 'block' : 'none';\n",
              "\n",
              "        async function convertToInteractive(key) {\n",
              "          const element = document.querySelector('#df-9e770115-f1ad-49dd-bcc8-ddc6cbf3ad37');\n",
              "          const dataTable =\n",
              "            await google.colab.kernel.invokeFunction('convertToInteractive',\n",
              "                                                     [key], {});\n",
              "          if (!dataTable) return;\n",
              "\n",
              "          const docLinkHtml = 'Like what you see? Visit the ' +\n",
              "            '<a target=\"_blank\" href=https://colab.research.google.com/notebooks/data_table.ipynb>data table notebook</a>'\n",
              "            + ' to learn more about interactive tables.';\n",
              "          element.innerHTML = '';\n",
              "          dataTable['output_type'] = 'display_data';\n",
              "          await google.colab.output.renderOutput(dataTable, element);\n",
              "          const docLink = document.createElement('div');\n",
              "          docLink.innerHTML = docLinkHtml;\n",
              "          element.appendChild(docLink);\n",
              "        }\n",
              "      </script>\n",
              "    </div>\n",
              "  </div>\n",
              "  "
            ]
          },
          "metadata": {},
          "execution_count": 49
        }
      ]
    },
    {
      "cell_type": "code",
      "source": [
        "# rename columns\n",
        "df.columns = ['respondent_id', 'use_oxford_comma', 'heard_of_comma', \n",
        "'care_for_comma', 'use_data_plural', 'considered_data_plural', \n",
        "'care_data_plural', 'care_grammar', 'gender', 'age', 'household_income', \n",
        "'education', 'location']\n",
        "\n",
        "# change feature values to be more convenient\n",
        "df.loc[df['use_oxford_comma'] == \n",
        "\"It's important for a person to be honest, kind, and loyal.\", \n",
        "'use_oxford_comma'] = 'Yes'\n",
        "\n",
        "df.loc[df['use_oxford_comma'] == \n",
        "\"It's important for a person to be honest, kind and loyal.\", \n",
        "'use_oxford_comma'] = 'No'\n",
        "\n",
        "df.loc[df['use_data_plural'] == \n",
        "\"Some experts say it's important to drink milk, but the data is inconclusive.\", \n",
        "'use_data_plural'] = 'No'\n",
        "\n",
        "df.loc[df['use_data_plural'] == \n",
        "\"Some experts say it's important to drink milk, but the data are inconclusive.\",\n",
        "'use_data_plural'] = 'Yes'\n",
        "\n",
        "df.loc[df['care_grammar'] == \n",
        "\"Neither important nor unimportant (neutral)\", 'care_grammar'] = 'Neutral'\n",
        "\n",
        "df['use_data_plural'].value_counts() # No: 865, Yes: 228\n",
        "display(df)"
      ],
      "metadata": {
        "colab": {
          "base_uri": "https://localhost:8080/"
        },
        "id": "_cwxwoI3m6pH",
        "outputId": "c5b00071-7eb0-4f30-c903-f9eab6945183"
      },
      "execution_count": null,
      "outputs": [
        {
          "output_type": "display_data",
          "data": {
            "text/plain": [
              "      respondent_id use_oxford_comma heard_of_comma care_for_comma  \\\n",
              "0        3292953864               No            Yes           Some   \n",
              "1        3292950324              Yes             No       Not much   \n",
              "2        3292942669              Yes            Yes           Some   \n",
              "3        3292932796              Yes            Yes           Some   \n",
              "4        3292932522               No             No       Not much   \n",
              "...             ...              ...            ...            ...   \n",
              "1124     3288387618              Yes            Yes          A lot   \n",
              "1125     3288387379               No             No           Some   \n",
              "1126     3288382543              Yes            Yes           Some   \n",
              "1127     3288379152               No            Yes          A lot   \n",
              "1128     3288375700               No            Yes          A lot   \n",
              "\n",
              "     use_data_plural considered_data_plural care_data_plural  \\\n",
              "0                 No                     No         Not much   \n",
              "1                 No                     No         Not much   \n",
              "2                 No                    Yes       Not at all   \n",
              "3                 No                     No             Some   \n",
              "4                 No                     No         Not much   \n",
              "...              ...                    ...              ...   \n",
              "1124              No                     No            A lot   \n",
              "1125              No                     No             Some   \n",
              "1126              No                     No         Not much   \n",
              "1127              No                    Yes         Not much   \n",
              "1128              No                    Yes             Some   \n",
              "\n",
              "              care_grammar  gender    age     household_income  \\\n",
              "0       Somewhat important    Male  30-44    $50,000 - $99,999   \n",
              "1     Somewhat unimportant    Male  30-44    $50,000 - $99,999   \n",
              "2           Very important    Male  30-44                  NaN   \n",
              "3       Somewhat important    Male  18-29                  NaN   \n",
              "4                      NaN     NaN    NaN                  NaN   \n",
              "...                    ...     ...    ...                  ...   \n",
              "1124        Very important  Female  18-29  $100,000 - $149,999   \n",
              "1125        Very important  Female  30-44    $50,000 - $99,999   \n",
              "1126    Somewhat important  Female  30-44    $50,000 - $99,999   \n",
              "1127        Very important  Female  45-60    $50,000 - $99,999   \n",
              "1128    Somewhat important    Male  18-29    $25,000 - $49,999   \n",
              "\n",
              "                             education            location  \n",
              "0                      Bachelor degree      South Atlantic  \n",
              "1                      Graduate degree            Mountain  \n",
              "2                                  NaN  East North Central  \n",
              "3         Less than high school degree     Middle Atlantic  \n",
              "4                                  NaN                 NaN  \n",
              "...                                ...                 ...  \n",
              "1124  Some college or Associate degree      South Atlantic  \n",
              "1125  Some college or Associate degree             Pacific  \n",
              "1126                   Graduate degree     Middle Atlantic  \n",
              "1127                   Graduate degree  East South Central  \n",
              "1128                   Bachelor degree            Mountain  \n",
              "\n",
              "[1129 rows x 13 columns]"
            ],
            "text/html": [
              "\n",
              "  <div id=\"df-6551b196-2751-499b-bd24-c5421e71cc4f\">\n",
              "    <div class=\"colab-df-container\">\n",
              "      <div>\n",
              "<style scoped>\n",
              "    .dataframe tbody tr th:only-of-type {\n",
              "        vertical-align: middle;\n",
              "    }\n",
              "\n",
              "    .dataframe tbody tr th {\n",
              "        vertical-align: top;\n",
              "    }\n",
              "\n",
              "    .dataframe thead th {\n",
              "        text-align: right;\n",
              "    }\n",
              "</style>\n",
              "<table border=\"1\" class=\"dataframe\">\n",
              "  <thead>\n",
              "    <tr style=\"text-align: right;\">\n",
              "      <th></th>\n",
              "      <th>respondent_id</th>\n",
              "      <th>use_oxford_comma</th>\n",
              "      <th>heard_of_comma</th>\n",
              "      <th>care_for_comma</th>\n",
              "      <th>use_data_plural</th>\n",
              "      <th>considered_data_plural</th>\n",
              "      <th>care_data_plural</th>\n",
              "      <th>care_grammar</th>\n",
              "      <th>gender</th>\n",
              "      <th>age</th>\n",
              "      <th>household_income</th>\n",
              "      <th>education</th>\n",
              "      <th>location</th>\n",
              "    </tr>\n",
              "  </thead>\n",
              "  <tbody>\n",
              "    <tr>\n",
              "      <th>0</th>\n",
              "      <td>3292953864</td>\n",
              "      <td>No</td>\n",
              "      <td>Yes</td>\n",
              "      <td>Some</td>\n",
              "      <td>No</td>\n",
              "      <td>No</td>\n",
              "      <td>Not much</td>\n",
              "      <td>Somewhat important</td>\n",
              "      <td>Male</td>\n",
              "      <td>30-44</td>\n",
              "      <td>$50,000 - $99,999</td>\n",
              "      <td>Bachelor degree</td>\n",
              "      <td>South Atlantic</td>\n",
              "    </tr>\n",
              "    <tr>\n",
              "      <th>1</th>\n",
              "      <td>3292950324</td>\n",
              "      <td>Yes</td>\n",
              "      <td>No</td>\n",
              "      <td>Not much</td>\n",
              "      <td>No</td>\n",
              "      <td>No</td>\n",
              "      <td>Not much</td>\n",
              "      <td>Somewhat unimportant</td>\n",
              "      <td>Male</td>\n",
              "      <td>30-44</td>\n",
              "      <td>$50,000 - $99,999</td>\n",
              "      <td>Graduate degree</td>\n",
              "      <td>Mountain</td>\n",
              "    </tr>\n",
              "    <tr>\n",
              "      <th>2</th>\n",
              "      <td>3292942669</td>\n",
              "      <td>Yes</td>\n",
              "      <td>Yes</td>\n",
              "      <td>Some</td>\n",
              "      <td>No</td>\n",
              "      <td>Yes</td>\n",
              "      <td>Not at all</td>\n",
              "      <td>Very important</td>\n",
              "      <td>Male</td>\n",
              "      <td>30-44</td>\n",
              "      <td>NaN</td>\n",
              "      <td>NaN</td>\n",
              "      <td>East North Central</td>\n",
              "    </tr>\n",
              "    <tr>\n",
              "      <th>3</th>\n",
              "      <td>3292932796</td>\n",
              "      <td>Yes</td>\n",
              "      <td>Yes</td>\n",
              "      <td>Some</td>\n",
              "      <td>No</td>\n",
              "      <td>No</td>\n",
              "      <td>Some</td>\n",
              "      <td>Somewhat important</td>\n",
              "      <td>Male</td>\n",
              "      <td>18-29</td>\n",
              "      <td>NaN</td>\n",
              "      <td>Less than high school degree</td>\n",
              "      <td>Middle Atlantic</td>\n",
              "    </tr>\n",
              "    <tr>\n",
              "      <th>4</th>\n",
              "      <td>3292932522</td>\n",
              "      <td>No</td>\n",
              "      <td>No</td>\n",
              "      <td>Not much</td>\n",
              "      <td>No</td>\n",
              "      <td>No</td>\n",
              "      <td>Not much</td>\n",
              "      <td>NaN</td>\n",
              "      <td>NaN</td>\n",
              "      <td>NaN</td>\n",
              "      <td>NaN</td>\n",
              "      <td>NaN</td>\n",
              "      <td>NaN</td>\n",
              "    </tr>\n",
              "    <tr>\n",
              "      <th>...</th>\n",
              "      <td>...</td>\n",
              "      <td>...</td>\n",
              "      <td>...</td>\n",
              "      <td>...</td>\n",
              "      <td>...</td>\n",
              "      <td>...</td>\n",
              "      <td>...</td>\n",
              "      <td>...</td>\n",
              "      <td>...</td>\n",
              "      <td>...</td>\n",
              "      <td>...</td>\n",
              "      <td>...</td>\n",
              "      <td>...</td>\n",
              "    </tr>\n",
              "    <tr>\n",
              "      <th>1124</th>\n",
              "      <td>3288387618</td>\n",
              "      <td>Yes</td>\n",
              "      <td>Yes</td>\n",
              "      <td>A lot</td>\n",
              "      <td>No</td>\n",
              "      <td>No</td>\n",
              "      <td>A lot</td>\n",
              "      <td>Very important</td>\n",
              "      <td>Female</td>\n",
              "      <td>18-29</td>\n",
              "      <td>$100,000 - $149,999</td>\n",
              "      <td>Some college or Associate degree</td>\n",
              "      <td>South Atlantic</td>\n",
              "    </tr>\n",
              "    <tr>\n",
              "      <th>1125</th>\n",
              "      <td>3288387379</td>\n",
              "      <td>No</td>\n",
              "      <td>No</td>\n",
              "      <td>Some</td>\n",
              "      <td>No</td>\n",
              "      <td>No</td>\n",
              "      <td>Some</td>\n",
              "      <td>Very important</td>\n",
              "      <td>Female</td>\n",
              "      <td>30-44</td>\n",
              "      <td>$50,000 - $99,999</td>\n",
              "      <td>Some college or Associate degree</td>\n",
              "      <td>Pacific</td>\n",
              "    </tr>\n",
              "    <tr>\n",
              "      <th>1126</th>\n",
              "      <td>3288382543</td>\n",
              "      <td>Yes</td>\n",
              "      <td>Yes</td>\n",
              "      <td>Some</td>\n",
              "      <td>No</td>\n",
              "      <td>No</td>\n",
              "      <td>Not much</td>\n",
              "      <td>Somewhat important</td>\n",
              "      <td>Female</td>\n",
              "      <td>30-44</td>\n",
              "      <td>$50,000 - $99,999</td>\n",
              "      <td>Graduate degree</td>\n",
              "      <td>Middle Atlantic</td>\n",
              "    </tr>\n",
              "    <tr>\n",
              "      <th>1127</th>\n",
              "      <td>3288379152</td>\n",
              "      <td>No</td>\n",
              "      <td>Yes</td>\n",
              "      <td>A lot</td>\n",
              "      <td>No</td>\n",
              "      <td>Yes</td>\n",
              "      <td>Not much</td>\n",
              "      <td>Very important</td>\n",
              "      <td>Female</td>\n",
              "      <td>45-60</td>\n",
              "      <td>$50,000 - $99,999</td>\n",
              "      <td>Graduate degree</td>\n",
              "      <td>East South Central</td>\n",
              "    </tr>\n",
              "    <tr>\n",
              "      <th>1128</th>\n",
              "      <td>3288375700</td>\n",
              "      <td>No</td>\n",
              "      <td>Yes</td>\n",
              "      <td>A lot</td>\n",
              "      <td>No</td>\n",
              "      <td>Yes</td>\n",
              "      <td>Some</td>\n",
              "      <td>Somewhat important</td>\n",
              "      <td>Male</td>\n",
              "      <td>18-29</td>\n",
              "      <td>$25,000 - $49,999</td>\n",
              "      <td>Bachelor degree</td>\n",
              "      <td>Mountain</td>\n",
              "    </tr>\n",
              "  </tbody>\n",
              "</table>\n",
              "<p>1129 rows × 13 columns</p>\n",
              "</div>\n",
              "      <button class=\"colab-df-convert\" onclick=\"convertToInteractive('df-6551b196-2751-499b-bd24-c5421e71cc4f')\"\n",
              "              title=\"Convert this dataframe to an interactive table.\"\n",
              "              style=\"display:none;\">\n",
              "        \n",
              "  <svg xmlns=\"http://www.w3.org/2000/svg\" height=\"24px\"viewBox=\"0 0 24 24\"\n",
              "       width=\"24px\">\n",
              "    <path d=\"M0 0h24v24H0V0z\" fill=\"none\"/>\n",
              "    <path d=\"M18.56 5.44l.94 2.06.94-2.06 2.06-.94-2.06-.94-.94-2.06-.94 2.06-2.06.94zm-11 1L8.5 8.5l.94-2.06 2.06-.94-2.06-.94L8.5 2.5l-.94 2.06-2.06.94zm10 10l.94 2.06.94-2.06 2.06-.94-2.06-.94-.94-2.06-.94 2.06-2.06.94z\"/><path d=\"M17.41 7.96l-1.37-1.37c-.4-.4-.92-.59-1.43-.59-.52 0-1.04.2-1.43.59L10.3 9.45l-7.72 7.72c-.78.78-.78 2.05 0 2.83L4 21.41c.39.39.9.59 1.41.59.51 0 1.02-.2 1.41-.59l7.78-7.78 2.81-2.81c.8-.78.8-2.07 0-2.86zM5.41 20L4 18.59l7.72-7.72 1.47 1.35L5.41 20z\"/>\n",
              "  </svg>\n",
              "      </button>\n",
              "      \n",
              "  <style>\n",
              "    .colab-df-container {\n",
              "      display:flex;\n",
              "      flex-wrap:wrap;\n",
              "      gap: 12px;\n",
              "    }\n",
              "\n",
              "    .colab-df-convert {\n",
              "      background-color: #E8F0FE;\n",
              "      border: none;\n",
              "      border-radius: 50%;\n",
              "      cursor: pointer;\n",
              "      display: none;\n",
              "      fill: #1967D2;\n",
              "      height: 32px;\n",
              "      padding: 0 0 0 0;\n",
              "      width: 32px;\n",
              "    }\n",
              "\n",
              "    .colab-df-convert:hover {\n",
              "      background-color: #E2EBFA;\n",
              "      box-shadow: 0px 1px 2px rgba(60, 64, 67, 0.3), 0px 1px 3px 1px rgba(60, 64, 67, 0.15);\n",
              "      fill: #174EA6;\n",
              "    }\n",
              "\n",
              "    [theme=dark] .colab-df-convert {\n",
              "      background-color: #3B4455;\n",
              "      fill: #D2E3FC;\n",
              "    }\n",
              "\n",
              "    [theme=dark] .colab-df-convert:hover {\n",
              "      background-color: #434B5C;\n",
              "      box-shadow: 0px 1px 3px 1px rgba(0, 0, 0, 0.15);\n",
              "      filter: drop-shadow(0px 1px 2px rgba(0, 0, 0, 0.3));\n",
              "      fill: #FFFFFF;\n",
              "    }\n",
              "  </style>\n",
              "\n",
              "      <script>\n",
              "        const buttonEl =\n",
              "          document.querySelector('#df-6551b196-2751-499b-bd24-c5421e71cc4f button.colab-df-convert');\n",
              "        buttonEl.style.display =\n",
              "          google.colab.kernel.accessAllowed ? 'block' : 'none';\n",
              "\n",
              "        async function convertToInteractive(key) {\n",
              "          const element = document.querySelector('#df-6551b196-2751-499b-bd24-c5421e71cc4f');\n",
              "          const dataTable =\n",
              "            await google.colab.kernel.invokeFunction('convertToInteractive',\n",
              "                                                     [key], {});\n",
              "          if (!dataTable) return;\n",
              "\n",
              "          const docLinkHtml = 'Like what you see? Visit the ' +\n",
              "            '<a target=\"_blank\" href=https://colab.research.google.com/notebooks/data_table.ipynb>data table notebook</a>'\n",
              "            + ' to learn more about interactive tables.';\n",
              "          element.innerHTML = '';\n",
              "          dataTable['output_type'] = 'display_data';\n",
              "          await google.colab.output.renderOutput(dataTable, element);\n",
              "          const docLink = document.createElement('div');\n",
              "          docLink.innerHTML = docLinkHtml;\n",
              "          element.appendChild(docLink);\n",
              "        }\n",
              "      </script>\n",
              "    </div>\n",
              "  </div>\n",
              "  "
            ]
          },
          "metadata": {}
        }
      ]
    },
    {
      "cell_type": "code",
      "source": [
        "# Print the high-level information\n",
        "df.info()"
      ],
      "metadata": {
        "colab": {
          "base_uri": "https://localhost:8080/"
        },
        "id": "PJ9k37Xxm7Ye",
        "outputId": "6c0c5077-5010-460e-c8ca-0590f0476752"
      },
      "execution_count": null,
      "outputs": [
        {
          "output_type": "stream",
          "name": "stdout",
          "text": [
            "<class 'pandas.core.frame.DataFrame'>\n",
            "RangeIndex: 1129 entries, 0 to 1128\n",
            "Data columns (total 13 columns):\n",
            " #   Column                  Non-Null Count  Dtype \n",
            "---  ------                  --------------  ----- \n",
            " 0   respondent_id           1129 non-null   int64 \n",
            " 1   use_oxford_comma        1129 non-null   object\n",
            " 2   heard_of_comma          1099 non-null   object\n",
            " 3   care_for_comma          1099 non-null   object\n",
            " 4   use_data_plural         1093 non-null   object\n",
            " 5   considered_data_plural  1091 non-null   object\n",
            " 6   care_data_plural        1091 non-null   object\n",
            " 7   care_grammar            1059 non-null   object\n",
            " 8   gender                  1037 non-null   object\n",
            " 9   age                     1037 non-null   object\n",
            " 10  household_income        836 non-null    object\n",
            " 11  education               1026 non-null   object\n",
            " 12  location                1027 non-null   object\n",
            "dtypes: int64(1), object(12)\n",
            "memory usage: 114.8+ KB\n"
          ]
        }
      ]
    },
    {
      "cell_type": "markdown",
      "source": [
        "We can see in this data, not every features column has complete entries, which means: we have MISSING DATA!\n",
        "\n",
        "Let's just remove Id and the features with 30% or less NaN values."
      ],
      "metadata": {
        "id": "wr50rUOen7L1"
      }
    },
    {
      "cell_type": "code",
      "source": [
        "# Remove columns with too many missing values\n",
        "\n",
        "# Not going to remove any other than respondent_id since the feature \n",
        "# (\"household_income\") that has the most number of missing values has less \n",
        "# than 30% NaN values\n",
        "\n",
        "df2 = df[[column for column in df if df[column].count() / len(df) >= 0.7]]\n",
        "\n",
        "print(\"List of dropped columns:\", end=\" \")\n",
        "for c in df.columns:\n",
        "    if c not in df2.columns:\n",
        "        print(c, end=\", \")\n",
        "\n",
        "if df.shape == df2.shape:\n",
        "   print('N/A')\n",
        "print('\\n')\n",
        "df = df2\n",
        "df = df.drop(columns='respondent_id')\n",
        "\n",
        "print('The column \"household_income\" has the highest percentage of NaN values:', \n",
        "1 - df['household_income'].count()/len(df), ', which is still less than 30%.')"
      ],
      "metadata": {
        "colab": {
          "base_uri": "https://localhost:8080/"
        },
        "id": "h7t9tyZ4m9GB",
        "outputId": "6b77457c-a479-425e-8c22-9e529caa7e51"
      },
      "execution_count": null,
      "outputs": [
        {
          "output_type": "stream",
          "name": "stdout",
          "text": [
            "List of dropped columns: N/A\n",
            "\n",
            "\n",
            "The column \"household_income\" has the highest percentage of NaN values: 0.25952170062001767 , which is still less than 30%.\n"
          ]
        }
      ]
    },
    {
      "cell_type": "code",
      "source": [
        "# Education is our output variable, we will drop any rows missing the value. \n",
        "# This is also a good decision because we are\n",
        "# unable to impute its missing values in a way that does not negatively impact \n",
        "# training the model.\n",
        "\n",
        "df = df.dropna(subset = ['age'])"
      ],
      "metadata": {
        "id": "H7rv-pjkoHUV"
      },
      "execution_count": null,
      "outputs": []
    },
    {
      "cell_type": "markdown",
      "source": [
        "## Data Pre-Processing"
      ],
      "metadata": {
        "id": "SttAZwoGuoHu"
      }
    },
    {
      "cell_type": "markdown",
      "source": [
        "#### Missing data\n",
        "\n",
        "In the above analysis, we already noticed that we have some missing values in the dataset. Unfortunately, these missing values cannot be handled by the machine learning without pre-processing. We will first impute the missing values."
      ],
      "metadata": {
        "id": "u1MyDfI9ux9T"
      }
    },
    {
      "cell_type": "code",
      "source": [
        "y = df[['age']]\n",
        "# We won't use any label information during data pre-processing and feature \n",
        "# engineering\n",
        "df.drop(['age'], axis=1, inplace=True)"
      ],
      "metadata": {
        "id": "yLubAENJr1ut"
      },
      "execution_count": null,
      "outputs": []
    },
    {
      "cell_type": "code",
      "source": [
        "y_na = (y.isnull().sum() / len(df)) * 100\n",
        "missing_y = pd.DataFrame({'Missing Ratio' :y_na})\n",
        "missing_y\n",
        "# Earlier on, we removed any columns missing education\n",
        "# We do not want to impute missing income values because it may skew our results.\n",
        "\n",
        "# For future improvements of the model, imputing its missing values might \n",
        "# be possible with a robust method of such as kNN for categorical variables."
      ],
      "metadata": {
        "colab": {
          "base_uri": "https://localhost:8080/"
        },
        "id": "8sV6sHJLu7mW",
        "outputId": "1478f76d-bc46-4876-d6a1-c528f516e13f"
      },
      "execution_count": null,
      "outputs": [
        {
          "output_type": "execute_result",
          "data": {
            "text/plain": [
              "     Missing Ratio\n",
              "age            0.0"
            ],
            "text/html": [
              "\n",
              "  <div id=\"df-e679564c-b24c-40bc-88b7-5ba044b8c356\">\n",
              "    <div class=\"colab-df-container\">\n",
              "      <div>\n",
              "<style scoped>\n",
              "    .dataframe tbody tr th:only-of-type {\n",
              "        vertical-align: middle;\n",
              "    }\n",
              "\n",
              "    .dataframe tbody tr th {\n",
              "        vertical-align: top;\n",
              "    }\n",
              "\n",
              "    .dataframe thead th {\n",
              "        text-align: right;\n",
              "    }\n",
              "</style>\n",
              "<table border=\"1\" class=\"dataframe\">\n",
              "  <thead>\n",
              "    <tr style=\"text-align: right;\">\n",
              "      <th></th>\n",
              "      <th>Missing Ratio</th>\n",
              "    </tr>\n",
              "  </thead>\n",
              "  <tbody>\n",
              "    <tr>\n",
              "      <th>age</th>\n",
              "      <td>0.0</td>\n",
              "    </tr>\n",
              "  </tbody>\n",
              "</table>\n",
              "</div>\n",
              "      <button class=\"colab-df-convert\" onclick=\"convertToInteractive('df-e679564c-b24c-40bc-88b7-5ba044b8c356')\"\n",
              "              title=\"Convert this dataframe to an interactive table.\"\n",
              "              style=\"display:none;\">\n",
              "        \n",
              "  <svg xmlns=\"http://www.w3.org/2000/svg\" height=\"24px\"viewBox=\"0 0 24 24\"\n",
              "       width=\"24px\">\n",
              "    <path d=\"M0 0h24v24H0V0z\" fill=\"none\"/>\n",
              "    <path d=\"M18.56 5.44l.94 2.06.94-2.06 2.06-.94-2.06-.94-.94-2.06-.94 2.06-2.06.94zm-11 1L8.5 8.5l.94-2.06 2.06-.94-2.06-.94L8.5 2.5l-.94 2.06-2.06.94zm10 10l.94 2.06.94-2.06 2.06-.94-2.06-.94-.94-2.06-.94 2.06-2.06.94z\"/><path d=\"M17.41 7.96l-1.37-1.37c-.4-.4-.92-.59-1.43-.59-.52 0-1.04.2-1.43.59L10.3 9.45l-7.72 7.72c-.78.78-.78 2.05 0 2.83L4 21.41c.39.39.9.59 1.41.59.51 0 1.02-.2 1.41-.59l7.78-7.78 2.81-2.81c.8-.78.8-2.07 0-2.86zM5.41 20L4 18.59l7.72-7.72 1.47 1.35L5.41 20z\"/>\n",
              "  </svg>\n",
              "      </button>\n",
              "      \n",
              "  <style>\n",
              "    .colab-df-container {\n",
              "      display:flex;\n",
              "      flex-wrap:wrap;\n",
              "      gap: 12px;\n",
              "    }\n",
              "\n",
              "    .colab-df-convert {\n",
              "      background-color: #E8F0FE;\n",
              "      border: none;\n",
              "      border-radius: 50%;\n",
              "      cursor: pointer;\n",
              "      display: none;\n",
              "      fill: #1967D2;\n",
              "      height: 32px;\n",
              "      padding: 0 0 0 0;\n",
              "      width: 32px;\n",
              "    }\n",
              "\n",
              "    .colab-df-convert:hover {\n",
              "      background-color: #E2EBFA;\n",
              "      box-shadow: 0px 1px 2px rgba(60, 64, 67, 0.3), 0px 1px 3px 1px rgba(60, 64, 67, 0.15);\n",
              "      fill: #174EA6;\n",
              "    }\n",
              "\n",
              "    [theme=dark] .colab-df-convert {\n",
              "      background-color: #3B4455;\n",
              "      fill: #D2E3FC;\n",
              "    }\n",
              "\n",
              "    [theme=dark] .colab-df-convert:hover {\n",
              "      background-color: #434B5C;\n",
              "      box-shadow: 0px 1px 3px 1px rgba(0, 0, 0, 0.15);\n",
              "      filter: drop-shadow(0px 1px 2px rgba(0, 0, 0, 0.3));\n",
              "      fill: #FFFFFF;\n",
              "    }\n",
              "  </style>\n",
              "\n",
              "      <script>\n",
              "        const buttonEl =\n",
              "          document.querySelector('#df-e679564c-b24c-40bc-88b7-5ba044b8c356 button.colab-df-convert');\n",
              "        buttonEl.style.display =\n",
              "          google.colab.kernel.accessAllowed ? 'block' : 'none';\n",
              "\n",
              "        async function convertToInteractive(key) {\n",
              "          const element = document.querySelector('#df-e679564c-b24c-40bc-88b7-5ba044b8c356');\n",
              "          const dataTable =\n",
              "            await google.colab.kernel.invokeFunction('convertToInteractive',\n",
              "                                                     [key], {});\n",
              "          if (!dataTable) return;\n",
              "\n",
              "          const docLinkHtml = 'Like what you see? Visit the ' +\n",
              "            '<a target=\"_blank\" href=https://colab.research.google.com/notebooks/data_table.ipynb>data table notebook</a>'\n",
              "            + ' to learn more about interactive tables.';\n",
              "          element.innerHTML = '';\n",
              "          dataTable['output_type'] = 'display_data';\n",
              "          await google.colab.output.renderOutput(dataTable, element);\n",
              "          const docLink = document.createElement('div');\n",
              "          docLink.innerHTML = docLinkHtml;\n",
              "          element.appendChild(docLink);\n",
              "        }\n",
              "      </script>\n",
              "    </div>\n",
              "  </div>\n",
              "  "
            ]
          },
          "metadata": {},
          "execution_count": 55
        }
      ]
    },
    {
      "cell_type": "code",
      "source": [
        "df_na = (df.isnull().sum() / len(df)) * 100\n",
        "# The column \"use_oxford_comma\" is dropped from missing_data because it has 0 \n",
        "# missing data.\n",
        "df_na = df_na.drop(df_na[df_na == 0].index).sort_values(ascending=False)[:30]\n",
        "missing_data = pd.DataFrame({'Missing Ratio' :df_na})\n",
        "missing_data.head(20)"
      ],
      "metadata": {
        "colab": {
          "base_uri": "https://localhost:8080/"
        },
        "id": "HA6hoeZ1u7o9",
        "outputId": "215e4bc0-073b-46eb-8558-02e2786302af"
      },
      "execution_count": null,
      "outputs": [
        {
          "output_type": "execute_result",
          "data": {
            "text/plain": [
              "                  Missing Ratio\n",
              "household_income      19.382835\n",
              "education              1.060752\n",
              "location               0.964320\n",
              "use_data_plural        0.385728"
            ],
            "text/html": [
              "\n",
              "  <div id=\"df-d999a805-cb71-45a3-bce0-22be7279e14c\">\n",
              "    <div class=\"colab-df-container\">\n",
              "      <div>\n",
              "<style scoped>\n",
              "    .dataframe tbody tr th:only-of-type {\n",
              "        vertical-align: middle;\n",
              "    }\n",
              "\n",
              "    .dataframe tbody tr th {\n",
              "        vertical-align: top;\n",
              "    }\n",
              "\n",
              "    .dataframe thead th {\n",
              "        text-align: right;\n",
              "    }\n",
              "</style>\n",
              "<table border=\"1\" class=\"dataframe\">\n",
              "  <thead>\n",
              "    <tr style=\"text-align: right;\">\n",
              "      <th></th>\n",
              "      <th>Missing Ratio</th>\n",
              "    </tr>\n",
              "  </thead>\n",
              "  <tbody>\n",
              "    <tr>\n",
              "      <th>household_income</th>\n",
              "      <td>19.382835</td>\n",
              "    </tr>\n",
              "    <tr>\n",
              "      <th>education</th>\n",
              "      <td>1.060752</td>\n",
              "    </tr>\n",
              "    <tr>\n",
              "      <th>location</th>\n",
              "      <td>0.964320</td>\n",
              "    </tr>\n",
              "    <tr>\n",
              "      <th>use_data_plural</th>\n",
              "      <td>0.385728</td>\n",
              "    </tr>\n",
              "  </tbody>\n",
              "</table>\n",
              "</div>\n",
              "      <button class=\"colab-df-convert\" onclick=\"convertToInteractive('df-d999a805-cb71-45a3-bce0-22be7279e14c')\"\n",
              "              title=\"Convert this dataframe to an interactive table.\"\n",
              "              style=\"display:none;\">\n",
              "        \n",
              "  <svg xmlns=\"http://www.w3.org/2000/svg\" height=\"24px\"viewBox=\"0 0 24 24\"\n",
              "       width=\"24px\">\n",
              "    <path d=\"M0 0h24v24H0V0z\" fill=\"none\"/>\n",
              "    <path d=\"M18.56 5.44l.94 2.06.94-2.06 2.06-.94-2.06-.94-.94-2.06-.94 2.06-2.06.94zm-11 1L8.5 8.5l.94-2.06 2.06-.94-2.06-.94L8.5 2.5l-.94 2.06-2.06.94zm10 10l.94 2.06.94-2.06 2.06-.94-2.06-.94-.94-2.06-.94 2.06-2.06.94z\"/><path d=\"M17.41 7.96l-1.37-1.37c-.4-.4-.92-.59-1.43-.59-.52 0-1.04.2-1.43.59L10.3 9.45l-7.72 7.72c-.78.78-.78 2.05 0 2.83L4 21.41c.39.39.9.59 1.41.59.51 0 1.02-.2 1.41-.59l7.78-7.78 2.81-2.81c.8-.78.8-2.07 0-2.86zM5.41 20L4 18.59l7.72-7.72 1.47 1.35L5.41 20z\"/>\n",
              "  </svg>\n",
              "      </button>\n",
              "      \n",
              "  <style>\n",
              "    .colab-df-container {\n",
              "      display:flex;\n",
              "      flex-wrap:wrap;\n",
              "      gap: 12px;\n",
              "    }\n",
              "\n",
              "    .colab-df-convert {\n",
              "      background-color: #E8F0FE;\n",
              "      border: none;\n",
              "      border-radius: 50%;\n",
              "      cursor: pointer;\n",
              "      display: none;\n",
              "      fill: #1967D2;\n",
              "      height: 32px;\n",
              "      padding: 0 0 0 0;\n",
              "      width: 32px;\n",
              "    }\n",
              "\n",
              "    .colab-df-convert:hover {\n",
              "      background-color: #E2EBFA;\n",
              "      box-shadow: 0px 1px 2px rgba(60, 64, 67, 0.3), 0px 1px 3px 1px rgba(60, 64, 67, 0.15);\n",
              "      fill: #174EA6;\n",
              "    }\n",
              "\n",
              "    [theme=dark] .colab-df-convert {\n",
              "      background-color: #3B4455;\n",
              "      fill: #D2E3FC;\n",
              "    }\n",
              "\n",
              "    [theme=dark] .colab-df-convert:hover {\n",
              "      background-color: #434B5C;\n",
              "      box-shadow: 0px 1px 3px 1px rgba(0, 0, 0, 0.15);\n",
              "      filter: drop-shadow(0px 1px 2px rgba(0, 0, 0, 0.3));\n",
              "      fill: #FFFFFF;\n",
              "    }\n",
              "  </style>\n",
              "\n",
              "      <script>\n",
              "        const buttonEl =\n",
              "          document.querySelector('#df-d999a805-cb71-45a3-bce0-22be7279e14c button.colab-df-convert');\n",
              "        buttonEl.style.display =\n",
              "          google.colab.kernel.accessAllowed ? 'block' : 'none';\n",
              "\n",
              "        async function convertToInteractive(key) {\n",
              "          const element = document.querySelector('#df-d999a805-cb71-45a3-bce0-22be7279e14c');\n",
              "          const dataTable =\n",
              "            await google.colab.kernel.invokeFunction('convertToInteractive',\n",
              "                                                     [key], {});\n",
              "          if (!dataTable) return;\n",
              "\n",
              "          const docLinkHtml = 'Like what you see? Visit the ' +\n",
              "            '<a target=\"_blank\" href=https://colab.research.google.com/notebooks/data_table.ipynb>data table notebook</a>'\n",
              "            + ' to learn more about interactive tables.';\n",
              "          element.innerHTML = '';\n",
              "          dataTable['output_type'] = 'display_data';\n",
              "          await google.colab.output.renderOutput(dataTable, element);\n",
              "          const docLink = document.createElement('div');\n",
              "          docLink.innerHTML = docLinkHtml;\n",
              "          element.appendChild(docLink);\n",
              "        }\n",
              "      </script>\n",
              "    </div>\n",
              "  </div>\n",
              "  "
            ]
          },
          "metadata": {},
          "execution_count": 56
        }
      ]
    },
    {
      "cell_type": "code",
      "source": [
        "# Visualize the missing ratios\n",
        "f, ax = plt.subplots(figsize=(12, 10))\n",
        "plt.xticks(rotation='90')\n",
        "sns.barplot(x=df_na.index, y=df_na)\n",
        "plt.xlabel('Features', fontsize=15)\n",
        "plt.ylabel('Percent of missing values', fontsize=15)\n",
        "plt.title('Percent missing data by feature', fontsize=15)"
      ],
      "metadata": {
        "colab": {
          "base_uri": "https://localhost:8080/"
        },
        "id": "lpX1IXhFu7rW",
        "outputId": "a9c50bea-b93d-4b5b-aa0a-2c57995b0a90"
      },
      "execution_count": null,
      "outputs": [
        {
          "output_type": "execute_result",
          "data": {
            "text/plain": [
              "Text(0.5, 1.0, 'Percent missing data by feature')"
            ]
          },
          "metadata": {},
          "execution_count": 57
        },
        {
          "output_type": "display_data",
          "data": {
            "text/plain": [
              "<Figure size 864x720 with 1 Axes>"
            ],
            "image/png": "[encoded data removed]"
          },
          "metadata": {
            "needs_background": "light"
          }
        }
      ]
    },
    {
      "cell_type": "markdown",
      "source": [
        "- **Missing value imputation** : For now, all the missing values are replaced by the most frequent value in that column (the mode)"
      ],
      "metadata": {
        "id": "ghescddUvw_T"
      }
    },
    {
      "cell_type": "code",
      "source": [
        "import numpy as np\n",
        "\n",
        "for i in range(df.shape[1]):\n",
        "    df[df.columns[i]] = np.where(df[df.columns[i]].isna(), \n",
        "    df[df.columns[i]].mode(), df[df.columns[i]])\n",
        "print(df[25:35])\n",
        "\n",
        "# For future improvement, maybe use SimpleImputer(strategy='most_frequent') \n",
        "# instead of manual imputation"
      ],
      "metadata": {
        "colab": {
          "base_uri": "https://localhost:8080/"
        },
        "id": "zh3pfYnkvoX3",
        "outputId": "022675a0-4bb6-4d87-c3a0-d30a6d5ad4f7"
      },
      "execution_count": null,
      "outputs": [
        {
          "output_type": "stream",
          "name": "stdout",
          "text": [
            "   use_oxford_comma heard_of_comma care_for_comma use_data_plural  \\\n",
            "28               No            Yes       Not much              No   \n",
            "29              Yes            Yes           Some              No   \n",
            "30              Yes            Yes           Some              No   \n",
            "31               No             No       Not much              No   \n",
            "32               No             No       Not much              No   \n",
            "33               No            Yes          A lot              No   \n",
            "34              Yes            Yes           Some              No   \n",
            "35              Yes            Yes           Some             Yes   \n",
            "36               No            Yes       Not much              No   \n",
            "37              Yes             No           Some              No   \n",
            "\n",
            "   considered_data_plural care_data_plural          care_grammar gender  \\\n",
            "28                     No             Some  Somewhat unimportant   Male   \n",
            "29                     No             Some        Very important   Male   \n",
            "30                     No         Not much    Somewhat important   Male   \n",
            "31                     No       Not at all    Somewhat important   Male   \n",
            "32                     No       Not at all  Somewhat unimportant   Male   \n",
            "33                    Yes            A lot        Very important   Male   \n",
            "34                    Yes            A lot        Very important   Male   \n",
            "35                    Yes         Not much        Very important   Male   \n",
            "36                     No       Not at all    Somewhat important   Male   \n",
            "37                     No            A lot        Very important   Male   \n",
            "\n",
            "       household_income                         education            location  \n",
            "28            $150,000+  Some college or Associate degree  East North Central  \n",
            "29    $25,000 - $49,999                   Bachelor degree  East North Central  \n",
            "30    $50,000 - $99,999                   Bachelor degree             Pacific  \n",
            "31  $100,000 - $149,999                   Graduate degree  West South Central  \n",
            "32    $50,000 - $99,999  Some college or Associate degree  West North Central  \n",
            "33    $25,000 - $49,999  Some college or Associate degree             Pacific  \n",
            "34    $50,000 - $99,999                   Bachelor degree  West North Central  \n",
            "35    $50,000 - $99,999                   Bachelor degree             Pacific  \n",
            "36    $25,000 - $49,999                High school degree         New England  \n",
            "37    $50,000 - $99,999                   Bachelor degree            Mountain  \n"
          ]
        }
      ]
    },
    {
      "cell_type": "markdown",
      "source": [
        "Is there any remaining missing value? "
      ],
      "metadata": {
        "id": "Y7Vmb3sqv4DC"
      }
    },
    {
      "cell_type": "code",
      "source": [
        "#Check remaining missing values if any \n",
        "df_na = (df.isnull().sum() / len(df)) * 100\n",
        "df_na = df_na.drop(df_na[df_na == 0].index).sort_values(ascending=False)\n",
        "missing_data = pd.DataFrame({'Missing Ratio' :df_na})\n",
        "missing_data.head()"
      ],
      "metadata": {
        "colab": {
          "base_uri": "https://localhost:8080/"
        },
        "id": "Oc1XTX5dvoZ8",
        "outputId": "26244f2a-4b7e-4850-97c9-3a287c8f6bf7"
      },
      "execution_count": null,
      "outputs": [
        {
          "output_type": "execute_result",
          "data": {
            "text/plain": [
              "Empty DataFrame\n",
              "Columns: [Missing Ratio]\n",
              "Index: []"
            ],
            "text/html": [
              "\n",
              "  <div id=\"df-a2393941-574f-4031-bf50-54d1415f7ecb\">\n",
              "    <div class=\"colab-df-container\">\n",
              "      <div>\n",
              "<style scoped>\n",
              "    .dataframe tbody tr th:only-of-type {\n",
              "        vertical-align: middle;\n",
              "    }\n",
              "\n",
              "    .dataframe tbody tr th {\n",
              "        vertical-align: top;\n",
              "    }\n",
              "\n",
              "    .dataframe thead th {\n",
              "        text-align: right;\n",
              "    }\n",
              "</style>\n",
              "<table border=\"1\" class=\"dataframe\">\n",
              "  <thead>\n",
              "    <tr style=\"text-align: right;\">\n",
              "      <th></th>\n",
              "      <th>Missing Ratio</th>\n",
              "    </tr>\n",
              "  </thead>\n",
              "  <tbody>\n",
              "  </tbody>\n",
              "</table>\n",
              "</div>\n",
              "      <button class=\"colab-df-convert\" onclick=\"convertToInteractive('df-a2393941-574f-4031-bf50-54d1415f7ecb')\"\n",
              "              title=\"Convert this dataframe to an interactive table.\"\n",
              "              style=\"display:none;\">\n",
              "        \n",
              "  <svg xmlns=\"http://www.w3.org/2000/svg\" height=\"24px\"viewBox=\"0 0 24 24\"\n",
              "       width=\"24px\">\n",
              "    <path d=\"M0 0h24v24H0V0z\" fill=\"none\"/>\n",
              "    <path d=\"M18.56 5.44l.94 2.06.94-2.06 2.06-.94-2.06-.94-.94-2.06-.94 2.06-2.06.94zm-11 1L8.5 8.5l.94-2.06 2.06-.94-2.06-.94L8.5 2.5l-.94 2.06-2.06.94zm10 10l.94 2.06.94-2.06 2.06-.94-2.06-.94-.94-2.06-.94 2.06-2.06.94z\"/><path d=\"M17.41 7.96l-1.37-1.37c-.4-.4-.92-.59-1.43-.59-.52 0-1.04.2-1.43.59L10.3 9.45l-7.72 7.72c-.78.78-.78 2.05 0 2.83L4 21.41c.39.39.9.59 1.41.59.51 0 1.02-.2 1.41-.59l7.78-7.78 2.81-2.81c.8-.78.8-2.07 0-2.86zM5.41 20L4 18.59l7.72-7.72 1.47 1.35L5.41 20z\"/>\n",
              "  </svg>\n",
              "      </button>\n",
              "      \n",
              "  <style>\n",
              "    .colab-df-container {\n",
              "      display:flex;\n",
              "      flex-wrap:wrap;\n",
              "      gap: 12px;\n",
              "    }\n",
              "\n",
              "    .colab-df-convert {\n",
              "      background-color: #E8F0FE;\n",
              "      border: none;\n",
              "      border-radius: 50%;\n",
              "      cursor: pointer;\n",
              "      display: none;\n",
              "      fill: #1967D2;\n",
              "      height: 32px;\n",
              "      padding: 0 0 0 0;\n",
              "      width: 32px;\n",
              "    }\n",
              "\n",
              "    .colab-df-convert:hover {\n",
              "      background-color: #E2EBFA;\n",
              "      box-shadow: 0px 1px 2px rgba(60, 64, 67, 0.3), 0px 1px 3px 1px rgba(60, 64, 67, 0.15);\n",
              "      fill: #174EA6;\n",
              "    }\n",
              "\n",
              "    [theme=dark] .colab-df-convert {\n",
              "      background-color: #3B4455;\n",
              "      fill: #D2E3FC;\n",
              "    }\n",
              "\n",
              "    [theme=dark] .colab-df-convert:hover {\n",
              "      background-color: #434B5C;\n",
              "      box-shadow: 0px 1px 3px 1px rgba(0, 0, 0, 0.15);\n",
              "      filter: drop-shadow(0px 1px 2px rgba(0, 0, 0, 0.3));\n",
              "      fill: #FFFFFF;\n",
              "    }\n",
              "  </style>\n",
              "\n",
              "      <script>\n",
              "        const buttonEl =\n",
              "          document.querySelector('#df-a2393941-574f-4031-bf50-54d1415f7ecb button.colab-df-convert');\n",
              "        buttonEl.style.display =\n",
              "          google.colab.kernel.accessAllowed ? 'block' : 'none';\n",
              "\n",
              "        async function convertToInteractive(key) {\n",
              "          const element = document.querySelector('#df-a2393941-574f-4031-bf50-54d1415f7ecb');\n",
              "          const dataTable =\n",
              "            await google.colab.kernel.invokeFunction('convertToInteractive',\n",
              "                                                     [key], {});\n",
              "          if (!dataTable) return;\n",
              "\n",
              "          const docLinkHtml = 'Like what you see? Visit the ' +\n",
              "            '<a target=\"_blank\" href=https://colab.research.google.com/notebooks/data_table.ipynb>data table notebook</a>'\n",
              "            + ' to learn more about interactive tables.';\n",
              "          element.innerHTML = '';\n",
              "          dataTable['output_type'] = 'display_data';\n",
              "          await google.colab.output.renderOutput(dataTable, element);\n",
              "          const docLink = document.createElement('div');\n",
              "          docLink.innerHTML = docLinkHtml;\n",
              "          element.appendChild(docLink);\n",
              "        }\n",
              "      </script>\n",
              "    </div>\n",
              "  </div>\n",
              "  "
            ]
          },
          "metadata": {},
          "execution_count": 59
        }
      ]
    },
    {
      "cell_type": "markdown",
      "source": [
        "It remains no missing value."
      ],
      "metadata": {
        "id": "YioF2IqUv7M3"
      }
    },
    {
      "cell_type": "markdown",
      "source": [
        "## Features Engineering"
      ],
      "metadata": {
        "id": "tS8yiOAov_1e"
      }
    },
    {
      "cell_type": "markdown",
      "source": [
        "**Transforming some numerical variables that are really categorical**\n",
        "\n",
        "We do not need to transform here because all the variables are already categorical."
      ],
      "metadata": {
        "id": "Ro70ZnCVwL3u"
      }
    },
    {
      "cell_type": "markdown",
      "source": [
        "**Ordinal Encoding some categorical variables that may contain information in their ordering set** "
      ],
      "metadata": {
        "id": "8w5yxmAFwV4S"
      }
    },
    {
      "cell_type": "code",
      "source": [
        "# Label Encoding should be applied to non-ordinal (aka nominal) variables and \n",
        "# not ordinal variables in our case. So, pandas factorize method is used instead.\n",
        "\n",
        "# Here are the columns which use the same binary labels (and N/A). \n",
        "cols = ('use_oxford_comma','heard_of_comma','use_data_plural',\n",
        "       'considered_data_plural')\n",
        "\n",
        "# Using pandas factorize method for ordinal data\n",
        "for i in cols:\n",
        "  categories = pd.Categorical(df[i], categories=['No','Yes'], ordered=True)\n",
        "  \n",
        "  # Factorizing the column data\n",
        "  labels, unique = pd.factorize(categories, sort=True)\n",
        "  df[i] = labels\n",
        "\n",
        "# Here are the columns which use the same non-binary labels (not at all, not\n",
        "# much, some, a lot, and N/A). \n",
        "cols_1 = ('care_for_comma','care_data_plural')\n",
        "\n",
        "# Using pandas factorize method for ordinal data\n",
        "for i in cols_1:\n",
        "  categories = pd.Categorical(df[i], categories=['Not at all','Not much', \n",
        "                                    'Some','A lot'], ordered=True)\n",
        "  \n",
        "  # Factorizing the column data\n",
        "  labels, unique = pd.factorize(categories, sort=True)\n",
        "  df[i] = labels\n",
        "  \n",
        "# Here are the other columns which require manual transformation for the\n",
        "# categorical variables.\n",
        "# care_grammar  \n",
        "categories = pd.Categorical(df['care_grammar'], categories=[\n",
        "    'Very unimportant', 'Somewhat unimportant', 'Neutral', \n",
        "    'Somewhat important', 'Very important'], ordered=True)\n",
        "# Factorizing the column data\n",
        "labels, unique = pd.factorize(categories, sort=True)\n",
        "df['care_grammar'] = labels\n",
        "\n",
        "# # gender\n",
        "categories = pd.Categorical(df['gender'], categories=['Female','Male'], \n",
        "            ordered=True)\n",
        "# Factorizing the column data\n",
        "labels, unique = pd.factorize(categories, sort=True)\n",
        "df['gender'] = labels\n",
        "\n",
        "# # age\n",
        "# categories = pd.Categorical(df['age'], categories=['18-29', '30-44', \n",
        "#                               '45-60', '> 60'], ordered=True)\n",
        "# # Factorizing the column data\n",
        "# labels, unique = pd.factorize(categories, sort=True)\n",
        "# df['age'] = labels\n",
        "\n",
        "# # household_income\n",
        "categories = pd.Categorical(df['household_income'], categories=['$0 - $24,999', \n",
        "  '$25,000 - $49,999','$50,000 - $99,999', '$100,000 - $149,999', '$150,000+'], \n",
        "  ordered=True)\n",
        "# Factorizing the column data\n",
        "labels, unique = pd.factorize(categories, sort=True)\n",
        "df['household_income'] = labels\n",
        "\n",
        "# # education\n",
        "categories = pd.Categorical(df['education'], categories=[\n",
        "    'Less than high school degree', 'High school degree', \n",
        "    'Some college or Associate degree', 'Bachelor degree', \n",
        "    'Graduate degree'], ordered=True)\n",
        "# Factorizing the column data\n",
        "labels, unique = pd.factorize(categories, sort=True)\n",
        "df['education'] = labels"
      ],
      "metadata": {
        "id": "pZFok5Zsv9go"
      },
      "execution_count": null,
      "outputs": []
    },
    {
      "cell_type": "code",
      "source": [
        "print(df.head())"
      ],
      "metadata": {
        "colab": {
          "base_uri": "https://localhost:8080/"
        },
        "id": "s_LhAPcOwbKK",
        "outputId": "d263aba9-3794-41fb-9dbe-12126b14fa18"
      },
      "execution_count": null,
      "outputs": [
        {
          "output_type": "stream",
          "name": "stdout",
          "text": [
            "   use_oxford_comma  heard_of_comma  care_for_comma  use_data_plural  \\\n",
            "0                 0               1               2                0   \n",
            "1                 1               0               1                0   \n",
            "2                 1               1               2                0   \n",
            "3                 1               1               2                0   \n",
            "5                 1               0               3                1   \n",
            "\n",
            "   considered_data_plural  care_data_plural  care_grammar  gender  \\\n",
            "0                       0                 1             3       1   \n",
            "1                       0                 1             1       1   \n",
            "2                       1                 0             4       1   \n",
            "3                       0                 2             3       1   \n",
            "5                       1                 2             4       1   \n",
            "\n",
            "   household_income  education            location  \n",
            "0                 2          3      South Atlantic  \n",
            "1                 2          4            Mountain  \n",
            "2                 2          3  East North Central  \n",
            "3                 2          0     Middle Atlantic  \n",
            "5                 1          2         New England  \n"
          ]
        }
      ]
    },
    {
      "cell_type": "code",
      "source": [
        "y[0:10]"
      ],
      "metadata": {
        "colab": {
          "base_uri": "https://localhost:8080/"
        },
        "id": "kwUvrVXwwbMh",
        "outputId": "2e325339-f4ba-45e6-dad4-c1ffbfbe593b"
      },
      "execution_count": null,
      "outputs": [
        {
          "output_type": "execute_result",
          "data": {
            "text/plain": [
              "      age\n",
              "0   30-44\n",
              "1   30-44\n",
              "2   30-44\n",
              "3   18-29\n",
              "5   18-29\n",
              "6   18-29\n",
              "7   18-29\n",
              "8   30-44\n",
              "9   30-44\n",
              "10  18-29"
            ],
            "text/html": [
              "\n",
              "  <div id=\"df-c06ced35-d414-4782-b89e-ce39c3ff5eb0\">\n",
              "    <div class=\"colab-df-container\">\n",
              "      <div>\n",
              "<style scoped>\n",
              "    .dataframe tbody tr th:only-of-type {\n",
              "        vertical-align: middle;\n",
              "    }\n",
              "\n",
              "    .dataframe tbody tr th {\n",
              "        vertical-align: top;\n",
              "    }\n",
              "\n",
              "    .dataframe thead th {\n",
              "        text-align: right;\n",
              "    }\n",
              "</style>\n",
              "<table border=\"1\" class=\"dataframe\">\n",
              "  <thead>\n",
              "    <tr style=\"text-align: right;\">\n",
              "      <th></th>\n",
              "      <th>age</th>\n",
              "    </tr>\n",
              "  </thead>\n",
              "  <tbody>\n",
              "    <tr>\n",
              "      <th>0</th>\n",
              "      <td>30-44</td>\n",
              "    </tr>\n",
              "    <tr>\n",
              "      <th>1</th>\n",
              "      <td>30-44</td>\n",
              "    </tr>\n",
              "    <tr>\n",
              "      <th>2</th>\n",
              "      <td>30-44</td>\n",
              "    </tr>\n",
              "    <tr>\n",
              "      <th>3</th>\n",
              "      <td>18-29</td>\n",
              "    </tr>\n",
              "    <tr>\n",
              "      <th>5</th>\n",
              "      <td>18-29</td>\n",
              "    </tr>\n",
              "    <tr>\n",
              "      <th>6</th>\n",
              "      <td>18-29</td>\n",
              "    </tr>\n",
              "    <tr>\n",
              "      <th>7</th>\n",
              "      <td>18-29</td>\n",
              "    </tr>\n",
              "    <tr>\n",
              "      <th>8</th>\n",
              "      <td>30-44</td>\n",
              "    </tr>\n",
              "    <tr>\n",
              "      <th>9</th>\n",
              "      <td>30-44</td>\n",
              "    </tr>\n",
              "    <tr>\n",
              "      <th>10</th>\n",
              "      <td>18-29</td>\n",
              "    </tr>\n",
              "  </tbody>\n",
              "</table>\n",
              "</div>\n",
              "      <button class=\"colab-df-convert\" onclick=\"convertToInteractive('df-c06ced35-d414-4782-b89e-ce39c3ff5eb0')\"\n",
              "              title=\"Convert this dataframe to an interactive table.\"\n",
              "              style=\"display:none;\">\n",
              "        \n",
              "  <svg xmlns=\"http://www.w3.org/2000/svg\" height=\"24px\"viewBox=\"0 0 24 24\"\n",
              "       width=\"24px\">\n",
              "    <path d=\"M0 0h24v24H0V0z\" fill=\"none\"/>\n",
              "    <path d=\"M18.56 5.44l.94 2.06.94-2.06 2.06-.94-2.06-.94-.94-2.06-.94 2.06-2.06.94zm-11 1L8.5 8.5l.94-2.06 2.06-.94-2.06-.94L8.5 2.5l-.94 2.06-2.06.94zm10 10l.94 2.06.94-2.06 2.06-.94-2.06-.94-.94-2.06-.94 2.06-2.06.94z\"/><path d=\"M17.41 7.96l-1.37-1.37c-.4-.4-.92-.59-1.43-.59-.52 0-1.04.2-1.43.59L10.3 9.45l-7.72 7.72c-.78.78-.78 2.05 0 2.83L4 21.41c.39.39.9.59 1.41.59.51 0 1.02-.2 1.41-.59l7.78-7.78 2.81-2.81c.8-.78.8-2.07 0-2.86zM5.41 20L4 18.59l7.72-7.72 1.47 1.35L5.41 20z\"/>\n",
              "  </svg>\n",
              "      </button>\n",
              "      \n",
              "  <style>\n",
              "    .colab-df-container {\n",
              "      display:flex;\n",
              "      flex-wrap:wrap;\n",
              "      gap: 12px;\n",
              "    }\n",
              "\n",
              "    .colab-df-convert {\n",
              "      background-color: #E8F0FE;\n",
              "      border: none;\n",
              "      border-radius: 50%;\n",
              "      cursor: pointer;\n",
              "      display: none;\n",
              "      fill: #1967D2;\n",
              "      height: 32px;\n",
              "      padding: 0 0 0 0;\n",
              "      width: 32px;\n",
              "    }\n",
              "\n",
              "    .colab-df-convert:hover {\n",
              "      background-color: #E2EBFA;\n",
              "      box-shadow: 0px 1px 2px rgba(60, 64, 67, 0.3), 0px 1px 3px 1px rgba(60, 64, 67, 0.15);\n",
              "      fill: #174EA6;\n",
              "    }\n",
              "\n",
              "    [theme=dark] .colab-df-convert {\n",
              "      background-color: #3B4455;\n",
              "      fill: #D2E3FC;\n",
              "    }\n",
              "\n",
              "    [theme=dark] .colab-df-convert:hover {\n",
              "      background-color: #434B5C;\n",
              "      box-shadow: 0px 1px 3px 1px rgba(0, 0, 0, 0.15);\n",
              "      filter: drop-shadow(0px 1px 2px rgba(0, 0, 0, 0.3));\n",
              "      fill: #FFFFFF;\n",
              "    }\n",
              "  </style>\n",
              "\n",
              "      <script>\n",
              "        const buttonEl =\n",
              "          document.querySelector('#df-c06ced35-d414-4782-b89e-ce39c3ff5eb0 button.colab-df-convert');\n",
              "        buttonEl.style.display =\n",
              "          google.colab.kernel.accessAllowed ? 'block' : 'none';\n",
              "\n",
              "        async function convertToInteractive(key) {\n",
              "          const element = document.querySelector('#df-c06ced35-d414-4782-b89e-ce39c3ff5eb0');\n",
              "          const dataTable =\n",
              "            await google.colab.kernel.invokeFunction('convertToInteractive',\n",
              "                                                     [key], {});\n",
              "          if (!dataTable) return;\n",
              "\n",
              "          const docLinkHtml = 'Like what you see? Visit the ' +\n",
              "            '<a target=\"_blank\" href=https://colab.research.google.com/notebooks/data_table.ipynb>data table notebook</a>'\n",
              "            + ' to learn more about interactive tables.';\n",
              "          element.innerHTML = '';\n",
              "          dataTable['output_type'] = 'display_data';\n",
              "          await google.colab.output.renderOutput(dataTable, element);\n",
              "          const docLink = document.createElement('div');\n",
              "          docLink.innerHTML = docLinkHtml;\n",
              "          element.appendChild(docLink);\n",
              "        }\n",
              "      </script>\n",
              "    </div>\n",
              "  </div>\n",
              "  "
            ]
          },
          "metadata": {},
          "execution_count": 62
        }
      ]
    },
    {
      "cell_type": "code",
      "source": [
        "# transform the multi-class label (apply factorization to categorical features)\n",
        "# household_income\n",
        "y.loc[:,'age'] = np.where(y.loc[:,'age'].isna(), y.loc[:,'age'].mode(), y.loc[:,'age'])\n",
        "\n",
        "categories = pd.Categorical(y.loc[:,'age'], categories=['18-29', '30-44', \n",
        "                              '45-60', '> 60'], ordered=True)\n",
        "# Factorizing the column data\n",
        "labels, unique = pd.factorize(categories, sort=True)\n",
        "y = labels"
      ],
      "metadata": {
        "colab": {
          "base_uri": "https://localhost:8080/"
        },
        "id": "g37sjNWkwbO3",
        "outputId": "18e7dcc3-e6ba-4c93-a437-83e0d660a0d6"
      },
      "execution_count": null,
      "outputs": [
        {
          "output_type": "stream",
          "name": "stderr",
          "text": [
            "/usr/local/lib/python3.7/dist-packages/pandas/core/indexing.py:1951: SettingWithCopyWarning: \n",
            "A value is trying to be set on a copy of a slice from a DataFrame.\n",
            "Try using .loc[row_indexer,col_indexer] = value instead\n",
            "\n",
            "See the caveats in the documentation: https://pandas.pydata.org/pandas-docs/stable/user_guide/indexing.html#returning-a-view-versus-a-copy\n",
            "  self.obj[selected_item_labels] = value\n"
          ]
        }
      ]
    },
    {
      "cell_type": "code",
      "source": [
        "print(y[0:10])"
      ],
      "metadata": {
        "colab": {
          "base_uri": "https://localhost:8080/"
        },
        "id": "nRSTn-cxwkjO",
        "outputId": "1ffc5f34-0b9d-466c-e0b0-a1e42199663b"
      },
      "execution_count": null,
      "outputs": [
        {
          "output_type": "stream",
          "name": "stdout",
          "text": [
            "[1 1 1 0 0 0 0 1 1 0]\n"
          ]
        }
      ]
    },
    {
      "cell_type": "markdown",
      "source": [
        "**Getting dummy categorical features**\n",
        "\n",
        "For binary, ordinal, and interval variables, we would not like to one-hot-code all the classes. There is no need for binary variables; and for ordinal and interval variables, doing so would affect the distance between each class [which should be the same].\n",
        "\n",
        "For other variables (like nominal variables e.g. location) which does not have natural rank ordering, we can just one-hot-code it."
      ],
      "metadata": {
        "id": "wMwfB1cdxEDF"
      }
    },
    {
      "cell_type": "code",
      "source": [
        "df = pd.get_dummies(df)\n",
        "print(df.shape)"
      ],
      "metadata": {
        "colab": {
          "base_uri": "https://localhost:8080/"
        },
        "id": "81Fa3R3VxDei",
        "outputId": "ccfebf28-238f-40ef-e180-5b053f503a43"
      },
      "execution_count": null,
      "outputs": [
        {
          "output_type": "stream",
          "name": "stdout",
          "text": [
            "(1037, 19)\n"
          ]
        }
      ]
    },
    {
      "cell_type": "code",
      "source": [
        "print(df.head())"
      ],
      "metadata": {
        "colab": {
          "base_uri": "https://localhost:8080/"
        },
        "id": "jZZRyfXyxgsq",
        "outputId": "61ea5e8a-37be-429e-9df4-0364f382a200"
      },
      "execution_count": null,
      "outputs": [
        {
          "output_type": "stream",
          "name": "stdout",
          "text": [
            "   use_oxford_comma  heard_of_comma  care_for_comma  use_data_plural  \\\n",
            "0                 0               1               2                0   \n",
            "1                 1               0               1                0   \n",
            "2                 1               1               2                0   \n",
            "3                 1               1               2                0   \n",
            "5                 1               0               3                1   \n",
            "\n",
            "   considered_data_plural  care_data_plural  care_grammar  gender  \\\n",
            "0                       0                 1             3       1   \n",
            "1                       0                 1             1       1   \n",
            "2                       1                 0             4       1   \n",
            "3                       0                 2             3       1   \n",
            "5                       1                 2             4       1   \n",
            "\n",
            "   household_income  education  location_East North Central  \\\n",
            "0                 2          3                            0   \n",
            "1                 2          4                            0   \n",
            "2                 2          3                            1   \n",
            "3                 2          0                            0   \n",
            "5                 1          2                            0   \n",
            "\n",
            "   location_East South Central  location_Middle Atlantic  location_Mountain  \\\n",
            "0                            0                         0                  0   \n",
            "1                            0                         0                  1   \n",
            "2                            0                         0                  0   \n",
            "3                            0                         1                  0   \n",
            "5                            0                         0                  0   \n",
            "\n",
            "   location_New England  location_Pacific  location_South Atlantic  \\\n",
            "0                     0                 0                        1   \n",
            "1                     0                 0                        0   \n",
            "2                     0                 0                        0   \n",
            "3                     0                 0                        0   \n",
            "5                     1                 0                        0   \n",
            "\n",
            "   location_West North Central  location_West South Central  \n",
            "0                            0                            0  \n",
            "1                            0                            0  \n",
            "2                            0                            0  \n",
            "3                            0                            0  \n",
            "5                            0                            0  \n"
          ]
        }
      ]
    },
    {
      "cell_type": "markdown",
      "source": [
        "Spliting the train and test sets. We only include the grammar-related features, not demographic features."
      ],
      "metadata": {
        "id": "cefxEmJTxksc"
      }
    },
    {
      "cell_type": "code",
      "source": [
        "from sklearn.model_selection import train_test_split\n",
        "\n",
        "X_train, X_test, y_train, y_test = train_test_split(df[['use_oxford_comma', \n",
        "'heard_of_comma', 'care_for_comma', 'use_data_plural', 'considered_data_plural',\n",
        "'care_data_plural', 'care_grammar']], y, test_size=0.2, random_state=0)"
      ],
      "metadata": {
        "id": "b40yf7a0xlo8"
      },
      "execution_count": null,
      "outputs": []
    },
    {
      "cell_type": "markdown",
      "source": [
        "## Algorithm"
      ],
      "metadata": {
        "id": "HmAkS6Ryz2IE"
      }
    },
    {
      "cell_type": "markdown",
      "source": [
        "#### Logistic Regression"
      ],
      "metadata": {
        "id": "rB-Nb3DH0ZSc"
      }
    },
    {
      "cell_type": "markdown",
      "source": [
        "Logistic Regression (Baseline) w/o optimization"
      ],
      "metadata": {
        "id": "ymv_Z84Fz-MH"
      }
    },
    {
      "cell_type": "code",
      "source": [
        "from sklearn.linear_model import LogisticRegression\n",
        "from sklearn.metrics import f1_score\n",
        "from sklearn.metrics import confusion_matrix\n",
        "from sklearn.metrics import classification_report\n",
        "\n",
        "X_train, X_test, y_train, y_test = train_test_split(df[['use_oxford_comma', \n",
        "'heard_of_comma', 'care_for_comma', 'use_data_plural', 'considered_data_plural',\n",
        "'care_data_plural', 'care_grammar']], y, test_size=0.2,\n",
        "random_state=0)\n",
        "\n",
        "model = LogisticRegression(random_state=0, max_iter=500)\n",
        "model.fit(X_train, y_train)\n",
        "y_pred_test_ = model.predict(X_test)\n",
        "\n",
        "# Score to evaluate model performance\n",
        "# print(\"Test set accuracy is: \", model_selected_features.score(X_test, y_test))\n",
        "print(\"Test set F1 score is: \",  f1_score(y_test, y_pred_test_, average='micro'))\n",
        "\n",
        "mat = confusion_matrix(y_pred_test_, y_test)\n",
        "sns.heatmap(mat.T, square=True, annot=True, fmt='d', cbar=False,)\n",
        "plt.xlabel('predicted label')\n",
        "plt.ylabel('true label')\n",
        "\n",
        "precision_recall = classification_report(y_test, y_pred_test_)\n",
        "print(precision_recall)"
      ],
      "metadata": {
        "colab": {
          "base_uri": "https://localhost:8080/",
          "height": 493
        },
        "id": "WjwvgyhPz0dl",
        "outputId": "6f5ed415-c204-42a8-8d12-8350dd182635"
      },
      "execution_count": null,
      "outputs": [
        {
          "output_type": "stream",
          "name": "stdout",
          "text": [
            "Test set F1 score is:  0.38461538461538464\n",
            "              precision    recall  f1-score   support\n",
            "\n",
            "           0       0.39      0.66      0.49        38\n",
            "           1       0.38      0.19      0.26        52\n",
            "           2       0.38      0.30      0.33        60\n",
            "           3       0.39      0.47      0.42        58\n",
            "\n",
            "    accuracy                           0.38       208\n",
            "   macro avg       0.38      0.40      0.38       208\n",
            "weighted avg       0.38      0.38      0.37       208\n",
            "\n"
          ]
        },
        {
          "output_type": "display_data",
          "data": {
            "text/plain": [
              "<Figure size 432x288 with 1 Axes>"
            ],
            "image/png": "[encoded data removed]"
          },
          "metadata": {
            "needs_background": "light"
          }
        }
      ]
    },
    {
      "cell_type": "markdown",
      "source": [
        "Logistic Regression (w/ standardization)"
      ],
      "metadata": {
        "id": "uVkjL5BB0R3Q"
      }
    },
    {
      "cell_type": "code",
      "source": [
        "from sklearn.preprocessing import StandardScaler\n",
        "from sklearn.metrics import f1_score\n",
        "from sklearn.metrics import confusion_matrix\n",
        "from sklearn.metrics import classification_report\n",
        "\n",
        "# have the train data split into train and cross validation data\n",
        "X_train_2, X_val, y_train_2, y_val = train_test_split(X_train, \n",
        "                            y_train, test_size=0.2, random_state=0)\n",
        "\n",
        "ss = StandardScaler()\n",
        "X_train_2_scaled = pd.DataFrame(ss.fit_transform(X_train_2), \n",
        "columns=X_train_2.columns)\n",
        "X_val_scaled = pd.DataFrame(ss.transform(X_val), columns=X_val.columns)\n",
        "\n",
        "# Scale full training set (since we do CV training later)\n",
        "X_train_scaled = pd.DataFrame(ss.fit_transform(X_train), columns=X_train.columns)\n",
        "X_test_scaled = pd.DataFrame(ss.transform(X_test), columns=X_test.columns)\n",
        "\n",
        "model = LogisticRegression(random_state=0, max_iter=500)\n",
        "model.fit(X_train_scaled, y_train)\n",
        "y_pred_test_ = model.predict(X_test_scaled)\n",
        "\n",
        "# Score to evaluate model performance\n",
        "# print(\"Test set accuracy is: \", model_selected_features.score(X_test, y_test))\n",
        "print(\"Test set F1 score is: \",  f1_score(y_test, y_pred_test_, average='micro'))\n",
        "\n",
        "mat = confusion_matrix(y_pred_test_, y_test)\n",
        "sns.heatmap(mat.T, square=True, annot=True, fmt='d', cbar=False,)\n",
        "plt.xlabel('predicted label')\n",
        "plt.ylabel('true label')\n",
        "\n",
        "precision_recall = classification_report(y_test, y_pred_test_)\n",
        "print(precision_recall)\n",
        "\n",
        "# The F1 score after standardization decreases by a negligible amount. We \n",
        "# keep the step of standardization."
      ],
      "metadata": {
        "colab": {
          "base_uri": "https://localhost:8080/",
          "height": 493
        },
        "id": "xercBBkK0BPn",
        "outputId": "d736fc7b-9c84-4dd7-e1d4-b44c0b6c2bab"
      },
      "execution_count": null,
      "outputs": [
        {
          "output_type": "stream",
          "name": "stdout",
          "text": [
            "Test set F1 score is:  0.38461538461538464\n",
            "              precision    recall  f1-score   support\n",
            "\n",
            "           0       0.39      0.66      0.49        38\n",
            "           1       0.38      0.19      0.26        52\n",
            "           2       0.38      0.30      0.33        60\n",
            "           3       0.39      0.47      0.42        58\n",
            "\n",
            "    accuracy                           0.38       208\n",
            "   macro avg       0.38      0.40      0.38       208\n",
            "weighted avg       0.38      0.38      0.37       208\n",
            "\n"
          ]
        },
        {
          "output_type": "display_data",
          "data": {
            "text/plain": [
              "<Figure size 432x288 with 1 Axes>"
            ],
            "image/png": "[encoded data removed]"
          },
          "metadata": {
            "needs_background": "light"
          }
        }
      ]
    },
    {
      "cell_type": "markdown",
      "source": [
        "Logistic Regression: the addition of class weights to the model's loss function (to resolve skewness)"
      ],
      "metadata": {
        "id": "nb3X2A_o0fFw"
      }
    },
    {
      "cell_type": "code",
      "source": [
        "from sklearn.metrics import f1_score\n",
        "from sklearn.metrics import confusion_matrix\n",
        "from sklearn.metrics import classification_report\n",
        "\n",
        "model = LogisticRegression(random_state=0, max_iter=500, \n",
        "class_weight = 'balanced')\n",
        "\n",
        "model.fit(X_train_scaled, y_train)\n",
        "y_pred_test_ = model.predict(X_test_scaled)\n",
        "\n",
        "# Score to evaluate model performance\n",
        "# print(\"Test set accuracy is: \", model_selected_features.score(X_test, y_test))\n",
        "print(\"Test set F1 score is: \",  f1_score(y_test, y_pred_test_, average='micro'))\n",
        "\n",
        "mat = confusion_matrix(y_pred_test_, y_test)\n",
        "sns.heatmap(mat.T, square=True, annot=True, fmt='d', cbar=False,)\n",
        "plt.xlabel('predicted label')\n",
        "plt.ylabel('true label')\n",
        "\n",
        "precision_recall = classification_report(y_test, y_pred_test_)\n",
        "print(precision_recall)\n",
        "\n",
        "# The F1 score decreases after applying class weights, but it does not tend to\n",
        "# bias the most frequent class (class 3). So, we keep the addition of class\n",
        "# weights."
      ],
      "metadata": {
        "colab": {
          "base_uri": "https://localhost:8080/",
          "height": 493
        },
        "id": "2IeNGL2f0BRw",
        "outputId": "eb34fbbc-9bbd-48d7-c4df-3d7d34ae6f2b"
      },
      "execution_count": null,
      "outputs": [
        {
          "output_type": "stream",
          "name": "stdout",
          "text": [
            "Test set F1 score is:  0.35096153846153844\n",
            "              precision    recall  f1-score   support\n",
            "\n",
            "           0       0.33      0.66      0.44        38\n",
            "           1       0.38      0.15      0.22        52\n",
            "           2       0.30      0.15      0.20        60\n",
            "           3       0.38      0.53      0.45        58\n",
            "\n",
            "    accuracy                           0.35       208\n",
            "   macro avg       0.35      0.37      0.33       208\n",
            "weighted avg       0.35      0.35      0.32       208\n",
            "\n"
          ]
        },
        {
          "output_type": "display_data",
          "data": {
            "text/plain": [
              "<Figure size 432x288 with 1 Axes>"
            ],
            "image/png": "[encoded data removed]"
          },
          "metadata": {
            "needs_background": "light"
          }
        }
      ]
    },
    {
      "cell_type": "markdown",
      "source": [
        "Logistic Regression: after oversampling"
      ],
      "metadata": {
        "id": "B_oHT9kP02Pc"
      }
    },
    {
      "cell_type": "code",
      "source": [
        "!pip install imbalanced-learn"
      ],
      "metadata": {
        "colab": {
          "base_uri": "https://localhost:8080/"
        },
        "id": "SA1QmF7x0JNk",
        "outputId": "73f2310f-95d9-4aab-cbf2-9a2aa434cb74"
      },
      "execution_count": null,
      "outputs": [
        {
          "output_type": "stream",
          "name": "stdout",
          "text": [
            "Looking in indexes: https://pypi.org/simple, https://us-python.pkg.dev/colab-wheels/public/simple/\n",
            "Requirement already satisfied: imbalanced-learn in /usr/local/lib/python3.7/dist-packages (0.8.1)\n",
            "Requirement already satisfied: scipy>=0.19.1 in /usr/local/lib/python3.7/dist-packages (from imbalanced-learn) (1.7.3)\n",
            "Requirement already satisfied: joblib>=0.11 in /usr/local/lib/python3.7/dist-packages (from imbalanced-learn) (1.2.0)\n",
            "Requirement already satisfied: scikit-learn>=0.24 in /usr/local/lib/python3.7/dist-packages (from imbalanced-learn) (1.0.2)\n",
            "Requirement already satisfied: numpy>=1.13.3 in /usr/local/lib/python3.7/dist-packages (from imbalanced-learn) (1.21.6)\n",
            "Requirement already satisfied: threadpoolctl>=2.0.0 in /usr/local/lib/python3.7/dist-packages (from scikit-learn>=0.24->imbalanced-learn) (3.1.0)\n"
          ]
        }
      ]
    },
    {
      "cell_type": "code",
      "source": [
        "# https://imbalanced-learn.org/stable/over_sampling.html#a-practical-guide\n",
        "from imblearn.over_sampling import RandomOverSampler\n",
        "\n",
        "ros = RandomOverSampler(random_state=0, sampling_strategy='not majority')\n",
        "X_resampled, y_resampled = ros.fit_resample(X_train_scaled, y_train)\n",
        "\n",
        "use_resampled = True"
      ],
      "metadata": {
        "id": "oCthjts_0JUK"
      },
      "execution_count": null,
      "outputs": []
    },
    {
      "cell_type": "code",
      "source": [
        "from sklearn.metrics import f1_score\n",
        "from sklearn.metrics import confusion_matrix\n",
        "from sklearn.metrics import classification_report\n",
        "\n",
        "model = LogisticRegression(random_state=0, max_iter=500, \n",
        "class_weight = 'balanced')\n",
        "\n",
        "model.fit(X_resampled, y_resampled)\n",
        "y_pred_test_ = model.predict(X_test_scaled)\n",
        "\n",
        "# Score to evaluate model performance\n",
        "# print(\"Test set accuracy is: \", model_selected_features.score(X_test, y_test))\n",
        "print(\"Test set F1 score is: \",  f1_score(y_test, y_pred_test_, average='micro'))\n",
        "\n",
        "mat = confusion_matrix(y_pred_test_, y_test)\n",
        "sns.heatmap(mat.T, square=True, annot=True, fmt='d', cbar=False,)\n",
        "plt.xlabel('predicted label')\n",
        "plt.ylabel('true label')\n",
        "\n",
        "precision_recall = classification_report(y_test, y_pred_test_)\n",
        "print(precision_recall)\n",
        "\n",
        "# The F1 score decreases after applying class weights, but it does not tend to\n",
        "# bias the most frequent class (class 3). So, we keep the addition of class\n",
        "# weights."
      ],
      "metadata": {
        "colab": {
          "base_uri": "https://localhost:8080/",
          "height": 493
        },
        "id": "PZbQcYmd0JXD",
        "outputId": "8f2e1208-251e-4753-86e8-2c1eff9c0504"
      },
      "execution_count": null,
      "outputs": [
        {
          "output_type": "stream",
          "name": "stdout",
          "text": [
            "Test set F1 score is:  0.3317307692307692\n",
            "              precision    recall  f1-score   support\n",
            "\n",
            "           0       0.31      0.50      0.38        38\n",
            "           1       0.35      0.23      0.28        52\n",
            "           2       0.26      0.15      0.19        60\n",
            "           3       0.37      0.50      0.43        58\n",
            "\n",
            "    accuracy                           0.33       208\n",
            "   macro avg       0.32      0.35      0.32       208\n",
            "weighted avg       0.32      0.33      0.31       208\n",
            "\n"
          ]
        },
        {
          "output_type": "display_data",
          "data": {
            "text/plain": [
              "<Figure size 432x288 with 1 Axes>"
            ],
            "image/png": "[encoded data removed]"
          },
          "metadata": {
            "needs_background": "light"
          }
        }
      ]
    },
    {
      "cell_type": "markdown",
      "source": [
        "Logistic Regression: after binary classification (1st way, by grouping classes 0-1 as class 0 and classes 2-3 as class 1)"
      ],
      "metadata": {
        "id": "F2jyA6fA1P5O"
      }
    },
    {
      "cell_type": "code",
      "source": [
        "## Logistic Regression: after binary classification (1st way)\n",
        "y_df = pd.DataFrame(y, columns = ['household_income'])\n",
        "y_df['household_income_binary'] = np.nan\n",
        "\n",
        "# '18-29' and '30-44' are in class 0\n",
        "y_df.loc[y_df['household_income'] == 0, 'household_income_binary'] = 0 \n",
        "y_df.loc[y_df['household_income'] == 1, 'household_income_binary'] = 0 \n",
        "\n",
        "# '45-60' and '> 60' are in class 1\n",
        "y_df.loc[y_df['household_income'] == 2, 'household_income_binary'] = 1\n",
        "y_df.loc[y_df['household_income'] == 3, 'household_income_binary'] = 1 \n",
        "y_df = y_df[['household_income_binary']]\n",
        "\n",
        "# Standardization\n",
        "X1_train, X1_test, y1_train, y1_test = train_test_split(df[['use_oxford_comma', \n",
        "'heard_of_comma', 'care_for_comma', 'use_data_plural', 'considered_data_plural',\n",
        "'care_data_plural', 'care_grammar']], y_df, test_size=0.2,\n",
        "random_state=0)\n",
        "\n",
        "# have the train data split into train and cross validation data\n",
        "X1_train_2, X1_val, y1_train_2, y1_val = train_test_split(X1_train, \n",
        "                            y1_train, test_size=0.2, random_state=0)\n",
        "\n",
        "ss = StandardScaler()\n",
        "X1_train_2_scaled = pd.DataFrame(ss.fit_transform(X1_train_2), \n",
        "columns=X1_train_2.columns)\n",
        "X1_val_scaled = pd.DataFrame(ss.transform(X1_val), columns=X1_val.columns)\n",
        "\n",
        "# Scale full training set (since we do CV training later)\n",
        "X1_train_scaled = pd.DataFrame(ss.fit_transform(X1_train), columns=X1_train.columns)\n",
        "X1_test_scaled = pd.DataFrame(ss.transform(X1_test), columns=X1_test.columns)\n",
        "\n",
        "# Oversampling\n",
        "# https://imbalanced-learn.org/stable/over_sampling.html#a-practical-guide\n",
        "from imblearn.over_sampling import RandomOverSampler\n",
        "\n",
        "ros = RandomOverSampler(random_state=0, sampling_strategy='not majority')\n",
        "X1_resampled, y1_resampled = ros.fit_resample(X1_train_scaled, y1_train)\n",
        "X1_resampled_,y1_resampled_ = ros.fit_resample(X1_train_2_scaled, y1_train_2)\n",
        "use_resampled = True\n",
        "\n",
        "model = LogisticRegression(random_state=0, max_iter=500,\n",
        "class_weight = 'balanced')\n",
        "model.fit(X1_resampled, y1_resampled)\n",
        "y_pred_test_ = model.predict(X1_test_scaled)\n",
        "\n",
        "# Score to evaluate model performance\n",
        "# print(\"Test set accuracy is: \", model_selected_features.score(X_test, y_test))\n",
        "print(\"Test set F1 score is: \",  f1_score(y1_test, y_pred_test_, average='micro'))\n",
        "\n",
        "mat = confusion_matrix(y_pred_test_, y1_test)\n",
        "sns.heatmap(mat.T, square=True, annot=True, fmt='d', cbar=False,)\n",
        "plt.xlabel('predicted label')\n",
        "plt.ylabel('true label')\n",
        "\n",
        "precision_recall = classification_report(y1_test, y_pred_test_)\n",
        "print(precision_recall)"
      ],
      "metadata": {
        "colab": {
          "base_uri": "https://localhost:8080/",
          "height": 513
        },
        "id": "BDrNdN-K1KYF",
        "outputId": "63e39dbe-eeb0-4822-d6f3-19f3a0e458d9"
      },
      "execution_count": null,
      "outputs": [
        {
          "output_type": "stream",
          "name": "stderr",
          "text": [
            "/usr/local/lib/python3.7/dist-packages/sklearn/utils/validation.py:993: DataConversionWarning: A column-vector y was passed when a 1d array was expected. Please change the shape of y to (n_samples, ), for example using ravel().\n",
            "  y = column_or_1d(y, warn=True)\n"
          ]
        },
        {
          "output_type": "stream",
          "name": "stdout",
          "text": [
            "Test set F1 score is:  0.6105769230769231\n",
            "              precision    recall  f1-score   support\n",
            "\n",
            "         0.0       0.55      0.54      0.55        90\n",
            "         1.0       0.66      0.66      0.66       118\n",
            "\n",
            "    accuracy                           0.61       208\n",
            "   macro avg       0.60      0.60      0.60       208\n",
            "weighted avg       0.61      0.61      0.61       208\n",
            "\n"
          ]
        },
        {
          "output_type": "display_data",
          "data": {
            "text/plain": [
              "<Figure size 432x288 with 1 Axes>"
            ],
            "image/png": "[encoded data removed]"
          },
          "metadata": {
            "needs_background": "light"
          }
        }
      ]
    },
    {
      "cell_type": "markdown",
      "source": [
        "Logistic Regression: after regularization (1st way binary classification)"
      ],
      "metadata": {
        "id": "dY2z-GQn1CT5"
      }
    },
    {
      "cell_type": "code",
      "source": [
        "for C in [0.0000001,0.000001, 0.00001, 0.1, 0.5, 10.0]:\n",
        "    # Apply logistic regression\n",
        "    model = LogisticRegression(random_state=0, max_iter=500, C = C, \n",
        "    class_weight = 'balanced').fit(X1_resampled_, np.ravel(y1_resampled_))\n",
        "    \n",
        "    y_pred_test_ = model.predict(X1_val_scaled)\n",
        "    \n",
        "    # showing C and R square values\n",
        "    print(\"C:\", C, \"score:\", model.score(X1_val_scaled, y1_val))\n",
        "\n",
        "# Choose C = 0.1 as the parameter, as it has higher score.\n",
        "model = LogisticRegression(random_state=0, max_iter=500, C = 0.1, \n",
        "class_weight = 'balanced')\n",
        "\n",
        "model.fit(X1_resampled, y1_resampled)\n",
        "y_pred_test_ = model.predict(X1_test_scaled)\n",
        "\n",
        "# Score to evaluate model performance\n",
        "# print(\"Test set accuracy is: \", model_selected_features.score(X_test, y_test))\n",
        "print(\"Test set F1 score is: \",  f1_score(y1_test, y_pred_test_, average='micro'))\n",
        "\n",
        "mat = confusion_matrix(y_pred_test_, y1_test)\n",
        "sns.heatmap(mat.T, square=True, annot=True, fmt='d', cbar=False,)\n",
        "plt.xlabel('predicted label')\n",
        "plt.ylabel('true label')\n",
        "\n",
        "precision_recall = classification_report(y1_test, y_pred_test_)\n",
        "print(precision_recall)\n",
        "\n",
        "# The F1 score after regulariztion does not change. We keep the step of \n",
        "# regularization."
      ],
      "metadata": {
        "colab": {
          "base_uri": "https://localhost:8080/",
          "height": 620
        },
        "id": "20fewaCf1B-c",
        "outputId": "9d9f74cd-f006-46aa-ad9b-95715f120d06"
      },
      "execution_count": null,
      "outputs": [
        {
          "output_type": "stream",
          "name": "stdout",
          "text": [
            "C: 1e-07 score: 0.6987951807228916\n",
            "C: 1e-06 score: 0.6987951807228916\n",
            "C: 1e-05 score: 0.6987951807228916\n",
            "C: 0.1 score: 0.7228915662650602\n",
            "C: 0.5 score: 0.7228915662650602\n",
            "C: 10.0 score: 0.7228915662650602\n",
            "Test set F1 score is:  0.6105769230769231\n",
            "              precision    recall  f1-score   support\n",
            "\n",
            "         0.0       0.55      0.54      0.55        90\n",
            "         1.0       0.66      0.66      0.66       118\n",
            "\n",
            "    accuracy                           0.61       208\n",
            "   macro avg       0.60      0.60      0.60       208\n",
            "weighted avg       0.61      0.61      0.61       208\n",
            "\n"
          ]
        },
        {
          "output_type": "stream",
          "name": "stderr",
          "text": [
            "/usr/local/lib/python3.7/dist-packages/sklearn/utils/validation.py:993: DataConversionWarning: A column-vector y was passed when a 1d array was expected. Please change the shape of y to (n_samples, ), for example using ravel().\n",
            "  y = column_or_1d(y, warn=True)\n"
          ]
        },
        {
          "output_type": "display_data",
          "data": {
            "text/plain": [
              "<Figure size 432x288 with 1 Axes>"
            ],
            "image/png": "[encoded data removed]"
          },
          "metadata": {
            "needs_background": "light"
          }
        }
      ]
    },
    {
      "cell_type": "markdown",
      "source": [
        "#### kNN"
      ],
      "metadata": {
        "id": "zOvaKhJs4Qbl"
      }
    },
    {
      "cell_type": "markdown",
      "source": [
        "kNN (Baseline) w/o optimization"
      ],
      "metadata": {
        "id": "vG0Rnn8k4WPt"
      }
    },
    {
      "cell_type": "code",
      "source": [
        "from sklearn.neighbors import KNeighborsClassifier\n",
        "\n",
        "knn = KNeighborsClassifier(n_neighbors=1)\n",
        "knn.fit(X_train, y_train)\n",
        "\n",
        "y_pred_test_ = knn.predict(X_test)\n",
        "\n",
        "# Score to evaluate model performance\n",
        "# print(\"Test set accuracy is: \",  knn.score(X_test_scaled, y_test))\n",
        "print(\"Test set F1 score is: \",  f1_score(y_test, y_pred_test_, average='micro'))\n",
        "\n",
        "mat = confusion_matrix(y_pred_test_, y_test)\n",
        "sns.heatmap(mat.T, square=True, annot=True, fmt='d', cbar=False,)\n",
        "plt.xlabel('predicted label')\n",
        "plt.ylabel('true label')\n",
        "\n",
        "precision_recall = classification_report(y_test, y_pred_test_)\n",
        "print(precision_recall)"
      ],
      "metadata": {
        "colab": {
          "base_uri": "https://localhost:8080/",
          "height": 493
        },
        "id": "75r2u2BD4MWH",
        "outputId": "32d4c6fa-2f75-45a6-a6cb-2871606848f8"
      },
      "execution_count": null,
      "outputs": [
        {
          "output_type": "stream",
          "name": "stdout",
          "text": [
            "Test set F1 score is:  0.28365384615384615\n",
            "              precision    recall  f1-score   support\n",
            "\n",
            "           0       0.28      0.39      0.33        38\n",
            "           1       0.27      0.23      0.25        52\n",
            "           2       0.25      0.27      0.26        60\n",
            "           3       0.35      0.28      0.31        58\n",
            "\n",
            "    accuracy                           0.28       208\n",
            "   macro avg       0.29      0.29      0.29       208\n",
            "weighted avg       0.29      0.28      0.28       208\n",
            "\n"
          ]
        },
        {
          "output_type": "display_data",
          "data": {
            "text/plain": [
              "<Figure size 432x288 with 1 Axes>"
            ],
            "image/png": "[encoded data removed]"
          },
          "metadata": {
            "needs_background": "light"
          }
        }
      ]
    },
    {
      "cell_type": "markdown",
      "source": [
        "kNN: after standardization, class weights, oversampling, and binary classification (1st way)"
      ],
      "metadata": {
        "id": "MPjcHM5r00OD"
      }
    },
    {
      "cell_type": "code",
      "source": [
        "from sklearn.neighbors import KNeighborsClassifier\n",
        "\n",
        "knn = KNeighborsClassifier(n_neighbors=1,weights='distance')\n",
        "knn.fit(X1_resampled, y1_resampled)\n",
        "\n",
        "y_pred_test_ = knn.predict(X1_test_scaled)\n",
        "\n",
        "# Score to evaluate model performance\n",
        "# print(\"Test set accuracy is: \",  knn.score(X1_test_scaled, y1_test))\n",
        "print(\"Test set F1 score is: \",  f1_score(y1_test, y_pred_test_, average='micro'))\n",
        "\n",
        "mat = confusion_matrix(y_pred_test_, y1_test)\n",
        "sns.heatmap(mat.T, square=True, annot=True, fmt='d', cbar=False,)\n",
        "plt.xlabel('predicted label')\n",
        "plt.ylabel('true label')\n",
        "\n",
        "precision_recall = classification_report(y1_test, y_pred_test_)\n",
        "print(precision_recall)"
      ],
      "metadata": {
        "colab": {
          "base_uri": "https://localhost:8080/",
          "height": 513
        },
        "id": "J3A6ELPa038Y",
        "outputId": "7c4321d1-30aa-4ed5-b379-315bcf982ff3"
      },
      "execution_count": null,
      "outputs": [
        {
          "output_type": "stream",
          "name": "stderr",
          "text": [
            "/usr/local/lib/python3.7/dist-packages/sklearn/neighbors/_classification.py:198: DataConversionWarning: A column-vector y was passed when a 1d array was expected. Please change the shape of y to (n_samples,), for example using ravel().\n",
            "  return self._fit(X, y)\n"
          ]
        },
        {
          "output_type": "stream",
          "name": "stdout",
          "text": [
            "Test set F1 score is:  0.5865384615384616\n",
            "              precision    recall  f1-score   support\n",
            "\n",
            "         0.0       0.52      0.51      0.52        90\n",
            "         1.0       0.63      0.64      0.64       118\n",
            "\n",
            "    accuracy                           0.59       208\n",
            "   macro avg       0.58      0.58      0.58       208\n",
            "weighted avg       0.59      0.59      0.59       208\n",
            "\n"
          ]
        },
        {
          "output_type": "display_data",
          "data": {
            "text/plain": [
              "<Figure size 432x288 with 1 Axes>"
            ],
            "image/png": "[encoded data removed]"
          },
          "metadata": {
            "needs_background": "light"
          }
        }
      ]
    },
    {
      "cell_type": "markdown",
      "source": [
        "kNN optimize k: binary classification (1st way)"
      ],
      "metadata": {
        "id": "ju2yDkfK5nzR"
      }
    },
    {
      "cell_type": "code",
      "source": [
        "from sklearn.model_selection import cross_val_score\n",
        "# creating list of K for KNN\n",
        "k_list = list(range(1,100))\n",
        "\n",
        "# creating list of cv scores\n",
        "cv_scores = []\n",
        "\n",
        "# perform 10-fold cross validation to find the optimal k-value\n",
        "for k in k_list:\n",
        "    knn = KNeighborsClassifier(n_neighbors=k,weights='distance')\n",
        "    if not use_resampled:\n",
        "        scores = cross_val_score(knn, X1_train_2_scaled, np.ravel(y1_train_2), \n",
        "        cv=10, scoring='f1_micro')\n",
        "    else:\n",
        "        scores = cross_val_score(knn, X1_resampled_, np.ravel(y1_resampled_), \n",
        "        cv=10, scoring='f1_micro')\n",
        "    cv_scores.append(scores.mean())\n",
        "    \n",
        "# plot the resulting F1 across number of neighbors\n",
        "plt.plot(k_list, cv_scores)\n",
        "plt.title(\"Micro-averaged F1 score as a function of the number of neighbors for K-Neighbors Classifier\")\n",
        "plt.xlabel(\"Number of Neighbors\")\n",
        "plt.ylabel(\"Micro-averaged F1 score\")\n",
        "\n",
        "# select the number of neighbors which maximizes the accuracy\n",
        "best_k = k_list[cv_scores.index(max(cv_scores))]\n",
        "print(\"The optimal number of neighbors is %d.\" % best_k)"
      ],
      "metadata": {
        "colab": {
          "base_uri": "https://localhost:8080/",
          "height": 313
        },
        "id": "xFpJwc9C5xpv",
        "outputId": "4037aed6-4ebd-484a-9d68-4f15d0e9824d"
      },
      "execution_count": null,
      "outputs": [
        {
          "output_type": "stream",
          "name": "stdout",
          "text": [
            "The optimal number of neighbors is 25.\n"
          ]
        },
        {
          "output_type": "display_data",
          "data": {
            "text/plain": [
              "<Figure size 432x288 with 1 Axes>"
            ],
            "image/png": "[encoded data removed]"
          },
          "metadata": {
            "needs_background": "light"
          }
        }
      ]
    },
    {
      "cell_type": "code",
      "source": [
        "# Evaluate kNN\n",
        "from sklearn.metrics import f1_score\n",
        "from sklearn.metrics import confusion_matrix\n",
        "\n",
        "knn = KNeighborsClassifier(n_neighbors=25,weights='distance')\n",
        "if not use_resampled:\n",
        "    knn.fit(X1_train_scaled, y1_train)\n",
        "else:\n",
        "    knn.fit(X1_resampled, y1_resampled)\n",
        "\n",
        "y_pred_test_ = knn.predict(X1_test_scaled)\n",
        "\n",
        "# Score to evaluate model performance\n",
        "# print(\"Test set accuracy is: \",  knn.score(X1_test_scaled, y1_test))\n",
        "print(\"Test set F1 score is: \",  f1_score(y1_test, y_pred_test_, average='micro'))\n",
        "\n",
        "mat = confusion_matrix(y_pred_test_, y1_test)\n",
        "sns.heatmap(mat.T, square=True, annot=True, fmt='d', cbar=False,)\n",
        "plt.xlabel('predicted label')\n",
        "plt.ylabel('true label')\n",
        "\n",
        "precision_recall = classification_report(y1_test, y_pred_test_)\n",
        "print(precision_recall)"
      ],
      "metadata": {
        "colab": {
          "base_uri": "https://localhost:8080/",
          "height": 513
        },
        "id": "K8HwagZd6Onu",
        "outputId": "ca1302fc-c004-416f-a883-ef25fa6efbb4"
      },
      "execution_count": null,
      "outputs": [
        {
          "output_type": "stream",
          "name": "stderr",
          "text": [
            "/usr/local/lib/python3.7/dist-packages/sklearn/neighbors/_classification.py:198: DataConversionWarning: A column-vector y was passed when a 1d array was expected. Please change the shape of y to (n_samples,), for example using ravel().\n",
            "  return self._fit(X, y)\n"
          ]
        },
        {
          "output_type": "stream",
          "name": "stdout",
          "text": [
            "Test set F1 score is:  0.6394230769230769\n",
            "              precision    recall  f1-score   support\n",
            "\n",
            "         0.0       0.57      0.69      0.62        90\n",
            "         1.0       0.72      0.60      0.65       118\n",
            "\n",
            "    accuracy                           0.64       208\n",
            "   macro avg       0.64      0.65      0.64       208\n",
            "weighted avg       0.65      0.64      0.64       208\n",
            "\n"
          ]
        },
        {
          "output_type": "display_data",
          "data": {
            "text/plain": [
              "<Figure size 432x288 with 1 Axes>"
            ],
            "image/png": "[encoded data removed]"
          },
          "metadata": {
            "needs_background": "light"
          }
        }
      ]
    },
    {
      "cell_type": "markdown",
      "source": [
        "#### Decision Tree"
      ],
      "metadata": {
        "id": "F2WAHFLs_tYt"
      }
    },
    {
      "cell_type": "markdown",
      "source": [
        "Decision Tree (Baseline) w/o optimization"
      ],
      "metadata": {
        "id": "8IA8yle3_xvu"
      }
    },
    {
      "cell_type": "code",
      "source": [
        "from sklearn.tree import DecisionTreeClassifier\n",
        "\n",
        "dt = DecisionTreeClassifier(random_state=0)\n",
        "dt.fit(X_train, y_train)\n",
        "\n",
        "y_pred_test_ = dt.predict(X_test)\n",
        "\n",
        "# Score to evaluate model performance\n",
        "# print(\"Test set accuracy is: \",  knn.score(X_test, y_test))\n",
        "print(\"Test set F1 score is: \",  f1_score(y_test, y_pred_test_, average='micro'))\n",
        "\n",
        "mat = confusion_matrix(y_pred_test_, y_test)\n",
        "sns.heatmap(mat.T, square=True, annot=True, fmt='d', cbar=False,)\n",
        "plt.xlabel('predicted label')\n",
        "plt.ylabel('true label')\n",
        "\n",
        "precision_recall = classification_report(y_test, y_pred_test_)\n",
        "print(precision_recall)"
      ],
      "metadata": {
        "colab": {
          "base_uri": "https://localhost:8080/",
          "height": 493
        },
        "id": "_2WRZbPC_sug",
        "outputId": "b5ed09e3-5637-48ca-aaf2-7e27dbb247cb"
      },
      "execution_count": null,
      "outputs": [
        {
          "output_type": "stream",
          "name": "stdout",
          "text": [
            "Test set F1 score is:  0.3557692307692308\n",
            "              precision    recall  f1-score   support\n",
            "\n",
            "           0       0.35      0.58      0.44        38\n",
            "           1       0.27      0.23      0.25        52\n",
            "           2       0.38      0.37      0.37        60\n",
            "           3       0.42      0.31      0.36        58\n",
            "\n",
            "    accuracy                           0.36       208\n",
            "   macro avg       0.35      0.37      0.35       208\n",
            "weighted avg       0.36      0.36      0.35       208\n",
            "\n"
          ]
        },
        {
          "output_type": "display_data",
          "data": {
            "text/plain": [
              "<Figure size 432x288 with 1 Axes>"
            ],
            "image/png": "[encoded data removed]"
          },
          "metadata": {
            "needs_background": "light"
          }
        }
      ]
    },
    {
      "cell_type": "markdown",
      "source": [
        "Decision Tree: after standardization, class weights, oversampling, and binary classification (1st way)"
      ],
      "metadata": {
        "id": "T6jbwC1IAle5"
      }
    },
    {
      "cell_type": "code",
      "source": [
        "from sklearn.tree import DecisionTreeClassifier\n",
        "\n",
        "dt = DecisionTreeClassifier(class_weight='balanced',random_state=0)\n",
        "dt.fit(X1_resampled, y1_resampled)\n",
        "\n",
        "y_pred_test_ = dt.predict(X1_test_scaled)\n",
        "\n",
        "# Score to evaluate model performance\n",
        "# print(\"Test set accuracy is: \",  dt.score(X1_test_scaled, y1_test))\n",
        "print(\"Test set F1 score is: \",  f1_score(y1_test, y_pred_test_, average='micro'))\n",
        "\n",
        "mat = confusion_matrix(y_pred_test_, y1_test)\n",
        "sns.heatmap(mat.T, square=True, annot=True, fmt='d', cbar=False,)\n",
        "plt.xlabel('predicted label')\n",
        "plt.ylabel('true label')\n",
        "\n",
        "precision_recall = classification_report(y1_test, y_pred_test_)\n",
        "print(precision_recall)"
      ],
      "metadata": {
        "colab": {
          "base_uri": "https://localhost:8080/",
          "height": 458
        },
        "id": "Pdn1OTy7AOub",
        "outputId": "14a92df9-0616-4709-d6ca-2e5468cd9909"
      },
      "execution_count": null,
      "outputs": [
        {
          "output_type": "stream",
          "name": "stdout",
          "text": [
            "Test set F1 score is:  0.6009615384615384\n",
            "              precision    recall  f1-score   support\n",
            "\n",
            "         0.0       0.53      0.68      0.60        90\n",
            "         1.0       0.69      0.54      0.61       118\n",
            "\n",
            "    accuracy                           0.60       208\n",
            "   macro avg       0.61      0.61      0.60       208\n",
            "weighted avg       0.62      0.60      0.60       208\n",
            "\n"
          ]
        },
        {
          "output_type": "display_data",
          "data": {
            "text/plain": [
              "<Figure size 432x288 with 1 Axes>"
            ],
            "image/png": "[encoded data removed]"
          },
          "metadata": {
            "needs_background": "light"
          }
        }
      ]
    },
    {
      "cell_type": "markdown",
      "source": [
        "Decision Tree optimize max_depth: binary classification (1st way)"
      ],
      "metadata": {
        "id": "eE_75Y8YA-Tz"
      }
    },
    {
      "cell_type": "code",
      "source": [
        "from sklearn.model_selection import cross_val_score\n",
        "# creating list of max depth for decision tree\n",
        "depth_list = list(range(1,20))\n",
        "\n",
        "# creating list of cv scores\n",
        "cv_scores = []\n",
        "\n",
        "# perform 10-fold cross validation to find the optimal max depth-value\n",
        "for depth in depth_list:\n",
        "    dt = DecisionTreeClassifier(max_depth=depth,random_state=0,\n",
        "         class_weight='balanced')\n",
        "    if not use_resampled:\n",
        "        scores = cross_val_score(dt, X1_train_2_scaled, np.ravel(y1_train_2), \n",
        "        cv=10, scoring='f1_micro')\n",
        "    else:\n",
        "        scores = cross_val_score(dt, X1_resampled_, np.ravel(y1_resampled_), \n",
        "        cv=10, scoring='f1_micro')\n",
        "    cv_scores.append(scores.mean())\n",
        "    \n",
        "# plot the resulting F1 across number of neighbors\n",
        "plt.plot(depth_list, cv_scores)\n",
        "plt.title(\"Micro-averaged F1 score as a function of the max depth for a decition tree classifier\")\n",
        "plt.xlabel(\"Max Depth\")\n",
        "plt.ylabel(\"Micro-averaged F1 score\")\n",
        "\n",
        "# select the number of neighbors which maximizes the accuracy\n",
        "best_depth = depth_list[cv_scores.index(max(cv_scores))]\n",
        "print(\"The optimal max depth is %d.\" % best_depth)\n",
        "print(\"Optimal micro-avergaed F1 is %f.\" % cv_scores[best_depth-1])"
      ],
      "metadata": {
        "colab": {
          "base_uri": "https://localhost:8080/",
          "height": 331
        },
        "id": "vbsF_JOGA7VI",
        "outputId": "3a0b7b02-8e45-4428-87a9-bacfea813ef8"
      },
      "execution_count": null,
      "outputs": [
        {
          "output_type": "stream",
          "name": "stdout",
          "text": [
            "The optimal max depth is 3.\n",
            "Optimal micro-avergaed F1 is 0.636620.\n"
          ]
        },
        {
          "output_type": "display_data",
          "data": {
            "text/plain": [
              "<Figure size 432x288 with 1 Axes>"
            ],
            "image/png": "[encoded data removed]"
          },
          "metadata": {
            "needs_background": "light"
          }
        }
      ]
    },
    {
      "cell_type": "code",
      "source": [
        "# Evaluate Decision Tree\n",
        "from sklearn.metrics import f1_score\n",
        "from sklearn.metrics import confusion_matrix\n",
        "\n",
        "dt = DecisionTreeClassifier(class_weight='balanced',max_depth=3,random_state=0)\n",
        "if not use_resampled:\n",
        "    dt.fit(X1_train_scaled, y1_train)\n",
        "else:\n",
        "    dt.fit(X1_resampled, y1_resampled)\n",
        "\n",
        "y_pred_test_ = dt.predict(X1_test_scaled)\n",
        "\n",
        "# Score to evaluate model performance\n",
        "# print(\"Test set accuracy is: \",  knn.score(X1_test_scaled, y1_test))\n",
        "print(\"Test set F1 score is: \",  f1_score(y1_test, y_pred_test_, average='micro'))\n",
        "\n",
        "mat = confusion_matrix(y_pred_test_, y1_test)\n",
        "sns.heatmap(mat.T, square=True, annot=True, fmt='d', cbar=False,)\n",
        "plt.xlabel('predicted label')\n",
        "plt.ylabel('true label')\n",
        "\n",
        "precision_recall = classification_report(y1_test, y_pred_test_)\n",
        "print(precision_recall)"
      ],
      "metadata": {
        "colab": {
          "base_uri": "https://localhost:8080/",
          "height": 458
        },
        "id": "A0RXmN0CDEm5",
        "outputId": "d9652fda-ebf1-4b25-c6b3-cde6f041b562"
      },
      "execution_count": null,
      "outputs": [
        {
          "output_type": "stream",
          "name": "stdout",
          "text": [
            "Test set F1 score is:  0.6394230769230769\n",
            "              precision    recall  f1-score   support\n",
            "\n",
            "         0.0       0.61      0.47      0.53        90\n",
            "         1.0       0.65      0.77      0.71       118\n",
            "\n",
            "    accuracy                           0.64       208\n",
            "   macro avg       0.63      0.62      0.62       208\n",
            "weighted avg       0.63      0.64      0.63       208\n",
            "\n"
          ]
        },
        {
          "output_type": "display_data",
          "data": {
            "text/plain": [
              "<Figure size 432x288 with 1 Axes>"
            ],
            "image/png": "[encoded data removed]"
          },
          "metadata": {
            "needs_background": "light"
          }
        }
      ]
    },
    {
      "cell_type": "markdown",
      "source": [
        "#### Random Forest"
      ],
      "metadata": {
        "id": "9AI7oLZ8El6S"
      }
    },
    {
      "cell_type": "markdown",
      "source": [
        "Random Forest (Baseline) w/o optimization"
      ],
      "metadata": {
        "id": "RAFN9AZPEzDL"
      }
    },
    {
      "cell_type": "code",
      "source": [
        "from sklearn.ensemble import RandomForestClassifier\n",
        "\n",
        "clf = RandomForestClassifier(random_state=0)\n",
        "clf.fit(X_train, y_train)\n",
        "\n",
        "y_pred_test_ = dt.predict(X_test)\n",
        "\n",
        "# Score to evaluate model performance\n",
        "# print(\"Test set accuracy is: \",  knn.score(X_test, y_test))\n",
        "print(\"Test set F1 score is: \",  f1_score(y_test, y_pred_test_, average='micro'))\n",
        "\n",
        "mat = confusion_matrix(y_pred_test_, y_test)\n",
        "sns.heatmap(mat.T, square=True, annot=True, fmt='d', cbar=False,)\n",
        "plt.xlabel('predicted label')\n",
        "plt.ylabel('true label')\n",
        "\n",
        "precision_recall = classification_report(y_test, y_pred_test_)\n",
        "print(precision_recall)"
      ],
      "metadata": {
        "colab": {
          "base_uri": "https://localhost:8080/",
          "height": 493
        },
        "id": "ZLCrX-srEvx_",
        "outputId": "18e5fd4a-b2b5-412c-fa3b-dae8f7b1eaae"
      },
      "execution_count": null,
      "outputs": [
        {
          "output_type": "stream",
          "name": "stdout",
          "text": [
            "Test set F1 score is:  0.3317307692307692\n",
            "              precision    recall  f1-score   support\n",
            "\n",
            "           0       0.38      0.58      0.46        38\n",
            "           1       0.36      0.10      0.15        52\n",
            "           2       0.29      0.27      0.28        60\n",
            "           3       0.33      0.45      0.38        58\n",
            "\n",
            "    accuracy                           0.33       208\n",
            "   macro avg       0.34      0.35      0.32       208\n",
            "weighted avg       0.33      0.33      0.31       208\n",
            "\n"
          ]
        },
        {
          "output_type": "display_data",
          "data": {
            "text/plain": [
              "<Figure size 432x288 with 1 Axes>"
            ],
            "image/png": "[encoded data removed]"
          },
          "metadata": {
            "needs_background": "light"
          }
        }
      ]
    },
    {
      "cell_type": "markdown",
      "source": [
        "Random Forest: after standardization, class weights, oversampling, and binary classification (1st way)"
      ],
      "metadata": {
        "id": "SJl7MDjXKjjJ"
      }
    },
    {
      "cell_type": "code",
      "source": [
        "from sklearn.ensemble import RandomForestClassifier\n",
        "\n",
        "clf = RandomForestClassifier(class_weight='balanced',random_state=0)\n",
        "clf.fit(X1_resampled, y1_resampled)\n",
        "\n",
        "y_pred_test_ = clf.predict(X1_test_scaled)\n",
        "\n",
        "# Score to evaluate model performance\n",
        "# print(\"Test set accuracy is: \",  clf.score(X1_test_scaled, y1_test))\n",
        "print(\"Test set F1 score is: \",  f1_score(y1_test, y_pred_test_, average='micro'))\n",
        "\n",
        "mat = confusion_matrix(y_pred_test_, y1_test)\n",
        "sns.heatmap(mat.T, square=True, annot=True, fmt='d', cbar=False,)\n",
        "plt.xlabel('predicted label')\n",
        "plt.ylabel('true label')\n",
        "\n",
        "precision_recall = classification_report(y1_test, y_pred_test_)\n",
        "print(precision_recall)"
      ],
      "metadata": {
        "colab": {
          "base_uri": "https://localhost:8080/",
          "height": 513
        },
        "id": "0TwTPL9VKQhk",
        "outputId": "700530ad-94dd-4cb9-ea69-5c85cf0fac98"
      },
      "execution_count": null,
      "outputs": [
        {
          "output_type": "stream",
          "name": "stderr",
          "text": [
            "/usr/local/lib/python3.7/dist-packages/ipykernel_launcher.py:4: DataConversionWarning: A column-vector y was passed when a 1d array was expected. Please change the shape of y to (n_samples,), for example using ravel().\n",
            "  after removing the cwd from sys.path.\n"
          ]
        },
        {
          "output_type": "stream",
          "name": "stdout",
          "text": [
            "Test set F1 score is:  0.6490384615384616\n",
            "              precision    recall  f1-score   support\n",
            "\n",
            "         0.0       0.59      0.64      0.61        90\n",
            "         1.0       0.71      0.65      0.68       118\n",
            "\n",
            "    accuracy                           0.65       208\n",
            "   macro avg       0.65      0.65      0.65       208\n",
            "weighted avg       0.65      0.65      0.65       208\n",
            "\n"
          ]
        },
        {
          "output_type": "display_data",
          "data": {
            "text/plain": [
              "<Figure size 432x288 with 1 Axes>"
            ],
            "image/png": "[encoded data removed]"
          },
          "metadata": {
            "needs_background": "light"
          }
        }
      ]
    },
    {
      "cell_type": "markdown",
      "source": [
        "Random Forest optimize n_estimators: binary classification (1st way)"
      ],
      "metadata": {
        "id": "fXF-6-t_LsWx"
      }
    },
    {
      "cell_type": "code",
      "source": [
        "from sklearn.model_selection import cross_val_score\n",
        "\n",
        "# find the best number of trees\n",
        "num_trees = [i for i in range(2,50,1)]\n",
        "num_trees\n",
        "\n",
        "# creating list of cv scores\n",
        "cv_scores = []\n",
        "\n",
        "# perform 10-fold cross validation to find the optimal max depth-value\n",
        "for trees in num_trees:\n",
        "    clf = RandomForestClassifier(n_estimators=trees,random_state=0,\n",
        "          class_weight='balanced')\n",
        "    if not use_resampled:\n",
        "        scores = cross_val_score(clf, X1_train_2_scaled, np.ravel(y1_train_2), \n",
        "        cv=10, scoring='f1_micro')\n",
        "    else:\n",
        "        scores = cross_val_score(clf, X1_resampled_, np.ravel(y1_resampled_), \n",
        "        cv=10, scoring='f1_micro')\n",
        "    cv_scores.append(scores.mean())\n",
        "\n",
        "# plot the resulting accuracy across regularization strength\n",
        "plt.plot(num_trees, cv_scores)\n",
        "plt.title(\"F1 as a function of the number of trees in the random forest model.\")\n",
        "plt.xlabel(\"# Trees\")\n",
        "plt.ylabel(\"Micro-averaged F1\")\n",
        "\n",
        "# select the number of neighbors which maximizes the accuracy\n",
        "best_num_trees = num_trees[cv_scores.index(max(cv_scores))]\n",
        "print(\"The optimal number of trees is %f.\" % best_num_trees)\n",
        "print(\"Optimal micro-avergaed F1 is %f.\" % cv_scores[cv_scores.index(max(cv_scores))])"
      ],
      "metadata": {
        "colab": {
          "base_uri": "https://localhost:8080/",
          "height": 331
        },
        "id": "mgzhj1qDLsqX",
        "outputId": "997f7ac5-062d-4bf1-e125-0feb23270ad4"
      },
      "execution_count": null,
      "outputs": [
        {
          "output_type": "stream",
          "name": "stdout",
          "text": [
            "The optimal number of trees is 10.000000.\n",
            "Optimal micro-avergaed F1 is 0.598592.\n"
          ]
        },
        {
          "output_type": "display_data",
          "data": {
            "text/plain": [
              "<Figure size 432x288 with 1 Axes>"
            ],
            "image/png": "[encoded data removed]"
          },
          "metadata": {
            "needs_background": "light"
          }
        }
      ]
    },
    {
      "cell_type": "code",
      "source": [
        "# Evaluate random forest\n",
        "from sklearn.metrics import f1_score\n",
        "from sklearn.metrics import confusion_matrix\n",
        "\n",
        "clf = RandomForestClassifier(n_estimators=10, class_weight='balanced', \n",
        "      random_state=0)\n",
        "if not use_resampled:\n",
        "    clf.fit(X1_train_scaled, y1_train)\n",
        "else:\n",
        "    clf.fit(X1_resampled, y1_resampled)\n",
        "\n",
        "y_pred_test_ = clf.predict(X1_test_scaled)\n",
        "\n",
        "# Score to evaluate model performance\n",
        "# print(\"Test set accuracy is: \",  clf.score(X1_test_scaled, y1_test))\n",
        "print(\"Test set F1 score is: \",  f1_score(y1_test, y_pred_test_, average='micro'))\n",
        "\n",
        "mat = confusion_matrix(y_pred_test_, y1_test)\n",
        "sns.heatmap(mat.T, square=True, annot=True, fmt='d', cbar=False,)\n",
        "plt.xlabel('predicted label')\n",
        "plt.ylabel('true label')\n",
        "\n",
        "precision_recall = classification_report(y1_test, y_pred_test_)\n",
        "print(precision_recall)"
      ],
      "metadata": {
        "colab": {
          "base_uri": "https://localhost:8080/",
          "height": 513
        },
        "id": "VkIEkVcALsw_",
        "outputId": "883bb0ed-dea9-4f9f-b95a-0b9b7944954c"
      },
      "execution_count": null,
      "outputs": [
        {
          "output_type": "stream",
          "name": "stdout",
          "text": [
            "Test set F1 score is:  0.6442307692307693\n",
            "              precision    recall  f1-score   support\n",
            "\n",
            "         0.0       0.59      0.60      0.59        90\n",
            "         1.0       0.69      0.68      0.68       118\n",
            "\n",
            "    accuracy                           0.64       208\n",
            "   macro avg       0.64      0.64      0.64       208\n",
            "weighted avg       0.65      0.64      0.64       208\n",
            "\n"
          ]
        },
        {
          "output_type": "stream",
          "name": "stderr",
          "text": [
            "/usr/local/lib/python3.7/dist-packages/ipykernel_launcher.py:10: DataConversionWarning: A column-vector y was passed when a 1d array was expected. Please change the shape of y to (n_samples,), for example using ravel().\n",
            "  # Remove the CWD from sys.path while we load stuff.\n"
          ]
        },
        {
          "output_type": "display_data",
          "data": {
            "text/plain": [
              "<Figure size 432x288 with 1 Axes>"
            ],
            "image/png": "[encoded data removed]"
          },
          "metadata": {
            "needs_background": "light"
          }
        }
      ]
    },
    {
      "cell_type": "markdown",
      "source": [
        "#### Naive Bayes"
      ],
      "metadata": {
        "id": "RY5TB5q5FHWl"
      }
    },
    {
      "cell_type": "markdown",
      "source": [
        "Multinomial Naive Bayes (Baseline) w/o optimization"
      ],
      "metadata": {
        "id": "uBq_3Is5FJ4v"
      }
    },
    {
      "cell_type": "code",
      "source": [
        "from sklearn.naive_bayes import MultinomialNB\n",
        "\n",
        "nb = MultinomialNB()\n",
        "nb.fit(X_train, y_train)\n",
        "\n",
        "y_pred_test_ = nb.predict(X_test)\n",
        "\n",
        "# Score to evaluate model performance\n",
        "# print(\"Test set accuracy is: \",  nb.score(X_test, y_test))\n",
        "print(\"Test set F1 score is: \",  f1_score(y_test, y_pred_test_, average='micro'))\n",
        "\n",
        "mat = confusion_matrix(y_pred_test_, y_test)\n",
        "sns.heatmap(mat.T, square=True, annot=True, fmt='d', cbar=False,)\n",
        "plt.xlabel('predicted label')\n",
        "plt.ylabel('true label')\n",
        "\n",
        "precision_recall = classification_report(y_test, y_pred_test_)\n",
        "print(precision_recall)"
      ],
      "metadata": {
        "colab": {
          "base_uri": "https://localhost:8080/",
          "height": 493
        },
        "id": "w5jPgO72FMX9",
        "outputId": "bcf8ae40-d8a0-42d9-a2a0-44b23795a88d"
      },
      "execution_count": null,
      "outputs": [
        {
          "output_type": "stream",
          "name": "stdout",
          "text": [
            "Test set F1 score is:  0.35096153846153844\n",
            "              precision    recall  f1-score   support\n",
            "\n",
            "           0       0.48      0.37      0.42        38\n",
            "           1       0.28      0.19      0.23        52\n",
            "           2       0.36      0.60      0.45        60\n",
            "           3       0.30      0.22      0.26        58\n",
            "\n",
            "    accuracy                           0.35       208\n",
            "   macro avg       0.36      0.35      0.34       208\n",
            "weighted avg       0.35      0.35      0.33       208\n",
            "\n"
          ]
        },
        {
          "output_type": "display_data",
          "data": {
            "text/plain": [
              "<Figure size 432x288 with 1 Axes>"
            ],
            "image/png": "[encoded data removed]"
          },
          "metadata": {
            "needs_background": "light"
          }
        }
      ]
    },
    {
      "cell_type": "markdown",
      "source": [
        "Naive Bayes: after oversampling, and binary classification (1st way)"
      ],
      "metadata": {
        "id": "Da1WINDVTc4c"
      }
    },
    {
      "cell_type": "code",
      "source": [
        "from sklearn.naive_bayes import MultinomialNB\n",
        "from imblearn.over_sampling import RandomOverSampler\n",
        "\n",
        "# Oversampling\n",
        "# https://imbalanced-learn.org/stable/over_sampling.html#a-practical-guide\n",
        "ros = RandomOverSampler(random_state=0, sampling_strategy='not majority')\n",
        "X1nb_resampled, y1nb_resampled = ros.fit_resample(X1_train, y1_train)\n",
        "X1nb_resampled_,y1nb_resampled_ = ros.fit_resample(X1_train_2, y1_train_2)\n",
        "use_resampled = True\n",
        "\n",
        "nb = MultinomialNB()\n",
        "nb.fit(X1nb_resampled, y1nb_resampled)\n",
        "\n",
        "y_pred_test_ = nb.predict(X1_test)\n",
        "\n",
        "# Score to evaluate model performance\n",
        "# print(\"Test set accuracy is: \",  nb.score(X1_test, y1_test))\n",
        "print(\"Test set F1 score is: \",  f1_score(y1_test, y_pred_test_, average='micro'))\n",
        "\n",
        "mat = confusion_matrix(y_pred_test_, y1_test)\n",
        "sns.heatmap(mat.T, square=True, annot=True, fmt='d', cbar=False,)\n",
        "plt.xlabel('predicted label')\n",
        "plt.ylabel('true label')\n",
        "\n",
        "precision_recall = classification_report(y1_test, y_pred_test_)\n",
        "print(precision_recall)"
      ],
      "metadata": {
        "colab": {
          "base_uri": "https://localhost:8080/",
          "height": 513
        },
        "id": "-OhKkU-uTmPW",
        "outputId": "323aacb1-aaf5-4410-8949-6982e0e8e5eb"
      },
      "execution_count": null,
      "outputs": [
        {
          "output_type": "stream",
          "name": "stdout",
          "text": [
            "Test set F1 score is:  0.6153846153846154\n",
            "              precision    recall  f1-score   support\n",
            "\n",
            "         0.0       0.55      0.63      0.59        90\n",
            "         1.0       0.68      0.60      0.64       118\n",
            "\n",
            "    accuracy                           0.62       208\n",
            "   macro avg       0.62      0.62      0.61       208\n",
            "weighted avg       0.62      0.62      0.62       208\n",
            "\n"
          ]
        },
        {
          "output_type": "stream",
          "name": "stderr",
          "text": [
            "/usr/local/lib/python3.7/dist-packages/sklearn/utils/validation.py:993: DataConversionWarning: A column-vector y was passed when a 1d array was expected. Please change the shape of y to (n_samples, ), for example using ravel().\n",
            "  y = column_or_1d(y, warn=True)\n"
          ]
        },
        {
          "output_type": "display_data",
          "data": {
            "text/plain": [
              "<Figure size 432x288 with 1 Axes>"
            ],
            "image/png": "[encoded data removed]"
          },
          "metadata": {
            "needs_background": "light"
          }
        }
      ]
    },
    {
      "cell_type": "markdown",
      "source": [
        "Naive Bayes optimize *alpha*: binary classification (1st way)"
      ],
      "metadata": {
        "id": "wnxaqL3vZsZB"
      }
    },
    {
      "cell_type": "code",
      "source": [
        "from sklearn.model_selection import cross_val_score\n",
        "\n",
        "# find the best alpha\n",
        "a_vals = [0.001, 0.02, 0.05, 0.1, 0.5, 0.6, 1.0, 2.0, 2.5, 5, 7]\n",
        "\n",
        "# creating list of cv scores\n",
        "cv_scores = []\n",
        "\n",
        "# find the best regularization hyperparameter\n",
        "for a in a_vals:\n",
        "    nb = MultinomialNB(alpha=a)\n",
        "    if not use_resampled:\n",
        "        scores = cross_val_score(nb, X1_train_2, np.ravel(y1_train_2), cv=10, \n",
        "        scoring='f1_micro')\n",
        "    else:\n",
        "        scores = cross_val_score(nb, X1nb_resampled_, np.ravel(y1nb_resampled_),\n",
        "        cv=10, scoring='f1_micro')\n",
        "    cv_scores.append(scores.mean())\n",
        "\n",
        "# plot the resulting accuracy across regularization strength\n",
        "plt.plot(a_vals, cv_scores)\n",
        "plt.title(\"F1 as a function of the inverse of regularization strength for a multnomial NB model\")\n",
        "plt.xlabel(\"Alpha value\")\n",
        "plt.ylabel(\"Micro-averaged F1\")\n",
        "\n",
        "# select the number of neighbors which maximizes the accuracy\n",
        "best_a = a_vals[cv_scores.index(max(cv_scores))]\n",
        "print(\"The optimal a-val is %3f.\" % best_a)\n",
        "print(\"Optimal micro-avergaed F1 is %f.\" % cv_scores[cv_scores.index(max(cv_scores))])"
      ],
      "metadata": {
        "colab": {
          "base_uri": "https://localhost:8080/",
          "height": 331
        },
        "id": "MSSBV4r4Tmi-",
        "outputId": "5b5728e3-a44d-4937-f5a2-03ffe0da8017"
      },
      "execution_count": null,
      "outputs": [
        {
          "output_type": "stream",
          "name": "stdout",
          "text": [
            "The optimal a-val is 0.001000.\n",
            "Optimal micro-avergaed F1 is 0.611268.\n"
          ]
        },
        {
          "output_type": "display_data",
          "data": {
            "text/plain": [
              "<Figure size 432x288 with 1 Axes>"
            ],
            "image/png": "[encoded data removed]"
          },
          "metadata": {
            "needs_background": "light"
          }
        }
      ]
    },
    {
      "cell_type": "code",
      "source": [
        "# Evaluate MultinomialNB\n",
        "from sklearn.metrics import f1_score\n",
        "from sklearn.metrics import confusion_matrix\n",
        "\n",
        "nb = MultinomialNB(alpha=0.1)\n",
        "if not use_resampled:\n",
        "    nb.fit(X1_train, y1_train)\n",
        "else:\n",
        "    nb.fit(X1nb_resampled, y1nb_resampled)\n",
        "\n",
        "y_pred_test_ = nb.predict(X1_test)\n",
        "\n",
        "# Score to evaluate model performance\n",
        "# print(\"Test set accuracy is: \",  nb.score(X1_test, y1_test))\n",
        "print(\"Test set F1 score is: \",  f1_score(y1_test, y_pred_test_, average='micro'))\n",
        "\n",
        "mat = confusion_matrix(y_pred_test_, y1_test)\n",
        "sns.heatmap(mat.T, square=True, annot=True, fmt='d', cbar=False,)\n",
        "plt.xlabel('predicted label')\n",
        "plt.ylabel('true label')\n",
        "\n",
        "precision_recall = classification_report(y1_test, y_pred_test_)\n",
        "print(precision_recall)"
      ],
      "metadata": {
        "colab": {
          "base_uri": "https://localhost:8080/",
          "height": 513
        },
        "id": "fBkOaCTwaAVm",
        "outputId": "89801db4-c8a1-4968-b88e-1fb673bf3b01"
      },
      "execution_count": null,
      "outputs": [
        {
          "output_type": "stream",
          "name": "stdout",
          "text": [
            "Test set F1 score is:  0.6201923076923077\n",
            "              precision    recall  f1-score   support\n",
            "\n",
            "         0.0       0.55      0.63      0.59        90\n",
            "         1.0       0.69      0.61      0.65       118\n",
            "\n",
            "    accuracy                           0.62       208\n",
            "   macro avg       0.62      0.62      0.62       208\n",
            "weighted avg       0.63      0.62      0.62       208\n",
            "\n"
          ]
        },
        {
          "output_type": "stream",
          "name": "stderr",
          "text": [
            "/usr/local/lib/python3.7/dist-packages/sklearn/utils/validation.py:993: DataConversionWarning: A column-vector y was passed when a 1d array was expected. Please change the shape of y to (n_samples, ), for example using ravel().\n",
            "  y = column_or_1d(y, warn=True)\n"
          ]
        },
        {
          "output_type": "display_data",
          "data": {
            "text/plain": [
              "<Figure size 432x288 with 1 Axes>"
            ],
            "image/png": "[encoded data removed]"
          },
          "metadata": {
            "needs_background": "light"
          }
        }
      ]
    },
    {
      "cell_type": "markdown",
      "source": [
        "#### SVC (Support Vector Classification)"
      ],
      "metadata": {
        "id": "2eZEMyM3faw-"
      }
    },
    {
      "cell_type": "markdown",
      "source": [
        "SVC (Baseline) w/o optimization (default kernel = 'rbf')"
      ],
      "metadata": {
        "id": "1fHeis1-hEh1"
      }
    },
    {
      "cell_type": "code",
      "source": [
        "from sklearn.svm import SVC\n",
        "\n",
        "svc = SVC(kernel='rbf',random_state=0)\n",
        "svc.fit(X_train, y_train)\n",
        "\n",
        "y_pred_test_ = svc.predict(X_test)\n",
        "\n",
        "# Score to evaluate model performance\n",
        "# print(\"Test set accuracy is: \",  svc.score(X_test, y_test))\n",
        "print(\"Test set F1 score is: \",  f1_score(y_test, y_pred_test_, average='micro'))\n",
        "\n",
        "mat = confusion_matrix(y_pred_test_, y_test)\n",
        "sns.heatmap(mat.T, square=True, annot=True, fmt='d', cbar=False,)\n",
        "plt.xlabel('predicted label')\n",
        "plt.ylabel('true label')\n",
        "\n",
        "precision_recall = classification_report(y_test, y_pred_test_)\n",
        "print(precision_recall)"
      ],
      "metadata": {
        "colab": {
          "base_uri": "https://localhost:8080/",
          "height": 493
        },
        "id": "1l9ZtOX4dn1t",
        "outputId": "f5a3d4a1-9dc9-4c66-dfb5-9aee09733b9d"
      },
      "execution_count": null,
      "outputs": [
        {
          "output_type": "stream",
          "name": "stdout",
          "text": [
            "Test set F1 score is:  0.3557692307692308\n",
            "              precision    recall  f1-score   support\n",
            "\n",
            "           0       0.41      0.47      0.44        38\n",
            "           1       0.38      0.19      0.26        52\n",
            "           2       0.26      0.30      0.28        60\n",
            "           3       0.41      0.48      0.44        58\n",
            "\n",
            "    accuracy                           0.36       208\n",
            "   macro avg       0.37      0.36      0.35       208\n",
            "weighted avg       0.36      0.36      0.35       208\n",
            "\n"
          ]
        },
        {
          "output_type": "display_data",
          "data": {
            "text/plain": [
              "<Figure size 432x288 with 1 Axes>"
            ],
            "image/png": "[encoded data removed]"
          },
          "metadata": {
            "needs_background": "light"
          }
        }
      ]
    },
    {
      "cell_type": "markdown",
      "source": [
        "SVC: after standardization, class weights, oversampling, and binary classification (1st way); (default kernel = 'rbf')"
      ],
      "metadata": {
        "id": "OmTp9smJiQvE"
      }
    },
    {
      "cell_type": "code",
      "source": [
        "from sklearn.svm import SVC\n",
        "\n",
        "svc = SVC(kernel='rbf', random_state=0,class_weight='balanced')\n",
        "svc.fit(X1_resampled, y1_resampled)\n",
        "\n",
        "y_pred_test_ = svc.predict(X1_test_scaled)\n",
        "\n",
        "# Score to evaluate model performance\n",
        "# print(\"Test set accuracy is: \",  svc.score(X1_test_scaled, y1_test))\n",
        "print(\"Test set F1 score is: \",  f1_score(y1_test, y_pred_test_, average='micro'))\n",
        "\n",
        "mat = confusion_matrix(y_pred_test_, y1_test)\n",
        "sns.heatmap(mat.T, square=True, annot=True, fmt='d', cbar=False,)\n",
        "plt.xlabel('predicted label')\n",
        "plt.ylabel('true label')\n",
        "\n",
        "precision_recall = classification_report(y1_test, y_pred_test_)\n",
        "print(precision_recall)"
      ],
      "metadata": {
        "colab": {
          "base_uri": "https://localhost:8080/",
          "height": 513
        },
        "id": "76D5eMEXiQBs",
        "outputId": "c1a03ee6-0555-4289-b0fb-66b2450d4e8a"
      },
      "execution_count": null,
      "outputs": [
        {
          "output_type": "stream",
          "name": "stdout",
          "text": [
            "Test set F1 score is:  0.6682692307692307\n",
            "              precision    recall  f1-score   support\n",
            "\n",
            "         0.0       0.63      0.56      0.59        90\n",
            "         1.0       0.69      0.75      0.72       118\n",
            "\n",
            "    accuracy                           0.67       208\n",
            "   macro avg       0.66      0.65      0.66       208\n",
            "weighted avg       0.67      0.67      0.66       208\n",
            "\n"
          ]
        },
        {
          "output_type": "stream",
          "name": "stderr",
          "text": [
            "/usr/local/lib/python3.7/dist-packages/sklearn/utils/validation.py:993: DataConversionWarning: A column-vector y was passed when a 1d array was expected. Please change the shape of y to (n_samples, ), for example using ravel().\n",
            "  y = column_or_1d(y, warn=True)\n"
          ]
        },
        {
          "output_type": "display_data",
          "data": {
            "text/plain": [
              "<Figure size 432x288 with 1 Axes>"
            ],
            "image/png": "[encoded data removed]"
          },
          "metadata": {
            "needs_background": "light"
          }
        }
      ]
    },
    {
      "cell_type": "markdown",
      "source": [
        "SVC rbf kernel optimize C"
      ],
      "metadata": {
        "id": "Ue-xnVcejOEu"
      }
    },
    {
      "cell_type": "code",
      "source": [
        "from sklearn.model_selection import cross_val_score\n",
        "\n",
        "# find the optimal C\n",
        "c_vals = [0.0001, 0.001, 0.01, 0.1, 1.0, 2.5, 5, 10, 20, 50, 52, 55]\n",
        "\n",
        "# creating list of cv scores\n",
        "cv_scores = []\n",
        "\n",
        "# find the best regularization hyperparameter\n",
        "for c in c_vals:\n",
        "    svc = SVC(kernel='rbf', C=c,random_state=0,class_weight='balanced')\n",
        "    if not use_resampled:\n",
        "        scores = cross_val_score(svc, X1_train_2_scaled, np.ravel(y_train_2), \n",
        "        cv=10, scoring='f1_micro')\n",
        "    else:\n",
        "        scores = cross_val_score(svc, X1_resampled_, np.ravel(y1_resampled_), \n",
        "        cv=10, scoring='f1_micro')\n",
        "    cv_scores.append(scores.mean())\n",
        "\n",
        "# plot the resulting accuracy across regularization strength\n",
        "plt.plot(c_vals, cv_scores)\n",
        "plt.title(\"F1 as a function of the inverse of regularization strength for a linear SVM\")\n",
        "plt.xlabel(\"C value\")\n",
        "plt.ylabel(\"Micro-averaged F1\")\n",
        "\n",
        "# select the number of neighbors which maximizes the accuracy\n",
        "best_c = c_vals[cv_scores.index(max(cv_scores))]\n",
        "print(\"The optimal c-val is %f.\" % best_c)\n",
        "print(\"Optimal micro-avergaed F1 is %f.\" % cv_scores[cv_scores.index(max(cv_scores))])"
      ],
      "metadata": {
        "colab": {
          "base_uri": "https://localhost:8080/",
          "height": 331
        },
        "id": "EUHMcv14jlVJ",
        "outputId": "3f270346-66c8-449e-80b5-53ae48877110"
      },
      "execution_count": null,
      "outputs": [
        {
          "output_type": "stream",
          "name": "stdout",
          "text": [
            "The optimal c-val is 0.100000.\n",
            "Optimal micro-avergaed F1 is 0.633803.\n"
          ]
        },
        {
          "output_type": "display_data",
          "data": {
            "text/plain": [
              "<Figure size 432x288 with 1 Axes>"
            ],
            "image/png": "[encoded data removed]"
          },
          "metadata": {
            "needs_background": "light"
          }
        }
      ]
    },
    {
      "cell_type": "code",
      "source": [
        "# Evaluate SVC with rbf kernel\n",
        "\n",
        "svc = SVC(kernel='rbf', C=0.1,random_state=0,class_weight='balanced')\n",
        "if not use_resampled:\n",
        "    svc.fit(X1_train_scaled, y1_train)\n",
        "else:\n",
        "    svc.fit(X1_resampled, y1_resampled)\n",
        "\n",
        "y_pred_test_ = svc.predict(X1_test_scaled)\n",
        "\n",
        "# Score to evaluate model performance\n",
        "# print(\"Test set accuracy is: \",  svc.score(X1_test_scaled, y1_test))\n",
        "print(\"Test set F1 score is: \",  f1_score(y1_test, y_pred_test_, average='micro'))\n",
        "\n",
        "mat = confusion_matrix(y_pred_test_, y1_test)\n",
        "sns.heatmap(mat.T, square=True, annot=True, fmt='d', cbar=False,)\n",
        "plt.xlabel('predicted label')\n",
        "plt.ylabel('true label')\n",
        "\n",
        "precision_recall = classification_report(y1_test, y_pred_test_)\n",
        "print(precision_recall)"
      ],
      "metadata": {
        "colab": {
          "base_uri": "https://localhost:8080/",
          "height": 513
        },
        "id": "m2AaVpyjm3ED",
        "outputId": "f8dc6a87-27d3-4654-ff35-b35c6e32959c"
      },
      "execution_count": null,
      "outputs": [
        {
          "output_type": "stream",
          "name": "stderr",
          "text": [
            "/usr/local/lib/python3.7/dist-packages/sklearn/utils/validation.py:993: DataConversionWarning: A column-vector y was passed when a 1d array was expected. Please change the shape of y to (n_samples, ), for example using ravel().\n",
            "  y = column_or_1d(y, warn=True)\n"
          ]
        },
        {
          "output_type": "stream",
          "name": "stdout",
          "text": [
            "Test set F1 score is:  0.6586538461538461\n",
            "              precision    recall  f1-score   support\n",
            "\n",
            "         0.0       0.66      0.44      0.53        90\n",
            "         1.0       0.66      0.82      0.73       118\n",
            "\n",
            "    accuracy                           0.66       208\n",
            "   macro avg       0.66      0.63      0.63       208\n",
            "weighted avg       0.66      0.66      0.64       208\n",
            "\n"
          ]
        },
        {
          "output_type": "display_data",
          "data": {
            "text/plain": [
              "<Figure size 432x288 with 1 Axes>"
            ],
            "image/png": "[encoded data removed]"
          },
          "metadata": {
            "needs_background": "light"
          }
        }
      ]
    },
    {
      "cell_type": "markdown",
      "source": [
        "SVC linear kernel binary classification (1st way)"
      ],
      "metadata": {
        "id": "Sw2ZbJ-IkEnL"
      }
    },
    {
      "cell_type": "code",
      "source": [
        "from sklearn.svm import SVC\n",
        "\n",
        "svc = SVC(random_state=0,class_weight='balanced',kernel='linear')\n",
        "svc.fit(X1_resampled, y1_resampled)\n",
        "\n",
        "y_pred_test_ = svc.predict(X1_test_scaled)\n",
        "\n",
        "# Score to evaluate model performance\n",
        "# print(\"Test set accuracy is: \",  svc.score(X1_test_scaled, y1_test))\n",
        "print(\"Test set F1 score is: \",  f1_score(y1_test, y_pred_test_, average='micro'))\n",
        "\n",
        "mat = confusion_matrix(y_pred_test_, y1_test)\n",
        "sns.heatmap(mat.T, square=True, annot=True, fmt='d', cbar=False,)\n",
        "plt.xlabel('predicted label')\n",
        "plt.ylabel('true label')\n",
        "\n",
        "precision_recall = classification_report(y1_test, y_pred_test_)\n",
        "print(precision_recall)"
      ],
      "metadata": {
        "colab": {
          "base_uri": "https://localhost:8080/",
          "height": 513
        },
        "id": "zj6Gu-6gkEv1",
        "outputId": "5715f8a6-0b34-4212-c1a7-1efef259925e"
      },
      "execution_count": null,
      "outputs": [
        {
          "output_type": "stream",
          "name": "stdout",
          "text": [
            "Test set F1 score is:  0.6346153846153846\n"
          ]
        },
        {
          "output_type": "stream",
          "name": "stderr",
          "text": [
            "/usr/local/lib/python3.7/dist-packages/sklearn/utils/validation.py:993: DataConversionWarning: A column-vector y was passed when a 1d array was expected. Please change the shape of y to (n_samples, ), for example using ravel().\n",
            "  y = column_or_1d(y, warn=True)\n"
          ]
        },
        {
          "output_type": "stream",
          "name": "stdout",
          "text": [
            "              precision    recall  f1-score   support\n",
            "\n",
            "         0.0       0.56      0.68      0.62        90\n",
            "         1.0       0.71      0.60      0.65       118\n",
            "\n",
            "    accuracy                           0.63       208\n",
            "   macro avg       0.64      0.64      0.63       208\n",
            "weighted avg       0.65      0.63      0.64       208\n",
            "\n"
          ]
        },
        {
          "output_type": "display_data",
          "data": {
            "text/plain": [
              "<Figure size 432x288 with 1 Axes>"
            ],
            "image/png": "[encoded data removed]"
          },
          "metadata": {
            "needs_background": "light"
          }
        }
      ]
    },
    {
      "cell_type": "markdown",
      "source": [
        "SVC linear kernel optimize C"
      ],
      "metadata": {
        "id": "6Ea0WkUqjJHA"
      }
    },
    {
      "cell_type": "code",
      "source": [
        "from sklearn.model_selection import cross_val_score\n",
        "\n",
        "# find the optimal C\n",
        "c_vals = [0.0000001, 0.000001, 0.00001, 0.0001, 0.001, 0.01, 0.1, 1.0, 10]\n",
        "\n",
        "# creating list of cv scores\n",
        "cv_scores = []\n",
        "\n",
        "# find the best regularization hyperparameter\n",
        "for c in c_vals:\n",
        "    svc = SVC(kernel='linear', C=c,random_state=0,class_weight='balanced')\n",
        "    if not use_resampled:\n",
        "        scores = cross_val_score(svc, X1_train_2_scaled, np.ravel(y_train_2), \n",
        "        cv=10, scoring='f1_micro')\n",
        "    else:\n",
        "        scores = cross_val_score(svc, X1_resampled_, np.ravel(y1_resampled_), \n",
        "        cv=10, scoring='f1_micro')\n",
        "    cv_scores.append(scores.mean())\n",
        "\n",
        "# plot the resulting accuracy across regularization strength\n",
        "plt.plot(c_vals, cv_scores)\n",
        "plt.title(\"F1 as a function of the inverse of regularization strength for a linear SVM\")\n",
        "plt.xlabel(\"C value\")\n",
        "plt.ylabel(\"Micro-averaged F1\")\n",
        "\n",
        "# select the number of neighbors which maximizes the accuracy\n",
        "best_c = c_vals[cv_scores.index(max(cv_scores))]\n",
        "print(\"The optimal c-val is %f.\" % best_c)\n",
        "print(\"Optimal micro-avergaed F1 is %f.\" % cv_scores[cv_scores.index(max(cv_scores))])"
      ],
      "metadata": {
        "colab": {
          "base_uri": "https://localhost:8080/",
          "height": 331
        },
        "id": "N-28Nd4tjj6Z",
        "outputId": "a10fb2b6-70d0-4b70-f17d-a4f6ce87d6c5"
      },
      "execution_count": null,
      "outputs": [
        {
          "output_type": "stream",
          "name": "stdout",
          "text": [
            "The optimal c-val is 0.100000.\n",
            "Optimal micro-avergaed F1 is 0.609859.\n"
          ]
        },
        {
          "output_type": "display_data",
          "data": {
            "text/plain": [
              "<Figure size 432x288 with 1 Axes>"
            ],
            "image/png": "[encoded data removed]"
          },
          "metadata": {
            "needs_background": "light"
          }
        }
      ]
    },
    {
      "cell_type": "code",
      "source": [
        "# Evaluate SVC with linear kernel\n",
        "\n",
        "svc = SVC(kernel='linear', C=0.1,random_state=0,class_weight='balanced')\n",
        "if not use_resampled:\n",
        "    svc.fit(X1_train_scaled, y1_train)\n",
        "else:\n",
        "    svc.fit(X1_resampled, y1_resampled)\n",
        "\n",
        "y_pred_test_ = svc.predict(X1_test_scaled)\n",
        "\n",
        "# Score to evaluate model performance\n",
        "# print(\"Test set accuracy is: \",  svc.score(X1_test_scaled, y1_test))\n",
        "print(\"Test set F1 score is: \",  f1_score(y1_test, y_pred_test_, average='micro'))\n",
        "\n",
        "mat = confusion_matrix(y_pred_test_, y1_test)\n",
        "sns.heatmap(mat.T, square=True, annot=True, fmt='d', cbar=False,)\n",
        "plt.xlabel('predicted label')\n",
        "plt.ylabel('true label')\n",
        "\n",
        "precision_recall = classification_report(y1_test, y_pred_test_)\n",
        "print(precision_recall)"
      ],
      "metadata": {
        "colab": {
          "base_uri": "https://localhost:8080/",
          "height": 513
        },
        "id": "QW6gXocCnfYx",
        "outputId": "78c7ee6e-a064-43f0-afd5-193719198d9e"
      },
      "execution_count": null,
      "outputs": [
        {
          "output_type": "stream",
          "name": "stderr",
          "text": [
            "/usr/local/lib/python3.7/dist-packages/sklearn/utils/validation.py:993: DataConversionWarning: A column-vector y was passed when a 1d array was expected. Please change the shape of y to (n_samples, ), for example using ravel().\n",
            "  y = column_or_1d(y, warn=True)\n"
          ]
        },
        {
          "output_type": "stream",
          "name": "stdout",
          "text": [
            "Test set F1 score is:  0.6105769230769231\n",
            "              precision    recall  f1-score   support\n",
            "\n",
            "         0.0       0.54      0.69      0.60        90\n",
            "         1.0       0.70      0.55      0.62       118\n",
            "\n",
            "    accuracy                           0.61       208\n",
            "   macro avg       0.62      0.62      0.61       208\n",
            "weighted avg       0.63      0.61      0.61       208\n",
            "\n"
          ]
        },
        {
          "output_type": "display_data",
          "data": {
            "text/plain": [
              "<Figure size 432x288 with 1 Axes>"
            ],
            "image/png": "[encoded data removed]"
          },
          "metadata": {
            "needs_background": "light"
          }
        }
      ]
    },
    {
      "cell_type": "markdown",
      "source": [
        "SVC polynomial kernel binary classification (1st way)"
      ],
      "metadata": {
        "id": "n66d8t4djZmE"
      }
    },
    {
      "cell_type": "code",
      "source": [
        "from sklearn.svm import SVC\n",
        "\n",
        "svc = SVC(random_state=0,class_weight='balanced',kernel='poly')\n",
        "svc.fit(X1_resampled, y1_resampled)\n",
        "\n",
        "y_pred_test_ = svc.predict(X1_test_scaled)\n",
        "\n",
        "# Score to evaluate model performance\n",
        "# print(\"Test set accuracy is: \",  svc.score(X1_test_scaled, y1_test))\n",
        "print(\"Test set F1 score is: \",  f1_score(y1_test, y_pred_test_, average='micro'))\n",
        "\n",
        "mat = confusion_matrix(y_pred_test_, y1_test)\n",
        "sns.heatmap(mat.T, square=True, annot=True, fmt='d', cbar=False,)\n",
        "plt.xlabel('predicted label')\n",
        "plt.ylabel('true label')\n",
        "\n",
        "precision_recall = classification_report(y1_test, y_pred_test_)\n",
        "print(precision_recall)"
      ],
      "metadata": {
        "colab": {
          "base_uri": "https://localhost:8080/",
          "height": 513
        },
        "id": "4rQRyerFjkWL",
        "outputId": "ad1f57e8-4eca-4aa1-a19c-c03a4a8f0f83"
      },
      "execution_count": null,
      "outputs": [
        {
          "output_type": "stream",
          "name": "stderr",
          "text": [
            "/usr/local/lib/python3.7/dist-packages/sklearn/utils/validation.py:993: DataConversionWarning: A column-vector y was passed when a 1d array was expected. Please change the shape of y to (n_samples, ), for example using ravel().\n",
            "  y = column_or_1d(y, warn=True)\n"
          ]
        },
        {
          "output_type": "stream",
          "name": "stdout",
          "text": [
            "Test set F1 score is:  0.6153846153846154\n",
            "              precision    recall  f1-score   support\n",
            "\n",
            "         0.0       0.56      0.54      0.55        90\n",
            "         1.0       0.66      0.67      0.66       118\n",
            "\n",
            "    accuracy                           0.62       208\n",
            "   macro avg       0.61      0.61      0.61       208\n",
            "weighted avg       0.61      0.62      0.61       208\n",
            "\n"
          ]
        },
        {
          "output_type": "display_data",
          "data": {
            "text/plain": [
              "<Figure size 432x288 with 1 Axes>"
            ],
            "image/png": "[encoded data removed]"
          },
          "metadata": {
            "needs_background": "light"
          }
        }
      ]
    },
    {
      "cell_type": "markdown",
      "source": [
        "SVC polynomial kernel optimize C"
      ],
      "metadata": {
        "id": "tIk1EmdIjOCY"
      }
    },
    {
      "cell_type": "code",
      "source": [
        "from sklearn.model_selection import cross_val_score\n",
        "\n",
        "# find the optimal C\n",
        "c_vals = [0.00001, 0.0001, 0.001, 0.01, 0.1, 1.0, 10, 20, 50, 55, 60, 100]\n",
        "\n",
        "# creating list of cv scores\n",
        "cv_scores = []\n",
        "\n",
        "# find the best regularization hyperparameter\n",
        "for c in c_vals:\n",
        "    svc = SVC(kernel='poly', C=c,random_state=0,class_weight='balanced')\n",
        "    if not use_resampled:\n",
        "        scores = cross_val_score(svc, X1_train_2_scaled, np.ravel(y_train_2), \n",
        "        cv=10, scoring='f1_micro')\n",
        "    else:\n",
        "        scores = cross_val_score(svc, X1_resampled_, np.ravel(y1_resampled_), \n",
        "        cv=10, scoring='f1_micro')\n",
        "    cv_scores.append(scores.mean())\n",
        "\n",
        "# plot the resulting accuracy across regularization strength\n",
        "plt.plot(c_vals, cv_scores)\n",
        "plt.title(\"F1 as a function of the inverse of regularization strength for a linear SVM\")\n",
        "plt.xlabel(\"C value\")\n",
        "plt.ylabel(\"Micro-averaged F1\")\n",
        "\n",
        "# select the number of neighbors which maximizes the accuracy\n",
        "best_c = c_vals[cv_scores.index(max(cv_scores))]\n",
        "print(\"The optimal c-val is %f.\" % best_c)\n",
        "print(\"Optimal micro-avergaed F1 is %f.\" % cv_scores[cv_scores.index(max(cv_scores))])"
      ],
      "metadata": {
        "colab": {
          "base_uri": "https://localhost:8080/",
          "height": 331
        },
        "id": "wqZlEhUajkyi",
        "outputId": "19ba8b43-5965-4252-84e8-b55ad17d33c9"
      },
      "execution_count": null,
      "outputs": [
        {
          "output_type": "stream",
          "name": "stdout",
          "text": [
            "The optimal c-val is 1.000000.\n",
            "Optimal micro-avergaed F1 is 0.602817.\n"
          ]
        },
        {
          "output_type": "display_data",
          "data": {
            "text/plain": [
              "<Figure size 432x288 with 1 Axes>"
            ],
            "image/png": "[encoded data removed]"
          },
          "metadata": {
            "needs_background": "light"
          }
        }
      ]
    },
    {
      "cell_type": "code",
      "source": [
        "# Evaluate SVC with polynomial kernel\n",
        "\n",
        "svc = SVC(kernel='poly', C=1,random_state=0,class_weight='balanced')\n",
        "if not use_resampled:\n",
        "    svc.fit(X1_train_scaled, y1_train)\n",
        "else:\n",
        "    svc.fit(X1_resampled, y1_resampled)\n",
        "\n",
        "y_pred_test_ = svc.predict(X1_test_scaled)\n",
        "\n",
        "# Score to evaluate model performance\n",
        "# print(\"Test set accuracy is: \",  svc.score(X1_test_scaled, y1_test))\n",
        "print(\"Test set F1 score is: \",  f1_score(y1_test, y_pred_test_, average='micro'))\n",
        "\n",
        "mat = confusion_matrix(y_pred_test_, y1_test)\n",
        "sns.heatmap(mat.T, square=True, annot=True, fmt='d', cbar=False,)\n",
        "plt.xlabel('predicted label')\n",
        "plt.ylabel('true label')\n",
        "\n",
        "precision_recall = classification_report(y1_test, y_pred_test_)\n",
        "print(precision_recall)"
      ],
      "metadata": {
        "colab": {
          "base_uri": "https://localhost:8080/",
          "height": 513
        },
        "id": "39IAKVGVn9n0",
        "outputId": "063eeb8b-caef-4335-8af4-5beb887fd7f0"
      },
      "execution_count": null,
      "outputs": [
        {
          "output_type": "stream",
          "name": "stderr",
          "text": [
            "/usr/local/lib/python3.7/dist-packages/sklearn/utils/validation.py:993: DataConversionWarning: A column-vector y was passed when a 1d array was expected. Please change the shape of y to (n_samples, ), for example using ravel().\n",
            "  y = column_or_1d(y, warn=True)\n"
          ]
        },
        {
          "output_type": "stream",
          "name": "stdout",
          "text": [
            "Test set F1 score is:  0.6153846153846154\n",
            "              precision    recall  f1-score   support\n",
            "\n",
            "         0.0       0.56      0.54      0.55        90\n",
            "         1.0       0.66      0.67      0.66       118\n",
            "\n",
            "    accuracy                           0.62       208\n",
            "   macro avg       0.61      0.61      0.61       208\n",
            "weighted avg       0.61      0.62      0.61       208\n",
            "\n"
          ]
        },
        {
          "output_type": "display_data",
          "data": {
            "text/plain": [
              "<Figure size 432x288 with 1 Axes>"
            ],
            "image/png": "[encoded data removed]"
          },
          "metadata": {
            "needs_background": "light"
          }
        }
      ]
    }
  ]
}